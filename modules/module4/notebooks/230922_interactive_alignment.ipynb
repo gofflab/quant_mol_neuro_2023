{
 "cells": [
  {
   "cell_type": "markdown",
   "metadata": {},
   "source": [
    "# Setup\n",
    "\n",
    "### **WSL/Mac (Intel) users**:\n",
    "`mamba install -c bioconda hisat2 samtools subread salmon`\n",
    "\n",
    "### **Mac (M1+) users**:\n",
    "The following cell downloads and installs the necessary software. It may take a few minutes to complete.\n",
    "\n",
    "http://daehwankimlab.github.io/hisat2/download/#version-hisat2-221\n"
   ]
  },
  {
   "cell_type": "code",
   "execution_count": null,
   "metadata": {},
   "outputs": [],
   "source": [
    "%%bash\n",
    "curl -O https://genome-idx.s3.amazonaws.com/hisat/mm10_genome.tar.gz\n",
    "tar -xzf mm10_genome.tar.gz\n",
    "rm mm10_genome.tar.gz\n",
    "\n",
    "if [ $(arch) != \"arm64\" ]; then\n",
    "    curl -LSsO https://cloud.biohpc.swmed.edu/index.php/s/zMgEtnF6LjnjFrr/download\n",
    "    tar xzf download\n",
    "    \n",
    "    curl -LSsO https://github.com/ShiLab-Bioinformatics/subread/releases/download/2.0.2/subread-2.0.2-macOS-x86_64.tar.gz\n",
    "    tar xzf subread-2.0.2-macOS-x86_64.tar.gz\n",
    "\n",
    "    if ! grep -q 'eval \"$(/opt/homebrew/bin/brew shellenv)\"' $HOME/.zprofile; then\n",
    "        echo 'eval \"$(/opt/homebrew/bin/brew shellenv)\"' >> $HOME/.zprofile\n",
    "    fi\n",
    "    eval \"$(/opt/homebrew/bin/brew shellenv)\"\n",
    "    brew install samtools\n",
    "fi"
   ]
  },
  {
   "cell_type": "markdown",
   "metadata": {},
   "source": [
    "Ok - so we have an idea of how to make data experimentally from the last lecture, but now we have to think about how to analyze some data!\n",
    "\n",
    "I'm going to steal from the _lovely_ [Galaxy project](https://galaxyproject.org/) for this tutorial - specifically here: [Transcriptomics](https://training.galaxyproject.org/training-material/topics/transcriptomics/)\n",
    "\n",
    "We are going to work from RNA-seq data from [Fu et al.](https://www.nature.com/articles/ncb3117) where they sequenced basal and luminal cells from breast tissue of nulliparous, pregnant, or lactating female mice.\n",
    "\n",
    "The first thing we are going to do is to grab a \"FASTQ\" file.\n",
    "\n",
    "FASTQ [Wiki](https://en.wikipedia.org/wiki/FASTQ_format) is a plain text file that encodes for a DNA sequence - along with how confident (quality score) we are that the read is correct.\n",
    "\n",
    "For the purposes of instruction here and to make sure it runs smoothly, we are going to use a downsampled dataset that is only 1000 reads from each sample, hosted at [Zenodo](https://zenodo.org/record/4249555)\n",
    "\n",
    "First, let's setup a table of the data\n"
   ]
  },
  {
   "cell_type": "code",
   "execution_count": null,
   "metadata": {},
   "outputs": [],
   "source": [
    "import pandas as pd"
   ]
  },
  {
   "cell_type": "code",
   "execution_count": null,
   "metadata": {},
   "outputs": [],
   "source": [
    "meta = pd.DataFrame(\n",
    "    data={\n",
    "        \"sampleid\": [\n",
    "            \"MCL1-DL\",\n",
    "            \"MCL1-DK\",\n",
    "            \"MCL1-DJ\",\n",
    "            \"MCL1-DI\",\n",
    "            \"MCL1-DH\",\n",
    "            \"MCL1-DG\",\n",
    "            \"MCL1-LF\",\n",
    "            \"MCL1-LE\",\n",
    "            \"MCL1-LD\",\n",
    "            \"MCL1-LC\",\n",
    "            \"MCL1-LB\",\n",
    "            \"MCL1-LA\",\n",
    "        ],\n",
    "        \"celltype\": [\n",
    "            \"basal\",\n",
    "            \"basal\",\n",
    "            \"basal\",\n",
    "            \"basal\",\n",
    "            \"basal\",\n",
    "            \"basal\",\n",
    "            \"luminal\",\n",
    "            \"luminal\",\n",
    "            \"luminal\",\n",
    "            \"luminal\",\n",
    "            \"luminal\",\n",
    "            \"luminal\",\n",
    "        ],\n",
    "        \"mousetype\": [\n",
    "            \"lactate\",\n",
    "            \"lactate\",\n",
    "            \"virgin\",\n",
    "            \"virgin\",\n",
    "            \"pregnant\",\n",
    "            \"pregnant\",\n",
    "            \"lactate\",\n",
    "            \"lactate\",\n",
    "            \"pregnant\",\n",
    "            \"pregnant\",\n",
    "            \"virgin\",\n",
    "            \"virgin\",\n",
    "        ],\n",
    "        \"url\": [\n",
    "            \"https://zenodo.org/record/4249555/files/SRR1552455.fastq.gz\",\n",
    "            \"https://zenodo.org/record/4249555/files/SRR1552454.fastq.gz\",\n",
    "            \"https://zenodo.org/record/4249555/files/SRR1552453.fastq.gz\",\n",
    "            \"https://zenodo.org/record/4249555/files/SRR1552452.fastq.gz\",\n",
    "            \"https://zenodo.org/record/4249555/files/SRR1552451.fastq.gz\",\n",
    "            \"https://zenodo.org/record/4249555/files/SRR1552450.fastq.gz\",\n",
    "            \"https://zenodo.org/record/4249555/files/SRR1552449.fastq.gz\",\n",
    "            \"https://zenodo.org/record/4249555/files/SRR1552448.fastq.gz\",\n",
    "            \"https://zenodo.org/record/4249555/files/SRR1552447.fastq.gz\",\n",
    "            \"https://zenodo.org/record/4249555/files/SRR1552446.fastq.gz\",\n",
    "            \"https://zenodo.org/record/4249555/files/SRR1552445.fastq.gz\",\n",
    "            \"https://zenodo.org/record/4249555/files/SRR1552444.fastq.gz\",\n",
    "        ],\n",
    "    }\n",
    ")"
   ]
  },
  {
   "cell_type": "code",
   "execution_count": null,
   "metadata": {},
   "outputs": [],
   "source": [
    "meta[\"destfile\"] = meta.sampleid + \".fq.gz\"\n",
    "meta"
   ]
  },
  {
   "cell_type": "markdown",
   "metadata": {},
   "source": [
    "Ok - got that in. Now let's download the data, making a directory called \"timplab_rnaseq_data\" in your current directory\n"
   ]
  },
  {
   "cell_type": "code",
   "execution_count": null,
   "metadata": {},
   "outputs": [],
   "source": [
    "%%bash\n",
    "mkdir -p timp_rnaseq_data"
   ]
  },
  {
   "cell_type": "code",
   "execution_count": null,
   "metadata": {},
   "outputs": [],
   "source": [
    "from urllib.request import urlretrieve\n",
    "\n",
    "for url, dst in zip(meta[\"url\"], meta[\"destfile\"]):\n",
    "    # Let's download the data\n",
    "    urlretrieve(url, \"timp_rnaseq_data/\" + dst)\n",
    "    print(\"Downloaded\", dst)"
   ]
  },
  {
   "cell_type": "markdown",
   "metadata": {},
   "source": [
    "### Examine FASTQ\n",
    "\n",
    "Ok - so we have downloaded a bunch of FASTQ files - what do they look like\n"
   ]
  },
  {
   "cell_type": "code",
   "execution_count": null,
   "metadata": {},
   "outputs": [],
   "source": [
    "import gzip\n",
    "\n",
    "with gzip.open(\"timp_rnaseq_data/MCL1-DK.fq.gz\", \"rt\") as f:\n",
    "    for _ in range(8):\n",
    "        print(f.readline().strip())"
   ]
  },
  {
   "cell_type": "code",
   "execution_count": null,
   "metadata": {},
   "outputs": [],
   "source": [
    "%%bash\n",
    "# How to do this in bash\n",
    "gunzip -cq timp_rnaseq_data/MCL1-DK.fq.gz | head -n 8"
   ]
  },
  {
   "cell_type": "markdown",
   "metadata": {},
   "source": [
    "Using `gunzip` because it's a compressed text file - we can look at just the first four lines of the FASTQ\n",
    "\n",
    "- The first line is an `@` followed by a read name and optional description.\\\n",
    "- The second line is the actual DNA sequence read (i.e. \"A\", \"C\", \"G\", \"T\")\n",
    "- The third line is generally just a `+`, though in this case they have repeated the read name and description\n",
    "- The fourth line is an ASCII encoding of the \"PHRED\" quality score - a log_10 score fo the quality score. In this case the front of the read is a lower quality (B=33, \\@=31) and most of the read higher score (I=40, J=41). A quick [PHRED Lookup Table](https://support.illumina.com/help/BaseSpace_OLH_009008/Content/Source/Informatics/BS/QualityScoreEncoding_swBS.htm) is here from Illumina.\n",
    "\n",
    "### Plot FASTQ qscore plot?\n",
    "\n",
    "Let's look at what the overall quality scores are for this FASTQ, using the package \"pyfastx\"\n"
   ]
  },
  {
   "cell_type": "code",
   "execution_count": null,
   "metadata": {},
   "outputs": [],
   "source": [
    "%%bash\n",
    "pip install pyfastx"
   ]
  },
  {
   "cell_type": "code",
   "execution_count": null,
   "metadata": {},
   "outputs": [],
   "source": [
    "# Load pyfastx package and fastq\n",
    "import pyfastx\n",
    "\n",
    "myfq = pyfastx.Fastq(\"timp_rnaseq_data/MCL1-DK.fq.gz\")"
   ]
  },
  {
   "cell_type": "markdown",
   "metadata": {},
   "source": [
    "Ok - so we have a FASTQ file here with 1000 reads (because we cut it to make it managable) and that's 100 \"cycles\" of sequencing long, i.e. we have 100 A,C,G,or T in each read.\n"
   ]
  },
  {
   "cell_type": "markdown",
   "metadata": {},
   "source": [
    "Here's a quick look at the DNA sequences and quality scores, like we did from gunzip in the bash chunk above.\n"
   ]
  },
  {
   "cell_type": "code",
   "execution_count": null,
   "metadata": {},
   "outputs": [],
   "source": [
    "print(myfq)\n",
    "\n",
    "for i in range(5):\n",
    "    print(i)\n",
    "    print(myfq[i].name)\n",
    "    print(myfq[i].seq)\n",
    "    print(myfq[i].qual)"
   ]
  },
  {
   "cell_type": "markdown",
   "metadata": {},
   "source": [
    "Let's plot the quality scores for just the first 5 reads.\n"
   ]
  },
  {
   "cell_type": "code",
   "execution_count": null,
   "metadata": {},
   "outputs": [],
   "source": [
    "# Using matplotlib\n",
    "import matplotlib.pyplot as plt\n",
    "\n",
    "for i in range(5):\n",
    "    plt.plot(myfq[i].quali, label=myfq[i].name)\n",
    "plt.legend()\n",
    "plt.show()"
   ]
  },
  {
   "cell_type": "markdown",
   "metadata": {},
   "source": [
    "### Using plotnine"
   ]
  },
  {
   "cell_type": "code",
   "execution_count": null,
   "metadata": {},
   "outputs": [],
   "source": [
    "import plotnine as pn\n",
    "\n",
    "# Create a DataFrame from the quality scores\n",
    "# Reset the index to a new column\n",
    "quals = pd.DataFrame({myfq[i].name: myfq[i].quali for i in range(5)}).reset_index()\n",
    "quals"
   ]
  },
  {
   "cell_type": "code",
   "execution_count": null,
   "metadata": {},
   "outputs": [],
   "source": [
    "# Reshape the DataFrame to long format\n",
    "quals = quals.melt(id_vars=\"index\", var_name=\"Sample\", value_name=\"Quality\")\n",
    "print(quals)\n",
    "# Create the plot using plotnine\n",
    "pn.ggplot(quals, pn.aes(x=\"index\", y=\"Quality\", color=\"Sample\")) + pn.geom_line()"
   ]
  },
  {
   "cell_type": "markdown",
   "metadata": {},
   "source": [
    "Note a couple of things - the beginning quality score is sometimes terrible, and the overall score drops through the read towards the end. This is frequently solved by \"trimming\" the reads to get the subset of high quality results we trust.\n",
    "\n",
    "But what was the overall quality score of the reads?\n"
   ]
  },
  {
   "cell_type": "code",
   "execution_count": null,
   "metadata": {},
   "outputs": [],
   "source": [
    "import statistics\n",
    "\n",
    "perread = pd.DataFrame({\"qual\": [statistics.mean(read.quali) for read in myfq]})\n",
    "print(perread.iloc[:10])\n",
    "\n",
    "# Let's plot these as a \"density\" plot - sort of a smoothed histogram\n",
    "pn.ggplot(perread, pn.aes(x=\"qual\")) + pn.geom_density()"
   ]
  },
  {
   "cell_type": "markdown",
   "metadata": {},
   "source": [
    "So _overall_ our quality scores are real good!\n",
    "\n",
    "### Align with Hisat2\n",
    "\n",
    "Ok - so we have the FASTQ. Now we want to \"align\" it against a reference genome. We are going to do this with [HiSat2](http://daehwankimlab.github.io/hisat2/) which is an aligner that is designed to work with sequencing data, specifically RNA sequencing data in this case. We'll also pull in samtools to process other things further\n",
    "\n",
    "Installing it . . . . may be a bit of a trick for you, I suggest using conda but you will have trouble if you try to do it on an M1 mac unless using Rosetta to fake a Intel chip.\n"
   ]
  },
  {
   "cell_type": "markdown",
   "metadata": {},
   "source": [
    "Then we need to pull down a \"reference index\" which uses a genome reference (in this case mouse(mm10)) to align against. The index is a specific file to the sequence aligner that uses the \"raw\" genome sequence to generate rapid alignments, like the index of a book allows you to look up information more rapidly.\n"
   ]
  },
  {
   "cell_type": "code",
   "execution_count": null,
   "metadata": {},
   "outputs": [],
   "source": [
    "%%bash\n",
    "mkdir -p timp_rnaseq_align"
   ]
  },
  {
   "cell_type": "markdown",
   "metadata": {},
   "source": [
    "Then we are going to align all our data, using a for loop to loop through all the FASTQ files we downloaded. I'm doing this with a system call to the hisat2 command, as well as to samtools:\n"
   ]
  },
  {
   "cell_type": "code",
   "execution_count": null,
   "metadata": {},
   "outputs": [],
   "source": [
    "i = 0\n",
    "print(meta.sampleid[i])\n",
    "print(\"Here is the bash command\")\n",
    "print(f\"hisat2 -p 4 -x mm10/genome -U timp_rnaseq_data/{meta.destfile[i]} -S timp_rnaseq_align/{meta.sampleid[i]}.sam\")"
   ]
  },
  {
   "cell_type": "code",
   "execution_count": null,
   "metadata": {},
   "outputs": [],
   "source": [
    "%%bash\n",
    "if [ $(arch) != \"arm64\" ]; then\n",
    "    hisat2 -p 4 -x mm10/genome -U timp_rnaseq_data/MCL1-DL.fq.gz -S timp_rnaseq_align/MCL1-DL.sam\n",
    "fi"
   ]
  },
  {
   "cell_type": "code",
   "execution_count": null,
   "metadata": {},
   "outputs": [],
   "source": [
    "%%bash\n",
    "# For Mac users\n",
    "if [ $(arch) == \"arm64\" ]; then\n",
    "    hisat2-2.2.1/hisat2 -p 4 -x mm10/genome -U timp_rnaseq_data/MCL1-DL.fq.gz -S timp_rnaseq_align/MCL1-DL.sam\n",
    "fi"
   ]
  },
  {
   "cell_type": "markdown",
   "metadata": {},
   "source": [
    "As you can see from the output, we get a report on how the reads aligned - it tells us that the reads were unpaired (which we knew) and a small percent of the reads don't align at all, the vast majority align once, and then a couple align multiple times.\n",
    "\n",
    "- Reads that don't align we can toss, could be contamination, could just be gaps in assembly. As long as these are low it's not a huge concern.\n",
    "- Reads that align multiple times could be in repetitive sequences or genes (since RNA-seq) with high homology. These are more of a concern to lose, but it's a largely unavoidable problem with short reads.\n",
    "- The \"uniquely\" aligned reads are our meat and potatoes.\n",
    "\n",
    "### SAM files\n",
    "\n",
    "Let's take a quick look at the alignment file\n"
   ]
  },
  {
   "cell_type": "code",
   "execution_count": null,
   "metadata": {},
   "outputs": [],
   "source": [
    "%%bash\n",
    "tail -n5 timp_rnaseq_align/MCL1-DL.sam"
   ]
  },
  {
   "cell_type": "markdown",
   "metadata": {},
   "source": [
    "I took the last 5 lines in this case because the beginning has a header that we aren't going to get into (with `tail`)\n",
    "\n",
    "The SAM/BAM file spec is avilable [here](https://samtools.github.io/hts-specs/SAMv1.pdf).\n",
    "\n",
    "Essentially it's a tab-separated text file with columns as:\n",
    "\n",
    "- Sequence read name\n",
    "- Flags (i.e. multiple alignment, etc)\n",
    "- Reference sequence it's aligned to (in this case the chromomsome)\n",
    "- Map Quality score (How confident it is of correct alignment on a log scale, 0 is bad, high numbers good)\n",
    "- CIGAR string - this specifies differences from the reference, with M being matches (and often mismatches), D deletions and I insertions\n",
    "- RNEXT is used to specify the reference sequence (chromosome) for a paired read if there is one\n",
    "- PNEXT is used to specify the position of the paired read\n",
    "- TLEN is the length of the molecule - again if you have paired reads you want to know the distance between the paired start and end\n",
    "- SEQ is the sequence of the read (from the FASTQ)\n",
    "- QUAL is the quality of the read (from the FASTQ)\n",
    "- Extra Alignment Tags\n",
    "\n",
    "Let's look at some stats of this SAM file\n"
   ]
  },
  {
   "cell_type": "code",
   "execution_count": null,
   "metadata": {},
   "outputs": [],
   "source": [
    "%%bash\n",
    "samtools flagstat timp_rnaseq_align/MCL1-DL.sam"
   ]
  },
  {
   "cell_type": "markdown",
   "metadata": {},
   "source": [
    "Looking at this, it's the same info, but perhaps a bit easier to parse and putting a nice \"Ranges\" ojbect for the alignments.\n",
    "\n",
    "Note we have more than 1000 alignments - that's because we had those reads with multiple alignments! But they'll have the same \"qname\"\n",
    "\n",
    "### Gene alignment\n",
    "\n",
    "Ok - finally let's look at how many of our alignments go to _genes_\n",
    "\n",
    "subread has a \"in-built\" annotation - mine is in `~/miniforge3/envs/quantneuro/annotation`\n"
   ]
  },
  {
   "cell_type": "code",
   "execution_count": null,
   "metadata": {},
   "outputs": [],
   "source": [
    "%%bash\n",
    "if [ $(arch) != \"arm64\"]; then\n",
    "    featureCounts -a $CONDA_PREFIX/annotation/mm10_RefSeq_exon.txt -F SAF -o timp_rnaseq_align/MCL1-DL.counts timp_rnaseq_align/MCL1-DL.sam\n",
    "fi"
   ]
  },
  {
   "cell_type": "code",
   "execution_count": null,
   "metadata": {},
   "outputs": [],
   "source": [
    "%%bash\n",
    "# For Mac users\n",
    "if [ $(arch) == \"arm64\" ]; then\n",
    "    subread-2.0.2-macOS-x86_64/bin/featureCounts -a subread-2.0.2-macOS-x86_64/annotation/mm10_RefSeq_exon.txt -F SAF -o timp_rnaseq_align/MCL1-DL.counts timp_rnaseq_align/MCL1-DL.sam\n",
    "fi"
   ]
  },
  {
   "cell_type": "markdown",
   "metadata": {},
   "source": [
    "So most of our reads are actually assigned to a gene - this is great.\n",
    "\n",
    "We can even see what gene and how many counts - then filter out genes with no counts, and sort by number of counts\n"
   ]
  },
  {
   "cell_type": "code",
   "execution_count": null,
   "metadata": {},
   "outputs": [],
   "source": [
    "genecounts = pd.read_csv(\n",
    "    \"timp_rnaseq_align/MCL1-DL.counts\", delimiter=\"\\t\", comment=\"#\"\n",
    ")\n",
    "\n",
    "# Filter out only genes with >0 counts\n",
    "genecounts = genecounts[genecounts[\"timp_rnaseq_align/MCL1-DL.sam\"] > 0]\n",
    "\n",
    "# Sort on highest counts\n",
    "genecounts.sort_values(by=\"timp_rnaseq_align/MCL1-DL.sam\", ascending=False)"
   ]
  },
  {
   "cell_type": "markdown",
   "metadata": {},
   "source": [
    "And look! GeneID 11475 - which is [https://www.ncbi.nlm.nih.gov/nuccore/NM_007392.3] actin! A very highly expressed gene, so this makes perfect sense.\n"
   ]
  }
 ],
 "metadata": {
  "kernelspec": {
   "display_name": "Python 3",
   "language": "python",
   "name": "python3"
  },
  "language_info": {
   "codemirror_mode": {
    "name": "ipython",
    "version": 3
   },
   "file_extension": ".py",
   "mimetype": "text/x-python",
   "name": "python",
   "nbconvert_exporter": "python",
   "pygments_lexer": "ipython3",
   "version": "3.11.4"
  },
  "orig_nbformat": 4
 },
 "nbformat": 4,
 "nbformat_minor": 2
}
