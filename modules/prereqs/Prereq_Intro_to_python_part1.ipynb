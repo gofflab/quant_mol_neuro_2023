{
 "cells": [
  {
   "cell_type": "markdown",
   "metadata": {},
   "source": [
    "# Introduction to Python - Part 1"
   ]
  },
  {
   "cell_type": "markdown",
   "metadata": {},
   "source": [
    "## What is python?"
   ]
  },
  {
   "cell_type": "markdown",
   "metadata": {},
   "source": [
    "## Using Python"
   ]
  },
  {
   "cell_type": "markdown",
   "metadata": {},
   "source": [
    "### The python shell\n",
    "The python shell, similar to the bash shell, allows us to use python in an interactive manner. You enter in one command at a time and the result is immediately returned.  The python shell can be called directly from the terminal with the command `python`"
   ]
  },
  {
   "cell_type": "markdown",
   "metadata": {},
   "source": [
    "This is a very convenient tool for testing python commands, and for getting started with the language, but it is not very useful for creating actual programs and or scripts to run. To make an actual program, you will need to put your code in a text file and save it with a `.py` extension."
   ]
  },
  {
   "cell_type": "markdown",
   "metadata": {},
   "source": [
    "### Python scripts\n",
    "To create a python script, we can click on File > New File in the top menu above. This will open the VSCode editor in which we are going to create our very first python program. [\"Hello World\" \n",
    "demonstration]"
   ]
  },
  {
   "cell_type": "markdown",
   "metadata": {},
   "source": [
    "### Jupyter (IPython) Notebooks\n",
    "Another way in which we can use python is how we are doing so here.\n",
    "\n",
    "## Code Along\n",
    "## Open a Python Notebook\n",
    "#### Launch VSCode and click to create a new Python notebook. To best understand the information here, you should enter the variables and commands you see in each coding cell and run it yourself (this document does not contain any of the command results). Remember you can run cells by pressing `Shift` `Enter`. The ouput of these commands will appear below the cell. "
   ]
  },
  {
   "cell_type": "markdown",
   "metadata": {},
   "source": [
    "## The Basics\n",
    "If you ever get lost or need more information about how a function or object works in python, you can use the `help()` function. "
   ]
  },
  {
   "cell_type": "code",
   "execution_count": null,
   "metadata": {},
   "outputs": [],
   "source": [
    "help('+')"
   ]
  },
  {
   "cell_type": "code",
   "execution_count": null,
   "metadata": {},
   "outputs": [],
   "source": [
    "help(open)"
   ]
  },
  {
   "cell_type": "markdown",
   "metadata": {},
   "source": [
    "### Variables"
   ]
  },
  {
   "cell_type": "markdown",
   "metadata": {},
   "source": [
    "### Data Types\n",
    "In python, like most programming languages 'data type' is an important concept. When you store data in variables, you need to be aware of _how_ that data is being stored. This is referred to as a data type.  Different data types can do different things and can interact with different 'operators' (e.g. '+, -, *, &, etc' in distinct ways.  For example the `+` operator will sum the values of two variables that contain numbers:"
   ]
  },
  {
   "cell_type": "code",
   "execution_count": null,
   "metadata": {},
   "outputs": [],
   "source": [
    "a = 2\n",
    "b = 3\n",
    "a+b"
   ]
  },
  {
   "cell_type": "markdown",
   "metadata": {},
   "source": [
    "but it will concatenate two variables that contain strings:"
   ]
  },
  {
   "cell_type": "code",
   "execution_count": null,
   "metadata": {},
   "outputs": [],
   "source": [
    "a = '2'\n",
    "b = '3'\n",
    "a+b"
   ]
  },
  {
   "cell_type": "markdown",
   "metadata": {},
   "source": [
    "The following data types are 'built-in' by default in python:\n",
    "    \n",
    "* Text Type:\t`str` (abbreviation for string)\n",
    "* Numeric Types:\t`int`, `float` (int is the abbreviation for integer)\n",
    "* Sequence Types:\t`list`, `tuple`, `range`\n",
    "* Mapping Type:\t`dict` (abbreviation for dictionary)\n",
    "* Set Types:\t`set`\n"
   ]
  },
  {
   "cell_type": "markdown",
   "metadata": {},
   "source": [
    "You can always check to see what 'type' a variable is by using the `type()` function"
   ]
  },
  {
   "cell_type": "code",
   "execution_count": null,
   "metadata": {},
   "outputs": [],
   "source": [
    "x = 5\n",
    "type(x)"
   ]
  },
  {
   "cell_type": "markdown",
   "metadata": {},
   "source": [
    "Python will automatically set the data type when you create a variable under certain conditions. Listed here are examples of the different data types and their necessary punctuation (ex. `\"\"`, `[]`, `{}`, or `()`)"
   ]
  },
  {
   "cell_type": "code",
   "execution_count": null,
   "metadata": {},
   "outputs": [],
   "source": [
    "x = \"myString\" # str\n",
    "x = 10         # int\n",
    "x = 10.0       # float\n",
    "x = ['pizza','apple','hotdog']  # list\n",
    "x = ('pizza','apple','hotdog')  # tuple\n",
    "x = {'pizza','apple','hotdog'}  # set\n",
    "x = range(10)  # range\n",
    "x = {\"name\": \"Loyal\", \"age\": 41, \"department\" : \"neuroscience\"}  # dict\n",
    "x = True       # bool\n"
   ]
  },
  {
   "cell_type": "markdown",
   "metadata": {},
   "source": [
    "You can also explictly set the data type that you want by using standard functions. This is known as 'casting' a force or change variable to be a specific type."
   ]
  },
  {
   "cell_type": "code",
   "execution_count": null,
   "metadata": {},
   "outputs": [],
   "source": [
    "x = str(5)\n",
    "x"
   ]
  },
  {
   "cell_type": "code",
   "execution_count": null,
   "metadata": {},
   "outputs": [],
   "source": [
    "x = float(4)\n",
    "x"
   ]
  },
  {
   "cell_type": "markdown",
   "metadata": {},
   "source": [
    "### Number types\n",
    "\n",
    "`int` (integer) numbers are whole numbers (positive or negative) without decimals.  There is no limit to the size of an integer in python."
   ]
  },
  {
   "cell_type": "code",
   "execution_count": null,
   "metadata": {},
   "outputs": [],
   "source": [
    "a = 3\n",
    "b = 29398752398757573292375982737575\n",
    "c = -42"
   ]
  },
  {
   "cell_type": "markdown",
   "metadata": {},
   "source": [
    "The integer type should be used for numbers that will always be whole for their operations.  Think of counting the number of bases in a DNA sequence, or counting the number of times something happens.  You will almost never have a 'partial' quantity for these values.  But be careful of how `int` types are handled when you do certain types of operations:"
   ]
  },
  {
   "cell_type": "code",
   "execution_count": null,
   "metadata": {},
   "outputs": [],
   "source": [
    "a = 5\n",
    "b = 10\n",
    "c = 10/5\n",
    "print(c)\n",
    "type(c)"
   ]
  },
  {
   "cell_type": "markdown",
   "metadata": {},
   "source": [
    "The `float` type is for 'floating point numbers'.  These can be positive or negative and can contain one or more decimals. The `float` type can be specified by adding a decimal value to the end of a number when assigned to a variable:"
   ]
  },
  {
   "cell_type": "code",
   "execution_count": null,
   "metadata": {},
   "outputs": [],
   "source": [
    "a = 5.0\n",
    "b = 1.467283\n",
    "c = -14.22"
   ]
  },
  {
   "cell_type": "markdown",
   "metadata": {},
   "source": [
    "The 'float' type can also be scientific notation by adding an `e` to indicate the power of 10:"
   ]
  },
  {
   "cell_type": "code",
   "execution_count": null,
   "metadata": {},
   "outputs": [],
   "source": [
    "x = 2e4\n",
    "print(x)\n",
    "\n",
    "y = -63.5e100\n",
    "print(y)\n",
    "type(y)"
   ]
  },
  {
   "cell_type": "markdown",
   "metadata": {},
   "source": [
    "You can convert from one type to another with the `int()` and `float()` functions."
   ]
  },
  {
   "cell_type": "code",
   "execution_count": null,
   "metadata": {},
   "outputs": [],
   "source": [
    "int(y)"
   ]
  },
  {
   "cell_type": "markdown",
   "metadata": {},
   "source": [
    "### Strings\n",
    "Strings or string literals are generally denoted by enclosing them in quotes; either single (`'`) or double (`\"`) quotes:"
   ]
  },
  {
   "cell_type": "code",
   "execution_count": null,
   "metadata": {},
   "outputs": [],
   "source": [
    "print(\"Welcome to Neurogenomics!\")"
   ]
  },
  {
   "cell_type": "markdown",
   "metadata": {},
   "source": [
    "You can assign a string to a variable in the same way."
   ]
  },
  {
   "cell_type": "code",
   "execution_count": null,
   "metadata": {},
   "outputs": [],
   "source": [
    "a = \"Welcome to Neurogenomics!\"\n",
    "print(a)"
   ]
  },
  {
   "cell_type": "markdown",
   "metadata": {},
   "source": [
    "Sometimes strings will span multiple lines.  If this is the case, it is convention to enclose them in triple quotes:"
   ]
  },
  {
   "cell_type": "code",
   "execution_count": null,
   "metadata": {},
   "outputs": [],
   "source": [
    "b = \"\"\"Welcome to Neurogenomics!\n",
    "You've chosen the most exciting graduate class at JHU.\"\"\"\n",
    "\n",
    "print(b)"
   ]
  },
  {
   "cell_type": "markdown",
   "metadata": {},
   "source": [
    "### Strings, substrings, and slicing\n",
    "Strings in python are stored as 'arrays of bytes' representing each charcater, which bascially means that \"Hello\" is actually stored in python in something akin to a list: `[\"H\",\"e\",\"l\",\"l\",\"o\"]`.  So we can access, edit, and manipulate different parts of a string (or any other array) by 'slicing' with square brackets. Its important to recognize when doing this that python is a '0-indexed' language which means that any time you count in python, you always start with 0. Lets see how this works in practice:"
   ]
  },
  {
   "cell_type": "code",
   "execution_count": null,
   "metadata": {},
   "outputs": [],
   "source": [
    "# Create a string literal and store in a variable\n",
    "a = \"Genomics is fun\"\n",
    "\n",
    "# To retrieve the second character in this string we will slice as so\n",
    "print(a[1])\n",
    "\n",
    "# To retrieve a range of positions, we will separate the start and end using ':'\n",
    "print(a[2:6])\n",
    "\n",
    "# You can use negative values to start the slice from the end of the string\n",
    "print(a[-6:-1])\n",
    "\n",
    "# You can leave either side of the ':' black to represent the beginning or end of a string respectively\n",
    "print(a[:8])\n",
    "\n",
    "print(a[9:])"
   ]
  },
  {
   "cell_type": "markdown",
   "metadata": {},
   "source": [
    "Slicing is a fundamental concept in python for accessing any set of elements in an array (not just strings). **_You will use this often._**"
   ]
  },
  {
   "cell_type": "markdown",
   "metadata": {},
   "source": [
    "Strings have several built-in functions (methods) that are available for some common queries and manipulations:"
   ]
  },
  {
   "cell_type": "code",
   "execution_count": null,
   "metadata": {},
   "outputs": [],
   "source": [
    "# Get the length of the string\n",
    "print(len(a))\n",
    "\n",
    "# Convert the string to lower case\n",
    "print(a.lower())\n",
    "\n",
    "# upper?\n",
    "\n",
    "# You can strip off excess white space\n",
    "b = \"My favorite gene is Pantr2.   \"\n",
    "print(b.strip())\n",
    "\n",
    "# You can replace portions of the string\n",
    "print(a.replace(\"fun\",\"hard\"))\n",
    "\n",
    "# or split a string into substrings based on a 'separator' which in this case in a single space\n",
    "print(a.split(\" \"))\n"
   ]
  },
  {
   "cell_type": "markdown",
   "metadata": {},
   "source": [
    "You can also test for instances of a substring within a string (note the use of a new syntax here that we will explore later in this document). Essentially, we are telling the variable *x* to identify \"sea\" in the string assigned to variable *a*. The result for `print(x)` is `True` meaning that the string 'sea' was identified in the string assigned to the variable *a*. Test out the other commands to see what they return. "
   ]
  },
  {
   "cell_type": "code",
   "execution_count": null,
   "metadata": {},
   "outputs": [],
   "source": [
    "a = \"She sells seashells by the seashore.\"\n",
    "x = \"sea\" in a\n",
    "print(x)\n",
    "\n",
    "y = \"sho\" in a\n",
    "print(y)b\n",
    "\n",
    "z = \"sho\" not in a\n",
    "print(z)\n",
    "print(type(z))"
   ]
  },
  {
   "cell_type": "markdown",
   "metadata": {},
   "source": [
    "You can combine strings directly (concatenate) using the `+` operator as we discussed above:"
   ]
  },
  {
   "cell_type": "code",
   "execution_count": null,
   "metadata": {},
   "outputs": [],
   "source": [
    "a = \"Toad\"\n",
    "b = \"the\"\n",
    "c = \"Wet\"\n",
    "d = \"Sprocket\"\n",
    "\n",
    "print(a + b + c + d)"
   ]
  },
  {
   "cell_type": "markdown",
   "metadata": {},
   "source": [
    "Whoops...we may want to format this a bit better to add a separator. Fortunately, python provides a convenient way to format strings called 'f-strings'. Simply add the variables in a new string and enclose them with curly braces `{}`."
   ]
  },
  {
   "cell_type": "code",
   "execution_count": null,
   "metadata": {},
   "outputs": [],
   "source": [
    "text = f\"The best band ever is {a} {b} {c} {d}!\"\n",
    "print(text)"
   ]
  },
  {
   "cell_type": "markdown",
   "metadata": {},
   "source": [
    "This is a _very_ useful tool for formatting output strings containing useful pieces of information in your code/scripts"
   ]
  },
  {
   "cell_type": "code",
   "execution_count": null,
   "metadata": {},
   "outputs": [],
   "source": [
    "gc = 56\n",
    "name = 'Pantr2'\n",
    "chromosome = 'chr4'\n",
    "\n",
    "summary = f\"The {name} gene is located on chromosome '{chromosome}' and has a GC content of {gc}%\"\n",
    "\n",
    "print(summary)"
   ]
  },
  {
   "cell_type": "markdown",
   "metadata": {},
   "source": [
    "There are a number of methods for manipulating/searching/testing strings that are built in to python. Feel free to [check them out](https://docs.python.org/2.5/lib/string-methods.html) and test them on your own."
   ]
  },
  {
   "cell_type": "markdown",
   "metadata": {},
   "source": [
    "## Boolean type\n",
    "The Boolean type refers predominantly to logical tests, and ultimately, `type: bool` can only have two values: `True` or `False` (case sensitive). There are often times when you need to test a value or an expression. In python the value returned from these test is a `bool`:"
   ]
  },
  {
   "cell_type": "code",
   "execution_count": null,
   "metadata": {},
   "outputs": [],
   "source": [
    "print(14 > 3)\n",
    "print(14 == 3)\n",
    "print(14 < 3)"
   ]
  },
  {
   "cell_type": "markdown",
   "metadata": {},
   "source": [
    "You can use `bool` values and variables to help control the flow of your code. For example, we could print a message based on whether or not a condition is `True`."
   ]
  },
  {
   "cell_type": "code",
   "execution_count": null,
   "metadata": {},
   "outputs": [],
   "source": [
    "a = 50\n",
    "b = 100\n",
    "\n",
    "if a < b:\n",
    "    print (\"a is the smaller value\")\n",
    "else:\n",
    "    print(\"b is the smaller value\")"
   ]
  },
  {
   "cell_type": "markdown",
   "metadata": {},
   "source": [
    "## Collection Data types\n",
    "Collection data types store groups of `items`. Items can be named variables, or objects of other data types, including other collections (nested). There are four main collection data types, each with their own properties/assets:\n",
    "    \n",
    "1. A *List* is an _ordered_ collection and is _mutable_ (can be altered). It can also hold duplicate items.\n",
    "2. A *Tuple* is an _ordered_ collection and is _immutable_ (cannot be altered). It also allows for duplicate items.\n",
    "3. A *Set* is an _unordered_ collection and _unindexed_. It does _not_ allow for duplicate items.\n",
    "4. A *Dictionary* is an _unordered_ collection which is _mutable_ and _indexed_. It does not allow for duplicate index keys.\n"
   ]
  },
  {
   "cell_type": "markdown",
   "metadata": {},
   "source": [
    "### Lists\n",
    "A list is instantiated using square brakets `[]`"
   ]
  },
  {
   "cell_type": "code",
   "execution_count": null,
   "metadata": {},
   "outputs": [],
   "source": [
    "genes = ['Gapdh','Mef2c','Pax6','Cxcl1','Msi1']"
   ]
  },
  {
   "cell_type": "markdown",
   "metadata": {},
   "source": [
    "You can access list items by referring to the index number (remember that python is zero-indexed. This means that the first element in a collection is referenced by the number 0)."
   ]
  },
  {
   "cell_type": "code",
   "execution_count": null,
   "metadata": {},
   "outputs": [],
   "source": [
    "print(genes[0])\n",
    "\n",
    "print(genes[-2]) # negative indexing to select items from the end of the list. (-1 refers to the last item)\n",
    "\n",
    "print(genes[1:3]) # you select a range using \":\" (returns a new list)"
   ]
  },
  {
   "cell_type": "markdown",
   "metadata": {},
   "source": [
    "Since `list` items are mutable, you can change any specific item by refering to it's index number"
   ]
  },
  {
   "cell_type": "code",
   "execution_count": null,
   "metadata": {},
   "outputs": [],
   "source": [
    "genes[2] = 'Sox10'\n",
    "print(genes)"
   ]
  },
  {
   "cell_type": "markdown",
   "metadata": {},
   "source": [
    "`list` collections (like all collection items) are _iterable_, meaning you can loop through elements. (More about loops in the next sections.)"
   ]
  },
  {
   "cell_type": "code",
   "execution_count": null,
   "metadata": {},
   "outputs": [],
   "source": [
    "for x in genes:\n",
    "    print(x.upper())"
   ]
  },
  {
   "cell_type": "markdown",
   "metadata": {},
   "source": [
    "To add items to a list (at the end) you can use the `append()` function"
   ]
  },
  {
   "cell_type": "code",
   "execution_count": null,
   "metadata": {},
   "outputs": [],
   "source": [
    "genes.append('Foxp1')\n",
    "\n",
    "print(genes)"
   ]
  },
  {
   "cell_type": "markdown",
   "metadata": {},
   "source": [
    "Conversely, you remove using several methods:"
   ]
  },
  {
   "cell_type": "code",
   "execution_count": null,
   "metadata": {},
   "outputs": [],
   "source": [
    "genes.remove('Mef2c') # removes a 'specific' item\n",
    "print(genes)\n",
    "\n",
    "genes.pop() # removes a specified index position or the last item in the list if index is not specified.\n",
    "print(genes)\n",
    "\n",
    "genes.clear() # empties the entire list\n",
    "print(genes)"
   ]
  },
  {
   "cell_type": "markdown",
   "metadata": {},
   "source": [
    "To join two lists, you can use the `+` operator"
   ]
  },
  {
   "cell_type": "code",
   "execution_count": null,
   "metadata": {},
   "outputs": [],
   "source": [
    "fruit = ['apple', 'banana','pear']\n",
    "veg = ['carrot','celery','potato']\n",
    "\n",
    "food = fruit + veg\n",
    "\n",
    "print(food)"
   ]
  },
  {
   "cell_type": "markdown",
   "metadata": {},
   "source": [
    "### Tuples"
   ]
  },
  {
   "cell_type": "markdown",
   "metadata": {},
   "source": [
    "Tuples operate very similar to lists, but once instantiated, the items in a tuple cannot be changed. Tuples are created with round brackets `()`. This is a useful data type to hold values associated with a single 'record'.  For example if you wanted to record specific information about a single gene like its name, chromosome, and start position:"
   ]
  },
  {
   "cell_type": "code",
   "execution_count": null,
   "metadata": {},
   "outputs": [],
   "source": [
    "a = ('Sox2','chr4',1589182)\n",
    "b = ('Xist','chrX',23564335)"
   ]
  },
  {
   "cell_type": "markdown",
   "metadata": {},
   "source": [
    "You access individual elements of a tuple in the same way as a list"
   ]
  },
  {
   "cell_type": "code",
   "execution_count": null,
   "metadata": {},
   "outputs": [],
   "source": [
    "print(a[0])\n",
    "\n",
    "print(b[1])"
   ]
  },
  {
   "cell_type": "markdown",
   "metadata": {},
   "source": [
    "You can also loop through a tuple since it it iterable. We will go over loops more in depth in our first day of class, but give this one a try to see the output:"
   ]
  },
  {
   "cell_type": "code",
   "execution_count": null,
   "metadata": {},
   "outputs": [],
   "source": [
    "for val in a:\n",
    "    print(val)"
   ]
  },
  {
   "cell_type": "markdown",
   "metadata": {},
   "source": [
    "Once you create a tuple, you cannot change the values, and you cannot add items to it."
   ]
  },
  {
   "cell_type": "markdown",
   "metadata": {},
   "source": [
    "## Dictionaries\n",
    "Dictionaries are 'indexed' collections, meaning the _values_ within the collection each must have a unique _key_. You can create a dictionary using curly braces `{}`."
   ]
  },
  {
   "cell_type": "code",
   "execution_count": null,
   "metadata": {},
   "outputs": [],
   "source": [
    "myGene = {\n",
    "    'name': 'Sox2',\n",
    "    'entrezID': 6657,\n",
    "    'Ensembl': 'ENSG00000181449',\n",
    "    'chromosome': 'chr3',\n",
    "    'start': 181711925,\n",
    "    'end': 181714436,\n",
    "    'strand': '-'\n",
    "}\n",
    "print(myGene)"
   ]
  },
  {
   "cell_type": "markdown",
   "metadata": {},
   "source": [
    "To access elements of a dictionary, you do so in a manner similar to other collection items (`[]`), but you must specify a 'key' value."
   ]
  },
  {
   "cell_type": "code",
   "execution_count": null,
   "metadata": {},
   "outputs": [],
   "source": [
    "print(myGene['chromosome'])"
   ]
  },
  {
   "cell_type": "markdown",
   "metadata": {},
   "source": [
    "Dictionaries are mutable so you can change/assign values in the same way"
   ]
  },
  {
   "cell_type": "code",
   "execution_count": null,
   "metadata": {},
   "outputs": [],
   "source": [
    "myGene['strand'] = '+'\n",
    "\n",
    "print(myGene['strand'])"
   ]
  },
  {
   "cell_type": "markdown",
   "metadata": {},
   "source": [
    "When you loop through a dictionary, the values returned are the key index values"
   ]
  },
  {
   "cell_type": "code",
   "execution_count": null,
   "metadata": {},
   "outputs": [],
   "source": [
    "for key in myGene:\n",
    "    print(key)"
   ]
  },
  {
   "cell_type": "markdown",
   "metadata": {},
   "source": [
    "Or you can return dictionary keys in the dictionary key format:"
   ]
  },
  {
   "cell_type": "code",
   "execution_count": null,
   "metadata": {},
   "outputs": [],
   "source": [
    "myGene.keys()"
   ]
  },
  {
   "cell_type": "markdown",
   "metadata": {},
   "source": [
    "You can also iterate over the values, or key:value pairs"
   ]
  },
  {
   "cell_type": "code",
   "execution_count": null,
   "metadata": {},
   "outputs": [],
   "source": [
    "for val in myGene.values():\n",
    "    print(val)"
   ]
  },
  {
   "cell_type": "markdown",
   "metadata": {},
   "source": [
    "Or if you wish to return the dictionary with the key and value pairs on individual lines you can loop through the dictionary as follows: "
   ]
  },
  {
   "cell_type": "code",
   "execution_count": null,
   "metadata": {},
   "outputs": [],
   "source": [
    "for k, v in myGene.items():\n",
    "    print(f'key: {k}  value:{v}')"
   ]
  },
  {
   "cell_type": "markdown",
   "metadata": {},
   "source": [
    "Sometimes it may be useful to check if a key exists in a dictionary."
   ]
  },
  {
   "cell_type": "code",
   "execution_count": null,
   "metadata": {},
   "outputs": [],
   "source": [
    "lookup = \"Ensembl\"\n",
    "if lookup in myGene:\n",
    "    print(f\"Found {lookup} in myGene dictionary keys.\")\n",
    "else:\n",
    "    print(\"Key not found in myGene dictionary\")"
   ]
  },
  {
   "cell_type": "markdown",
   "metadata": {},
   "source": [
    "## Control Flow\n",
    "An important aspect of programming is manipulating the flow of how the program executes commands/functions/operations/etc. This is how programs and scripts take some decisions and execute different things depending on different situations. The structure of most control flow elements in python is fairly similar: evaluate certain conditions/statements and follow this with a colon (`:`).  The subsequent *code block* is below this statement and always indented.  The block ends when the indentation ends. There are three types of control flow statements in python: `if`, `for`, and `while`.  Each operates a bit differently. "
   ]
  },
  {
   "cell_type": "markdown",
   "metadata": {},
   "source": [
    "### If...Else\n",
    "\n",
    "You have already seen this type of control flow in the examples above, but let's dive a little bit deeper into how it works. \n",
    "The `if` statement first evaluates whether a given expression is `True`. If so, then the associated code block is then executed. Lets make sure we understand how it's organized."
   ]
  },
  {
   "cell_type": "code",
   "execution_count": null,
   "metadata": {},
   "outputs": [],
   "source": [
    "a = 5\n",
    "if a < 10:\n",
    "    print(f'{a} is less than 10.')\n",
    "    \n",
    "if a >= 10:\n",
    "    print(f'{a} is greater than or equal to 10.')"
   ]
  },
  {
   "cell_type": "markdown",
   "metadata": {},
   "source": [
    "Here we've constructed two `if` statements to test the variable `a`. Notice that the first statement (which evaluates to `True`) is executed but the second (`False`) is not. We can also use the `else` and `elif` (read: 'else,if') statement to further condition how python responds to our conditional test."
   ]
  },
  {
   "cell_type": "code",
   "execution_count": null,
   "metadata": {},
   "outputs": [],
   "source": [
    "a = 50\n",
    "if a < 10:\n",
    "    print(f'{a} is less than 10.')\n",
    "elif a == 10:\n",
    "    print(f'{a} is equal to 10.')\n",
    "else:\n",
    "    print(f'{a} is greater than 10.')"
   ]
  },
  {
   "cell_type": "markdown",
   "metadata": {},
   "source": [
    "There are a few things to note here.  First, the `elif` statement, we are providing _another_ conditional test for the variable `a`. If the first `if` returns `False`, then the next `elif` in the program will then be tested.  If all of the specific `if` and `elif` statements return `False`, then the remaining code block under the `else` statement is evaluated.  In this way, `else` acts as a 'catch all' if none of the other statements are `True`. \n",
    "\n",
    "*Only one* of the statements above will be executed; the first statement to evaluate to `True`. Once this happens, python steps out of the `if...else` statement and then continues on wth the rest of the program.\n",
    "\n",
    "The second point to make from the above is the use of the double `=` in the `elif`.  This is the 'comparison operator'. A single `=` is used as the 'assignment operator' as we have been using to assign values to variables.  If we want to test that two values are in fact equal, then we _must_ use `==`."
   ]
  },
  {
   "cell_type": "markdown",
   "metadata": {},
   "source": [
    "### Operators\n",
    "The construction of boolean logical tests is an important part of how you control the flow of your python program.  Often we want to test whether a variable has a certain value, or even exists at all.  Or perform some mathematical transformation on a value. To do this, we use different 'operators'. Operators are the constructs which can manipulate the value of individual items (or operands). You are familiar with many of these, for example 5 + 3 = 8. In this expression 5 and 3 are operands and '+' is the operator. Python has several types of operators, here we will distinguish between a few types"
   ]
  },
  {
   "cell_type": "markdown",
   "metadata": {},
   "source": [
    "#### Arithmetic operators\n",
    "These you should be inherently familar with for the most part. Assume that a = 10 and b = 20:\n",
    "\n",
    "* `+`    Addition:\tAdds values on either side of the operator.\ta + b = 30\n",
    "* `-`    Subtraction:\tSubtracts right hand operand from left hand operand.\ta – b = -10\n",
    "* `*`    Multiplication:\tMultiplies values on either side of the operator\ta * b = 200\n",
    "* `/`     Division:\tDivides left hand operand by right hand operand\tb / a = 2\n",
    "* `%`     Modulus:\t    Divides left hand operand by right hand operand and returns remainder\tb % a = 0\n",
    "* `**`    Exponent:\tPerforms exponential (power) calculation on operators\ta**b =10 to the power 20\n"
   ]
  },
  {
   "cell_type": "markdown",
   "metadata": {},
   "source": [
    "#### Comparison operators\n",
    "These are the operators that allow you to compare two items/variables. Each of these operators returns a `bool` value (`True` or `False`)"
   ]
  },
  {
   "cell_type": "code",
   "execution_count": null,
   "metadata": {},
   "outputs": [],
   "source": [
    "a = 10\n",
    "b = 20\n",
    "\n",
    "print(a == b) # evaluates whether two operands are equal\n",
    "print(a != b) # evaluates whether two operands are _not_ equal\n",
    "print(a < b) # less than\n",
    "print(a > b) # greater than\n",
    "print(a <= b) # less than or equal to\n",
    "print(a >= b) # you can probably guess"
   ]
  },
  {
   "cell_type": "markdown",
   "metadata": {},
   "source": [
    "#### Assignment operators\n",
    "These _assign_ values to a variable:"
   ]
  },
  {
   "cell_type": "code",
   "execution_count": null,
   "metadata": {},
   "outputs": [],
   "source": [
    "a = 10 # assigns the value 10 to the variable a\n",
    "a += 5 # Adds the value on the right to the value in a and then assigns the new value to a\n",
    "print(a)\n",
    "\n",
    "a -= 10 # subtracts the right value from the value in a and then assigns the new value to a\n",
    "print(a)\n",
    "\n",
    "a *= 5 # multiplies the right value with the value of a and then assigns to a\n",
    "print(a)\n",
    "\n",
    "a /= 5 # divides the value of a by the right value and then assigns to a\n",
    "print(a)"
   ]
  },
  {
   "cell_type": "markdown",
   "metadata": {},
   "source": [
    "#### Logical and Membership operators\n",
    "Logical operators help you compare different expressions"
   ]
  },
  {
   "cell_type": "code",
   "execution_count": null,
   "metadata": {},
   "outputs": [],
   "source": [
    "a = True\n",
    "b = True\n",
    "c = False\n",
    "\n",
    "# and: if both values are True then the condition is True\n",
    "print((a and b))\n",
    "\n",
    "# or: if _either_ value is True then the condition is True\n",
    "print((a or b))\n",
    "\n",
    "# not: reverses the logical state of the condition\n",
    "print(not(a or b))\n"
   ]
  },
  {
   "cell_type": "markdown",
   "metadata": {},
   "source": [
    "Membership operators test whether a value (operand) is a member of a collection (as in a string, list or tuple)."
   ]
  },
  {
   "cell_type": "code",
   "execution_count": null,
   "metadata": {},
   "outputs": [],
   "source": [
    "fruits = ['apple','banana','pineapple']\n",
    "a = \"orange\"\n",
    "\n",
    "print(a in fruits)\n",
    "\n",
    "print(a not in fruits)\n",
    "\n",
    "print(\"o\" in a)\n"
   ]
  },
  {
   "cell_type": "markdown",
   "metadata": {},
   "source": [
    "These are the basic operators that you will need to know to create conditional expressions to guide your control flow."
   ]
  },
  {
   "cell_type": "markdown",
   "metadata": {},
   "source": [
    "### Looping/Iteration"
   ]
  },
  {
   "cell_type": "markdown",
   "metadata": {},
   "source": [
    "### While loops\n",
    "The while statement executes commands as long as an evaluated conditional expression remains true. This will loop through the code block until such time as the statement is no longer `True`. "
   ]
  },
  {
   "cell_type": "code",
   "execution_count": null,
   "metadata": {},
   "outputs": [],
   "source": [
    "i = 1\n",
    "\n",
    "while i < 10:\n",
    "    print(i)\n",
    "    i += 1\n"
   ]
  },
  {
   "cell_type": "markdown",
   "metadata": {},
   "source": [
    "### For loops\n",
    "The `for..in` statement also performs loops. In this case however, the loop _iterates_ over a sequence or collection, and in doing so it assigns each element of the collection to a specific variable. Any collection that is _iterable_ can be used to construct a for loop. In the example below `range(0,10)` creates an iterable collection of numbers from 0-9.  Each instance of the loop places one of these values (in order) into the newly created variable `i`, and then executes the code block associated with this loop:"
   ]
  },
  {
   "cell_type": "code",
   "execution_count": null,
   "metadata": {},
   "outputs": [],
   "source": [
    "for i in range(0,10):\n",
    "    print(i)"
   ]
  },
  {
   "cell_type": "markdown",
   "metadata": {},
   "source": [
    "An optional `else` statement can be used to execute a code block after the iterations have completed."
   ]
  },
  {
   "cell_type": "code",
   "execution_count": null,
   "metadata": {},
   "outputs": [],
   "source": [
    "genes = ['Gapdh','Mef2c','Pax6','Cxcl1','Msi1']\n",
    "\n",
    "for gene in genes:\n",
    "    print(gene)\n",
    "else:\n",
    "    print(\"No more genes!\")"
   ]
  },
  {
   "cell_type": "markdown",
   "metadata": {},
   "source": [
    "### You made it through this intro! Congrats!\n",
    "\n",
    "You know now basic variable and data types as well as ways to extract or iterate over that information!\n",
    "\n",
    "Let the TAs know if you have any questions and we will expand upon these lessons in class."
   ]
  },
  {
   "cell_type": "markdown",
   "metadata": {},
   "source": []
  }
 ],
 "metadata": {
  "kernelspec": {
   "display_name": "Python 3",
   "language": "python",
   "name": "python3"
  },
  "language_info": {
   "codemirror_mode": {
    "name": "ipython",
    "version": 3
   },
   "file_extension": ".py",
   "mimetype": "text/x-python",
   "name": "python",
   "nbconvert_exporter": "python",
   "pygments_lexer": "ipython3",
   "version": "3.9.7"
  }
 },
 "nbformat": 4,
 "nbformat_minor": 4
}
