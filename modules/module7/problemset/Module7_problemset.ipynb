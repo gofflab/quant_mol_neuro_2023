{
 "cells": [
  {
   "cell_type": "markdown",
   "metadata": {},
   "source": [
    "# Module 7 Differential Expression analysis using [py]DESeq2\n",
    "\n",
    "For this problemset, you will perform a complete differential expression analysis using the DESeq2 framework.  You are welcome to use either the python implementation (pyDESeq2) or the original R implementation if you would like.  \n",
    "\n",
    "Please be sure to show your work and explain your reasoning for each step of the analysis.  We will ask you specific questions about your analysis throughout the problemset. Use the notebooks and lecture materials provided in this week's modules as a reference to guide your analysis.\n",
    "\n",
    "## Problem\n",
    "You have been tasked with identifying the genes with significant differential expression from an RNA-Seq dataset by your PI. The data come from the following study:\n",
    "\n",
    "* Teresa Romeo Luperchio, Leandros Boukas, Li Zhang, Genay Pilarowski, Jenny Jiang, Allison Kalinousky, Kasper D Hansen, Hans T Bjornsson (2021) _Leveraging the Mendelian disorders of the epigenetic machinery to systematically map functional epigenetic variation_ eLife 10:e65884. [https://doi.org/10.7554/eLife.65884](https://doi.org/10.7554/eLife.65884)\n",
    "\n",
    "### Abstract\n",
    "Although each Mendelian Disorder of the Epigenetic Machinery (MDEM) has a different causative gene, there are shared disease manifestations. We hypothesize that this phenotypic convergence is a consequence of shared epigenetic alterations. To identify such shared alterations, we interrogate chromatin (ATAC-seq) and expression (RNA-seq) states in B cells from three MDEM mouse models (Kabuki [KS] type 1 and 2 and Rubinstein-Taybi type 1 [RT1] syndromes). We develop a new approach for the overlap analysis and find extensive overlap primarily localized in gene promoters. We show that disruption of chromatin accessibility at promoters often disrupts downstream gene expression, and identify 587 loci and 264 genes with shared disruption across all three MDEMs. Subtle expression alterations of multiple, IgA-relevant genes, collectively contribute to IgA deficiency in KS1 and RT1, but not in KS2. We propose that the joint study of MDEMs offers a principled approach for systematically mapping functional epigenetic variation in mammals.\n",
    "\n",
    "### Data\n",
    "The preprocessed data for the RNA-seq portion of this study are provided for you in the `data` directory and consist of the following files:\n",
    "- `rubstein_colData.txt` - sample metadata (as a `csv` file)\n",
    "- `rubstein_counts.txt` - raw counts for each gene in each sample (as a `csv` file)\n",
    "- `rubstein_genes.txt` - gene ids (as a `csv` file)\n"
   ]
  },
  {
   "cell_type": "markdown",
   "metadata": {},
   "source": [
    "\n",
    "### The Task\n",
    "The provided dataset includes RNA-seq data from B- and T-cells from two groups of mice (sorting by magnetic beads). \n",
    "\n",
    "One group is a mouse model for Rubenstein-Taybi syndrome (the `CBP` gene indicated in the `genotype` column of the sample metadata `rubstein_colData.txt`), the other group is wild-type. The Rubenstein-Taybi mutation is a heterozygous loss-of-function.\n",
    "\n",
    "**You are tasked with identifying the genes with significant differential expression between the two groups in the population of B-cells.**\n",
    "\n",
    "_Limit your analysis to **only** the samples that are labeled B-cells (`B` samples in the `celltype` column of the sample metadata)_"
   ]
  },
  {
   "cell_type": "code",
   "execution_count": null,
   "metadata": {},
   "outputs": [],
   "source": [
    "# Import your required pacakges/modules here\n"
   ]
  },
  {
   "cell_type": "markdown",
   "metadata": {},
   "source": [
    "## Part 1: Load and Format the data\n",
    "Load the three data files provided and create an input `AnnData` object"
   ]
  },
  {
   "cell_type": "code",
   "execution_count": null,
   "metadata": {},
   "outputs": [],
   "source": [
    "# Your code here\n"
   ]
  },
  {
   "cell_type": "markdown",
   "metadata": {},
   "source": [
    "### Subset to only include B-cells\n",
    "Subset the `Anndata` object to only include B-cells (samples labeled `B` in the `celltype` column of the sample metadata)"
   ]
  },
  {
   "cell_type": "code",
   "execution_count": null,
   "metadata": {},
   "outputs": [],
   "source": [
    "# Your code here\n"
   ]
  },
  {
   "cell_type": "markdown",
   "metadata": {},
   "source": [
    "How many genes are there in the resulting `AnnData` object?"
   ]
  },
  {
   "cell_type": "markdown",
   "metadata": {},
   "source": [
    "Answer:"
   ]
  },
  {
   "cell_type": "markdown",
   "metadata": {},
   "source": [
    "How many samples are there in the resulting `AnnData` object?"
   ]
  },
  {
   "cell_type": "markdown",
   "metadata": {},
   "source": [
    "Answer:"
   ]
  },
  {
   "cell_type": "markdown",
   "metadata": {},
   "source": [
    "## Part 2: Create the DeseqDataSet object\n",
    "Take your `AnnData` object and create a `DeseqDataSet` object using the `DeseqDataSet()` function from `pydeseq2`.  Since you will explicitly be testing for differential expression between the two genotypes (`CBP` vs `WT`), be sure to specify `genotype` to the `design_factors` argument."
   ]
  },
  {
   "cell_type": "code",
   "execution_count": null,
   "metadata": {},
   "outputs": [],
   "source": [
    "# Your code here\n"
   ]
  },
  {
   "cell_type": "markdown",
   "metadata": {},
   "source": [
    "Use the `scanpy.tl.pca()` function to perform PCA on the resulting `DeseqDataSet` object.  Plot the resulting PCA using `scanpy.pl.pca()`.  Please color the points by `genotype`.\n",
    "\n",
    "_Reminder: you will have to specify `s` for the `size` argument in `scanpy.pl.pca()` in order to see the points.  We suggest using `s=100` for `scanpy.pl.pca()`_"
   ]
  },
  {
   "cell_type": "code",
   "execution_count": null,
   "metadata": {},
   "outputs": [],
   "source": [
    "# Your code here\n"
   ]
  },
  {
   "cell_type": "markdown",
   "metadata": {},
   "source": [
    "## Part 3: Preparing the DeseqDataSet object for differential expression analysis\n",
    "Differential expression analysis with `pydeseq2` is a multi-step processes. Before perfoming the _actual_ statistical test, you must:\n",
    "\n",
    "- Compute the normalization factors (`fit_size_factors`)\n",
    "- Fit the gene-wise dispersions (`fit_genwise_dispersions`)\n",
    "- Fit the dispersion trend (`fit_dispersion_trend`)\n",
    "- Fit the dispersion priors (`fit_dispersion_prior`)\n",
    "- Fit the Maximum a Posteriori dispersion estimates (`fit_map_dispersions`)\n",
    "- Calculate the log fold change (LFC) coefficients (`fit_LFC`)\n",
    "\n",
    "Perform each of these steps below on your `DeseqDataSet` object."
   ]
  },
  {
   "cell_type": "code",
   "execution_count": null,
   "metadata": {},
   "outputs": [],
   "source": [
    "# Your code here\n"
   ]
  },
  {
   "cell_type": "markdown",
   "metadata": {},
   "source": [
    "## Part 3: Statistical testing ('CBP' vs 'WT')\n",
    "Now that you have prepared your `DeseqDataSet` object, you can perform the statistical test for differential expression.  To do this, you must create a new instance of the `DeseqStats` class using the `DeseqStats()` function.  You will need to specify the `DeseqDataSet` object you created above as the first argument to the `DeseqStats()` function.\n",
    "\n",
    "Use the following additional arguments when creating your `DeseqStats` object:\n",
    "- `alpha=0.05'` - this will set the significance threshold to 0.05"
   ]
  },
  {
   "cell_type": "code",
   "execution_count": null,
   "metadata": {},
   "outputs": [],
   "source": [
    "# Your code here\n"
   ]
  },
  {
   "cell_type": "markdown",
   "metadata": {},
   "source": [
    "Now that you have your `DeseqStats` object, perform the gene-wise Wald tests to get raw p-values using the `run_wald_tests()` method of your `DeseqStats` object."
   ]
  },
  {
   "cell_type": "code",
   "execution_count": null,
   "metadata": {},
   "outputs": [],
   "source": [
    "# Your code here\n"
   ]
  }
 ],
 "metadata": {
  "language_info": {
   "name": "python"
  }
 },
 "nbformat": 4,
 "nbformat_minor": 2
}
