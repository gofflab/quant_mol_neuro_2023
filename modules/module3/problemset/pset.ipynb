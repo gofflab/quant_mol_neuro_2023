{
 "cells": [
  {
   "cell_type": "markdown",
   "id": "8d5ea1bd",
   "metadata": {},
   "source": [
    "Here, you have performed RT-PCR for an unidentified gene and obtained a cDNA sequence.\n",
    "You have cloned the cDNA into several clones and sequenced the plasmid in its entirety.\n",
    "Your coworker performed the sequencing and was kind enough to provide you with the aligned reads without the plasmid sequence in a SAM format.\n",
    "They also provided you with a GTF file of the region of the genome they thought the gene was located in.\n",
    "\n",
    "Your goal is to use these files to confirm the presence of your gene of interest and identify the gene.\n",
    "\n",
    "Remember that bioinformatics is as much about understanding biological concepts as it is about coding and data analysis.\n",
    "Use your insights to guide your analysis. Also, make sure to document your code well.\n",
    "Your peers should be able to understand your logic just by reading your code and comments.\n",
    "\n",
    "Don't forget to have fun with your data!"
   ]
  },
  {
   "cell_type": "markdown",
   "id": "7febe8f0",
   "metadata": {},
   "source": [
    "First, let's make sure we are ready.\n",
    "Start by reading the SAM/BAM and GTF format specifications or this week's lecture materials.\n",
    "**What is the purpose of a SAM file and a GTF file?**"
   ]
  },
  {
   "cell_type": "markdown",
   "id": "305edc6c",
   "metadata": {
    "lines_to_next_cell": 2
   },
   "source": []
  },
  {
   "cell_type": "markdown",
   "id": "4101c5de",
   "metadata": {},
   "source": [
    "Start by loading the provided SAM and GTF files into pandas DataFrames.\n",
    "Both files are tab-delimited, so you can use the read_csv() function to load it.\n",
    "Make sure to assign appropriate column names as per the SAM and GTF format specification.\n",
    "\n",
    "**You only need to name the first 8 columns of the SAM file.**\n",
    "\n",
    "**Write two separate functions to do this and print out the first few rows of the DataFrames.**"
   ]
  },
  {
   "cell_type": "code",
   "execution_count": null,
   "id": "d41e7010",
   "metadata": {},
   "outputs": [],
   "source": []
  },
  {
   "cell_type": "markdown",
   "id": "636e22f7",
   "metadata": {},
   "source": [
    "**What does a flag of 16 correspond to in the SAM file?**"
   ]
  },
  {
   "cell_type": "markdown",
   "id": "eb5ae659",
   "metadata": {},
   "source": []
  },
  {
   "cell_type": "markdown",
   "id": "1ef316da",
   "metadata": {},
   "source": [
    "\n",
    "Now let's explore the data.\n",
    "\n",
    "A SAM file contains the mapping information for each read.\n",
    "Let's find out where in the genome the reads are mapping to.\n",
    "**Plot the distribution of the mapping position of all alignments from the SAM file.**\n",
    "\n",
    "**Use the default settings for this plot.**\n"
   ]
  },
  {
   "cell_type": "code",
   "execution_count": null,
   "id": "94212e91",
   "metadata": {},
   "outputs": [],
   "source": []
  },
  {
   "cell_type": "markdown",
   "id": "b8b4ff61",
   "metadata": {},
   "source": [
    "**Is the plot helpful to help answer your question? Why not?**\n",
    "\n",
    "**Update your code from above to the following cell, making sure that the plot is informative**\n",
    "\n",
    "Perform any data filtering and plot adjustments as needed."
   ]
  },
  {
   "cell_type": "code",
   "execution_count": null,
   "id": "4be3191a",
   "metadata": {},
   "outputs": [],
   "source": []
  },
  {
   "cell_type": "markdown",
   "id": "93c8dd90",
   "metadata": {},
   "source": [
    "**What is the earliest position in the genome to be aligned to? What about the last?**"
   ]
  },
  {
   "cell_type": "markdown",
   "id": "8582314d",
   "metadata": {},
   "source": []
  },
  {
   "cell_type": "markdown",
   "id": "eb924e7d",
   "metadata": {},
   "source": [
    "\n",
    "You should see a gap in the mapping.\n",
    "**Why is there a gap, in the context of this experiment?**"
   ]
  },
  {
   "cell_type": "markdown",
   "id": "0d24461b",
   "metadata": {},
   "source": []
  },
  {
   "cell_type": "markdown",
   "id": "73334203",
   "metadata": {
    "lines_to_next_cell": 2
   },
   "source": [
    "**Approximately, what is the average coverage in the mapped region?**\n",
    "You can get look up this information in the plot or calculate it from the data (not simple)."
   ]
  },
  {
   "cell_type": "markdown",
   "id": "8c555d60",
   "metadata": {
    "lines_to_next_cell": 2
   },
   "source": []
  },
  {
   "cell_type": "markdown",
   "id": "6076559d",
   "metadata": {},
   "source": [
    "Finally, using the GTF file, let's find out what gene we have been looking at so far.\n",
    "\n",
    "**Perform an analysis to determine which gene is presented.**\n",
    "**Your analysis should be convincing to your friend.**"
   ]
  },
  {
   "cell_type": "code",
   "execution_count": null,
   "id": "d77e4837",
   "metadata": {},
   "outputs": [],
   "source": []
  },
  {
   "cell_type": "markdown",
   "id": "51dec56a",
   "metadata": {},
   "source": [
    "Bonus: Are there irregularities in the mapping that is not expected from a cloned gene? What could be the cause of that, considering this experiment?"
   ]
  },
  {
   "cell_type": "markdown",
   "id": "dcc5c784",
   "metadata": {},
   "source": []
  }
 ],
 "metadata": {
  "jupytext": {
   "cell_metadata_filter": "-all",
   "main_language": "python",
   "notebook_metadata_filter": "-all"
  },
  "language_info": {
   "name": "python"
  }
 },
 "nbformat": 4,
 "nbformat_minor": 5
}
