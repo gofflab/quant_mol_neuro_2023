{
 "cells": [
  {
   "cell_type": "markdown",
   "metadata": {},
   "source": [
    "# Module 3 Problem Set\n",
    "### YOUR NAME HERE\n",
    "_**Due: Friday Sept. 29th, 11:30AM**_\n",
    "This problemset"
   ]
  },
  {
   "cell_type": "markdown",
   "metadata": {},
   "source": [
    "1. Consider a BED file with the following entries:\n",
    "```\n",
    "chr1    1000    1500    geneA    0    +\n",
    "chr1    1400    2000    geneB    0    -\n",
    "chr2\t1000\t1600\tgeneC\t 0\t  -\n",
    "chr2\t1100\t4500\tgeneD\t 0\t  -\n",
    "```\n",
    "\n",
    "Which two features overlap and by how much?"
   ]
  },
  {
   "cell_type": "code",
   "execution_count": null,
   "metadata": {},
   "outputs": [],
   "source": []
  },
  {
   "cell_type": "markdown",
   "metadata": {},
   "source": [
    "2. What information does the FLAG field in a SAM file provide about the alignment and its position in the genome?"
   ]
  },
  {
   "cell_type": "code",
   "execution_count": null,
   "metadata": {},
   "outputs": [],
   "source": []
  },
  {
   "cell_type": "markdown",
   "metadata": {},
   "source": [
    "3. In a SAM file, what does the RNAME field represent, and how does it differ from the QNAME field?"
   ]
  },
  {
   "cell_type": "code",
   "execution_count": null,
   "metadata": {},
   "outputs": [],
   "source": []
  },
  {
   "cell_type": "markdown",
   "metadata": {},
   "source": [
    "4. a. Given a FASTA file with multiple sequences, write a python function to _**count the number of sequences in the file**_. You do not need to capture the sequences themselves, but your function should return the number of fasta records in a given file."
   ]
  },
  {
   "cell_type": "code",
   "execution_count": null,
   "metadata": {},
   "outputs": [],
   "source": []
  },
  {
   "cell_type": "markdown",
   "metadata": {},
   "source": [
    "b. Test your function on the file `data/XXXXX.fa` and report the number of sequences in the file."
   ]
  },
  {
   "cell_type": "code",
   "execution_count": null,
   "metadata": {},
   "outputs": [],
   "source": []
  },
  {
   "cell_type": "markdown",
   "metadata": {},
   "source": [
    "5. Below is the DNA class we created this week. Extend this class to include a method to transcribe the instance of DNA into its corresponding RNA."
   ]
  },
  {
   "cell_type": "code",
   "execution_count": null,
   "metadata": {},
   "outputs": [],
   "source": []
  },
  {
   "cell_type": "markdown",
   "metadata": {},
   "source": []
  },
  {
   "cell_type": "code",
   "execution_count": null,
   "metadata": {},
   "outputs": [],
   "source": []
  },
  {
   "cell_type": "markdown",
   "metadata": {},
   "source": [
    "7. You are given a BED file with start and end coordinates for different regions. Describe how would you determine the length of each region using Python? You may write a function, use pseudocode, or detail the steps in plain English."
   ]
  },
  {
   "cell_type": "code",
   "execution_count": null,
   "metadata": {},
   "outputs": [],
   "source": []
  },
  {
   "cell_type": "markdown",
   "metadata": {},
   "source": [
    "8.During the process of sequencing genomes, millions of reads are generated, each representing a small portion of the entire genome.  Each read has a unique ID, originates from a specific chromosome, and aligns to a certain position within that chromosome.\n",
    "\n",
    "a. Design a Python class named `SeqRead` that takes the following attributes:\n",
    "- `read_id` (a unique identifier for the read, e.g. 'R1','R2')\n",
    "- `chromosome` (the chromosome from which the read originates, e.g. 'chr1','chr2')\n",
    "- `start_position` (the starting base pair position of the read on the chromosome, an integer)\n",
    "- `end_position` (the ending base pair position of the read on the chromosome, an integer)\n",
    "\n",
    "This class should have a method to return the `length` of the read, and also a method called `display()` that prints the read in the following format:\n",
    "```\n",
    "Read [read_id] originates from [chromosome] and spans from position [start_position] to [end_position]\n",
    "```\n"
   ]
  },
  {
   "cell_type": "code",
   "execution_count": null,
   "metadata": {},
   "outputs": [],
   "source": []
  },
  {
   "cell_type": "markdown",
   "metadata": {},
   "source": [
    "Instantiate four `SeqRead` objects with the following information:\n",
    "- 'R101', 'chr1', 1000, 1100\n",
    "- 'R202', 'chr1', 1050, 1150\n",
    "- 'R303', 'chr2', 2000, 2250\n",
    "- 'R404', 'chr2', 2100, 2400\n",
    "\n",
    "After creating each object, call it's `display()` method to print its information"
   ]
  },
  {
   "cell_type": "code",
   "execution_count": null,
   "metadata": {},
   "outputs": [],
   "source": []
  },
  {
   "cell_type": "markdown",
   "metadata": {},
   "source": [
    "BONUS: Edtend the `SeqRead` class to include a method `overlaps_with()` that takes as an argument another instance of `SeqRead` and calculates and returns the number of overlapping base pairs between the two reads.  The method should return the number of overlapping bases if the reads aree on the same chromosome, and it should return 0 with a message \"Different chromosomes\" if they are on different chromosmes.\n",
    "\n",
    "Demonstrate the use of this new method by calculating the overlap between all pairs of the above reads"
   ]
  },
  {
   "cell_type": "code",
   "execution_count": null,
   "metadata": {},
   "outputs": [],
   "source": []
  }
 ],
 "metadata": {
  "language_info": {
   "name": "python"
  },
  "orig_nbformat": 4
 },
 "nbformat": 4,
 "nbformat_minor": 2
}
