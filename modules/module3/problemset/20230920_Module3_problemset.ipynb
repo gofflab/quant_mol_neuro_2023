{
 "cells": [
  {
   "cell_type": "markdown",
   "metadata": {},
   "source": [
    "# Module 3 Problem Set\n",
    "### YOUR NAME HERE\n",
    "_**Due: Friday Sept. 29th, 11:30AM**_\n",
    "This problemset"
   ]
  },
  {
   "cell_type": "markdown",
   "metadata": {},
   "source": [
    "## Question 1:\n",
    "Here, you have performed RT-PCR for an unidentified gene and obtained a cDNA sequence.\n",
    "You have cloned the cDNA into several clones and sequenced the plasmid in its entirety.\n",
    "\n",
    "Millions of reads were generated, each representing a small portion of the entire plasmid.\n",
    "\n",
    "Your coworker performed the sequencing and was kind enough to provide you with the aligned reads without the plasmid sequence in a SAM format.\n",
    "They also provided you with a GTF file of the region of the genome they thought the gene was located in.\n",
    "\n",
    "Each read has a unique ID which has been aligned to a certain position in the chromosome.\n",
    "\n",
    "Your goal is to use these files to confirm the presence of your gene of interest and identify the gene.\n",
    "\n",
    "Remember that bioinformatics is as much about understanding biological concepts as it is about coding and data analysis.\n",
    "Use your insights to guide your analysis. Also, make sure to document your code well.\n",
    "Your peers should be able to understand your logic just by reading your code and comments.\n",
    "\n",
    "Don't forget to have fun with your data!"
   ]
  },
  {
   "cell_type": "markdown",
   "metadata": {},
   "source": [
    "First, let's make sure we are ready.\n",
    "Start by reading the SAM/BAM and GTF format specifications or this week's lecture materials.\n",
    "\n",
    "**What is the purpose of a SAM file and a GTF file?**"
   ]
  },
  {
   "cell_type": "markdown",
   "metadata": {},
   "source": [
    "SAM File:\n",
    "\n",
    "SAM stands for Sequence Alignment/Map format. This type of file is commonly used to store biological sequences aligned to a reference sequence. SAM files are useful in bioinformatics workflows, predominantly in areas such as genomics, where alignment information is crucial.\n",
    "\n",
    "The format is both human-readable and software-friendly, and it can store alignment information, such as the reference sequence identifiers, alignment positions, mapping quality, and individual base-call qualities. Utilities such as SAMtools can be used to manipulate SAM files for different analyses on aligned sequences.\n",
    "\n",
    "GTF File:\n",
    "\n",
    "GTF stands for Gene Transfer Format. This file format is used to hold information about gene structure. It is a refinement of GFF (General Feature Format), with additional conventions and restrictions.\n",
    "\n",
    "A GTF file uses a tab-delimited format that describes gene structures using nine fields: seqname (reference sequence), source, feature (type of feature), start (start position of the feature), end (end position of the feature), score, strand, frame, and attributes.\n",
    "\n",
    "These files are widely used as input for a variety of genome annotation tools and browsers. In gene expression analysis, for instance, GTF files can provide the mapping between reads and the gene structures they are derived from."
   ]
  },
  {
   "cell_type": "markdown",
   "metadata": {},
   "source": [
    "Start by loading the provided SAM (`data/mysterious.sam`) and GTF (`data/chr19.gtf`) files into pandas DataFrames.\n",
    "Both files are tab-delimited, so you can use the read_csv() function to load it.\n",
    "Make sure to assign appropriate column names as per the SAM and GTF format specification.\n",
    "\n",
    "**You only need to name the first 8 columns of the SAM file.**\n",
    "\n",
    "**Write two separate functions to do this and print out the first few rows of the DataFrames.**"
   ]
  },
  {
   "cell_type": "code",
   "execution_count": 14,
   "metadata": {},
   "outputs": [],
   "source": [
    "import pandas as pd\n",
    "\n",
    "\n",
    "def read_sam(path: str) -> pd.DataFrame:\n",
    "    df = pd.read_csv(path, sep=\"\\t\", header=None)\n",
    "    df.columns = [\n",
    "        \"name\",\n",
    "        \"flag\",\n",
    "        \"transcript\",\n",
    "        \"pos\",\n",
    "        \"mapq\",\n",
    "        \"cigar\",\n",
    "        \"rnext\",\n",
    "        \"pnext\",\n",
    "        \"tlen\",\n",
    "        \"seq\",\n",
    "    ] + [f\"dontcare{i}\" for i in range(mysterious.shape[1] - 10)]\n",
    "    return df\n",
    "\n",
    "\n",
    "def read_gtf(path: str) -> pd.DataFrame:\n",
    "    df = pd.read_csv(path, sep=\"\\t\", skiprows=5, header=None)\n",
    "    df.columns = [\n",
    "        \"chr\",\n",
    "        \"source\",\n",
    "        \"type\",\n",
    "        \"start\",\n",
    "        \"end\",\n",
    "        \"score\",\n",
    "        \"strand\",\n",
    "        \"phase\",\n",
    "        \"attributes\",\n",
    "    ]\n",
    "    return df\n",
    "\n",
    "\n",
    "sam = read_sam(\"data/mysterious.sam\")\n",
    "gtf = read_gtf(\"data/chr19.gtf\")"
   ]
  },
  {
   "cell_type": "code",
   "execution_count": 15,
   "metadata": {},
   "outputs": [
    {
     "data": {
      "text/html": [
       "<div>\n",
       "<style scoped>\n",
       "    .dataframe tbody tr th:only-of-type {\n",
       "        vertical-align: middle;\n",
       "    }\n",
       "\n",
       "    .dataframe tbody tr th {\n",
       "        vertical-align: top;\n",
       "    }\n",
       "\n",
       "    .dataframe thead th {\n",
       "        text-align: right;\n",
       "    }\n",
       "</style>\n",
       "<table border=\"1\" class=\"dataframe\">\n",
       "  <thead>\n",
       "    <tr style=\"text-align: right;\">\n",
       "      <th></th>\n",
       "      <th>chr</th>\n",
       "      <th>source</th>\n",
       "      <th>type</th>\n",
       "      <th>start</th>\n",
       "      <th>end</th>\n",
       "      <th>score</th>\n",
       "      <th>strand</th>\n",
       "      <th>phase</th>\n",
       "      <th>attributes</th>\n",
       "    </tr>\n",
       "  </thead>\n",
       "  <tbody>\n",
       "    <tr>\n",
       "      <th>0</th>\n",
       "      <td>chr19</td>\n",
       "      <td>HAVANA</td>\n",
       "      <td>gene</td>\n",
       "      <td>5012175</td>\n",
       "      <td>5017027</td>\n",
       "      <td>.</td>\n",
       "      <td>+</td>\n",
       "      <td>.</td>\n",
       "      <td>gene_id \"ENSMUSG00000024902.6\"; gene_type \"pro...</td>\n",
       "    </tr>\n",
       "    <tr>\n",
       "      <th>1</th>\n",
       "      <td>chr19</td>\n",
       "      <td>HAVANA</td>\n",
       "      <td>transcript</td>\n",
       "      <td>5012175</td>\n",
       "      <td>5017027</td>\n",
       "      <td>.</td>\n",
       "      <td>+</td>\n",
       "      <td>.</td>\n",
       "      <td>gene_id \"ENSMUSG00000024902.6\"; transcript_id ...</td>\n",
       "    </tr>\n",
       "    <tr>\n",
       "      <th>2</th>\n",
       "      <td>chr19</td>\n",
       "      <td>HAVANA</td>\n",
       "      <td>exon</td>\n",
       "      <td>5012175</td>\n",
       "      <td>5012543</td>\n",
       "      <td>.</td>\n",
       "      <td>+</td>\n",
       "      <td>.</td>\n",
       "      <td>gene_id \"ENSMUSG00000024902.6\"; transcript_id ...</td>\n",
       "    </tr>\n",
       "    <tr>\n",
       "      <th>3</th>\n",
       "      <td>chr19</td>\n",
       "      <td>HAVANA</td>\n",
       "      <td>CDS</td>\n",
       "      <td>5012421</td>\n",
       "      <td>5012543</td>\n",
       "      <td>.</td>\n",
       "      <td>+</td>\n",
       "      <td>0</td>\n",
       "      <td>gene_id \"ENSMUSG00000024902.6\"; transcript_id ...</td>\n",
       "    </tr>\n",
       "    <tr>\n",
       "      <th>4</th>\n",
       "      <td>chr19</td>\n",
       "      <td>HAVANA</td>\n",
       "      <td>start_codon</td>\n",
       "      <td>5012421</td>\n",
       "      <td>5012423</td>\n",
       "      <td>.</td>\n",
       "      <td>+</td>\n",
       "      <td>0</td>\n",
       "      <td>gene_id \"ENSMUSG00000024902.6\"; transcript_id ...</td>\n",
       "    </tr>\n",
       "    <tr>\n",
       "      <th>...</th>\n",
       "      <td>...</td>\n",
       "      <td>...</td>\n",
       "      <td>...</td>\n",
       "      <td>...</td>\n",
       "      <td>...</td>\n",
       "      <td>...</td>\n",
       "      <td>...</td>\n",
       "      <td>...</td>\n",
       "      <td>...</td>\n",
       "    </tr>\n",
       "    <tr>\n",
       "      <th>4761</th>\n",
       "      <td>chr19</td>\n",
       "      <td>HAVANA</td>\n",
       "      <td>exon</td>\n",
       "      <td>6493661</td>\n",
       "      <td>6493678</td>\n",
       "      <td>.</td>\n",
       "      <td>+</td>\n",
       "      <td>.</td>\n",
       "      <td>gene_id \"ENSMUSG00000033768.18\"; transcript_id...</td>\n",
       "    </tr>\n",
       "    <tr>\n",
       "      <th>4762</th>\n",
       "      <td>chr19</td>\n",
       "      <td>HAVANA</td>\n",
       "      <td>CDS</td>\n",
       "      <td>6493661</td>\n",
       "      <td>6493678</td>\n",
       "      <td>.</td>\n",
       "      <td>+</td>\n",
       "      <td>2</td>\n",
       "      <td>gene_id \"ENSMUSG00000033768.18\"; transcript_id...</td>\n",
       "    </tr>\n",
       "    <tr>\n",
       "      <th>4763</th>\n",
       "      <td>chr19</td>\n",
       "      <td>HAVANA</td>\n",
       "      <td>exon</td>\n",
       "      <td>6498285</td>\n",
       "      <td>6498314</td>\n",
       "      <td>.</td>\n",
       "      <td>+</td>\n",
       "      <td>.</td>\n",
       "      <td>gene_id \"ENSMUSG00000033768.18\"; transcript_id...</td>\n",
       "    </tr>\n",
       "    <tr>\n",
       "      <th>4764</th>\n",
       "      <td>chr19</td>\n",
       "      <td>HAVANA</td>\n",
       "      <td>CDS</td>\n",
       "      <td>6498285</td>\n",
       "      <td>6498314</td>\n",
       "      <td>.</td>\n",
       "      <td>+</td>\n",
       "      <td>2</td>\n",
       "      <td>gene_id \"ENSMUSG00000033768.18\"; transcript_id...</td>\n",
       "    </tr>\n",
       "    <tr>\n",
       "      <th>4765</th>\n",
       "      <td>chr19</td>\n",
       "      <td>HAVANA</td>\n",
       "      <td>UTR</td>\n",
       "      <td>6477967</td>\n",
       "      <td>6478078</td>\n",
       "      <td>.</td>\n",
       "      <td>+</td>\n",
       "      <td>.</td>\n",
       "      <td>gene_id \"ENSMUSG00000033768.18\"; transcript_id...</td>\n",
       "    </tr>\n",
       "  </tbody>\n",
       "</table>\n",
       "<p>4766 rows × 9 columns</p>\n",
       "</div>"
      ],
      "text/plain": [
       "        chr  source         type    start      end score strand phase  \\\n",
       "0     chr19  HAVANA         gene  5012175  5017027     .      +     .   \n",
       "1     chr19  HAVANA   transcript  5012175  5017027     .      +     .   \n",
       "2     chr19  HAVANA         exon  5012175  5012543     .      +     .   \n",
       "3     chr19  HAVANA          CDS  5012421  5012543     .      +     0   \n",
       "4     chr19  HAVANA  start_codon  5012421  5012423     .      +     0   \n",
       "...     ...     ...          ...      ...      ...   ...    ...   ...   \n",
       "4761  chr19  HAVANA         exon  6493661  6493678     .      +     .   \n",
       "4762  chr19  HAVANA          CDS  6493661  6493678     .      +     2   \n",
       "4763  chr19  HAVANA         exon  6498285  6498314     .      +     .   \n",
       "4764  chr19  HAVANA          CDS  6498285  6498314     .      +     2   \n",
       "4765  chr19  HAVANA          UTR  6477967  6478078     .      +     .   \n",
       "\n",
       "                                             attributes  \n",
       "0     gene_id \"ENSMUSG00000024902.6\"; gene_type \"pro...  \n",
       "1     gene_id \"ENSMUSG00000024902.6\"; transcript_id ...  \n",
       "2     gene_id \"ENSMUSG00000024902.6\"; transcript_id ...  \n",
       "3     gene_id \"ENSMUSG00000024902.6\"; transcript_id ...  \n",
       "4     gene_id \"ENSMUSG00000024902.6\"; transcript_id ...  \n",
       "...                                                 ...  \n",
       "4761  gene_id \"ENSMUSG00000033768.18\"; transcript_id...  \n",
       "4762  gene_id \"ENSMUSG00000033768.18\"; transcript_id...  \n",
       "4763  gene_id \"ENSMUSG00000033768.18\"; transcript_id...  \n",
       "4764  gene_id \"ENSMUSG00000033768.18\"; transcript_id...  \n",
       "4765  gene_id \"ENSMUSG00000033768.18\"; transcript_id...  \n",
       "\n",
       "[4766 rows x 9 columns]"
      ]
     },
     "execution_count": 15,
     "metadata": {},
     "output_type": "execute_result"
    }
   ],
   "source": [
    "gtf"
   ]
  },
  {
   "cell_type": "markdown",
   "metadata": {},
   "source": [
    "**What does a flag of 16 correspond to in the SAM file?**"
   ]
  },
  {
   "cell_type": "markdown",
   "metadata": {},
   "source": [
    "A flag of 16 in a SAM file corresponds to \"read reverse strand\". This means the read is aligned to the reverse strand of the reference sequence. In the context of DNA sequencing, this means that the sequence was derived from the reverse complement strand of the original DNA fragment."
   ]
  },
  {
   "cell_type": "markdown",
   "metadata": {},
   "source": [
    "\n",
    "Now let's explore the data.\n",
    "\n",
    "A SAM file contains the mapping information for each read.\n",
    "Let's find out where in the genome the reads are mapping to.\n",
    "**Plot the distribution of the mapping position of all alignments from the SAM file as a histogram.**\n",
    "\n",
    "**Use the default settings for this plot.**\n"
   ]
  },
  {
   "cell_type": "code",
   "execution_count": 17,
   "metadata": {},
   "outputs": [
    {
     "name": "stderr",
     "output_type": "stream",
     "text": [
      "/Users/chaichontat/mambaforge/envs/quant/lib/python3.11/site-packages/plotnine/stats/stat_bin.py:109: PlotnineWarning: 'stat_bin()' using 'bins = 14512'. Pick better value with 'binwidth'.\n"
     ]
    },
    {
     "data": {
      "image/png": "[encoded data removed]",
      "text/plain": [
       "<Figure size 640x480 with 1 Axes>"
      ]
     },
     "metadata": {
      "image/png": {
       "height": 480,
       "width": 640
      }
     },
     "output_type": "display_data"
    },
    {
     "data": {
      "text/plain": [
       "<Figure Size: (640 x 480)>"
      ]
     },
     "execution_count": 17,
     "metadata": {},
     "output_type": "execute_result"
    }
   ],
   "source": [
    "import plotnine as pn\n",
    "\n",
    "pn.ggplot(sam, pn.aes(x=\"pos\")) + pn.geom_histogram()"
   ]
  },
  {
   "cell_type": "markdown",
   "metadata": {},
   "source": [
    "**Is the plot helpful to help answer your question? Why not?**\n",
    "\n",
    "**Update your code from above to the following cell, making sure that the plot is informative**\n",
    "\n",
    "Perform any data filtering and plot adjustments as needed."
   ]
  },
  {
   "cell_type": "code",
   "execution_count": 30,
   "metadata": {},
   "outputs": [
    {
     "data": {
      "image/png": "[encoded data removed]",
      "text/plain": [
       "<Figure size 640x480 with 1 Axes>"
      ]
     },
     "metadata": {
      "image/png": {
       "height": 480,
       "width": 640
      }
     },
     "output_type": "display_data"
    },
    {
     "data": {
      "text/plain": [
       "<Figure Size: (640 x 480)>"
      ]
     },
     "execution_count": 30,
     "metadata": {},
     "output_type": "execute_result"
    }
   ],
   "source": [
    "samf = sam[sam[\"transcript\"] != \"*\"]\n",
    "pn.ggplot(samf, pn.aes(x=\"pos\")) + pn.geom_histogram(bins=200)"
   ]
  },
  {
   "cell_type": "markdown",
   "metadata": {},
   "source": [
    "SAM has some sequences that are not aligned, which are 0. Need to remove those.\n",
    "Also, need to select an appropriate bin size for the histogram."
   ]
  },
  {
   "cell_type": "markdown",
   "metadata": {},
   "source": [
    "**What is the first (smallest integer) position in the genome to which the reads are aligned? What about the last?** (think about the last one carefully)"
   ]
  },
  {
   "cell_type": "code",
   "execution_count": 38,
   "metadata": {},
   "outputs": [
    {
     "data": {
      "text/plain": [
       "(5848264, 5852550)"
      ]
     },
     "execution_count": 38,
     "metadata": {},
     "output_type": "execute_result"
    }
   ],
   "source": [
    "# Since this is a reverse strand mapping, we need to subtract the length of the read from the first position\n",
    "samf[\"pos\"].min() - 150, samf[\"pos\"].max()  # length of seq"
   ]
  },
  {
   "cell_type": "code",
   "execution_count": 39,
   "metadata": {},
   "outputs": [
    {
     "data": {
      "text/html": [
       "<div>\n",
       "<style scoped>\n",
       "    .dataframe tbody tr th:only-of-type {\n",
       "        vertical-align: middle;\n",
       "    }\n",
       "\n",
       "    .dataframe tbody tr th {\n",
       "        vertical-align: top;\n",
       "    }\n",
       "\n",
       "    .dataframe thead th {\n",
       "        text-align: right;\n",
       "    }\n",
       "</style>\n",
       "<table border=\"1\" class=\"dataframe\">\n",
       "  <thead>\n",
       "    <tr style=\"text-align: right;\">\n",
       "      <th></th>\n",
       "      <th>name</th>\n",
       "      <th>flag</th>\n",
       "      <th>transcript</th>\n",
       "      <th>pos</th>\n",
       "      <th>mapq</th>\n",
       "      <th>cigar</th>\n",
       "      <th>rnext</th>\n",
       "      <th>pnext</th>\n",
       "      <th>tlen</th>\n",
       "      <th>seq</th>\n",
       "      <th>dontcare0</th>\n",
       "      <th>dontcare1</th>\n",
       "      <th>dontcare2</th>\n",
       "      <th>dontcare3</th>\n",
       "      <th>dontcare4</th>\n",
       "      <th>dontcare5</th>\n",
       "      <th>dontcare6</th>\n",
       "      <th>dontcare7</th>\n",
       "      <th>dontcare8</th>\n",
       "    </tr>\n",
       "  </thead>\n",
       "  <tbody>\n",
       "    <tr>\n",
       "      <th>546</th>\n",
       "      <td>530</td>\n",
       "      <td>16</td>\n",
       "      <td>chr19</td>\n",
       "      <td>5848414</td>\n",
       "      <td>42</td>\n",
       "      <td>150M</td>\n",
       "      <td>*</td>\n",
       "      <td>0</td>\n",
       "      <td>0</td>\n",
       "      <td>TAAATACATACATTCTCTAGTGAAGTATTTTATTAATTTGTATAAT...</td>\n",
       "      <td>IIIIIIIIIIIIIIIIIIIIIIIIIIIIIIIIIIIIIIIIIIIIII...</td>\n",
       "      <td>AS:i:0</td>\n",
       "      <td>XN:i:0</td>\n",
       "      <td>XM:i:0</td>\n",
       "      <td>XO:i:0</td>\n",
       "      <td>XG:i:0</td>\n",
       "      <td>NM:i:0</td>\n",
       "      <td>MD:Z:150</td>\n",
       "      <td>YT:Z:UU</td>\n",
       "    </tr>\n",
       "  </tbody>\n",
       "</table>\n",
       "</div>"
      ],
      "text/plain": [
       "     name  flag transcript      pos  mapq cigar rnext  pnext  tlen  \\\n",
       "546   530    16      chr19  5848414    42  150M     *      0     0   \n",
       "\n",
       "                                                   seq  \\\n",
       "546  TAAATACATACATTCTCTAGTGAAGTATTTTATTAATTTGTATAAT...   \n",
       "\n",
       "                                             dontcare0 dontcare1 dontcare2  \\\n",
       "546  IIIIIIIIIIIIIIIIIIIIIIIIIIIIIIIIIIIIIIIIIIIIII...    AS:i:0    XN:i:0   \n",
       "\n",
       "    dontcare3 dontcare4 dontcare5 dontcare6 dontcare7 dontcare8  \n",
       "546    XM:i:0    XO:i:0    XG:i:0    NM:i:0  MD:Z:150   YT:Z:UU  "
      ]
     },
     "execution_count": 39,
     "metadata": {},
     "output_type": "execute_result"
    }
   ],
   "source": [
    "samf[samf[\"pos\"] == samf[\"pos\"].min()]"
   ]
  },
  {
   "cell_type": "markdown",
   "metadata": {},
   "source": [
    "\n",
    "You should see a gap in the mapping.\n",
    "**Why is there a gap, in the context of this experiment?**"
   ]
  },
  {
   "cell_type": "markdown",
   "metadata": {},
   "source": [
    "Isoforms"
   ]
  },
  {
   "cell_type": "markdown",
   "metadata": {},
   "source": [
    "**Approximately, what is the average coverage in the mapped region?**\n",
    "You can estimate this information from the plot or calculate it from the data."
   ]
  },
  {
   "cell_type": "markdown",
   "metadata": {},
   "source": [
    "0, 20, and 40"
   ]
  },
  {
   "cell_type": "markdown",
   "metadata": {},
   "source": [
    "Finally, using the GTF file, let's find out what gene we have been looking at so far.\n",
    "\n",
    "**Perform an analysis to determine which gene is presented.**\n",
    "**Your analysis should be convincing to your friend.**"
   ]
  },
  {
   "cell_type": "code",
   "execution_count": 50,
   "metadata": {},
   "outputs": [
    {
     "data": {
      "text/html": [
       "<div>\n",
       "<style scoped>\n",
       "    .dataframe tbody tr th:only-of-type {\n",
       "        vertical-align: middle;\n",
       "    }\n",
       "\n",
       "    .dataframe tbody tr th {\n",
       "        vertical-align: top;\n",
       "    }\n",
       "\n",
       "    .dataframe thead th {\n",
       "        text-align: right;\n",
       "    }\n",
       "</style>\n",
       "<table border=\"1\" class=\"dataframe\">\n",
       "  <thead>\n",
       "    <tr style=\"text-align: right;\">\n",
       "      <th></th>\n",
       "      <th>chr</th>\n",
       "      <th>source</th>\n",
       "      <th>type</th>\n",
       "      <th>start</th>\n",
       "      <th>end</th>\n",
       "      <th>score</th>\n",
       "      <th>strand</th>\n",
       "      <th>phase</th>\n",
       "      <th>attributes</th>\n",
       "    </tr>\n",
       "  </thead>\n",
       "  <tbody>\n",
       "    <tr>\n",
       "      <th>2562</th>\n",
       "      <td>chr19</td>\n",
       "      <td>HAVANA</td>\n",
       "      <td>gene</td>\n",
       "      <td>5845717</td>\n",
       "      <td>5852706</td>\n",
       "      <td>.</td>\n",
       "      <td>-</td>\n",
       "      <td>.</td>\n",
       "      <td>gene_id \"ENSMUSG00000092341.6\"; gene_type \"lnc...</td>\n",
       "    </tr>\n",
       "    <tr>\n",
       "      <th>2566</th>\n",
       "      <td>chr19</td>\n",
       "      <td>HAVANA</td>\n",
       "      <td>transcript</td>\n",
       "      <td>5848369</td>\n",
       "      <td>5851218</td>\n",
       "      <td>.</td>\n",
       "      <td>-</td>\n",
       "      <td>.</td>\n",
       "      <td>gene_id \"ENSMUSG00000092341.6\"; transcript_id ...</td>\n",
       "    </tr>\n",
       "    <tr>\n",
       "      <th>2568</th>\n",
       "      <td>chr19</td>\n",
       "      <td>HAVANA</td>\n",
       "      <td>exon</td>\n",
       "      <td>5848369</td>\n",
       "      <td>5849711</td>\n",
       "      <td>.</td>\n",
       "      <td>-</td>\n",
       "      <td>.</td>\n",
       "      <td>gene_id \"ENSMUSG00000092341.6\"; transcript_id ...</td>\n",
       "    </tr>\n",
       "  </tbody>\n",
       "</table>\n",
       "</div>"
      ],
      "text/plain": [
       "        chr  source        type    start      end score strand phase  \\\n",
       "2562  chr19  HAVANA        gene  5845717  5852706     .      -     .   \n",
       "2566  chr19  HAVANA  transcript  5848369  5851218     .      -     .   \n",
       "2568  chr19  HAVANA        exon  5848369  5849711     .      -     .   \n",
       "\n",
       "                                             attributes  \n",
       "2562  gene_id \"ENSMUSG00000092341.6\"; gene_type \"lnc...  \n",
       "2566  gene_id \"ENSMUSG00000092341.6\"; transcript_id ...  \n",
       "2568  gene_id \"ENSMUSG00000092341.6\"; transcript_id ...  "
      ]
     },
     "execution_count": 50,
     "metadata": {},
     "output_type": "execute_result"
    }
   ],
   "source": [
    "# Find a feature that encompasses the entire mapped region\n",
    "section = gtf[(gtf[\"start\"] < samf[\"pos\"].min()) & (samf[\"pos\"].min() < gtf[\"end\"])]\n",
    "section"
   ]
  },
  {
   "cell_type": "code",
   "execution_count": 51,
   "metadata": {},
   "outputs": [
    {
     "data": {
      "text/plain": [
       "'gene_id \"ENSMUSG00000092341.6\"; gene_type \"lncRNA\"; gene_name \"Malat1\"; level 2; mgi_id \"MGI:1919539\"; tag \"ncRNA_host\"; havana_gene \"OTTMUSG00000037798.2\";'"
      ]
     },
     "execution_count": 51,
     "metadata": {},
     "output_type": "execute_result"
    }
   ],
   "source": [
    "section.iloc[0][\"attributes\"]"
   ]
  },
  {
   "cell_type": "markdown",
   "metadata": {},
   "source": [
    "Use [BLAST](https://blast.ncbi.nlm.nih.gov/Blast.cgi?PROGRAM=blastn&PAGE_TYPE=BlastSearch&LINK_LOC=blasthome) using the sequence from read 42 to further confirm/disprove your results.\n",
    "\n",
    "**Describe the first two hits from BLAST and how they relate to your results. Which species is this organism?**"
   ]
  },
  {
   "cell_type": "code",
   "execution_count": 59,
   "metadata": {},
   "outputs": [
    {
     "data": {
      "text/plain": [
       "'TAAAGATGCTTTGTCTTCTATTTTCCTATCTTCTCTAACAGCTTTTTCTTCACCTTCCTGTATGTCTTCTTCGTCTTTCACTTCCATTTTCTAATCTTCTTTCTCCAAATACTAGCCTAACCTTTTTGTTTTTTCAAGACAGGGTTTCTC'"
      ]
     },
     "execution_count": 59,
     "metadata": {},
     "output_type": "execute_result"
    }
   ],
   "source": [
    "sam[sam[\"name\"] == 42][\"seq\"].iloc[0]"
   ]
  },
  {
   "cell_type": "code",
   "execution_count": 60,
   "metadata": {},
   "outputs": [],
   "source": [
    "# Mus musculus genome assembly, chromosome: 19\n",
    "# Sequence ID: OX439033.1Length: 59470459Number of Matches: 1\n",
    "# Range 1: 3875940 to 3876089GenBankGraphicsNext MatchPrevious Match\n",
    "# Alignment statistics for match #1\n",
    "# Score\tExpect\tIdentities\tGaps\tStrand\n",
    "# 278 bits(150)\t3e-70\t150/150(100%)\t0/150(0%)\tPlus/Plus\n",
    "\n",
    "# Mus musculus genome assembly, chromosome: 19\n",
    "# Sequence ID: OX390162.1Length: 59306578Number of Matches: 1\n",
    "# Range 1: 3921117 to 3921266GenBankGraphicsNext MatchPrevious Match\n",
    "# Alignment statistics for match #1\n",
    "# Score\tExpect\tIdentities\tGaps\tStrand\n",
    "# 278 bits(150)\t3e-70\t150/150(100%)\t0/150(0%)\tPlus/Plus"
   ]
  },
  {
   "cell_type": "markdown",
   "metadata": {},
   "source": [
    "Bonus: There irregularities in the mapping that is not expected from a cloned gene. Specifically, there is a significant difference in coverage across different aligned regions. What could be the cause of that, considering this experiment?"
   ]
  },
  {
   "cell_type": "markdown",
   "metadata": {},
   "source": [
    "This is a mixture of two isoforms. Cross-contamination between two bacteria clones. Your clone is not a clone."
   ]
  },
  {
   "cell_type": "markdown",
   "metadata": {},
   "source": [
    "## Question 2:\n",
    "\n",
    "a. Design a Python class named `SeqRead` that takes the following attributes:\n",
    "- `read_id` (a unique identifier for the read, e.g. 'R1','R2')\n",
    "- `chromosome` (the chromosome from which the read originates, e.g. 'chr1','chr2')\n",
    "- `start_position` (the starting base pair position of the read on the chromosome, an integer)\n",
    "- `end_position` (the ending base pair position of the read on the chromosome, an integer)\n",
    "\n",
    "This class should have a method to return the `length` of the read, and also a method called `__str__` that prints the read in the following format:\n",
    "```\n",
    "Read [read_id] originates from [chromosome] and spans from position [start_position] to [end_position]\n",
    "```\n",
    "\n",
    "**You will be also be scored based on proper typing of your function arguments.**\n",
    " (i.e. `def hello(name: str) -> str: `)\n"
   ]
  },
  {
   "cell_type": "code",
   "execution_count": 62,
   "metadata": {},
   "outputs": [],
   "source": [
    "class SeqRead:\n",
    "    def __init__(\n",
    "        self, read_id: str, chromosome: str, start_position: int, end_position: int\n",
    "    ) -> None:\n",
    "        self.read_id = read_id\n",
    "        self.chromosome = chromosome\n",
    "        self.start_position = int(start_position)\n",
    "        self.end_position = int(end_position)\n",
    "\n",
    "    def __len__(self) -> int:\n",
    "        return self.end_position - self.start_position\n",
    "\n",
    "    def __str__(self) -> str:\n",
    "        return f\"Read {self.read_id} originates from {self.chromosome} and spans from position {self.start_position} to {self.end_position}\""
   ]
  },
  {
   "cell_type": "markdown",
   "metadata": {},
   "source": [
    "Create a list of four `SeqRead` objects with the following information:\n",
    "- 'R101', 'chr1', 1000, 1100\n",
    "- 'R202', 'chr1', 1050, 1150\n",
    "- 'R303', 'chr2', 2000, 2250\n",
    "- 'R404', 'chr2', 2100, 2400\n",
    "\n",
    "After creating the list, create a for-loop that prints each read in the list using `str(YOUR_OBJECT)`."
   ]
  },
  {
   "cell_type": "code",
   "execution_count": 70,
   "metadata": {},
   "outputs": [
    {
     "data": {
      "text/plain": [
       "['Read R101 originates from chr1 and spans from position 1000 to 1100',\n",
       " 'Read R202 originates from chr1 and spans from position 1050 to 1150',\n",
       " 'Read R303 originates from chr2 and spans from position 2000 to 2250',\n",
       " 'Read R404 originates from chr2 and spans from position 2100 to 2400']"
      ]
     },
     "execution_count": 70,
     "metadata": {},
     "output_type": "execute_result"
    }
   ],
   "source": [
    "argss = [\n",
    "    [\"R101\", \"chr1\", 1000, 1100],\n",
    "    [\"R202\", \"chr1\", 1050, 1150],\n",
    "    [\"R303\", \"chr2\", 2000, 2250],\n",
    "    [\"R404\", \"chr2\", 2100, 2400],\n",
    "]\n",
    "\n",
    "seqs = [SeqRead(*args) for args in argss]  # me being lazy\n",
    "[str(seq) for seq in seqs]"
   ]
  },
  {
   "cell_type": "markdown",
   "metadata": {},
   "source": [
    "BONUS: Create a function that takes in two SeqRead objects.\n",
    "\n",
    "that takes as an argument another instance of `SeqRead` and calculates and returns the number of overlapping base pairs between the two reads.\n",
    "The method should return the number of overlapping bases if the reads aree on the same chromosome,\n",
    "and it should return `-1` if they are on different chromosomes.\n",
    "\n",
    "Demonstrate the use of this new method by calculating the overlap between all pairs of the above reads"
   ]
  },
  {
   "cell_type": "code",
   "execution_count": 76,
   "metadata": {},
   "outputs": [
    {
     "name": "stdout",
     "output_type": "stream",
     "text": [
      "chr1 (1000, 1100) chr1 (1050, 1150) 51\n",
      "chr1 (1000, 1100) chr2 (2000, 2250) -1\n",
      "chr1 (1000, 1100) chr2 (2100, 2400) -1\n",
      "chr1 (1050, 1150) chr2 (2000, 2250) -1\n",
      "chr1 (1050, 1150) chr2 (2100, 2400) -1\n",
      "chr2 (2000, 2250) chr2 (2100, 2400) 151\n"
     ]
    },
    {
     "data": {
      "text/plain": [
       "[None, None, None, None, None, None]"
      ]
     },
     "execution_count": 76,
     "metadata": {},
     "output_type": "execute_result"
    }
   ],
   "source": [
    "from itertools import combinations\n",
    "\n",
    "\n",
    "def overlaps_with(a: SeqRead, b: SeqRead) -> int:\n",
    "    \"\"\"Return the number of bases that overlap between two reads.\"\"\"\n",
    "    if a.chromosome != b.chromosome:\n",
    "        return -1\n",
    "\n",
    "    start = max(a.start_position, b.start_position)\n",
    "    end = min(a.end_position, b.end_position)\n",
    "\n",
    "    overlap = end - start + 1  # Probably inclusive ends\n",
    "    return max(0, overlap)  # Return 0 if there is no overlap\n",
    "\n",
    "\n",
    "[\n",
    "    print(\n",
    "        a.chromosome,\n",
    "        (a.start_position, a.end_position),\n",
    "        b.chromosome,\n",
    "        (b.start_position, b.end_position),\n",
    "        overlaps_with(a, b),\n",
    "    )\n",
    "    for a, b in combinations(seqs, 2)\n",
    "]"
   ]
  },
  {
   "cell_type": "markdown",
   "metadata": {},
   "source": [
    "## Question 3:\n",
    "Using the Hippo-Seq bulk RNA-seq data used in module 2 and 3,\n",
    "\n",
    "- [GSE74985](https://www.ncbi.nlm.nih.gov/geo/query/acc.cgi?acc=GSE74985)\n",
    "- Cembrowski MS, Wang L, Sugino K, Shields BC et al. Hipposeq: a comprehensive RNA-seq database of gene expression in hippocampal principal neurons. Elife 2016 Apr 26;5:e14997. PMID: [27113915](https://www.ncbi.nlm.nih.gov/pubmed/27113915)\n",
    "\n",
    "Create an 'AnnData' object from these data.\n",
    "\n",
    "Start by reading in the three files that we need to create the `AnnData` object:\n",
    " - The gene expression matrix `X` (`data/GSE74985_data.csv`) \n",
    " - The sample information `obs` (`data/GSE74985_sample_info.csv`)\n",
    " - The gene information `var` (`data/GSE74985_gene_info.csv`)\n",
    "\n",
    "Reminder, each of these files can be read in as a `pandas` `DataFrame`.\n",
    "For the gene expression matrix, you will need to transpose (`.T`) the imported data from a 'gene X sample' matrix to a 'sample X gene' matrix.\n",
    "\n",
    "_Hint, you may need `X.index.name = \"sample\"`_\n",
    "\n",
    "Once you've imported the data, create the `AnnData` object.  (This should be done exactly as was indicated in the Module3 notebook).\n",
    "\n",
    "If you do not have `anndata`, install it with `mamba install anndata`."
   ]
  },
  {
   "cell_type": "code",
   "execution_count": 82,
   "metadata": {},
   "outputs": [
    {
     "data": {
      "text/plain": [
       "AnnData object with n_obs × n_vars = 24 × 37699\n",
       "    obs: 'tissue', 'position', 'replicate'\n",
       "    var: 'gene_id_version', 'chr', 'start', 'end', 'strand', 'gene_biotype', 'gene_name', 'gene_id_short'"
      ]
     },
     "execution_count": 82,
     "metadata": {},
     "output_type": "execute_result"
    }
   ],
   "source": [
    "import pandas as pd\n",
    "import anndata as ad\n",
    "\n",
    "X = pd.read_csv(\"data/GSE74985_data.csv\", index_col=0)\n",
    "sample=  pd.read_csv(\"data/GSE74985_sample_info.csv\", index_col=0)\n",
    "gene = pd.read_csv(\"data/GSE74985_gene_info.csv\", index_col=0)\n",
    "\n",
    "adata = ad.AnnData(X=X.T, obs=sample, var=gene)\n",
    "adata"
   ]
  },
  {
   "cell_type": "markdown",
   "metadata": {},
   "source": [
    "Subset this data to only include samples from CA3 tissue and save the subsetted data as a new anndata object."
   ]
  },
  {
   "cell_type": "code",
   "execution_count": 86,
   "metadata": {},
   "outputs": [],
   "source": [
    "ca3 = adata[adata.obs['tissue'] == \"ca3\"].copy()"
   ]
  },
  {
   "cell_type": "markdown",
   "metadata": {},
   "source": [
    "In this new subsetted anndata object, create a new column in the `.var` dataframe called `gene_mean` that stores the mean expression of each gene.\n",
    "\n",
    "_Remember the expression data is stored in `adata.X`_\n"
   ]
  },
  {
   "cell_type": "code",
   "execution_count": 87,
   "metadata": {},
   "outputs": [],
   "source": [
    "ca3.var['gene_mean'] = ca3.X.mean(axis=0)"
   ]
  },
  {
   "cell_type": "markdown",
   "metadata": {},
   "source": [
    "How many genes have a mean expression > 3 in the CA3 tissue samples? _Remember, the `.var` attribute of an anndata object is just a pandas dataframe._"
   ]
  },
  {
   "cell_type": "code",
   "execution_count": 94,
   "metadata": {},
   "outputs": [
    {
     "data": {
      "text/plain": [
       "9245"
      ]
     },
     "execution_count": 94,
     "metadata": {},
     "output_type": "execute_result"
    }
   ],
   "source": [
    "gm = ca3.var['gene_mean']\n",
    "sum(gm > 3)"
   ]
  },
  {
   "cell_type": "markdown",
   "metadata": {},
   "source": [
    "What are the top 10 protein coding (stored in 'gene_biotype' of the _.var_ dataframe) genes with the highest mean gene expression in the CA3 samples? Hint: `pd.sort_values()` might be useful"
   ]
  },
  {
   "cell_type": "code",
   "execution_count": 96,
   "metadata": {},
   "outputs": [
    {
     "data": {
      "text/plain": [
       "gene_id\n",
       "ENSMUSG00000036438    4046.776667\n",
       "ENSMUSG00000035202    2966.368333\n",
       "ENSMUSG00000027273    2443.725000\n",
       "ENSMUSG00000025393    2317.313333\n",
       "ENSMUSG00000001175    2213.951667\n",
       "ENSMUSG00000021087    2008.783333\n",
       "ENSMUSG00000022285    1731.900000\n",
       "ENSMUSG00000032532    1654.811667\n",
       "ENSMUSG00000092341    1602.342667\n",
       "ENSMUSG00000018965    1527.823333\n",
       "Name: gene_mean, dtype: float64"
      ]
     },
     "execution_count": 96,
     "metadata": {},
     "output_type": "execute_result"
    }
   ],
   "source": [
    "gm.sort_values(ascending=False)[:10]"
   ]
  },
  {
   "cell_type": "code",
   "execution_count": null,
   "metadata": {},
   "outputs": [],
   "source": []
  }
 ],
 "metadata": {
  "kernelspec": {
   "display_name": "base",
   "language": "python",
   "name": "python3"
  },
  "language_info": {
   "codemirror_mode": {
    "name": "ipython",
    "version": 3
   },
   "file_extension": ".py",
   "mimetype": "text/x-python",
   "name": "python",
   "nbconvert_exporter": "python",
   "pygments_lexer": "ipython3",
   "version": "3.11.4"
  },
  "orig_nbformat": 4
 },
 "nbformat": 4,
 "nbformat_minor": 2
}
