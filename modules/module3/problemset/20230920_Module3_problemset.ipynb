{
 "cells": [
  {
   "cell_type": "markdown",
   "metadata": {},
   "source": [
    "# Module 3 Problem Set\n",
    "### YOUR NAME HERE\n",
    "_**Due: Friday Sept. 29th, 11:30AM**_\n",
    "This problemset"
   ]
  },
  {
   "cell_type": "markdown",
   "metadata": {},
   "source": [
    "## Question 1:\n",
    "Here, you have performed RT-PCR for an unidentified gene and obtained a cDNA sequence.\n",
    "You have cloned the cDNA into several clones and sequenced the plasmid in its entirety.\n",
    "Your coworker performed the sequencing and was kind enough to provide you with the aligned reads without the plasmid sequence in a SAM format.\n",
    "They also provided you with a GTF file of the region of the genome they thought the gene was located in.\n",
    "\n",
    "Your goal is to use these files to confirm the presence of your gene of interest and identify the gene.\n",
    "\n",
    "Remember that bioinformatics is as much about understanding biological concepts as it is about coding and data analysis.\n",
    "Use your insights to guide your analysis. Also, make sure to document your code well.\n",
    "Your peers should be able to understand your logic just by reading your code and comments.\n",
    "\n",
    "Don't forget to have fun with your data!"
   ]
  },
  {
   "cell_type": "markdown",
   "metadata": {},
   "source": [
    "First, let's make sure we are ready.\n",
    "Start by reading the SAM/BAM and GTF format specifications or this week's lecture materials.\n",
    "**What is the purpose of a SAM file and a GTF file?**"
   ]
  },
  {
   "cell_type": "markdown",
   "metadata": {},
   "source": []
  },
  {
   "cell_type": "markdown",
   "metadata": {},
   "source": [
    "Start by loading the provided SAM (`data/mysterious.sam`) and GTF (`data/chr19.gtf`) files into pandas DataFrames.\n",
    "Both files are tab-delimited, so you can use the read_csv() function to load it.\n",
    "Make sure to assign appropriate column names as per the SAM and GTF format specification.\n",
    "\n",
    "**You only need to name the first 8 columns of the SAM file.**\n",
    "\n",
    "**Write two separate functions to do this and print out the first few rows of the DataFrames.**"
   ]
  },
  {
   "cell_type": "code",
   "execution_count": null,
   "metadata": {},
   "outputs": [],
   "source": []
  },
  {
   "cell_type": "markdown",
   "metadata": {},
   "source": [
    "**What does a flag of 16 correspond to in the SAM file?**"
   ]
  },
  {
   "cell_type": "markdown",
   "metadata": {},
   "source": []
  },
  {
   "cell_type": "markdown",
   "metadata": {},
   "source": [
    "\n",
    "Now let's explore the data.\n",
    "\n",
    "A SAM file contains the mapping information for each read.\n",
    "Let's find out where in the genome the reads are mapping to.\n",
    "**Plot the distribution of the mapping position of all alignments from the SAM file as a histogram.**\n",
    "\n",
    "**Use the default settings for this plot.**\n"
   ]
  },
  {
   "cell_type": "code",
   "execution_count": null,
   "metadata": {},
   "outputs": [],
   "source": []
  },
  {
   "cell_type": "markdown",
   "metadata": {},
   "source": [
    "**Is the plot helpful to help answer your question? Why not?**\n",
    "\n",
    "**Update your code from above to the following cell, making sure that the plot is informative**\n",
    "\n",
    "Perform any data filtering and plot adjustments as needed."
   ]
  },
  {
   "cell_type": "code",
   "execution_count": null,
   "metadata": {},
   "outputs": [],
   "source": []
  },
  {
   "cell_type": "markdown",
   "metadata": {},
   "source": [
    "**What is the first (smallest integer) position in the genome to which the reads are aligned? What about the last?**"
   ]
  },
  {
   "cell_type": "markdown",
   "metadata": {},
   "source": []
  },
  {
   "cell_type": "markdown",
   "metadata": {},
   "source": [
    "\n",
    "You should see a gap in the mapping.\n",
    "**Why is there a gap, in the context of this experiment?**"
   ]
  },
  {
   "cell_type": "markdown",
   "metadata": {},
   "source": []
  },
  {
   "cell_type": "markdown",
   "metadata": {},
   "source": [
    "**Approximately, what is the average coverage in the mapped region?**\n",
    "You can estimate this information from the plot or calculate it from the data."
   ]
  },
  {
   "cell_type": "markdown",
   "metadata": {},
   "source": []
  },
  {
   "cell_type": "markdown",
   "metadata": {},
   "source": [
    "Finally, using the GTF file, let's find out what gene we have been looking at so far.\n",
    "\n",
    "**Perform an analysis to determine which gene is presented.**\n",
    "**Your analysis should be convincing to your friend.**"
   ]
  },
  {
   "cell_type": "code",
   "execution_count": null,
   "metadata": {},
   "outputs": [],
   "source": []
  },
  {
   "cell_type": "markdown",
   "metadata": {},
   "source": [
    "Use [BLAST](https://blast.ncbi.nlm.nih.gov/Blast.cgi?PROGRAM=blastn&PAGE_TYPE=BlastSearch&LINK_LOC=blasthome) using the sequence from read 42 to further confirm/disprove your results.\n",
    "\n",
    "**Describe the first two hits from BLAST and how they relate to your results. Which species is this organism?**"
   ]
  },
  {
   "cell_type": "code",
   "execution_count": null,
   "metadata": {},
   "outputs": [],
   "source": []
  },
  {
   "cell_type": "markdown",
   "metadata": {},
   "source": [
    "Bonus: There irregularities in the mapping that is not expected from a cloned gene. Specifically, there is a significant difference in coverage across different aligned regions. What could be the cause of that, considering this experiment?"
   ]
  },
  {
   "cell_type": "markdown",
   "metadata": {},
   "source": []
  },
  {
   "cell_type": "markdown",
   "metadata": {},
   "source": [
    "## Question 2:\n",
    "During the process of sequencing genomes, millions of reads are generated, each representing a small portion of the entire genome.  Each read has a unique ID, originates from a specific chromosome, and aligns to a certain position within that chromosome.\n",
    "\n",
    "a. Design a Python class named `SeqRead` that takes the following attributes:\n",
    "- `read_id` (a unique identifier for the read, e.g. 'R1','R2')\n",
    "- `chromosome` (the chromosome from which the read originates, e.g. 'chr1','chr2')\n",
    "- `start_position` (the starting base pair position of the read on the chromosome, an integer)\n",
    "- `end_position` (the ending base pair position of the read on the chromosome, an integer)\n",
    "\n",
    "This class should have a method to return the `length` of the read, and also a method called `display()` that prints the read in the following format:\n",
    "```\n",
    "Read [read_id] originates from [chromosome] and spans from position [start_position] to [end_position]\n",
    "```\n"
   ]
  },
  {
   "cell_type": "code",
   "execution_count": null,
   "metadata": {},
   "outputs": [],
   "source": []
  },
  {
   "cell_type": "markdown",
   "metadata": {},
   "source": [
    "Instantiate four `SeqRead` objects with the following information:\n",
    "- 'R101', 'chr1', 1000, 1100\n",
    "- 'R202', 'chr1', 1050, 1150\n",
    "- 'R303', 'chr2', 2000, 2250\n",
    "- 'R404', 'chr2', 2100, 2400\n",
    "\n",
    "After creating each object, call it's `display()` method to print its information"
   ]
  },
  {
   "cell_type": "code",
   "execution_count": null,
   "metadata": {},
   "outputs": [],
   "source": []
  },
  {
   "cell_type": "markdown",
   "metadata": {},
   "source": [
    "BONUS: Edtend the `SeqRead` class to include a method `overlaps_with()` that takes as an argument another instance of `SeqRead` and calculates and returns the number of overlapping base pairs between the two reads.  The method should return the number of overlapping bases if the reads aree on the same chromosome, and it should return 0 with a message \"Different chromosomes\" if they are on different chromosmes.\n",
    "\n",
    "Demonstrate the use of this new method by calculating the overlap between all pairs of the above reads"
   ]
  },
  {
   "cell_type": "code",
   "execution_count": null,
   "metadata": {},
   "outputs": [],
   "source": []
  },
  {
   "cell_type": "markdown",
   "metadata": {},
   "source": [
    "## Question 3:\n",
    "Using the Hippo-Seq bulk RNA-seq data used in module 2 and 3,\n",
    "\n",
    "- [GSE74985](https://www.ncbi.nlm.nih.gov/geo/query/acc.cgi?acc=GSE74985)\n",
    "- Cembrowski MS, Wang L, Sugino K, Shields BC et al. Hipposeq: a comprehensive RNA-seq database of gene expression in hippocampal principal neurons. Elife 2016 Apr 26;5:e14997. PMID: [27113915](https://www.ncbi.nlm.nih.gov/pubmed/27113915)\n",
    "\n",
    "Create an 'AnnData' object from these data.\n",
    "\n",
    "Remember, start by reading in the three files that we need to create the `AnnData` object:\n",
    " - The gene expression matrix `X` (`data/GSE74985_data.csv`) \n",
    " - The sample information `obs` (`data/GSE74985_sample_info.csv`)\n",
    " - The gene information `var` (`data/GSE74985_gene_info.csv`)\n",
    "\n",
    "Reminder, each of these files can be read in as a `pandas` `DataFrame`.  For the gene expression matrix, you will need to Transpose (`.T`) the imported data from a 'gene X sample' matrix to a 'sample X gene' matrix.\n",
    "\n",
    "Once you've imported the data, create the `AnnData` object.  (This should be done exactly as was indicated in the Module3 notebook)."
   ]
  },
  {
   "cell_type": "code",
   "execution_count": 60,
   "metadata": {},
   "outputs": [],
   "source": []
  },
  {
   "cell_type": "markdown",
   "metadata": {},
   "source": [
    "Now subset this data to only include samples from CA3 tissue and save a copy of the subsetted data as a new anndata object."
   ]
  },
  {
   "cell_type": "code",
   "execution_count": null,
   "metadata": {},
   "outputs": [],
   "source": []
  },
  {
   "cell_type": "markdown",
   "metadata": {},
   "source": [
    "In this new subsetted anndata object, create a new column in the .var dataframe called \"gene_mean\" that stores the mean expression of each gene. Remember the expression data is stored in adata.X\n"
   ]
  },
  {
   "cell_type": "code",
   "execution_count": null,
   "metadata": {},
   "outputs": [],
   "source": []
  },
  {
   "cell_type": "markdown",
   "metadata": {},
   "source": [
    "How many genes have a mean expression > 10 in the CA3 tissue samples? Remember, the .var attribute of an anndata object is just a pandas dataframe. "
   ]
  },
  {
   "cell_type": "code",
   "execution_count": null,
   "metadata": {},
   "outputs": [],
   "source": []
  },
  {
   "cell_type": "markdown",
   "metadata": {},
   "source": [
    "What are the top 10 protein coding (stored in 'gene_biotype' of the .var dataframe) genes with the highest mean gene expression in the CA3 samples? Hint: pd.sort_values() might be useful"
   ]
  },
  {
   "cell_type": "code",
   "execution_count": null,
   "metadata": {},
   "outputs": [],
   "source": []
  }
 ],
 "metadata": {
  "kernelspec": {
   "display_name": "base",
   "language": "python",
   "name": "python3"
  },
  "language_info": {
   "codemirror_mode": {
    "name": "ipython",
    "version": 3
   },
   "file_extension": ".py",
   "mimetype": "text/x-python",
   "name": "python",
   "nbconvert_exporter": "python",
   "pygments_lexer": "ipython3",
   "version": "3.10.12"
  },
  "orig_nbformat": 4
 },
 "nbformat": 4,
 "nbformat_minor": 2
}
