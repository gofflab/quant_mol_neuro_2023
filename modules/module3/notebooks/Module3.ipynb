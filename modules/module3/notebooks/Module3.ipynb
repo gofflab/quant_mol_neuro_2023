{
 "cells": [
  {
   "cell_type": "markdown",
   "metadata": {},
   "source": [
    " # Module 3 - Sequencing Data Formats and Structures & Intro to Classes and Objects"
   ]
  },
  {
   "cell_type": "markdown",
   "metadata": {},
   "source": [
    " ## Sequencing Data Formats and Structures\n",
    " Modern sequencing technologies generate large amounts of data.\n",
    " These data is usually stored in files that are formatted in a specific way.\n",
    " Most of these file formats are designed to be easily parsed by computers, _and_ to be easily read by humans.\n",
    "\n",
    " There are different file formats for different types of genomic data.\n",
    " For example, there are different file formats for storing nucleotide sequences,\n",
    " the mapping (or 'alignment') of sequences to a reference,\n",
    " and for annotations such as genomic features (e.g. genes, transcripts, exons, etc).\n",
    "\n",
    " Each file format has a specific structure, and contains specific information.\n",
    "\n",
    " In this section, we will look at some of the more common file formats used in genomics,\n",
    " and how to read and parse them using Python."
   ]
  },
  {
   "cell_type": "markdown",
   "metadata": {},
   "source": [
    " ### File formats for storing sequence information\n",
    " There are several different file formats for storing nucleotide or polypeptide sequence information.\n",
    "\n",
    " #### FASTA\n",
    " The [FASTA](https://en.wikipedia.org/wiki/FASTA_format) file format is a simple, \n",
    " text-based format for representing either nucleotide sequences or peptide sequences,\n",
    " in which nucleotides or amino acids are represented using [single-letter codes](https://www.bioinformatics.org/sms/iupac.html).\n",
    "\n",
    " A sequence in FASTA format begins with a single-line description,\n",
    "followed by lines of sequence data.\n",
    " The description line is distinguished from the sequence data by a greater-than (`>`) symbol at the beginning.\n",
    "\n",
    " An example sequence in FASTA format is:\n",
    "\n",
    " ```\n",
    " >sequence1\n",
    " ATGCAGTACTGACGTATCGCATTCGTCATGC\n",
    " ```\n",
    "\n",
    " The first line in this example is the description, and the following line is the sequence itself.\n",
    " The description line is always the first line of a record, and must begin with a `>` symbol in the first column.\n",
    "\n",
    " The string following the `>` symbol is the identifier (name) of the sequence,\n",
    " and the rest of the line is an optional description of the entry.\n",
    "\n",
    " There should be no space between the `>` and the first letter of the identifier.\n",
    "\n",
    " The sequence ends if another line starting with a `>` appears;\n",
    " this indicates the start of another sequence.\n",
    "\n",
    " A sample .fasta file can be found in the `data` directory of this module as `data/sample_sequences.fa`."
   ]
  },
  {
   "cell_type": "markdown",
   "metadata": {},
   "source": [
    " ### FASTQ\n",
    " The [FASTQ](https://en.wikipedia.org/wiki/FASTQ_format) file format is similar to the `FASTA` format, but it also contains [quality scores](https://support.illumina.com/help/BaseSpace_OLH_009008/Content/Source/Informatics/BS/QualityScoreEncoding_swBS.htm)\n",
    " for each base derived from the sequencing instrument on which a given sequence was generated.\n",
    "\n",
    " This is a common format for 'raw' sequencing data \n",
    " and the per-base scores are used downstream \n",
    " to help inform the alignment of the reads to a reference sequence (e.g. genome/transcriptome).\n",
    "\n",
    " The quality scores are usually represented as ASCII characters,\n",
    " with each character representing a calculated numeric score.\n",
    "\n",
    " The numeric scores are calculated by the sequencing instrument,\n",
    " and are usually a measure of the probability that the base call is incorrect.\n",
    "\n",
    " `FASTQ` formatted sequences also begin with a single-line description, followed by lines of sequence data.\n",
    " The description line is distinguished from the sequence data by an `@` symbol at the beginning followed by the sequence.\n",
    "\n",
    " After the sequence, there is another description line\n",
    "  which is distinguished from the quality string by a plus (`+`) symbol at the beginning.\n",
    "\n",
    " Finally, the per-base quality string is included on the next line. \n",
    " his line must be the same length as the sequence itself, and the first character of the quality string corresponds to the first base of the sequence.\n",
    "\n",
    " An example sequence in `FASTQ` format is:\n",
    " ```\n",
    " @SEQ_ID\n",
    " GATTTGGGGTTCAAAGCAGTATCGATCAAATAGTAAATCCATTTGTTCAACTCACAGTTT\n",
    " +\n",
    " !''*((((***+)) % % % ++)( % %%%).1***-+*''))**55CCF>>>>>>CCC\n",
    " ```"
   ]
  },
  {
   "cell_type": "markdown",
   "metadata": {},
   "source": [
    "# File formats for storing read alignment information"
   ]
  },
  {
   "cell_type": "markdown",
   "metadata": {},
   "source": [
    " ### SAM/BAM\n",
    " The [SAM](https://en.wikipedia.org/wiki/SAM_(file_format)) (Sequence Alignment/Map) format\n",
    " is a generic format for storing large nucleotide sequence _**alignments**_.\n",
    " SAM is a text format, and is human readable.\n",
    "\n",
    " SAM files, and their compressed binary equivalent, \n",
    " [BAM](https://en.wikipedia.org/wiki/SAM_(file_format)#Binary_Alignment_Map_(BAM)), are currently the standard output format for most sequence alignment programs.\n",
    "\n",
    " SAM files are tab-delimited, with each line in the file representing a single read alignment to a reference.\n",
    "\n",
    " A SAM file has two main parts, a header section and an alignment section.\n",
    "\n",
    " The header section contains information about the reference sequence(s) that the reads were aligned to. Header rows start with the `@` symbol and provide details about the reference sequences, the alignment program used, and other information about the alignment.\n",
    "\n",
    " An example SAM file header:\n",
    " ```\n",
    " @HD\tVN:1.6\tSO:unsorted\n",
    " @SQ\tSN:chr1\tLN:248956422\n",
    " @SQ\tSN:chr2\tLN:242193529\n",
    " @SQ\tSN:chr3\tLN:198295559\n",
    " @PG\tID:bwa\tPN:bwa\tVN:0.7.12\n",
    " ```\n",
    "\n",
    " Some details about the SAM format from the above example:\n",
    " - @HD: Header line indicating format version.\n",
    " - @SQ: Sequence dictionary for reference sequences. In this case, we have reference sequences for chr1 and chr2.\n",
    " - @PG: Program record. Here, it indicates that the BWA tool, version 0.7.12 was used to create the alignment.\n",
    "\n",
    " For a detailed description of the SAM file header, see the [SAM file format specification](https://samtools.github.io/hts-specs/SAMv1.pdf)."
   ]
  },
  {
   "cell_type": "markdown",
   "metadata": {},
   "source": [
    " The alignment section begins immediately after the header and contains the actual read alignment information.\n",
    "\n",
    " Each line in the alignment section represents a single read alignment to a reference sequence.\n",
    "\n",
    " Example SAM file record:\n",
    " ```\n",
    " SRR001666.1\t163\tchr1\t10000\t255\t4M\t*\t0\t0\t*\t*\n",
    " ```\n",
    "\n",
    " The first 11 columns of a SAM/BAM/CRAM file record are the same, and contain the following information:\n",
    "\n",
    " | Column | Description                                  | Details                                                        |\n",
    " |--------|----------------------------------------------|----------------------------------------------------------------|\n",
    " | 1      | QNAME - Query template NAME                  | e.g. read name                                                 |\n",
    " | 2      | FLAG - bitwise FLAG                          | [a bitflag that encodes information about the alignment](https://broadinstitute.github.io/picard/explain-flags.html)         |\n",
    " | 3      | RNAME - Reference sequence NAME              | e.g. chromosome name                                           |\n",
    " | 4      | POS - 1-based leftmost mapping POSition      | the 'start' position of the alignment                          |\n",
    " | 5      | MAPQ - MAPping Quality                       | a phred-scaled probability that the alignment is incorrect     |\n",
    " | 6      | CIGAR - CIGAR string                         | a string encoding the specific details of the alignment        |\n",
    " | 7      | RNEXT - Ref. name of the mate/next read      | used for paired-end alignments                                 |\n",
    " | 8      | PNEXT - Position of the mate/next read       | used for paired-end alignments                                 |\n",
    " | 9      | TLEN - observed Template LENgth              | a measure of the observed length of the fragment (insert size) |\n",
    " | 10     | SEQ - segment SEQuence                       | the actual sequence of the aligned portion of the read         |\n",
    " | 11     | QUAL - ASCII of Phred-scaled base QUALity+33 |                                                                |\n",
    "\n",
    " The remaining columns are optional, and contain additional information about the alignment.\n",
    " These optional columns are often referred to as 'tags', and are used to store additional information about the alignment.\n",
    "\n",
    " The [samtools](http://www.htslib.org/) command-line tool is a popular tool for working with SAM/BAM files.\n",
    " It can be used to convert between SAM and BAM formats, sort and index BAM files, and extract specific information from BAM files."
   ]
  },
  {
   "cell_type": "markdown",
   "metadata": {},
   "source": [
    "## CRAM\n",
    " An emerging standard for storing sequence alignments is the [CRAM](https://en.wikipedia.org/wiki/CRAM_(file_format)) (Compressed Read Alignment Map) format. CRAM is a compressed binary format that is designed to be a more efficient alternative to the BAM format.\n",
    "\n",
    " CRAM files are not as common as BAM files, but are becoming more popular as the standard for storing sequence alignments.\n",
    "\n",
    " CRAM files are also tab-delimited, with each line in the file representing a single read alignment to a reference.\n",
    "## Other common alignment formats\n",
    " There are several other file formats for storing sequence alignments, including:\n",
    " - [MAF](https://genome.ucsc.edu/FAQ/FAQformat.html#format5) (Multiple Alignment Format)\n",
    " - [PSL](https://genome.ucsc.edu/FAQ/FAQformat.html#format2) (PSL format)\n",
    " - [VCF](https://samtools.github.io/hts-specs/VCFv4.2.pdf) (Variant Call Format)\n",
    " - [WIG](https://genome.ucsc.edu/goldenPath/help/wiggle.html) (Wiggle format)\n",
    " - [BigWig](https://genome.ucsc.edu/FAQ/FAQformat.html#format9) (Big Wig format)\n",
    " - [BigBed](https://genome.ucsc.edu/FAQ/FAQformat.html#format8) (Big Bed format)"
   ]
  },
  {
   "cell_type": "markdown",
   "metadata": {},
   "source": [
    " ## File formats for storing genomic feature information\n",
    "\n",
    " Another common type of file format in genomics is the file format for storing genomic feature information such as genes, transcripts, exons, promoters, alignment peaks, etc.\n",
    "\n",
    " These files describe the genomic features in a genome, and are often used to annotate sequence alignments or other genomic data.\n",
    "\n",
    " An important caveat for these file formats is that often, most of the information presented is 'relative' to a specific reference genome or sequence. For example, the chromosome, start, and end positions of a gene are specific to a particular reference genome and assembly.\n"
   ]
  },
  {
   "cell_type": "markdown",
   "metadata": {},
   "source": [
    " ### BED\n",
    " The [BED](https://genome.ucsc.edu/FAQ/FAQformat.html#format1) file format is a text-based format for representing genomic features (e.g. genes, transcripts, exons, peaks, or other 'intervals' along a genome).\n",
    "\n",
    " BED files are tab-delimited text files, with each line in the file representing a single genomic feature.\n",
    "\n",
    " BED files have three required fields, and six additional optional fields. The required fields are:\n",
    " - Chromosome\n",
    " - Start position\n",
    " - End position\n",
    "\n",
    " The optional fields are:\n",
    " - Feature Name\n",
    " - Score (user defined)\n",
    " - Strand\n",
    " - Thick start (for features that are not uniform width. e.g. exons)\n",
    " - Thick end\n",
    " - Item RGB (used to colorize items)\n",
    "\n",
    " The following is an example BED file record for a gene (DDX11L1) on chromosome 1:\n",
    " \n",
    " ```\n",
    " chr1\t11873\t14409\tDDX11L1\t0\t+\t11873\t11873\t0\t3\t354,109,1189\t0,739,3479\n",
    " ```\n",
    "\n",
    " BED files are often used to draw features on a genome browser, such as the [UCSC Genome Browser](https://genome.ucsc.edu/). Most of the tracks that encode annotated features on the genome browser are in BED format."
   ]
  },
  {
   "cell_type": "markdown",
   "metadata": {},
   "source": [
    " ### GFF/GTF\n",
    " The [GFF](https://genome.ucsc.edu/FAQ/FAQformat.html#format3) (General Feature Format)\n",
    " and the more specialized [GTF](https://genome.ucsc.edu/FAQ/FAQformat.html#format4) (Gene Transfer Format)\n",
    " file formats are text-based formats for representing more complex genomic features (e.g. genes, transcripts, exons, etc).\n",
    "\n",
    " These formats are similar to the BED format, but are more complex and allow for more information to be stored about each feature.\n",
    "\n",
    " For example, the GFF/GTF format allows for hierarchical relationships between features\n",
    " (e.g. exons are part of specific transcript isoforms, which belong to specific genes).\n",
    "\n",
    " Most transcriptome annotation files are provided in GFF/GTF format.\n",
    "\n",
    " GTF records have 9 required fields:\n",
    " - Chromosome (or other reference sequence identifier)\n",
    " - Source (e.g. the name of the program that generated this feature)\n",
    " - Feature type (usually one of gene, transcript, CDS, 5UTR, 3UTR, start_codon, stop_codon, or exon)\n",
    " - Start position\n",
    " - End position\n",
    " - Score (if applicable, otherwise '.')\n",
    " - Strand\n",
    " - Frame (if applicable, otherwise '.')\n",
    " - Attributes (a semicolon-separated list of tag-value pairs providing additional information about each feature)\n",
    "\n",
    " The Attributes field is specific to GTF files, and is used to store additional information about each feature\n",
    "\n",
    " The following is an example GTF file record for a gene (DDX11L1) on chromosome 1:\n",
    " ```\n",
    " chr1\tHAVANA\tgene\t11869\t14409\t.\t+\t.\tgene_id \"ENSG00000223972.5\"; gene_type \"transcribed_unprocessed_pseudogene\"; gene_name \"DDX11L1\"; level 2; havana_gene \"OTTHUMG00000000961.2\";\n",
    " ```\n",
    "\n",
    " GTF files can include information about isoforms, exons, and other features.\n",
    "\n",
    " The following is an example GTF file record for an isoform of the DDX11L1 gene and its 3 exons:\n",
    " ```\n",
    " chr1  HAVANA transcript   11869   14409   .   +   .   gene_id \"ENSG00000223972.5\"; transcript_id \"ENST00000456328.2\"; gene_type \"transcribed_unprocessed_pseudogene\"; gene_name \"DDX11L1\"; transcript_type \"processed_transcript\"; transcript_name \"DDX11L1-202\"; level 2; transcript_support_level \"1\"; hgnc_id \"HGNC:37102\"; tag \"basic\"; havana_gene \"OTTHUMG00000000961.2\"; havana_transcript \"OTTHUMT00000362751.1\";\n",
    " chr1  HAVANA  exon    11869   12227   .   +   .   gene_id \"ENSG00000223972.5\"; transcript_id \"ENST00000456328.2\"; gene_type \"transcribed_unprocessed_pseudogene\"; gene_name \"DDX11L1\"; transcript_type \"processed_transcript\"; transcript_name \"DDX11L1-202\"; exon_number 1; exon_id \"ENSE00002234944.1\"; level 2; transcript_support_level \"1\"; hgnc_id \"HGNC:37102\"; tag \"basic\"; havana_gene \"OTTHUMG00000000961.2\"; havana_transcript \"OTTHUMT00000362751.1\";\n",
    " chr1  HAVANA  exon    12613   12721   .   +   .   gene_id \"ENSG00000223972.5\"; transcript_id \"ENST00000456328.2\"; gene_type \"transcribed_unprocessed_pseudogene\"; gene_name \"DDX11L1\"; transcript_type \"processed_transcript\"; transcript_name \"DDX11L1-202\"; exon_number 2; exon_id \"ENSE00003582793.1\"; level 2; transcript_support_level \"1\"; hgnc_id \"HGNC:37102\"; tag \"basic\"; havana_gene \"OTTHUMG00000000961.2\"; havana_transcript \"OTTHUMT00000362751.1\";\n",
    " chr1  HAVANA  exon    13221   14409   .   +   .   gene_id \"ENSG00000223972.5\"; transcript_id \"ENST00000456328.2\"; gene_type \"transcribed_unprocessed_pseudogene\"; gene_name \"DDX11L1\"; transcript_type \"processed_transcript\"; transcript_name \"DDX11L1-202\"; exon_number 3; exon_id \"ENSE00002312635.1\"; level 2; transcript_support_level \"1\"; hgnc_id \"HGNC:37102\"; tag \"basic\"; havana_gene \"OTTHUMG00000000961.2\"; havana_transcript \"OTTHUMT00000362751.1\";\n",
    " ```\n",
    "\n"
   ]
  },
  {
   "cell_type": "markdown",
   "metadata": {},
   "source": [
    " The GENCODE project ([gencodegenes.org](https://www.gencodegenes.org/)) is the current standard for gene annotation.\n",
    "\n",
    " They provide detailed, comprehensive gene annotation files in GTF format for\n",
    " [human](https://www.gencodegenes.org/human/) and [mouse](https://www.gencodegenes.org/mouse/) genomes.\n",
    "\n",
    " The GENCODE annotation files contain information about genes, transcripts, exons, and other genomic features.\n",
    "\n",
    " Let's download the Gencode annotation file for the most recent release (v44) which uses the GRCh38.p14 human genome assembly."
   ]
  },
  {
   "cell_type": "code",
   "execution_count": null,
   "metadata": {},
   "outputs": [],
   "source": [
    "gencode_gtf = \"https://ftp.ebi.ac.uk/pub/databases/gencode/Gencode_human/release_44/gencode.v44.annotation.gtf.gz\"\n",
    "\n",
    "# Download the file and save it to the data directory\n",
    "import urllib.request\n",
    "import gzip\n",
    "\n",
    "urllib.request.urlretrieve(gencode_gtf, \"data/gencode.v44.annotation.gtf.gz\")"
   ]
  },
  {
   "cell_type": "markdown",
   "metadata": {},
   "source": [
    " Uncompress the file `data/gencode.v44.annotation.gtf.gz` and open it in VSCode to take a look at the contents and familiarize yourself with the format."
   ]
  },
  {
   "cell_type": "markdown",
   "metadata": {},
   "source": [
    " ### Parsing and handling genomic data file formats\n",
    " Often times, we use tools that will work directly on these file formats. For example, we might use a tool to align sequencing reads to a reference genome, and the inputs and outputs of that tool will be in one of these file formats.\n",
    "\n",
    " There are, however, times when we will need to examine or iterate through these files ourselves. For example, we might need to extract specific information from a file, or we might need to combine information from multiple files.\n",
    "\n",
    " In order to do this, it's useful to know how to read and parse these files using python.\n",
    "\n",
    " Several Python libraries and tools have been developed to parse and handle genomic data file formats. Here's a rundown of some of the popular ones:\n",
    "\n",
    " * FASTQ:\n",
    " \t- [Biopython](https://biopython.org/)'s [SeqIO](https://biopython.org/wiki/SeqIO): The `SeqIO` module of Biopython provides a simple interface for reading from and writing to various bioinformatics file formats, including FASTQ.\n",
    " * FASTA:\n",
    " \t- [Biopython](https://biopython.org/)'s [SeqIO](https://biopython.org/wiki/SeqIO): As with FASTQ, the `SeqIO` module is versatile and can be used for reading and writing FASTA files.\n",
    " \t- [Pyfastx](https://pypi.org/project/pyfastx/): A a python module for fast parsing and access to FASTA/Q files.\n",
    " * SAM/BAM:\n",
    " \t- [Pysam](https://pysam.readthedocs.io/en/latest/): A Python module for reading and manipulating Samfiles. It's a wrapper around the samtools suite, which provides functions to read, manipulate, and write SAM/BAM format files.\n",
    " \t- [Bamnostic](https://bamnostic.readthedocs.io/en/latest/): It is an OS-agnostic library for working with BAM(Binary Alignment Map) files.\n",
    " * BED:\n",
    " \t- [pyBedTools](https://daler.github.io/pybedtools/): This is a wrapper around the popular BedTools suite, allowing for manipulation of genomic intervals and any associated metadata in a variety of formats(including BED).\n",
    " \t- Pandas: While not specific to genomics, Pandas can be used to handle BED files as simple tables, especially when there's a need for data manipulation tasks.\n",
    " * GFF/GTF:\n",
    " \t- [gffutils](https://daler.github.io/gffutils/): This is a tool for working with GFF and GTF format files, offering database creation, querying, and other operations on these formats.\n",
    " \t- Bcbio-gff: A Python library for reading and writing GFF(version 2 and 3) files.\n",
    "\t- [gffread](http://ccb.jhu.edu/software/stringtie/gff.shtml#gffread): gffread is not a python library but actually a compiled program that can be used to convert GFF/GTF files to other formats, including BED, GTF, and FASTA. It is a fast and powerful tool for manipulating GFF/GTF files.\n"
   ]
  },
  {
   "cell_type": "markdown",
   "metadata": {},
   "source": [
    " ## Classes and objects\n",
    " Python is an object-oriented programming language.\n",
    " This means that it provides features that support object-oriented programming (OOP).\n",
    "\n",
    " Object-oriented programming brings together data and its behaviour\n",
    " (methods) in a single location (called an \"object\") making it easier to conceptualize and understand.\n",
    "\n",
    " This reduces complexity and makes it easier to reuse code in different parts of a program or in different programs.\n",
    "\n",
    " A `class` is a blueprint for an `object`.\n",
    " It describes how the `object` is made (what data it contains and what methods it has).\n",
    " An `object` is an instance of a `class`.\n",
    " It contains real values stored in locations defined by the `class`.\n",
    "\n",
    " You can create as many objects as you want from a `class`.\n",
    " Each `object` is independent of the others.\n",
    " You can modify an `object` without affecting the others.\n",
    "\n",
    " ### Creating a class\n",
    " Lets start by creating a class to hold a DNA sequence.\n",
    " We will need to define the `attributes` of the class,\n",
    " which are the variables that will be associated with each instance of the class.\n",
    "\n",
    " We will start with a simple class that only has two variables,\n",
    " the DNA sequence itself, and a name for the sequence."
   ]
  },
  {
   "cell_type": "code",
   "execution_count": null,
   "metadata": {},
   "outputs": [],
   "source": [
    "class DNA:\n",
    "    def __init__(self, seq: str, name: str):\n",
    "        self.seq = seq\n",
    "        self.name = name"
   ]
  },
  {
   "cell_type": "markdown",
   "metadata": {},
   "source": [
    " Now let's create an instance of our class.\n",
    " We do this by calling the class name as if it were a function,\n",
    " and passing the required arguments to the class `__init__` method.\n",
    "\n",
    " The `__init__` method is a special (dunder) (aka double underscore) method that is called when an instance of a class is created.\n",
    " It is used to initialize the `attributes` of the class.\n",
    "\n",
    " The first argument of the `__init__` method (or _**any**_ method actually)\n",
    " is always a reference to the object itself (the instance of the class).\n",
    " By convention, this argument is called `self`.\n",
    "\n",
    " The other arguments are the ones that we passed to the class when we created the instance."
   ]
  },
  {
   "cell_type": "code",
   "execution_count": null,
   "metadata": {},
   "outputs": [],
   "source": [
    "myDNA = DNA(\"ATGCAGTACTGACGTATCGCATTCGTCATGC\", \"Sequence1\")"
   ]
  },
  {
   "cell_type": "markdown",
   "metadata": {},
   "source": [
    " Right now this instance doesn't do much. It has two attributes (`.seq` and `.name`), but no methods to do anything with it.\n",
    "\n",
    " Let's add a few methods to our class that will allow us to calculate features of the DNA sequence.\n",
    "\n",
    " Methods are created by defining functions within the class. As with the `__init__` methood, the first argument of any method is always a reference to the object itself (`self`)."
   ]
  },
  {
   "cell_type": "code",
   "execution_count": null,
   "metadata": {},
   "outputs": [],
   "source": [
    "from collections import Counter\n",
    "\n",
    "\n",
    "class DNA:\n",
    "    def __init__(self, name: str, seq: str):\n",
    "        self.name = name\n",
    "        self.seq = seq\n",
    "        # Counter is a dictionary with the counts of each nucleotide\n",
    "        # same as {\"G\": self.seq.count(\"G\"), etc.} but much faster.\n",
    "        self.counts = Counter(self.seq)\n",
    "        self.n_GC = self.counts[\"G\"] + self.counts[\"C\"]\n",
    "\n",
    "    def __len__(self):\n",
    "        return len(self.seq)\n",
    "\n",
    "    def gc(self):\n",
    "        return self.n_GC / len(self.seq) * 100\n",
    "\n",
    "    def tm(self):\n",
    "        return 64.9 + 41 * (self.n_GC - 16.4) / len(self.seq)\n",
    "\n",
    "    def to_fasta(self):\n",
    "        return f\">{self.name}\\n{self.seq}\"  # note the use of f-strings\n",
    "\n",
    "    def __repr__(self) -> str:\n",
    "        return f'DNA(\"{self.name}\", \"{self.seq}\")'"
   ]
  },
  {
   "cell_type": "markdown",
   "metadata": {},
   "source": [
    " We've seen some of these functions before in previous modules. Previously, we've used functions like this to operate on strings. Now, we've defined these functions as methods of our class, and they are now `owned` by all instances of the `DNA` class.\n",
    "\n",
    " Now we can create an instance of our class and use the methods to calculate specific features of the DNA sequence contained within the object."
   ]
  },
  {
   "cell_type": "code",
   "execution_count": null,
   "metadata": {},
   "outputs": [],
   "source": [
    "myDNA = DNA(\"Sequence1\", \"ATGCAGTACTGACGTATCGCATTCGTCATGC\")\n",
    "\n",
    "print(myDNA.gc())\n",
    "print(myDNA.tm())"
   ]
  },
  {
   "cell_type": "markdown",
   "metadata": {},
   "source": [
    " We also added a method to access the special python `len()` function for our class. This allows us to use `len()` on our class instances to return the length of a _**specific attribute**_ (in this case, the sequence length), and have it return the length of that attribute."
   ]
  },
  {
   "cell_type": "code",
   "execution_count": null,
   "metadata": {},
   "outputs": [],
   "source": [
    "print(len(myDNA))"
   ]
  },
  {
   "cell_type": "markdown",
   "metadata": {},
   "source": [
    " Finally, we added a method to return the sequence in FASTA format. This method returns a string that is formatted as a FASTA sequence. We can use this method to quickly 'dump' (print) the sequence in the object in the specific FASTA format."
   ]
  },
  {
   "cell_type": "code",
   "execution_count": null,
   "metadata": {},
   "outputs": [],
   "source": [
    "print(myDNA.to_fasta())"
   ]
  },
  {
   "cell_type": "markdown",
   "metadata": {},
   "source": []
  },
  {
   "cell_type": "markdown",
   "metadata": {},
   "source": [
    " # Reading and parsing Genomics data files\n",
    " ## Reading FASTA files\n",
    " As outlined above, FASTA is a file format for representing nucleotide or peptide sequences.\n",
    " \n",
    " A FASTA file consists of a header line followed by lines of sequence data.\n",
    " The header line is distinguished from the sequence data by a greater-than (\">\") symbol in the first column.\n",
    " \n",
    " The word following the \">\" symbol is the identifier (name) of the sequence, and the rest of the line is an optional description of the entry.\n",
    " \n",
    " There should be no space between the \">\" and the first letter of the identifier. The sequence ends if another line starting with a \">\" appears; this indicates the start of another sequence.\n",
    "\n",
    " FASTA is a common format in bioinformatics for storing sequence strings. It is a simple format that is easy to parse.\n",
    "\n",
    " Let's write a function that reads a FASTA file and returns a list of `DNA` objects."
   ]
  },
  {
   "cell_type": "code",
   "execution_count": null,
   "metadata": {},
   "outputs": [],
   "source": [
    "# Create a Python function to take a fasta filename as an argument and return a dictionary of DNA objects\n",
    "\n",
    "def parse_fasta(file_path: str) -> dict[str, DNA]:\n",
    "    # Create an empty dictionary to store the instances of the DNA sequence class\n",
    "    sequences: dict[str, DNA] = {}\n",
    "\n",
    "    with open(file_path, \"r\") as file:\n",
    "        # Create a placeholder to \"remember\" the current name\n",
    "        # Create a running buffer to \"remember\" the current sequence\n",
    "        current_name = \"\"\n",
    "        current_seq = \"\"\n",
    "\n",
    "        for line in file:\n",
    "            # Strip white spaces from the beginning and end of a line\n",
    "            line = line.strip()\n",
    "            # If the line starts with a >, we have a new sequence\n",
    "            if line.startswith(\">\"):\n",
    "                if len(current_seq) > 0:\n",
    "                    sequences[current_name] = DNA(current_name, current_seq)\n",
    "\n",
    "                # Reset our tracking variables\n",
    "                current_name = line[1:]\n",
    "                current_seq = \"\"\n",
    "            else:\n",
    "                current_seq += line\n",
    "\n",
    "        # Don't forget to save the last sequence\n",
    "        if len(current_name) > 0 and len(current_seq) > 0:\n",
    "            sequences[current_name] = DNA(current_name, \"\".join(current_seq))\n",
    "\n",
    "    return sequences"
   ]
  },
  {
   "cell_type": "markdown",
   "metadata": {},
   "source": [
    " Now we can use our function to read a FASTA file and return a dict of sequences.\n",
    "\n",
    " Let's test it out on the FASTA file containing some sample DNA sequences."
   ]
  },
  {
   "cell_type": "code",
   "execution_count": null,
   "metadata": {},
   "outputs": [],
   "source": [
    "fasta_file = \"data/sample_sequences.fa\"\n",
    "sequences = parse_fasta(fasta_file)\n",
    "sequences"
   ]
  },
  {
   "cell_type": "code",
   "execution_count": null,
   "metadata": {},
   "outputs": [],
   "source": [
    "# Extract the sequences from the list using the `.seq` atrribute\n",
    "[x.seq for x in sequences.values()]"
   ]
  },
  {
   "cell_type": "code",
   "execution_count": null,
   "metadata": {},
   "outputs": [],
   "source": [
    "# Get the FASTA of DNA_sequence_8\n",
    "print(sequences[\"DNA_sequence_8\"].to_fasta())"
   ]
  },
  {
   "cell_type": "code",
   "execution_count": null,
   "metadata": {},
   "outputs": [],
   "source": [
    "[x.gc() for x in sequences.values()]"
   ]
  },
  {
   "cell_type": "code",
   "execution_count": null,
   "metadata": {},
   "outputs": [],
   "source": [
    "print(\"\\n\".join([x.to_fasta() for x in sequences.values()]))"
   ]
  },
  {
   "cell_type": "markdown",
   "metadata": {},
   "source": [
    " ## AnnData class and objects\n",
    " One of the more useful data formats in python for gene expression data is the [`AnnData`](https://anndata.readthedocs.io/en/latest/) object.\n",
    "\n",
    " While originally developed to store and manipulate single-cell RNA-seq data, the `AnnData` class is a very flexible data structure that can be used to store and manipulate any type of gene expression or other genomic data.\n",
    "\n",
    " `AnnData` is a `class` that is part of the `anndata` package and is used to store and manipulate gene expression data.\n",
    "\n",
    " At it's core, an `AnnData` object is a matrix of gene expression values (`X`). It also contains information about the features (genes) and samples that are in the matrix.\n",
    "\n",
    " The [`AnnData` object](https://anndata.readthedocs.io/en/latest/generated/anndata.AnnData.html) is a complex class, with many attributes and methods. We will not go into all of the details here, but we will look at some of the more common attributes and methods that are used to access and manipulate the data in the object.\n",
    "\n",
    " Let's start by importing the `anndata` package and creating a simple `AnnData` object from a gene expression matrix.\n",
    "\n",
    " To create an `anndata` object, we need a few minimal pieces of information:\n",
    " - The gene expression matrix `X` (a `numpy` ndarray)\n",
    " - The sample information `obs` (a `list`, `dict`, or `pandas` `Series` or `DataFrame`)\n",
    " - The gene information `var` (a `list`, `dict`, or `pandas` `Series` or `DataFrame`)"
   ]
  },
  {
   "cell_type": "code",
   "execution_count": null,
   "metadata": {},
   "outputs": [],
   "source": [
    "import anndata as ad\n",
    "import numpy as np\n",
    "import pandas as pd\n",
    "\n",
    "X = np.array([[1, 2], [3, 4], [5, 6], [7, 8]])\n",
    "obs = pd.DataFrame(\n",
    "    {\n",
    "        \"obs_names\": [\"sample1\", \"sample2\", \"sample3\", \"sample4\"],\n",
    "        \"condition\": [\"wildtype\", \"wildtype\", \"knockout\", \"knockout\"],\n",
    "    }\n",
    ").set_index(\"obs_names\")\n",
    "\n",
    "var = pd.DataFrame(\n",
    "    {\n",
    "        \"var_names\": [\"gene1\", \"gene2\"],\n",
    "        \"gene_type\": [\"protein_coding\", \"protein_coding\"],\n",
    "        \"chromosome\": [\"chr1\", \"chr2\"],\n",
    "    }\n",
    ").set_index(\"var_names\")\n",
    "\n",
    "assert obs.shape[0] == X.shape[0]\n",
    "assert var.shape[0] == X.shape[1]\n",
    "\n",
    "adata = ad.AnnData(X=X, obs=obs, var=var)\n",
    "adata.obs\n",
    "\n",
    "adata"
   ]
  },
  {
   "cell_type": "markdown",
   "metadata": {},
   "source": [
    " Now that we have an `AnnData` object instantiated, let's look at some of the attributes and methods that we can use to access and manipulate the data in the object.\n",
    "\n",
    " We can access the gene expression matrix `X` using the `.X` attribute of the object."
   ]
  },
  {
   "cell_type": "code",
   "execution_count": null,
   "metadata": {},
   "outputs": [],
   "source": [
    "adata.X"
   ]
  },
  {
   "cell_type": "markdown",
   "metadata": {},
   "source": [
    " We can access the sample information `obs` using the `.obs` attribute of the object. This will return a `pandas` `DataFrame` containing the sample information in the same order as the _**rows**_ of the gene expression matrix `X`.\n"
   ]
  },
  {
   "cell_type": "code",
   "execution_count": null,
   "metadata": {},
   "outputs": [],
   "source": [
    "adata.obs"
   ]
  },
  {
   "cell_type": "markdown",
   "metadata": {},
   "source": [
    " We can access the gene information `var` using the `.var` attribute of the object. This will return a `pandas` `DataFrame` containing the gene information in the same order as the _**columns**_ of the gene expression matrix `X`."
   ]
  },
  {
   "cell_type": "code",
   "execution_count": null,
   "metadata": {},
   "outputs": [],
   "source": [
    "adata.var"
   ]
  },
  {
   "cell_type": "markdown",
   "metadata": {},
   "source": [
    " `AnnData` objects can be subsetted using the `[]` notation that we have previously used to subset `pandas` `DataFrame` objects."
   ]
  },
  {
   "cell_type": "code",
   "execution_count": null,
   "metadata": {},
   "outputs": [],
   "source": [
    "# Subset the object to only include the first two samples (rows)\n",
    "adata[:2]  # same as adata[:2, :]"
   ]
  },
  {
   "cell_type": "code",
   "execution_count": null,
   "metadata": {},
   "outputs": [],
   "source": [
    "# Subset the object to only include the first two genes (columns)\n",
    "adata[:, :2]"
   ]
  },
  {
   "cell_type": "code",
   "execution_count": null,
   "metadata": {},
   "outputs": [],
   "source": [
    "# Subset using gene or sample names\n",
    "adata[\"sample2\", \"gene2\"]"
   ]
  },
  {
   "cell_type": "code",
   "execution_count": null,
   "metadata": {},
   "outputs": [],
   "source": [
    "# Subset using attribute values\n",
    "adata[adata.obs[\"condition\"] == \"wildtype\", adata.var[\"gene_type\"] == \"protein_coding\"]"
   ]
  },
  {
   "cell_type": "markdown",
   "metadata": {},
   "source": [
    " From each of these subset 'views' of the original object, we still have acess to all of the attributes and methods of the original object.\n",
    "\n",
    " Importantly, `AnnData` objects are designed so that when you subset or filter in this way, all of the accessory information (sample and gene information) is also subsetted or filtered to match the subsetted gene expression matrix `X`."
   ]
  },
  {
   "cell_type": "code",
   "execution_count": null,
   "metadata": {},
   "outputs": [],
   "source": [
    "adata[adata.obs[\"condition\"] == \"wildtype\", :].obs"
   ]
  },
  {
   "cell_type": "code",
   "execution_count": null,
   "metadata": {},
   "outputs": [],
   "source": [
    "adata[adata.obs[\"condition\"] == \"wildtype\", :].var"
   ]
  },
  {
   "cell_type": "code",
   "execution_count": null,
   "metadata": {},
   "outputs": [],
   "source": [
    "adata[adata.obs[\"condition\"] == \"wildtype\", :].X"
   ]
  },
  {
   "cell_type": "markdown",
   "metadata": {},
   "source": [
    " Let's create an `AnnData` object from a real-world gene expression dataset.\n",
    "\n",
    " We will use the Hippo-Seq bulk RNA-Seq dataset from last week's module.\n",
    "\n",
    " - [GSE74985](https://www.ncbi.nlm.nih.gov/geo/query/acc.cgi?acc=GSE74985)\n",
    " - Cembrowski MS, Wang L, Sugino K, Shields BC et al. Hipposeq: a comprehensive RNA-seq database of gene expression in hippocampal principal neurons. Elife 2016 Apr 26;5:e14997. PMID: [27113915](https://www.ncbi.nlm.nih.gov/pubmed/27113915)\n",
    "\n",
    " Let's start by reading in the three files that we need to create the `AnnData` object:\n",
    " - The gene expression matrix `X` (a `pandas` `DataFrame`)\n",
    " - The sample information `obs` (a `pandas` `DataFrame`)\n",
    " - The gene information `var` (a `pandas` `DataFrame`)"
   ]
  },
  {
   "cell_type": "code",
   "execution_count": null,
   "metadata": {},
   "outputs": [],
   "source": [
    "import pandas as pd\n",
    "\n",
    "# We need to transpose the 'genes X samples' matrix to a 'samples X genes' matrix for AnnData\n",
    "expression = pd.read_csv(\"data/GSE74985_data.csv\", index_col=0, header=0).T"
   ]
  },
  {
   "cell_type": "code",
   "execution_count": null,
   "metadata": {},
   "outputs": [],
   "source": [
    "gene_info = pd.read_csv(\"data/GSE74985_gene_info.csv\", index_col=\"gene_id\")\n",
    "gene_info"
   ]
  },
  {
   "cell_type": "code",
   "execution_count": null,
   "metadata": {},
   "outputs": [],
   "source": [
    "sample_info = pd.read_csv(\"data/GSE74985_sample_info.csv\", index_col=\"sample\")\n",
    "sample_info"
   ]
  },
  {
   "cell_type": "markdown",
   "metadata": {},
   "source": [
    " Now we can create our `AnnData` object with these three matrices\n"
   ]
  },
  {
   "cell_type": "code",
   "execution_count": null,
   "metadata": {},
   "outputs": [],
   "source": [
    "adata = ad.AnnData(X=expression, obs=sample_info, var=gene_info)"
   ]
  },
  {
   "cell_type": "markdown",
   "metadata": {},
   "source": [
    " Now we can use the same methods and attributes that we used above to access and manipulate the data in the object."
   ]
  },
  {
   "cell_type": "code",
   "execution_count": null,
   "metadata": {},
   "outputs": [],
   "source": [
    "adata.X  # The gene expression matrix (now stored as a numpy ndarray)"
   ]
  },
  {
   "cell_type": "code",
   "execution_count": null,
   "metadata": {},
   "outputs": [],
   "source": [
    "adata.obs  # The sample information (stored as a pandas DataFrame)"
   ]
  },
  {
   "cell_type": "code",
   "execution_count": null,
   "metadata": {},
   "outputs": [],
   "source": [
    "adata.var  # The gene information (stored as a pandas DataFrame)"
   ]
  },
  {
   "cell_type": "markdown",
   "metadata": {},
   "source": [
    " And we can use the attributes in the `.var` and `.obs` dataframes to subset the object as well."
   ]
  },
  {
   "cell_type": "code",
   "execution_count": null,
   "metadata": {},
   "outputs": [],
   "source": [
    "# Subset the object to only include samples from the CA1 region and return the expression matrix (X).\n",
    "adata[adata.obs[\"tissue\"] == \"ca1\", :].X"
   ]
  },
  {
   "cell_type": "code",
   "execution_count": null,
   "metadata": {},
   "outputs": [],
   "source": [
    "adata[:, adata.var[\"gene_biotype\"] == \"lncRNA\"]"
   ]
  },
  {
   "cell_type": "markdown",
   "metadata": {},
   "source": [
    " A final note about subsetting `AnnData` objects. The default when subsetting is to return a _**view**_ of the original object.\n",
    "\n",
    " This means that the subsetted object is not a copy of the original object, but rather a 'pointer' to the original object.\n",
    "\n",
    " Any changes that are made to a view of the object will also be made to the original object itself.\n",
    "\n",
    " To avoid this, and to create a copy of the subsetted data, you can use the `.copy()` method of the object."
   ]
  },
  {
   "cell_type": "code",
   "execution_count": null,
   "metadata": {},
   "outputs": [],
   "source": [
    "adata_lncRNA = adata[:, adata.var[\"gene_biotype\"] == \"lncRNA\"].copy()\n",
    "\n",
    "adata_lncRNA"
   ]
  }
 ],
 "metadata": {
  "kernelspec": {
   "display_name": "loopy",
   "language": "python",
   "name": "python3"
  },
  "language_info": {
   "codemirror_mode": {
    "name": "ipython",
    "version": 3
   },
   "file_extension": ".py",
   "mimetype": "text/x-python",
   "name": "python",
   "nbconvert_exporter": "python",
   "pygments_lexer": "ipython3",
   "version": "3.10.12"
  },
  "orig_nbformat": 4
 },
 "nbformat": 4,
 "nbformat_minor": 2
}
