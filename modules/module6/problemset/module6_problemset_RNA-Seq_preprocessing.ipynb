{
 "cells": [
  {
   "cell_type": "markdown",
   "metadata": {},
   "source": [
    " # Module 6 Problem Set\n",
    "\n",
    " Name:\n",
    "\n",
    " This week's problem set will be short answer questions (no coding) that will assess your understanding of the concepts behind RNA-Seq preprocessing.\n",
    "\n",
    " You are welcome to reference the course materials and other external resources to help you with these questions.\n",
    ""
   ]
  },
  {
   "cell_type": "markdown",
   "metadata": {},
   "source": [
    " ### 1. Quality Control:\n",
    " Why is read quality control an essential first step in RNA-Seq preprocessing?\n",
    "\n",
    " a)Describe at least three things that might contribute to lower quality reads in an RNA-seq dataset.\n",
    "\n",
    " b) List two commonly used tools for this process."
   ]
  },
  {
   "cell_type": "markdown",
   "metadata": {},
   "source": [
    " Answer:"
   ]
  },
  {
   "cell_type": "markdown",
   "metadata": {},
   "source": [
    " ### 2. Adapter Trimming:\n",
    "\n",
    " a) Why is it necessary to trim adapter sequences from raw RNA-Seq reads?\n",
    "\n",
    " b) What potential issues might arise if adapter sequences are not properly removed?"
   ]
  },
  {
   "cell_type": "markdown",
   "metadata": {},
   "source": [
    " Answer:"
   ]
  },
  {
   "cell_type": "markdown",
   "metadata": {},
   "source": [
    " ### 3. Multi-mapping reads\n",
    " Given a bulk RNA-Seq dataset of sorted neurons, would you expect a higher percentage of multi-mapping reads compared to a non-neuronal population? Justify your answer.\n",
    ""
   ]
  },
  {
   "cell_type": "markdown",
   "metadata": {},
   "source": [
    " Answer:"
   ]
  },
  {
   "cell_type": "markdown",
   "metadata": {},
   "source": [
    " ### 4. Pseudoalignment vs. Alignment:\n",
    "\n",
    " a) Define pseudoalignment in the context of RNA-Seq.\n",
    "\n",
    " b) How does pseudoalignment differ from traditional alignment methods?\n",
    "\n",
    " c) Name a commonly used tool for each approach."
   ]
  },
  {
   "cell_type": "markdown",
   "metadata": {},
   "source": [
    " ### 5. Deciding on the Normalization Method:\n",
    " Considering the high heterogeneity of cell types in the brain and the differential levels of gene expression across cell types:\n",
    "\n",
    " a) Why is normalization crucial in neuronal RNA-Seq data analysis?\n",
    "\n",
    " b) Justify the choice of a particular normalization method, such as TPM (Transcripts Per Million), over basic read count or FPKM (Fragments Per Kilobase of transcript per Million mapped reads) for a study focusing on comparing gene expression levels across various neuronal cell types."
   ]
  },
  {
   "cell_type": "markdown",
   "metadata": {},
   "source": [
    " Answer:"
   ]
  },
  {
   "cell_type": "markdown",
   "metadata": {},
   "source": [
    " ### 6. Long _and_ short reads\n",
    "\n",
    " a) Given an RNA-Seq dataset that consists of both short Illumina reads and long Oxford Nanopore reads, how might your preprocessing steps differ between the two data types?\n",
    "\n",
    " b) What challenges might arise when dealing with such a dataset?"
   ]
  },
  {
   "cell_type": "markdown",
   "metadata": {},
   "source": [
    " Answer:"
   ]
  },
  {
   "cell_type": "markdown",
   "metadata": {},
   "source": [
    " ### 7. Some RNA-Seq libraries are strand-specific, while others are not.\n",
    "\n",
    " a) Describe the main _conceptual_ difference between these two library preparations.\n",
    "\n",
    " b) Why might strand-specific libraries be particularly valuable in deciphering alternative splicing events in neurons?"
   ]
  },
  {
   "cell_type": "markdown",
   "metadata": {},
   "source": [
    " Answer:"
   ]
  },
  {
   "cell_type": "markdown",
   "metadata": {},
   "source": [
    " ### 8. Deciding on Depth:\n",
    "\n",
    " a) Explain the concept of sequencing depth in RNA-Seq.\n",
    "\n",
    " b) Imagine a scenario where deep sequencing of a neuronal sample might be crucial. Contrast this with a situation where shallow sequencing might suffice."
   ]
  },
  {
   "cell_type": "markdown",
   "metadata": {},
   "source": [
    " Answer:"
   ]
  }
 ],
 "nbformat": 4,
 "nbformat_minor": 2,
 "metadata": {
  "language_info": {
   "codemirror_mode": {
    "name": "ipython",
    "version": 3
   },
   "file_extension": ".py",
   "mimetype": "text/x-python",
   "name": "python",
   "nbconvert_exporter": "python",
   "pygments_lexer": "ipython3",
   "version": 3
  },
  "orig_nbformat": 4
 }
}