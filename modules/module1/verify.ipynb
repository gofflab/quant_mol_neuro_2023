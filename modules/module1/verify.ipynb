{
 "cells": [
  {
   "cell_type": "code",
   "execution_count": null,
   "metadata": {},
   "outputs": [],
   "source": [
    "import base64\n",
    "import subprocess\n",
    "import sys\n",
    "\n",
    "\n",
    "def hello(name: str):\n",
    "    if sys.version_info.minor != 11:\n",
    "        raise RuntimeError(\"Wrong python version\")\n",
    "\n",
    "    path = subprocess.run([\"which\", \"conda\"], capture_output=True).stdout.decode()\n",
    "    if \"forge\" not in path or \"anaconda\" in path:\n",
    "        raise RuntimeError(\"Wrong conda version\")\n",
    "\n",
    "    subprocess.run([\"conda\", \"list\"], check=True, capture_output=True)\n",
    "\n",
    "    print(\"Your answer is:\")\n",
    "    eval(\n",
    "        base64.b64decode(\n",
    "            b\"cHJpbnQobGVuKG5hbWUubG93ZXIoKSkgKyBzeXMudmVyc2lvbl9pbmZvLm1pbm9yKQ==\"\n",
    "        )\n",
    "    )"
   ]
  },
  {
   "cell_type": "code",
   "execution_count": null,
   "metadata": {},
   "outputs": [],
   "source": [
    "hello(\"name\")"
   ]
  },
  {
   "cell_type": "code",
   "execution_count": null,
   "metadata": {},
   "outputs": [],
   "source": []
  }
 ],
 "metadata": {
  "kernelspec": {
   "display_name": "loopy",
   "language": "python",
   "name": "python3"
  },
  "language_info": {
   "codemirror_mode": {
    "name": "ipython",
    "version": 3
   },
   "file_extension": ".py",
   "mimetype": "text/x-python",
   "name": "python",
   "nbconvert_exporter": "python",
   "pygments_lexer": "ipython3",
   "version": "3.11.4"
  },
  "orig_nbformat": 4
 },
 "nbformat": 4,
 "nbformat_minor": 2
}
