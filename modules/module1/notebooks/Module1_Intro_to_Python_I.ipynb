{
 "cells": [
  {
   "cell_type": "markdown",
   "metadata": {},
   "source": [
    "#Introduction to Python I"
   ]
  },
  {
   "cell_type": "markdown",
   "metadata": {},
   "source": [
    "## Why python?"
   ]
  },
  {
   "cell_type": "markdown",
   "metadata": {},
   "source": [
    "There are numerous programming languages from which to choose.  Many of them specialized for specific types of tasks. Python, like others, is a general purpose and high-level programming language and can be used for a variety of applications. There are a few reasons however why you might choose to work in python:\n",
    "\n",
    "### Code readability and maintenance\n",
    "Python syntax and formatting emphasizes code readability. In many cases, python code often reads close to english sentences instead of quirky syntax. This makes it a useful language to learn as a first language, but also helps others quickly interpret what is actually happening in your code. This helps with mainintaining old code as well and makes updating and sharing materials easier.\n",
    "\n",
    "### Compatibility\n",
    "Python supports many operating systems natively.  Meaning your python code can be readily ported across systems with little to no effort. \n",
    "\n",
    "### Robust built-in libraries\n",
    "Python has a HUGE developer community supporting it.  This means that many functions, methods, and utilities ALREADY exist and you can stand on the shoulders of those who have already spent a decent amount of time figuring out how to do something in python.\n",
    "\n",
    "### Large number of statistics and bioinformatics modules\n",
    "Aside from the built-in modules, there is also a large community of bioinformatics, general biology, and statistics developers who have contributed packages for python. This includes a number of large frameworks including BioPython that help ease entry and streamline more complex workflows."
   ]
  },
  {
   "cell_type": "markdown",
   "metadata": {},
   "source": [
    "## Using Python"
   ]
  },
  {
   "cell_type": "markdown",
   "metadata": {},
   "source": [
    "### The python shell\n",
    "The python shell, similar to the bash shell, allows us to use python in an interactive manner. You enter in one command at a time and the result is immediately returned.  The python shell can be called directly from the terminal with the command `python`"
   ]
  },
  {
   "cell_type": "markdown",
   "metadata": {},
   "source": [
    "```\n",
    "$ python\n",
    "```"
   ]
  },
  {
   "cell_type": "markdown",
   "metadata": {},
   "source": [
    "This is a very convenient tool for testing python commands, and for getting started with the language, but it is not very useful for creating actual programs and or scripts to run. To make an actual program, you will need to put your code in a text file and save it with a `.py` extension. (more on that later today!)"
   ]
  },
  {
   "cell_type": "markdown",
   "metadata": {},
   "source": [
    "### Python scripts\n",
    "To create a python script, we can click on File > New File in the top menu above. This will open a text editor in which we are going to create our very first python program. [\"Hello World\" \n",
    "demonstration]"
   ]
  },
  {
   "cell_type": "markdown",
   "metadata": {},
   "source": [
    "### IPython Notebooks\n",
    "Another way in which we can use python is how we are doing so here, in interaction iPython Notebooks. (Brief re-intro to navigating notebooks as needed)."
   ]
  },
  {
   "cell_type": "code",
   "execution_count": 1,
   "metadata": {},
   "outputs": [
    {
     "name": "stdout",
     "output_type": "stream",
     "text": [
      "Hello World\n"
     ]
    }
   ],
   "source": [
    "print(\"Hello World\")"
   ]
  },
  {
   "cell_type": "markdown",
   "metadata": {},
   "source": [
    "## The Basics\n",
    "If you ever get lost or need more information about how a function or object works in python, you can use the `help()` function. "
   ]
  },
  {
   "cell_type": "code",
   "execution_count": 1,
   "metadata": {},
   "outputs": [
    {
     "name": "stdout",
     "output_type": "stream",
     "text": [
      "\n",
      "Welcome to Python 3.8's help utility!\n",
      "\n",
      "If this is your first time using Python, you should definitely check out\n",
      "the tutorial on the Internet at https://docs.python.org/3.8/tutorial/.\n",
      "\n",
      "Enter the name of any module, keyword, or topic to get help on writing\n",
      "Python programs and using Python modules.  To quit this help utility and\n",
      "return to the interpreter, just type \"quit\".\n",
      "\n",
      "To get a list of available modules, keywords, symbols, or topics, type\n",
      "\"modules\", \"keywords\", \"symbols\", or \"topics\".  Each module also comes\n",
      "with a one-line summary of what it does; to list the modules whose name\n",
      "or summary contain a given string such as \"spam\", type \"modules spam\".\n",
      "\n"
     ]
    }
   ],
   "source": [
    "help()"
   ]
  },
  {
   "cell_type": "code",
   "execution_count": 1,
   "metadata": {},
   "outputs": [
    {
     "name": "stdout",
     "output_type": "stream",
     "text": [
      "Help on built-in function print in module builtins:\n",
      "\n",
      "print(...)\n",
      "    print(value, ..., sep=' ', end='\\n', file=sys.stdout, flush=False)\n",
      "    \n",
      "    Prints the values to a stream, or to sys.stdout by default.\n",
      "    Optional keyword arguments:\n",
      "    file:  a file-like object (stream); defaults to the current sys.stdout.\n",
      "    sep:   string inserted between values, default a space.\n",
      "    end:   string appended after the last value, default a newline.\n",
      "    flush: whether to forcibly flush the stream.\n",
      "\n"
     ]
    }
   ],
   "source": [
    "help(print)"
   ]
  },
  {
   "cell_type": "code",
   "execution_count": 2,
   "metadata": {},
   "outputs": [
    {
     "name": "stdout",
     "output_type": "stream",
     "text": [
      "Help on built-in function open in module io:\n",
      "\n",
      "open(file, mode='r', buffering=-1, encoding=None, errors=None, newline=None, closefd=True, opener=None)\n",
      "    Open file and return a stream.  Raise OSError upon failure.\n",
      "    \n",
      "    file is either a text or byte string giving the name (and the path\n",
      "    if the file isn't in the current working directory) of the file to\n",
      "    be opened or an integer file descriptor of the file to be\n",
      "    wrapped. (If a file descriptor is given, it is closed when the\n",
      "    returned I/O object is closed, unless closefd is set to False.)\n",
      "    \n",
      "    mode is an optional string that specifies the mode in which the file\n",
      "    is opened. It defaults to 'r' which means open for reading in text\n",
      "    mode.  Other common values are 'w' for writing (truncating the file if\n",
      "    it already exists), 'x' for creating and writing to a new file, and\n",
      "    'a' for appending (which on some Unix systems, means that all writes\n",
      "    append to the end of the file regardless of the current seek position).\n",
      "    In text mode, if encoding is not specified the encoding used is platform\n",
      "    dependent: locale.getpreferredencoding(False) is called to get the\n",
      "    current locale encoding. (For reading and writing raw bytes use binary\n",
      "    mode and leave encoding unspecified.) The available modes are:\n",
      "    \n",
      "    ========= ===============================================================\n",
      "    Character Meaning\n",
      "    --------- ---------------------------------------------------------------\n",
      "    'r'       open for reading (default)\n",
      "    'w'       open for writing, truncating the file first\n",
      "    'x'       create a new file and open it for writing\n",
      "    'a'       open for writing, appending to the end of the file if it exists\n",
      "    'b'       binary mode\n",
      "    't'       text mode (default)\n",
      "    '+'       open a disk file for updating (reading and writing)\n",
      "    'U'       universal newline mode (deprecated)\n",
      "    ========= ===============================================================\n",
      "    \n",
      "    The default mode is 'rt' (open for reading text). For binary random\n",
      "    access, the mode 'w+b' opens and truncates the file to 0 bytes, while\n",
      "    'r+b' opens the file without truncation. The 'x' mode implies 'w' and\n",
      "    raises an `FileExistsError` if the file already exists.\n",
      "    \n",
      "    Python distinguishes between files opened in binary and text modes,\n",
      "    even when the underlying operating system doesn't. Files opened in\n",
      "    binary mode (appending 'b' to the mode argument) return contents as\n",
      "    bytes objects without any decoding. In text mode (the default, or when\n",
      "    't' is appended to the mode argument), the contents of the file are\n",
      "    returned as strings, the bytes having been first decoded using a\n",
      "    platform-dependent encoding or using the specified encoding if given.\n",
      "    \n",
      "    'U' mode is deprecated and will raise an exception in future versions\n",
      "    of Python.  It has no effect in Python 3.  Use newline to control\n",
      "    universal newlines mode.\n",
      "    \n",
      "    buffering is an optional integer used to set the buffering policy.\n",
      "    Pass 0 to switch buffering off (only allowed in binary mode), 1 to select\n",
      "    line buffering (only usable in text mode), and an integer > 1 to indicate\n",
      "    the size of a fixed-size chunk buffer.  When no buffering argument is\n",
      "    given, the default buffering policy works as follows:\n",
      "    \n",
      "    * Binary files are buffered in fixed-size chunks; the size of the buffer\n",
      "      is chosen using a heuristic trying to determine the underlying device's\n",
      "      \"block size\" and falling back on `io.DEFAULT_BUFFER_SIZE`.\n",
      "      On many systems, the buffer will typically be 4096 or 8192 bytes long.\n",
      "    \n",
      "    * \"Interactive\" text files (files for which isatty() returns True)\n",
      "      use line buffering.  Other text files use the policy described above\n",
      "      for binary files.\n",
      "    \n",
      "    encoding is the name of the encoding used to decode or encode the\n",
      "    file. This should only be used in text mode. The default encoding is\n",
      "    platform dependent, but any encoding supported by Python can be\n",
      "    passed.  See the codecs module for the list of supported encodings.\n",
      "    \n",
      "    errors is an optional string that specifies how encoding errors are to\n",
      "    be handled---this argument should not be used in binary mode. Pass\n",
      "    'strict' to raise a ValueError exception if there is an encoding error\n",
      "    (the default of None has the same effect), or pass 'ignore' to ignore\n",
      "    errors. (Note that ignoring encoding errors can lead to data loss.)\n",
      "    See the documentation for codecs.register or run 'help(codecs.Codec)'\n",
      "    for a list of the permitted encoding error strings.\n",
      "    \n",
      "    newline controls how universal newlines works (it only applies to text\n",
      "    mode). It can be None, '', '\\n', '\\r', and '\\r\\n'.  It works as\n",
      "    follows:\n",
      "    \n",
      "    * On input, if newline is None, universal newlines mode is\n",
      "      enabled. Lines in the input can end in '\\n', '\\r', or '\\r\\n', and\n",
      "      these are translated into '\\n' before being returned to the\n",
      "      caller. If it is '', universal newline mode is enabled, but line\n",
      "      endings are returned to the caller untranslated. If it has any of\n",
      "      the other legal values, input lines are only terminated by the given\n",
      "      string, and the line ending is returned to the caller untranslated.\n",
      "    \n",
      "    * On output, if newline is None, any '\\n' characters written are\n",
      "      translated to the system default line separator, os.linesep. If\n",
      "      newline is '' or '\\n', no translation takes place. If newline is any\n",
      "      of the other legal values, any '\\n' characters written are translated\n",
      "      to the given string.\n",
      "    \n",
      "    If closefd is False, the underlying file descriptor will be kept open\n",
      "    when the file is closed. This does not work when a file name is given\n",
      "    and must be True in that case.\n",
      "    \n",
      "    A custom opener can be used by passing a callable as *opener*. The\n",
      "    underlying file descriptor for the file object is then obtained by\n",
      "    calling *opener* with (*file*, *flags*). *opener* must return an open\n",
      "    file descriptor (passing os.open as *opener* results in functionality\n",
      "    similar to passing None).\n",
      "    \n",
      "    open() returns a file object whose type depends on the mode, and\n",
      "    through which the standard file operations such as reading and writing\n",
      "    are performed. When open() is used to open a file in a text mode ('w',\n",
      "    'r', 'wt', 'rt', etc.), it returns a TextIOWrapper. When used to open\n",
      "    a file in a binary mode, the returned class varies: in read binary\n",
      "    mode, it returns a BufferedReader; in write binary and append binary\n",
      "    modes, it returns a BufferedWriter, and in read/write mode, it returns\n",
      "    a BufferedRandom.\n",
      "    \n",
      "    It is also possible to use a string or bytearray as a file for both\n",
      "    reading and writing. For strings StringIO can be used like a file\n",
      "    opened in a text mode, and for bytes a BytesIO can be used like a file\n",
      "    opened in a binary mode.\n",
      "\n"
     ]
    }
   ],
   "source": [
    "help(open)"
   ]
  },
  {
   "cell_type": "markdown",
   "metadata": {},
   "source": [
    "## Variables"
   ]
  },
  {
   "cell_type": "markdown",
   "metadata": {},
   "source": [
    "### Data Types\n",
    "Let's review a few of the data types that were detailed in the prereq materials. \n",
    "\n",
    "When you store data in variables, you need to be aware of _how_ that data is being stored. This is referred to as a data type.  Different data types can do different things and can interact with different 'operators' (e.g. '+, -, *, &, etc' in distinct ways.  For example the `+` operator will sum the values of two variables that contain numbers:"
   ]
  },
  {
   "cell_type": "code",
   "execution_count": 8,
   "metadata": {},
   "outputs": [
    {
     "name": "stdout",
     "output_type": "stream",
     "text": [
      "5\n"
     ]
    }
   ],
   "source": [
    "a = 2\n",
    "b = 3\n",
    "print(a+b)"
   ]
  },
  {
   "cell_type": "markdown",
   "metadata": {},
   "source": [
    "but it will concatenate two variables that contain strings:"
   ]
  },
  {
   "cell_type": "code",
   "execution_count": 9,
   "metadata": {},
   "outputs": [
    {
     "name": "stdout",
     "output_type": "stream",
     "text": [
      "23\n"
     ]
    }
   ],
   "source": [
    "a = '2'\n",
    "b = '3'\n",
    "print(a+b)"
   ]
  },
  {
   "cell_type": "markdown",
   "metadata": {},
   "source": [
    "#### 'Built-in' data types by default in python:\n",
    "    \n",
    "* Text Type:\t`str`\n",
    "* Numeric Types:\t`int`, `float`\n",
    "* Sequence Types:\t`list`, `tuple`, `range`\n",
    "* Mapping Type:\t`dict`\n",
    "* Set Types:\t`set`\n"
   ]
  },
  {
   "cell_type": "markdown",
   "metadata": {},
   "source": [
    "You can always check to see what 'type' a variable is by using the `type()` function"
   ]
  },
  {
   "cell_type": "code",
   "execution_count": 11,
   "metadata": {},
   "outputs": [
    {
     "data": {
      "text/plain": [
       "str"
      ]
     },
     "execution_count": 11,
     "metadata": {},
     "output_type": "execute_result"
    }
   ],
   "source": [
    "x = '5'\n",
    "type(x)"
   ]
  },
  {
   "cell_type": "markdown",
   "metadata": {},
   "source": [
    "Python will automatically set the data type when you create a variable under certain conditions."
   ]
  },
  {
   "cell_type": "code",
   "execution_count": null,
   "metadata": {},
   "outputs": [],
   "source": [
    "x = \"This is a string\" # str\n",
    "x = 10         # int\n",
    "x = 10.0       # float\n",
    "x = ['pizza','apple','hotdog']  # list\n",
    "x = ('pizza','apple','hotdog')  # tuple\n",
    "x = {'pizza','apple','hotdog'}  # set\n",
    "x = range(10)  # range\n",
    "x = {\"name\": \"Loyal\", \n",
    "      \"age\": 42, \n",
    "     \"department\" : \"neuroscience\"\n",
    "}  # dict\n",
    "x = True       # bool"
   ]
  },
  {
   "cell_type": "code",
   "execution_count": 15,
   "metadata": {},
   "outputs": [
    {
     "data": {
      "text/plain": [
       "str"
      ]
     },
     "execution_count": 15,
     "metadata": {},
     "output_type": "execute_result"
    }
   ],
   "source": [
    "x = 5\n",
    "type(x)\n",
    "\n",
    "type(str(x))"
   ]
  },
  {
   "cell_type": "markdown",
   "metadata": {},
   "source": [
    "You can also explictly set the data type that you want by using standard functions. This is known as 'casting' a force or change variable to be a specific type."
   ]
  },
  {
   "cell_type": "code",
   "execution_count": 14,
   "metadata": {},
   "outputs": [
    {
     "data": {
      "text/plain": [
       "4.0"
      ]
     },
     "execution_count": 14,
     "metadata": {},
     "output_type": "execute_result"
    }
   ],
   "source": [
    "x = float(4)\n",
    "x"
   ]
  },
  {
   "cell_type": "markdown",
   "metadata": {},
   "source": [
    "### Number types\n",
    "\n",
    "`int` (integer) numbers are whole numbers (positive or negative) without decimals.  There is no limit to the size of an integer in python."
   ]
  },
  {
   "cell_type": "code",
   "execution_count": null,
   "metadata": {},
   "outputs": [],
   "source": [
    "a = 3\n",
    "b = 29398752398757573292375982737575\n",
    "c = -42"
   ]
  },
  {
   "cell_type": "markdown",
   "metadata": {},
   "source": [
    "The integer type should be used for numbers that will always be whole for their operations.  Think of counting the number of bases in a DNA sequence, or counting the number of times something happens.  You will almost never have a 'partial' quantity for these values.  But be careful of how `int` types are handled when you do certain types of operations\n",
    "\n",
    "#### Exercise\n",
    "Create three different integer variables and calculate the mean (designated here as `mu`).  What data type is `mu` after this calculation? why?"
   ]
  },
  {
   "cell_type": "code",
   "execution_count": 17,
   "metadata": {},
   "outputs": [
    {
     "name": "stdout",
     "output_type": "stream",
     "text": [
      "9.333333333333334\n"
     ]
    }
   ],
   "source": [
    "a = 5\n",
    "b = 10\n",
    "c = 13\n",
    "\n",
    "#Calculate the mean of a,b,c\n",
    "mu = (a+b+c)/3\n",
    "\n",
    "print(mu)"
   ]
  },
  {
   "cell_type": "markdown",
   "metadata": {},
   "source": [
    "The `float` type is for 'floating point numbers'.  These can be positive or negative and can contain one or more decimal values. The `float` type can be specified by adding a decimal value to the end of a number when assigned to a variable:"
   ]
  },
  {
   "cell_type": "code",
   "execution_count": null,
   "metadata": {},
   "outputs": [],
   "source": [
    "a = 5.0\n",
    "b = 1.467283\n",
    "c = -14.22"
   ]
  },
  {
   "cell_type": "markdown",
   "metadata": {},
   "source": [
    "The `float` type can also be scientific notation by adding an `e` to indicate the power of 10:"
   ]
  },
  {
   "cell_type": "code",
   "execution_count": 3,
   "metadata": {},
   "outputs": [
    {
     "name": "stdout",
     "output_type": "stream",
     "text": [
      "20000.0\n",
      "-6.35e+101\n"
     ]
    }
   ],
   "source": [
    "x = 2e4\n",
    "print(x)\n",
    "\n",
    "y = -63.5e100\n",
    "print(y)"
   ]
  },
  {
   "cell_type": "markdown",
   "metadata": {},
   "source": [
    "You can **cast** from one type to another with the `int()` and `float()` functions.\n",
    "\n",
    "### Exercise\n",
    "What happens to a float when it's cast to an integer?  to a string?"
   ]
  },
  {
   "cell_type": "code",
   "execution_count": 5,
   "metadata": {},
   "outputs": [
    {
     "name": "stdout",
     "output_type": "stream",
     "text": [
      "1\n",
      "453.8452\n",
      "453.84521.1415926\n"
     ]
    }
   ],
   "source": [
    "a = 1.1415926\n",
    "b = 453.8452\n",
    "\n",
    "print(int(a))\n",
    "print(str(b))\n",
    "\n",
    "print(str(b)+str(a))"
   ]
  },
  {
   "cell_type": "markdown",
   "metadata": {},
   "source": [
    "### Strings\n",
    "Strings or string literals are generally denoted by enclosing them in quotes; either single (`'`) or double (`\"`) quotes:"
   ]
  },
  {
   "cell_type": "code",
   "execution_count": 6,
   "metadata": {},
   "outputs": [
    {
     "name": "stdout",
     "output_type": "stream",
     "text": [
      "Welcome to 'Neurogenomics'!\n"
     ]
    }
   ],
   "source": [
    "print(\"Welcome to 'Neurogenomics'!\")"
   ]
  },
  {
   "cell_type": "markdown",
   "metadata": {},
   "source": [
    "You can assign a string to a variable in the same way."
   ]
  },
  {
   "cell_type": "code",
   "execution_count": 7,
   "metadata": {},
   "outputs": [
    {
     "name": "stdout",
     "output_type": "stream",
     "text": [
      "Welcome to Neurogenomics!\n"
     ]
    }
   ],
   "source": [
    "a = \"Welcome to Neurogenomics!\"\n",
    "print(a)"
   ]
  },
  {
   "cell_type": "markdown",
   "metadata": {},
   "source": [
    "Sometimes strings will span multiple lines.  If this is the case, it is convention to enclose them in triple quotes:"
   ]
  },
  {
   "cell_type": "code",
   "execution_count": 25,
   "metadata": {},
   "outputs": [
    {
     "name": "stdout",
     "output_type": "stream",
     "text": [
      "Welcome to BCMB!\n",
      "You've chosen the most exciting graduate program at JHU.\n"
     ]
    }
   ],
   "source": [
    "b = \"\"\"Welcome to BCMB!\n",
    "You've chosen the most exciting graduate program at JHU.\"\"\"\n",
    "\n",
    "print(b)"
   ]
  },
  {
   "cell_type": "markdown",
   "metadata": {},
   "source": [
    "### Strings, substrings, and slicing\n",
    "Strings in python are stored as 'arrays of bytes' representing each charcater, which basically means that \"Hello\" is actually stored in python in something akin to a list: `[\"H\",\"e\",\"l\",\"l\",\"o\"]`.  So we can access, edit, and manipulate different parts of a string (or any other array) by 'slicing' with square brackets. Its important to recognize when doing this that python is a *'0-indexed'* language which means that any time you count in python, the _first_ element will always start with 0. Lets see how this works in practice:"
   ]
  },
  {
   "cell_type": "code",
   "execution_count": 26,
   "metadata": {},
   "outputs": [],
   "source": [
    "# Create a string literal and store in a variable\n",
    "a = \"Genomics is fun\""
   ]
  },
  {
   "cell_type": "code",
   "execution_count": 27,
   "metadata": {},
   "outputs": [
    {
     "name": "stdout",
     "output_type": "stream",
     "text": [
      "e\n",
      "nomi\n",
      "is fu\n",
      "Genomics\n",
      "is fun\n",
      "Gnmc sfn\n",
      "nuf si scimoneG\n"
     ]
    }
   ],
   "source": [
    "# To retrieve the second character in this string we will slice as so\n",
    "print(a[1])\n",
    "\n",
    "# To retrieve a range of positions, we will separate the start and end using ':'\n",
    "print(a[2:6])\n",
    "\n",
    "# You can use negative values to start the slice from the end of the string\n",
    "print(a[-6:-1])\n",
    "\n",
    "# You can leave either side of the ':' black to represent the beginning or end of a string respectively\n",
    "print(a[:8])\n",
    "\n",
    "print(a[9:])\n",
    "\n",
    "# You can also use a 'step' indicator to skip over elements in the string (notice the second colon)\n",
    "print(a[0::2])\n",
    "\n",
    "# And you can also step backwards through the end of the string using a negative step indicator (e.g. reverse)\n",
    "print(a[::-1])"
   ]
  },
  {
   "cell_type": "markdown",
   "metadata": {},
   "source": [
    "_**Note: Slicing is a fundamental concept in python for accessing any set of elements in an array (not just strings). You will use this often.**_"
   ]
  },
  {
   "cell_type": "markdown",
   "metadata": {},
   "source": [
    "Strings have several 'built-in' functions (methods) that are available for some common queries and manipulations:"
   ]
  },
  {
   "cell_type": "code",
   "execution_count": 29,
   "metadata": {},
   "outputs": [
    {
     "name": "stdout",
     "output_type": "stream",
     "text": [
      "15\n",
      "genomics is fun\n",
      "GENOMICS IS FUN\n",
      "My favorite gene is Pantr2.\n",
      "Genomics is hard\n",
      "['Genomics', 'is', 'fun']\n"
     ]
    }
   ],
   "source": [
    "# Get the length of the string\n",
    "print(len(a))\n",
    "\n",
    "# Convert the string to lower case\n",
    "print(a.lower())\n",
    "\n",
    "# upper??\n",
    "print(a.upper())\n",
    "\n",
    "# You can strip off excess white space\n",
    "b = \"My favorite gene is Pantr2.   \"\n",
    "print(b.strip())\n",
    "\n",
    "# You can replace portions of the string\n",
    "print(a.replace(\"fun\",\"hard\"))\n",
    "\n",
    "# or split a string into substrings based on a 'separator'\n",
    "print(a.split(\" \"))\n",
    "\n",
    "print(a)\n",
    "a = a.replace(\"fun\",\"hard\")\n",
    "print(a)\n"
   ]
  },
  {
   "cell_type": "markdown",
   "metadata": {},
   "source": [
    "You can also test for instances of a substring within a string. Note the use of a new syntax (_in_) here which we will explore in more detail later)"
   ]
  },
  {
   "cell_type": "code",
   "execution_count": 31,
   "metadata": {},
   "outputs": [
    {
     "name": "stdout",
     "output_type": "stream",
     "text": [
      "True\n",
      "True\n",
      "False\n",
      "<class 'bool'>\n"
     ]
    }
   ],
   "source": [
    "a = \"She sells seashells by the seashore.\"\n",
    "x = \"sea\" in a\n",
    "print(x)\n",
    "\n",
    "y = \"sho\" in a\n",
    "print(y)\n",
    "\n",
    "z = \"sho\" not in a\n",
    "print(z)\n",
    "print(type(z))"
   ]
  },
  {
   "cell_type": "markdown",
   "metadata": {},
   "source": [
    "You can combine strings (concatenate) using the `+` operator as we discussed above:"
   ]
  },
  {
   "cell_type": "code",
   "execution_count": 32,
   "metadata": {},
   "outputs": [
    {
     "name": "stdout",
     "output_type": "stream",
     "text": [
      "ToadthewetSprocket\n"
     ]
    }
   ],
   "source": [
    "a = \"Toad\"\n",
    "b = \"the\"\n",
    "c = \"wet\"\n",
    "d = \"Sprocket\"\n",
    "\n",
    "print(a + b + c + d)"
   ]
  },
  {
   "cell_type": "markdown",
   "metadata": {},
   "source": [
    "Whoops...we may want to format this a bit better to add a separator. Fortunately, python provides a convenient way to format strings called '_f-strings_'. Simply add the variables in a new string and enclose them with curly braces `{}`."
   ]
  },
  {
   "cell_type": "code",
   "execution_count": 33,
   "metadata": {},
   "outputs": [
    {
     "name": "stdout",
     "output_type": "stream",
     "text": [
      "The best band ever is Toad the wet Sprocket!!\n"
     ]
    }
   ],
   "source": [
    "text = f\"The best band ever is {a} {b} {c} {d}!!\"\n",
    "print(text)"
   ]
  },
  {
   "cell_type": "markdown",
   "metadata": {},
   "source": [
    "This is a _very_ useful tool for formatting output strings containing useful pieces of information in your code/scripts"
   ]
  },
  {
   "cell_type": "code",
   "execution_count": 34,
   "metadata": {},
   "outputs": [
    {
     "name": "stdout",
     "output_type": "stream",
     "text": [
      "The Pantr2 gene is located on chromosome 'chr4' and has a GC content of 56%\n"
     ]
    }
   ],
   "source": [
    "gc = 56\n",
    "name = 'Pantr2'\n",
    "chromosome = 'chr4'\n",
    "\n",
    "summary = f\"The {name} gene is located on chromosome '{chromosome}' and has a GC content of {gc}%\"\n",
    "\n",
    "print(summary)"
   ]
  },
  {
   "cell_type": "markdown",
   "metadata": {},
   "source": [
    "There are a number of methods for manipulating/searching/testing strings that are built in to python. Feel free to [check them out](https://docs.python.org/2.5/lib/string-methods.html) and test them on your own."
   ]
  },
  {
   "cell_type": "markdown",
   "metadata": {},
   "source": [
    "## Boolean type\n",
    "The Boolean type refers to logical tests, and ultimately, `type: bool` can only have two values: `True` or `False` (case sensitive). There are often times when you need to test a value or an expression. In python the value returned from these test is a `bool`:"
   ]
  },
  {
   "cell_type": "code",
   "execution_count": 35,
   "metadata": {},
   "outputs": [
    {
     "name": "stdout",
     "output_type": "stream",
     "text": [
      "True\n",
      "False\n",
      "False\n"
     ]
    }
   ],
   "source": [
    "print(14 > 3)\n",
    "print(14 == 3)\n",
    "print(14 < 3)"
   ]
  },
  {
   "cell_type": "markdown",
   "metadata": {},
   "source": [
    "We _very_ often use `bool` values and variables to help control the *flow of your code*. For example, we could print a message based on whether or not a condition is `True`."
   ]
  },
  {
   "cell_type": "code",
   "execution_count": 36,
   "metadata": {},
   "outputs": [
    {
     "name": "stdout",
     "output_type": "stream",
     "text": [
      "a is the smaller value\n"
     ]
    }
   ],
   "source": [
    "a = 50\n",
    "b = 100\n",
    "\n",
    "if a < b:\n",
    "    print(\"a is the smaller value\")\n",
    "else:\n",
    "    print(\"b is the smaller value\")"
   ]
  },
  {
   "cell_type": "markdown",
   "metadata": {},
   "source": [
    "#### Exercise\n",
    "Create variables containing your first name, middle initial, last name, _age_, and one favorite thing. Construct and print an ouput string that creates a short sentence describing you that contains your full name, _calculated birth year_, and something you like!"
   ]
  },
  {
   "cell_type": "code",
   "execution_count": null,
   "metadata": {},
   "outputs": [],
   "source": []
  },
  {
   "cell_type": "markdown",
   "metadata": {},
   "source": [
    "## Collection Data types\n",
    "Collection data types store groups of `items`. Items can be named variables, or objects of other data types, including other collections (nested). There are four main collection data types, each with their own properties/assets:\n",
    "    \n",
    "1. A *List* is an _ordered_ collection and is _mutable_. It can also hold duplicate items.\n",
    "2. A *Tuple* is an _ordered_ collection and is _immutable_. It also allows for duplicate items.\n",
    "3. A *Set* is an _unordered_ collection and _unindexed_. It does _not_ allow for duplicate items.\n",
    "4. A *Dictionary* is an _unordered_ collection which is _mutable_ and _indexed_. It does not allow for duplicate index keys.\n"
   ]
  },
  {
   "cell_type": "markdown",
   "metadata": {},
   "source": [
    "### Lists\n",
    "A list is instantiated using square brakets `[]`"
   ]
  },
  {
   "cell_type": "code",
   "execution_count": 38,
   "metadata": {},
   "outputs": [
    {
     "data": {
      "text/plain": [
       "['Gapdh', 'Mef2c', 'Pax6', 'Cxcl1', 'Msi1']"
      ]
     },
     "execution_count": 38,
     "metadata": {},
     "output_type": "execute_result"
    }
   ],
   "source": [
    "genes = ['Gapdh','Mef2c','Pax6','Cxcl1','Msi1']\n",
    "\n",
    "genes"
   ]
  },
  {
   "cell_type": "markdown",
   "metadata": {},
   "source": [
    "You can access list items by referring to the index number (remember that python is zero-indexed)."
   ]
  },
  {
   "cell_type": "code",
   "execution_count": 39,
   "metadata": {},
   "outputs": [
    {
     "name": "stdout",
     "output_type": "stream",
     "text": [
      "Mef2c\n",
      "Cxcl1\n",
      "['Mef2c', 'Pax6']\n"
     ]
    }
   ],
   "source": [
    "print(genes[1])\n",
    "\n",
    "print(genes[-2]) # negative indexing to select items from the end of the list. (-1 refers to the last item)\n",
    "\n",
    "print(genes[1:3]) # you select a range using \":\" (returns a new list)"
   ]
  },
  {
   "cell_type": "markdown",
   "metadata": {},
   "source": [
    "How could you determine the length of the `genes` list?"
   ]
  },
  {
   "cell_type": "code",
   "execution_count": 40,
   "metadata": {},
   "outputs": [
    {
     "data": {
      "text/plain": [
       "5"
      ]
     },
     "execution_count": 40,
     "metadata": {},
     "output_type": "execute_result"
    }
   ],
   "source": [
    "# Return the length of list `genes`\n",
    "len(genes)"
   ]
  },
  {
   "cell_type": "markdown",
   "metadata": {},
   "source": [
    "Since `list` items are mutable, you can change any specific item by refering to it's index number"
   ]
  },
  {
   "cell_type": "code",
   "execution_count": 41,
   "metadata": {},
   "outputs": [
    {
     "name": "stdout",
     "output_type": "stream",
     "text": [
      "['Gapdh', 'Mef2c', 'Sox10', 'Cxcl1', 'Msi1']\n"
     ]
    }
   ],
   "source": [
    "genes[2] = 'Sox10'\n",
    "print(genes)"
   ]
  },
  {
   "cell_type": "markdown",
   "metadata": {},
   "source": [
    "`list` collections (like all collection items) are _iterable_, meaning you can loop through elements."
   ]
  },
  {
   "cell_type": "code",
   "execution_count": 42,
   "metadata": {},
   "outputs": [
    {
     "name": "stdout",
     "output_type": "stream",
     "text": [
      "GAPDH\n",
      "MEF2C\n",
      "SOX10\n",
      "CXCL1\n",
      "MSI1\n"
     ]
    }
   ],
   "source": [
    "for x in genes:\n",
    "    print(x.upper())"
   ]
  },
  {
   "cell_type": "markdown",
   "metadata": {},
   "source": [
    "To add items to a list (at the end) you can use the `append()` function"
   ]
  },
  {
   "cell_type": "code",
   "execution_count": 43,
   "metadata": {},
   "outputs": [
    {
     "name": "stdout",
     "output_type": "stream",
     "text": [
      "['Gapdh', 'Mef2c', 'Sox10', 'Cxcl1', 'Msi1', 'Foxp1']\n"
     ]
    }
   ],
   "source": [
    "genes.append('Foxp1')\n",
    "\n",
    "print(genes)"
   ]
  },
  {
   "cell_type": "markdown",
   "metadata": {},
   "source": [
    "Conversely, you remove using several methods:"
   ]
  },
  {
   "cell_type": "code",
   "execution_count": 44,
   "metadata": {},
   "outputs": [
    {
     "name": "stdout",
     "output_type": "stream",
     "text": [
      "['Gapdh', 'Sox10', 'Cxcl1', 'Msi1', 'Foxp1']\n",
      "['Gapdh', 'Sox10', 'Cxcl1', 'Msi1']\n",
      "['Cxcl1', 'Gapdh', 'Msi1', 'Sox10']\n"
     ]
    }
   ],
   "source": [
    "genes.remove('Mef2c') # removes a 'specific' item\n",
    "print(genes)\n",
    "\n",
    "genes.pop() # removes a specified index position or the last item in the list if index is not specified.\n",
    "print(genes)\n",
    "\n",
    "genes.sort()\n",
    "print(genes)"
   ]
  },
  {
   "cell_type": "markdown",
   "metadata": {},
   "source": [
    "We can clear the contents of the entire list by using the `clear()` method"
   ]
  },
  {
   "cell_type": "code",
   "execution_count": 45,
   "metadata": {},
   "outputs": [
    {
     "name": "stdout",
     "output_type": "stream",
     "text": [
      "[]\n"
     ]
    }
   ],
   "source": [
    "genes.clear() # empties the entire list\n",
    "print(genes)"
   ]
  },
  {
   "cell_type": "markdown",
   "metadata": {},
   "source": [
    "To join two lists, you can use the `+` operator"
   ]
  },
  {
   "cell_type": "code",
   "execution_count": 46,
   "metadata": {},
   "outputs": [
    {
     "name": "stdout",
     "output_type": "stream",
     "text": [
      "['apple', 'banana', 'pear', 'carrot', 'celery', 'potato']\n"
     ]
    }
   ],
   "source": [
    "fruit = ['apple', 'banana','pear']\n",
    "veg = ['carrot','celery','potato']\n",
    "\n",
    "food = fruit + veg\n",
    "\n",
    "print(food)"
   ]
  },
  {
   "cell_type": "markdown",
   "metadata": {},
   "source": [
    "### Tuples"
   ]
  },
  {
   "cell_type": "markdown",
   "metadata": {},
   "source": [
    "Tuples operate very similar to lists, but once instantiatied, the items in a tuple cannot be changed. Tuples are created with round brackets `()`. This is a useful data type to hold values associated with a single 'record'.  For example if you wanted to record specific information about a single gene like its name, chromosome, and start position:"
   ]
  },
  {
   "cell_type": "code",
   "execution_count": 47,
   "metadata": {},
   "outputs": [],
   "source": [
    "a = ('Sox2','chr4',1589182)\n",
    "b = ('Xist','chrX',23564335)"
   ]
  },
  {
   "cell_type": "markdown",
   "metadata": {},
   "source": [
    "You access individual elements of a tuple in the same way as a list"
   ]
  },
  {
   "cell_type": "code",
   "execution_count": 48,
   "metadata": {},
   "outputs": [
    {
     "name": "stdout",
     "output_type": "stream",
     "text": [
      "Sox2\n",
      "chrX\n"
     ]
    }
   ],
   "source": [
    "print(a[0])\n",
    "\n",
    "print(b[1])"
   ]
  },
  {
   "cell_type": "markdown",
   "metadata": {},
   "source": [
    "You can also loop through a tuple since it it iterable."
   ]
  },
  {
   "cell_type": "code",
   "execution_count": 49,
   "metadata": {},
   "outputs": [
    {
     "name": "stdout",
     "output_type": "stream",
     "text": [
      "Sox2\n",
      "chr4\n",
      "1589182\n"
     ]
    }
   ],
   "source": [
    "for val in a:\n",
    "    print(val)"
   ]
  },
  {
   "cell_type": "markdown",
   "metadata": {},
   "source": [
    "Once you create a tuple, you cannot change the values, and you cannot add items to it."
   ]
  },
  {
   "cell_type": "markdown",
   "metadata": {},
   "source": [
    "## Dictionaries\n",
    "Dictionaries are 'indexed' collections, meaning the _values_ within the collection each must have a unique identifying _key_. You can create a dictionary using curly braces `{}`."
   ]
  },
  {
   "cell_type": "code",
   "execution_count": 50,
   "metadata": {},
   "outputs": [
    {
     "name": "stdout",
     "output_type": "stream",
     "text": [
      "{'name': 'Sox2', 'entrezID': 6657, 'Ensembl': 'ENSG00000181449', 'chromosome': 'chr3', 'start': 181711925, 'end': 181714436, 'strand': '-'}\n"
     ]
    }
   ],
   "source": [
    "myGene = {\n",
    "    'name': 'Sox2',\n",
    "    'entrezID': 6657,\n",
    "    'Ensembl': 'ENSG00000181449',\n",
    "    'chromosome': 'chr3',\n",
    "    'start': 181711925,\n",
    "    'end': 181714436,\n",
    "    'strand': '-'\n",
    "}\n",
    "print(myGene)"
   ]
  },
  {
   "cell_type": "markdown",
   "metadata": {},
   "source": [
    "To access elements of a dictionary, you do so in a manner similar to other collection items (`[]`), but you must specify a 'key' instead of a positional index to return the value."
   ]
  },
  {
   "cell_type": "code",
   "execution_count": 54,
   "metadata": {},
   "outputs": [
    {
     "name": "stdout",
     "output_type": "stream",
     "text": [
      "chr3\n"
     ]
    },
    {
     "ename": "KeyError",
     "evalue": "'chr3'",
     "output_type": "error",
     "traceback": [
      "\u001b[0;31m---------------------------------------------------------------------------\u001b[0m",
      "\u001b[0;31mKeyError\u001b[0m                                  Traceback (most recent call last)",
      "\u001b[0;32m<ipython-input-54-44c33590f568>\u001b[0m in \u001b[0;36m<module>\u001b[0;34m\u001b[0m\n\u001b[1;32m      1\u001b[0m \u001b[0mprint\u001b[0m\u001b[0;34m(\u001b[0m\u001b[0mmyGene\u001b[0m\u001b[0;34m[\u001b[0m\u001b[0;34m'chromosome'\u001b[0m\u001b[0;34m]\u001b[0m\u001b[0;34m)\u001b[0m\u001b[0;34m\u001b[0m\u001b[0;34m\u001b[0m\u001b[0m\n\u001b[1;32m      2\u001b[0m \u001b[0;34m\u001b[0m\u001b[0m\n\u001b[0;32m----> 3\u001b[0;31m \u001b[0mmyGene\u001b[0m\u001b[0;34m[\u001b[0m\u001b[0;34m'chr3'\u001b[0m\u001b[0;34m]\u001b[0m\u001b[0;34m\u001b[0m\u001b[0;34m\u001b[0m\u001b[0m\n\u001b[0m",
      "\u001b[0;31mKeyError\u001b[0m: 'chr3'"
     ]
    }
   ],
   "source": [
    "print(myGene['chromosome'])\n",
    "\n",
    "myGene['chr3']"
   ]
  },
  {
   "cell_type": "markdown",
   "metadata": {},
   "source": [
    "Dictionaries **are** mutable so you can change/assign values in the same way"
   ]
  },
  {
   "cell_type": "code",
   "execution_count": 52,
   "metadata": {},
   "outputs": [
    {
     "name": "stdout",
     "output_type": "stream",
     "text": [
      "+\n"
     ]
    }
   ],
   "source": [
    "myGene['strand'] = '+'\n",
    "\n",
    "print(myGene['strand'])"
   ]
  },
  {
   "cell_type": "markdown",
   "metadata": {},
   "source": [
    "When you loop through a dictionary, the values returned are the key index values"
   ]
  },
  {
   "cell_type": "code",
   "execution_count": 55,
   "metadata": {},
   "outputs": [
    {
     "name": "stdout",
     "output_type": "stream",
     "text": [
      "name\n",
      "entrezID\n",
      "Ensembl\n",
      "chromosome\n",
      "start\n",
      "end\n",
      "strand\n"
     ]
    }
   ],
   "source": [
    "for key in myGene:\n",
    "    print(key)"
   ]
  },
  {
   "cell_type": "markdown",
   "metadata": {},
   "source": [
    "You can also iterate over the values, or key:value pairs"
   ]
  },
  {
   "cell_type": "code",
   "execution_count": 59,
   "metadata": {},
   "outputs": [
    {
     "data": {
      "text/plain": [
       "dict_items([('name', 'Sox2'), ('entrezID', 6657), ('Ensembl', 'ENSG00000181449'), ('chromosome', 'chr3'), ('start', 181711925), ('end', 181714436), ('strand', '+')])"
      ]
     },
     "execution_count": 59,
     "metadata": {},
     "output_type": "execute_result"
    }
   ],
   "source": [
    "myGene.items()"
   ]
  },
  {
   "cell_type": "code",
   "execution_count": 58,
   "metadata": {},
   "outputs": [
    {
     "name": "stdout",
     "output_type": "stream",
     "text": [
      "Sox2\n",
      "6657\n",
      "ENSG00000181449\n",
      "chr3\n",
      "181711925\n",
      "181714436\n",
      "+\n"
     ]
    }
   ],
   "source": [
    "for val in myGene.values():\n",
    "    print(val)"
   ]
  },
  {
   "cell_type": "code",
   "execution_count": 60,
   "metadata": {},
   "outputs": [
    {
     "name": "stdout",
     "output_type": "stream",
     "text": [
      "key: name  value:Sox2\n",
      "key: entrezID  value:6657\n",
      "key: Ensembl  value:ENSG00000181449\n",
      "key: chromosome  value:chr3\n",
      "key: start  value:181711925\n",
      "key: end  value:181714436\n",
      "key: strand  value:+\n"
     ]
    }
   ],
   "source": [
    "for k, v in myGene.items():\n",
    "    print(f'key: {k}  value:{v}')"
   ]
  },
  {
   "cell_type": "markdown",
   "metadata": {},
   "source": [
    "Sometimes it may be useful to check if a key exists in a dictionary."
   ]
  },
  {
   "cell_type": "code",
   "execution_count": 62,
   "metadata": {},
   "outputs": [],
   "source": [
    "lookup = \"Ensembl\"\n",
    "if lookup in myGene:\n",
    "    print(f\"Found {lookup} in myGene dictionary keys.\")"
   ]
  },
  {
   "cell_type": "markdown",
   "metadata": {},
   "source": [
    "#### Exercise\n",
    "1. Given the dictionary below, write a few lines of python code to return the keys in (sorted) alphanumeric order.\n",
    "\n",
    "2. Do the same but for the values in the dictionary instead of the keys.\n"
   ]
  },
  {
   "cell_type": "code",
   "execution_count": 77,
   "metadata": {},
   "outputs": [
    {
     "name": "stdout",
     "output_type": "stream",
     "text": [
      "None\n"
     ]
    }
   ],
   "source": [
    "myDict = {'sydf': 124,\n",
    "          'javd': 8927,\n",
    "          'sfoj': 258,\n",
    "          'ihes': 753,\n",
    "          'agsj': 682,\n",
    "          'bhds': 257\n",
    "         }\n",
    "\n",
    "keys = list(myDict.keys())\n",
    "\n",
    "print(keys.sort())\n"
   ]
  },
  {
   "cell_type": "markdown",
   "metadata": {},
   "source": [
    "## Control Flow\n",
    "An important aspect of programming is manipulating the flow of how the program executes commands/functions/operations/etc. This is how programs and scripts take some decisions and execute different things depending on different situations. The structure of most control flow elements in python is fairly similar: evaluate certain conditions/statements and follow this with a colon (`:`).  The subsequent *code block* is below this statement and always indented.  The block ends when the indentation ends. There are three types of control flow statements in python: `if`, `for`, and `while`.  Each operates a bit differently."
   ]
  },
  {
   "cell_type": "markdown",
   "metadata": {},
   "source": [
    "### If...Else\n",
    "The `if` statement first evaluates whether a given expression is `True`. If so, then the associated code block is then executed. We have seen a few examples above but lets make sure we understand how it's organized."
   ]
  },
  {
   "cell_type": "code",
   "execution_count": 78,
   "metadata": {},
   "outputs": [
    {
     "name": "stdout",
     "output_type": "stream",
     "text": [
      "5 is less than 10.\n"
     ]
    }
   ],
   "source": [
    "a = 5\n",
    "if a < 10:\n",
    "    print(f'{a} is less than 10.')\n",
    "    \n",
    "if a >= 10:\n",
    "    print(f'{a} is greater than or equal to 10.')"
   ]
  },
  {
   "cell_type": "markdown",
   "metadata": {},
   "source": [
    "Here we've constructed two `if` statements to test the variable `a`. Notice that the first statement (which evaluates to `True`) is executed but the second (`False`) is not. We can also use the `else` and `elif` (read: 'else,if') statement to further condition how python responds to our conditional test."
   ]
  },
  {
   "cell_type": "code",
   "execution_count": 8,
   "metadata": {},
   "outputs": [
    {
     "name": "stdout",
     "output_type": "stream",
     "text": [
      "50 is greater than 10.\n"
     ]
    }
   ],
   "source": [
    "a = 50\n",
    "if a < 10:\n",
    "    print(f'{a} is less than 10.')\n",
    "elif a == 10:\n",
    "    print(f'{a} is equal to 10.')\n",
    "else:\n",
    "    print(f'{a} is greater than 10.')"
   ]
  },
  {
   "cell_type": "markdown",
   "metadata": {},
   "source": [
    "There are a few things to note here.  First, the `elif` statement, we are providing _another_ conditional test for the variable `a`. If the first `if` returns `False`, then the next `elif` in the program will then be tested.  If all of the specific `if` and `elif` statements return `False`, then the remaining code block under the `else` statement is evaluated.  In this way, `else` acts as a 'catch all' if none of the other statements are `True`. \n",
    "\n",
    "*Only one* of the statements above will be executed; the first statement to evaluate to `True`. Once this happens, python steps out of the `if...else` statement and then continues on wth the rest of the program.\n",
    "\n",
    "The second point to make from the above is the use of the double `=` in the `elif`.  This is the 'comparison operator'. A single `=` is used as the 'assignment operator' as we have been using to assign values to variables.  If we want to test that two values are in fact equal, then we _must_ use `==`."
   ]
  },
  {
   "cell_type": "markdown",
   "metadata": {},
   "source": [
    "### Operators\n",
    "The construction of boolean logical tests is an important part of how you control the flow of your python program.  Often we want to test whether a variable has a certain value, or even exists at all.  Or perform some mathematical transformation on a value. To do this, we use different 'operators'. Operators are the constructs which can manipulate the value of individual items (or operands). You are familiar with many of these, for example 5 + 3 = 8. In this expression 5 and 3 are operands and '+' is the operator. Python has several types of operators, here we will distinguish between a few types"
   ]
  },
  {
   "cell_type": "markdown",
   "metadata": {},
   "source": [
    "#### Arithmetic operators\n",
    "These you should be inherently familar with for the most part. Assume that a = 10 and b = 20:\n",
    "\n",
    "* `+`    Addition:\tAdds values on either side of the operator.\ta + b = 30\n",
    "* `-`    Subtraction:\tSubtracts right hand operand from left hand operand.\ta – b = -10\n",
    "* `*`    Multiplication:\tMultiplies values on either side of the operator\ta * b = 200\n",
    "* `/`     Division:\tDivides left hand operand by right hand operand\tb / a = 2\n",
    "* `%`     Modulus:\t    Divides left hand operand by right hand operand and returns remainder\tb % a = 0\n",
    "* `**`    Exponent:\tPerforms exponential (power) calculation on operators\ta**b =10 to the power 20\n"
   ]
  },
  {
   "cell_type": "markdown",
   "metadata": {},
   "source": [
    "#### Comparison operators\n",
    "These are the operators that allow you to compare two items/variables. Each of these operators returns a `bool` value (`True` or `False`)"
   ]
  },
  {
   "cell_type": "code",
   "execution_count": 80,
   "metadata": {},
   "outputs": [
    {
     "name": "stdout",
     "output_type": "stream",
     "text": [
      "False\n",
      "True\n",
      "True\n",
      "False\n",
      "True\n",
      "False\n"
     ]
    }
   ],
   "source": [
    "a = 10\n",
    "b = 20\n",
    "\n",
    "print(a == b) # evaluates whether two operands are equal\n",
    "print(a != b) # evaluates whether two operands are _not_ equal\n",
    "print(a < b) # less than\n",
    "print(a > b) # greater than\n",
    "print(a <= b) # less than or equal to\n",
    "print(a >= b) # you can probably guess"
   ]
  },
  {
   "cell_type": "markdown",
   "metadata": {},
   "source": [
    "#### Assignment operators\n",
    "These _assign_ values to a variable:"
   ]
  },
  {
   "cell_type": "code",
   "execution_count": 9,
   "metadata": {},
   "outputs": [
    {
     "name": "stdout",
     "output_type": "stream",
     "text": [
      "15\n",
      "5\n",
      "25\n",
      "5.0\n"
     ]
    }
   ],
   "source": [
    "a = 10 # assigns the value 10 to the variable a\n",
    "a += 5 # Adds the value on the right to the value in a and then assigns the new value to a\n",
    "print(a)\n",
    "\n",
    "a -= 10 # subtracts the right value from the value in a and then assigns the new value to a\n",
    "print(a)\n",
    "\n",
    "a *= 5 # multiplies the right value with the value of a and then assigns to a\n",
    "print(a)\n",
    "\n",
    "a /= 5 # divides the value of a by the right value and then assigns to a\n",
    "print(a)"
   ]
  },
  {
   "cell_type": "markdown",
   "metadata": {},
   "source": [
    "#### Logical and Membership operators\n",
    "Logical operators help you compare different expressions"
   ]
  },
  {
   "cell_type": "code",
   "execution_count": 81,
   "metadata": {},
   "outputs": [
    {
     "name": "stdout",
     "output_type": "stream",
     "text": [
      "True\n",
      "True\n",
      "False\n"
     ]
    }
   ],
   "source": [
    "a = True\n",
    "b = True\n",
    "c = False\n",
    "\n",
    "# and: if both values are True then the condition is True\n",
    "print((a and b))\n",
    "\n",
    "# or: if _either_ value is True then the condition is True\n",
    "print((a or b))\n",
    "\n",
    "# not: reverses the logical state of the condition\n",
    "print(not(a or b))\n"
   ]
  },
  {
   "cell_type": "markdown",
   "metadata": {},
   "source": [
    "Membership operators test whether a value (operand) is a member of a collection (as in a string, list or tuple)."
   ]
  },
  {
   "cell_type": "code",
   "execution_count": 82,
   "metadata": {},
   "outputs": [
    {
     "name": "stdout",
     "output_type": "stream",
     "text": [
      "False\n",
      "True\n",
      "True\n"
     ]
    }
   ],
   "source": [
    "fruits = ['apple','banana','pineapple']\n",
    "a = \"orange\"\n",
    "\n",
    "print(a in fruits)\n",
    "\n",
    "print(a not in fruits)\n",
    "\n",
    "print(\"o\" in a)\n"
   ]
  },
  {
   "cell_type": "markdown",
   "metadata": {},
   "source": [
    "These are the basic operators that you will need to know to create conditional expressions to guide your control flow."
   ]
  },
  {
   "cell_type": "markdown",
   "metadata": {},
   "source": [
    "### Looping/Iteration\n",
    "\n",
    "Looping is a powerful way to perform an operation repeatedly. Python has two main looping constructs depending on when you want to stop iterating."
   ]
  },
  {
   "cell_type": "markdown",
   "metadata": {},
   "source": [
    "### While loops\n",
    "The while statement executes commands as long as an evaluated conditional expression remains true. This will loop through the code block until such time as the statement is no longer `True`. "
   ]
  },
  {
   "cell_type": "code",
   "execution_count": 85,
   "metadata": {},
   "outputs": [
    {
     "name": "stdout",
     "output_type": "stream",
     "text": [
      "1\n",
      "2\n",
      "3\n",
      "4\n",
      "5\n",
      "6\n",
      "7\n",
      "8\n",
      "9\n"
     ]
    }
   ],
   "source": [
    "i = 1\n",
    "\n",
    "while i < 10:\n",
    "    print(i)\n",
    "    i += 1\n"
   ]
  },
  {
   "cell_type": "markdown",
   "metadata": {},
   "source": [
    "### For loops\n",
    "The `for..in` statement also performs loops. In this case however, the loop _iterates_ over a sequence or collection, and in doing so it assigns each element of the collection to a specific variable. Any collection that is _iterable_ can be used to construct a for loop - this includes strings, lists, tuples, dictionaries, and other python data types. In the example below `range(0,10)` creates an iterable collection of numbers from 0-9.  Each instance of the loop places one of these values (in order) into the newly created variable `i`, and then executes the code block associated with this loop:"
   ]
  },
  {
   "cell_type": "code",
   "execution_count": 86,
   "metadata": {},
   "outputs": [
    {
     "name": "stdout",
     "output_type": "stream",
     "text": [
      "0\n",
      "1\n",
      "2\n",
      "3\n",
      "4\n",
      "5\n",
      "6\n",
      "7\n",
      "8\n",
      "9\n"
     ]
    }
   ],
   "source": [
    "for i in range(10):\n",
    "    print(i)"
   ]
  },
  {
   "cell_type": "markdown",
   "metadata": {},
   "source": [
    "An optional `else` statement can be used to execute a code block after the iterations have completed."
   ]
  },
  {
   "cell_type": "code",
   "execution_count": 87,
   "metadata": {},
   "outputs": [
    {
     "name": "stdout",
     "output_type": "stream",
     "text": [
      "Gapdh\n",
      "Mef2c\n",
      "Pax6\n",
      "Cxcl1\n",
      "Msi1\n",
      "No more genes!\n"
     ]
    }
   ],
   "source": [
    "genes = ['Gapdh','Mef2c','Pax6','Cxcl1','Msi1']\n",
    "\n",
    "for gene in genes:\n",
    "    print(gene)\n",
    "else:\n",
    "    print(\"No more genes!\")"
   ]
  },
  {
   "cell_type": "markdown",
   "metadata": {},
   "source": [
    "_*Next steps*_: Look into the `break` and `continue` statements can be used in conjunction with the above statements to further control the flow of a program."
   ]
  },
  {
   "cell_type": "markdown",
   "metadata": {},
   "source": [
    "Take a brief break to absorb some of this information.  We will continue with more advanced topics in the next notebook."
   ]
  },
  {
   "cell_type": "markdown",
   "metadata": {},
   "source": []
  }
 ],
 "metadata": {
  "interpreter": {
   "hash": "f830f5482817da8c94e7b92359ddd59f62b3b721ee2e7f2ba7b076c4827b6548"
  },
  "kernelspec": {
   "display_name": "Python 3",
   "language": "python",
   "name": "python3"
  },
  "language_info": {
   "codemirror_mode": {
    "name": "ipython",
    "version": 3
   },
   "file_extension": ".py",
   "mimetype": "text/x-python",
   "name": "python",
   "nbconvert_exporter": "python",
   "pygments_lexer": "ipython3",
   "version": "3.8.8"
  }
 },
 "nbformat": 4,
 "nbformat_minor": 4
}
