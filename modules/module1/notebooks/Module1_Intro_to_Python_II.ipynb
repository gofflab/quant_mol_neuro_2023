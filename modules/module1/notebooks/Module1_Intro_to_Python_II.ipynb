{
 "cells": [
  {
   "cell_type": "markdown",
   "metadata": {},
   "source": [
    "# Day 2.1 - Introduction to Python II"
   ]
  },
  {
   "cell_type": "markdown",
   "metadata": {},
   "source": [
    "## List comprehension\n",
    "Remember that a list is defined by items within square brackets `[]`\n",
    "\n",
    "In python you can use 'list comprehension' to create new lists algorithmically by iterating over another list. \n",
    "This is a conceptual extension of a `for` loop, with differences in syntax (how it is written) and that it automatically returns a `list`.\n"
   ]
  },
  {
   "cell_type": "code",
   "execution_count": 3,
   "metadata": {},
   "outputs": [
    {
     "name": "stdout",
     "output_type": "stream",
     "text": [
      "[0, 5, 10, 15, 20, 25, 30, 35, 40, 45]\n",
      "[0, 5, 10, 15, 20, 25, 30, 35, 40, 45]\n"
     ]
    }
   ],
   "source": [
    "# Example for loop\n",
    "solutions = []\n",
    "for x in range(10):\n",
    "    solutions.append(5*x)\n",
    "\n",
    "print(solutions)\n",
    "     \n",
    "# List comprehension version\n",
    "solutions = [5*x for x in range(10)] # More concise, and faster!\n",
    "\n",
    "print(solutions)"
   ]
  },
  {
   "cell_type": "markdown",
   "metadata": {},
   "source": [
    "List comprehension statements can also include an `if` conditional statement, just like `for` loops.\n"
   ]
  },
  {
   "cell_type": "code",
   "execution_count": 4,
   "metadata": {},
   "outputs": [
    {
     "data": {
      "text/plain": [
       "[0, 10, 20, 30, 40]"
      ]
     },
     "execution_count": 4,
     "metadata": {},
     "output_type": "execute_result"
    }
   ],
   "source": [
    "[num for num in solutions] #returns itself\n",
    "[num for num in solutions if num%2 == 0] #returns only values that are even"
   ]
  },
  {
   "cell_type": "markdown",
   "metadata": {},
   "source": [
    "The `range` function seen above generates an object of type `range` that can be used as an iterable in a variety of contexts. It takes up to three arguments, which are the lower bound (inclusive), the upper bound (exclusive, just like slicing), and a step size. This concept works only with integers - you can't define a `range` between two floats!"
   ]
  },
  {
   "cell_type": "code",
   "execution_count": 5,
   "metadata": {},
   "outputs": [
    {
     "name": "stdout",
     "output_type": "stream",
     "text": [
      "range(0, 10)\n",
      "[0, 1, 2, 3, 4, 5, 6, 7, 8, 9]\n"
     ]
    }
   ],
   "source": [
    "type(range(0,10)) #if you don't provide a step size, it defaults to 1\n",
    "\n",
    "print(range(0,10)) #a range object\n",
    "\n",
    "print(list(range(0,10))) #can be expanded by casting to a list"
   ]
  },
  {
   "cell_type": "code",
   "execution_count": 10,
   "metadata": {},
   "outputs": [
    {
     "name": "stdout",
     "output_type": "stream",
     "text": [
      "[1, 3, 5, 7, 9, 11, 13, 15, 17, 19, 21, 23, 25, 27, 29]\n"
     ]
    }
   ],
   "source": [
    "# examples of range(x,y,z)\n",
    "seq = [x for x in range(20)] #If you only provide range() with one integer, it defaults to starting at 0\n",
    "\n",
    "# use range to find every third number between 1 and 30\n",
    "seq = [x for x in range(1,31) if x%3 == 0]\n",
    "\n",
    "# use list comprehension to find the odd elements within that set\n",
    "seq = [x for x in range(1,31) if x%2 != 0]\n",
    "print(seq)"
   ]
  },
  {
   "cell_type": "markdown",
   "metadata": {},
   "source": [
    "### List comprehension examples using variables other than numbers\n"
   ]
  },
  {
   "cell_type": "code",
   "execution_count": 13,
   "metadata": {},
   "outputs": [
    {
     "data": {
      "text/plain": [
       "['Luke is a student in the BME department',\n",
       " 'Sheridan is a student in the Neuroscience department',\n",
       " 'Loyal is a professor in the Neuroscience department',\n",
       " 'Winston is a professor in the BME department']"
      ]
     },
     "execution_count": 13,
     "metadata": {},
     "output_type": "execute_result"
    }
   ],
   "source": [
    "Folks = [\n",
    "(\"Luke\", \"BME\", \"student\"),\n",
    "(\"Sheridan\", \"Neuroscience\", \"student\"),\n",
    "(\"Loyal\", \"Neuroscience\", \"professor\"),\n",
    "(\"Winston\", \"BME\", \"professor\")\n",
    "]\n",
    "\n",
    "[x[1] for x in Folks] ## access the second element in each tuple\n",
    "\n",
    "## Use list comprehension and fstring formating to write a sentence about each person using the info above and print it to the output cell.\n",
    "[f\"{x[0]} is a {x[2]} in the {x[1]} department\" for x in Folks]\n"
   ]
  },
  {
   "cell_type": "markdown",
   "metadata": {},
   "source": [
    "## Functions\n",
    "Many times when writing programs, you will find yourself doing the same task(s) over and over again. Functions allow you to create reuseable pieces of your programs so you can run a block of specificed code anywhere in your program, as many times as you need, with any modifications or variables that you might need. As an example, lets start by figuring out what the GC% is for a given nucleic acid string.  To do this, we will need to learn the length of the oligonucleotide sequence, as well as the number of 'G' and 'C' bases.  Lets start by figuring out a way to do this for one DNA sequence."
   ]
  },
  {
   "cell_type": "code",
   "execution_count": 14,
   "metadata": {},
   "outputs": [
    {
     "name": "stdout",
     "output_type": "stream",
     "text": [
      "Length of dna: 51\n",
      "Number of Gs: 13\n",
      "Number of Cs: 12\n",
      "49.01960784313725\n"
     ]
    }
   ],
   "source": [
    "dna = 'ATTAGCGTATTCGAGCTATCGATCTAGCGAGCTAGCTATCAGCGACGTACG'\n",
    "\n",
    "dnaLength = len(dna)\n",
    "print(f'Length of dna: {dnaLength}')\n",
    "\n",
    "nG = dna.count(\"G\")\n",
    "print(f'Number of Gs: {nG}')\n",
    "\n",
    "nC = dna.count(\"C\")\n",
    "print(f'Number of Cs: {nC}')\n",
    "\n",
    "nGC = nG + nC\n",
    "\n",
    "GC_content = (nGC/dnaLength)*100\n",
    "print(GC_content)"
   ]
  },
  {
   "cell_type": "markdown",
   "metadata": {},
   "source": [
    "While that's not terribly tedious, what if we needed to do this for 10,000 different dna sequences? We will definitely need a way to more quickly perform these actions. What we need to do is 'functionalize' this process so we can effectively turn it into a reuseable command. So lets create a function to do all of this for us. We start by defining the function with the `def` statement to define the function's name, followed by a pair of parentheses `()` where we can name a few 'parameters' (another name for variables passed to a function) that we will use within our function. This is then followed by the code block to execute when we 'call' the function. At the end of the function, we specify what values we want to return with `return()`."
   ]
  },
  {
   "cell_type": "code",
   "execution_count": 15,
   "metadata": {},
   "outputs": [],
   "source": [
    "def getGC(seq):\n",
    "    dnaLength = len(seq)\n",
    "    nG = seq.count(\"G\")\n",
    "    nC = seq.count(\"C\")\n",
    "    nGC = nG+nC\n",
    "    GC_content = (nGC/dnaLength)*100\n",
    "    return(GC_content)"
   ]
  },
  {
   "cell_type": "markdown",
   "metadata": {},
   "source": [
    "Once we've created our function, we can then call it as many times as we want with different values passed to the `seq` argument as needed. ** Note the terminology difference: the names given in the function definition are called parameters, but the values you supply in the function call are called arguments. **"
   ]
  },
  {
   "cell_type": "code",
   "execution_count": 16,
   "metadata": {},
   "outputs": [
    {
     "name": "stdout",
     "output_type": "stream",
     "text": [
      "49.01960784313725\n"
     ]
    }
   ],
   "source": [
    "gc = getGC(dna)\n",
    "print(gc)"
   ]
  },
  {
   "cell_type": "markdown",
   "metadata": {},
   "source": [
    "Now try and use your function within a `for` loop to iterate over a `list` of different DNA sequences"
   ]
  },
  {
   "cell_type": "code",
   "execution_count": 20,
   "metadata": {},
   "outputs": [
    {
     "data": {
      "text/plain": [
       "[46.42857142857143, 42.42424242424242, 52.77777777777778, 55.55555555555556]"
      ]
     },
     "execution_count": 20,
     "metadata": {},
     "output_type": "execute_result"
    }
   ],
   "source": [
    "\n",
    "myDNASet = [\n",
    "            'ACTGATGCTAGCTGACTGATCTAGCTGA',\n",
    "            'TGCATTTTCGAGCTATCGAGCATTCTACGTACT',\n",
    "            'CACTATCTACGGATCGGAGCGGATTCGTAGCTATGC',\n",
    "            'GTATCGGATCTAGCGGCGGCATTATCG'\n",
    "           ] # this is a list of strings, each containing a DNA sequence.\n",
    "\n",
    "#for dna in myDNASet:\n",
    "#   print(getGC(dna))\n",
    "    \n",
    "[getGC(x) for x in myDNASet]\n"
   ]
  },
  {
   "cell_type": "markdown",
   "metadata": {},
   "source": [
    "When you declare variables within a function definition, they become completely isolated from any variables you may have created outside the definition. In this case, all variables created within a function definition are considered 'local'.  You cannot access them from outside the function definition, and they don't override any other variables either. This is called the 'scope' of a variable. All variables have the scope of the code block in which they are declared. There are ways to change this, but for now we just need to realize that there are in fact different scopes."
   ]
  },
  {
   "cell_type": "markdown",
   "metadata": {},
   "source": [
    "When defining a function, you may often want to set default values for your parameters, and/or make some parameters optional. You can also use `keyword` arguments to specify them directly when you call a function like so:"
   ]
  },
  {
   "cell_type": "code",
   "execution_count": 24,
   "metadata": {},
   "outputs": [
    {
     "name": "stdout",
     "output_type": "stream",
     "text": [
      "True\n",
      "False\n",
      "False\n",
      "False\n"
     ]
    }
   ],
   "source": [
    "def checkDNA(seq, query='AGC'): #checks to see if the DNA sequence has a specific substring\n",
    "    return(query in seq)\n",
    "\n",
    "print(checkDNA(dna))\n",
    "\n",
    "print(checkDNA(dna,query='TGCA'))\n",
    "\n",
    "print(checkDNA(dna, 'TGCA')) # the keywords can be omitted, with the same result\n",
    "\n",
    "print(checkDNA(query = \"TGCA\", seq = dna)) # with keywords, the positions of the arguments don't matter\n",
    "\n",
    "    "
   ]
  },
  {
   "cell_type": "markdown",
   "metadata": {},
   "source": [
    "By default, unnamed arguments passed to a function will be interpreted positionally. Above, notice that we can omit `seq = dna` in the function call. However, you also instead be explicit with the keywords, in which case the positions of the arguments aren't meaningful. An important rule is that positional arguments have to be provided before named arguments. For example, the following code will generate an error:"
   ]
  },
  {
   "cell_type": "code",
   "execution_count": null,
   "metadata": {},
   "outputs": [],
   "source": [
    "print(checkDNA(seq = dna, \"TGCA\"))"
   ]
  },
  {
   "cell_type": "markdown",
   "metadata": {},
   "source": [
    "Now lets try and create a new function that takes a DNA sequence as an argument and calculates the melting temperature (the temperature at which two DNA strands will separate from each other). This property is a function of the DNA sequence itself. For sequences less than 14 nucleotides the formula is: `Tm= (A+T) * 2 + (G+C) * 4`. For sequences longer than 13 nucleotides in length, there is a different equation: `Tm= 64.9 +41*(G+C-16.4)/(A+T+G+C)`. In each equation, `A, T, G, and C` correspond to the number of each nucleotide in the DNA string. Can you define a single function that can test a DNA sequence of any length?"
   ]
  },
  {
   "cell_type": "code",
   "execution_count": 34,
   "metadata": {},
   "outputs": [
    {
     "name": "stdout",
     "output_type": "stream",
     "text": [
      "ATCGACTGAC\n"
     ]
    },
    {
     "data": {
      "text/plain": [
       "[61.38571428571429, 57.38333333333334, 68.59, 66.72222222222223]"
      ]
     },
     "execution_count": 34,
     "metadata": {},
     "output_type": "execute_result"
    }
   ],
   "source": [
    "# Define and use your function below. Test your function by looping through the sequences myDNASet\n",
    "\n",
    "seq = 'ATCGACTGAC'\n",
    "\n",
    "print (seq)\n",
    "\n",
    "def getTM(seq):\n",
    "    G = seq.count(\"G\")\n",
    "    A = seq.count(\"G\")\n",
    "    C = seq.count(\"G\")\n",
    "    T = seq.count(\"G\")\n",
    "    \n",
    "    Tm= 64.9+41*(G+C-16.4)/(A+T+G+C)\n",
    "    return(Tm)\n",
    "    \n",
    "[getTM(x) for x in myDNASet]\n"
   ]
  },
  {
   "cell_type": "markdown",
   "metadata": {},
   "source": [
    "## Importing modules\n",
    "One of the more useful features of python, as with many other languages, is that you can add features, tools, data, etc to extend the functionality of python using _modules_. Python has a very large and diverse user base that has already developed hundreds (thousands?) of modules to perform broadly useful tasks, or very specialized tasks for different needs. You can also develop your own modules to split projects/workflows in to manageable pieces for easier maintenance and reusability.\n",
    "\n",
    "A module is nothing more than python code. Within a module, you can define classes (objects), functions, and variables. A module is a file containing Python definitions and statements. The file name is the module name with the suffix .py appended. Any existing python file can be referenced as a module and the elements within can then be used. For example, if you have a python file named `sequencing.py` you can import the file/module with the name `sequencing`.\n",
    "\n",
    "To use a module in your code you must first tell python where to find the module. To do this, we use the command `import`"
   ]
  },
  {
   "cell_type": "code",
   "execution_count": 35,
   "metadata": {},
   "outputs": [],
   "source": [
    "import math"
   ]
  },
  {
   "cell_type": "markdown",
   "metadata": {},
   "source": [
    "This tells the python interpreter to load all of the functions and elements found in the `math` module into the current session. `math` is a 'standard module' that is included with python.  To use a specific function or variable defined in `math` you can call it using the dot (`.`) operator along with the module name"
   ]
  },
  {
   "cell_type": "code",
   "execution_count": 36,
   "metadata": {},
   "outputs": [
    {
     "data": {
      "text/plain": [
       "5.0"
      ]
     },
     "execution_count": 36,
     "metadata": {},
     "output_type": "execute_result"
    }
   ],
   "source": [
    "a = 25\n",
    "math.sqrt(a)"
   ]
  },
  {
   "cell_type": "code",
   "execution_count": 37,
   "metadata": {},
   "outputs": [
    {
     "data": {
      "text/plain": [
       "0.9912028118634736"
      ]
     },
     "execution_count": 37,
     "metadata": {},
     "output_type": "execute_result"
    }
   ],
   "source": [
    "math.cos(a)"
   ]
  },
  {
   "cell_type": "code",
   "execution_count": 38,
   "metadata": {},
   "outputs": [
    {
     "data": {
      "text/plain": [
       "15511210043330985984000000"
      ]
     },
     "execution_count": 38,
     "metadata": {},
     "output_type": "execute_result"
    }
   ],
   "source": [
    "math.factorial(a)"
   ]
  },
  {
   "cell_type": "markdown",
   "metadata": {},
   "source": [
    "It is important to be aware of modules as they can often save you from having to re-write or re-invent code that others have already solved. It is arguably the basis for the relevance of python as a programming language in the sciences as well!"
   ]
  },
  {
   "cell_type": "markdown",
   "metadata": {},
   "source": [
    "There are a few syntactically different ways to import a module. You've already seen the direct import method above, but you can also import only the functions you need from a module by using the `from .. import` syntax:"
   ]
  },
  {
   "cell_type": "code",
   "execution_count": 39,
   "metadata": {},
   "outputs": [
    {
     "data": {
      "text/plain": [
       "1.3979400086720377"
      ]
     },
     "execution_count": 39,
     "metadata": {},
     "output_type": "execute_result"
    }
   ],
   "source": [
    "from math import log10, log\n",
    "log10(a)"
   ]
  },
  {
   "cell_type": "markdown",
   "metadata": {},
   "source": [
    "Here we've imported just two of the functions in the `math` module. Notice that this time, you don't have to use `math.` before calling these functions. You can access them directly without using the module name."
   ]
  },
  {
   "cell_type": "markdown",
   "metadata": {},
   "source": [
    "You can rename the module for brevity or any other reason by using `as` with your import statement."
   ]
  },
  {
   "cell_type": "code",
   "execution_count": 40,
   "metadata": {},
   "outputs": [
    {
     "name": "stdout",
     "output_type": "stream",
     "text": [
      "Today is 2022-08-30\n"
     ]
    }
   ],
   "source": [
    "import datetime as dt\n",
    "\n",
    "today = dt.date.today()\n",
    "print(f\"Today is {today}\")"
   ]
  },
  {
   "cell_type": "markdown",
   "metadata": {},
   "source": [
    "Here, we imported the datetime module as `dt` . Notice that that the `dt` module defines a class called `date`. Then, we used the `date.today()` function to get the current local date, which is then printed with some accessory text using the `print()` function."
   ]
  },
  {
   "cell_type": "markdown",
   "metadata": {},
   "source": [
    "The `import` function performs two operations: 1) a _search_ for a given package/module and 2) the binding of that module (and its functions/variables/classes) to the current python session. When a module is imported, the interpreter first searches for a built-in module with that name. If it doesn't find one, it then looks for a file with the module name and `.py` in a list of directories identified by the `sys.path` variable"
   ]
  },
  {
   "cell_type": "code",
   "execution_count": 44,
   "metadata": {},
   "outputs": [
    {
     "data": {
      "text/plain": [
       "'/Volumes/GoogleDrive/My Drive/Work/Goff Lab/Teaching/BCMB/Bootcamp/Bootcamp2022/bcmb_bootcamp/day2/notebooks'"
      ]
     },
     "execution_count": 44,
     "metadata": {},
     "output_type": "execute_result"
    }
   ],
   "source": [
    "import sys\n",
    "sys.path\n",
    "\n",
    "## import the 'os' module and print your current working directory with the getcwd() function\n",
    "import os\n",
    "os.getcwd()"
   ]
  },
  {
   "cell_type": "markdown",
   "metadata": {},
   "source": [
    "#### Exercise\n",
    "1. Create a function to calculate the volume of a sphere using the radius as an arugment. (hint: use a module to find $\\pi$)"
   ]
  },
  {
   "cell_type": "code",
   "execution_count": 2,
   "metadata": {},
   "outputs": [
    {
     "data": {
      "text/plain": [
       "523.5987755982989"
      ]
     },
     "execution_count": 2,
     "metadata": {},
     "output_type": "execute_result"
    }
   ],
   "source": [
    "\n"
   ]
  },
  {
   "cell_type": "code",
   "execution_count": null,
   "metadata": {},
   "outputs": [],
   "source": []
  },
  {
   "cell_type": "markdown",
   "metadata": {},
   "source": [
    "## Working with files\n",
    "\n",
    "### Reading/opening files\n",
    "Reading and writing to files in python is achieved through the `open()` function. When you 'open' a file, you are creating a device to communicate with the file on disk. We will need to specify how we would like to interact with the file.  Do we want to read the file ('r') or write to the file ('w'). This is the 'mode' that we will need to specify when we make the call to `open()`"
   ]
  },
  {
   "cell_type": "code",
   "execution_count": null,
   "metadata": {},
   "outputs": [],
   "source": [
    "file = open('Foxp1.gbk',mode = 'r')\n",
    "\n",
    "# iterate through all lines of a file\n",
    "for line in file:\n",
    "    print(line)"
   ]
  },
  {
   "cell_type": "code",
   "execution_count": null,
   "metadata": {},
   "outputs": [],
   "source": [
    "# Read only the first n lines of a file\n",
    "nLines = 5\n",
    "i=0\n",
    "\n",
    "# Need to re-open the file since we've already iterated through it completely\n",
    "file = open('Foxp1.gbk',mode = 'r')\n",
    "\n",
    "while i < nLines:\n",
    "    print(next(file))\n",
    "    i += 1"
   ]
  },
  {
   "cell_type": "markdown",
   "metadata": {},
   "source": [
    "### Fetching files/data from the internet"
   ]
  },
  {
   "cell_type": "code",
   "execution_count": 3,
   "metadata": {},
   "outputs": [
    {
     "name": "stdout",
     "output_type": "stream",
     "text": [
      "b'>chrIII\\n'\n",
      "[b'CCCACACACCACACCCACACCACACCCACACACCACACACACCACACCCA\\n', b'CACACCCACACCACACCACACCCACACCACACCCACACACCCACACCCAC\\n', b'ACACCACACCCACACACACCACACCCACACACACCCACACCCACACACCA\\n', b'CACCCACACACACACCACACCCACACACACCACACCACACCCACACCACA\\n', b'CCCACACCCACACACCACACCCACACCCACACCCCACACCCACACACCAC\\n', b'ACCCACACACACCACACCCACACACACCCACACCACACCCACACACCACA\\n', b'CCCACACACCCACACCCACACACACCACACCCACACCACACCCACACCCA\\n', b'CACACCCACACCCTAACACTACCCTAACACTACCCTATTCTAACCCTGAT\\n', b'TTTACCTGTCTCCCAACTTACTCTCCATTACCCTACCTCTCCACTCGTTA\\n', b'CCCTGTCTCATTCAACCGTACCACTCCCAACCACCATCCATCTCTCTACT\\n']\n",
      "b'CCCACACACCACACCCACACCACACCCACACACCACACACACCACACCCA\\n'\n",
      "b'CACACCCACACCACACCACACCCACACCACACCCACACACCCACACCCAC\\n'\n",
      "b'ACACCACACCCACACACACCACACCCACACACACCCACACCCACACACCA\\n'\n",
      "b'CACCCACACACACACCACACCCACACACACCACACCACACCCACACCACA\\n'\n",
      "b'CCCACACCCACACACCACACCCACACCCACACCCCACACCCACACACCAC\\n'\n",
      "b'ACCCACACACACCACACCCACACACACCCACACCACACCCACACACCACA\\n'\n",
      "b'CCCACACACCCACACCCACACACACCACACCCACACCACACCCACACCCA\\n'\n",
      "b'CACACCCACACCCTAACACTACCCTAACACTACCCTATTCTAACCCTGAT\\n'\n",
      "b'TTTACCTGTCTCCCAACTTACTCTCCATTACCCTACCTCTCCACTCGTTA\\n'\n",
      "b'CCCTGTCTCATTCAACCGTACCACTCCCAACCACCATCCATCTCTCTACT\\n'\n"
     ]
    }
   ],
   "source": [
    "## lets deconstruct what's happening here.\n",
    "\n",
    "import urllib\n",
    "import gzip\n",
    "\n",
    "url = \"https://hgdownload.soe.ucsc.edu/goldenPath/sacCer3/chromosomes/chrIII.fa.gz\"\n",
    "urllib.request.urlretrieve(url, \"chrIII.fa.gz\")\n",
    "\n",
    "chrIII = gzip.open('chrIII.fa.gz',mode = 'rb') # note the additional use of 'b' here meaning we are going to 'read' a 'binary' (zipped) file.\n",
    "\n",
    "print(next(chrIII))\n",
    "\n",
    "numLines = 10\n",
    "\n",
    "head = [next(chrIII) for x in range(numLines)] # Using list comprehension to return a list of values from some operation\n",
    "\n",
    "print(head)\n",
    "    \n",
    "for line in head:\n",
    "    print(str(line))\n"
   ]
  },
  {
   "cell_type": "markdown",
   "metadata": {},
   "source": [
    "### Writing output to a file\n",
    "When we write to a file, we need to indicate whether we are going to overwrite anything in an existing file, or append (`mode = a`) the content to the end of the existing file. When we are done with a file, we should always close it with `close()`"
   ]
  },
  {
   "cell_type": "code",
   "execution_count": 48,
   "metadata": {},
   "outputs": [
    {
     "name": "stdout",
     "output_type": "stream",
     "text": [
      "Here is my awesome file content!\n",
      "\n",
      "It's probably the most important information I'll need for my thesis!\n",
      "\n",
      "Gapdh\n",
      "\n",
      "Mef2c\n",
      "\n",
      "Pax6\n",
      "\n",
      "Cxcl1\n",
      "\n",
      "Msi1\n",
      "\n",
      "I forgot to add this as well\n",
      "\n"
     ]
    }
   ],
   "source": [
    "genes = ['Gapdh','Mef2c','Pax6','Cxcl1','Msi1']\n",
    "\n",
    "file = open('myOutput.txt','w')\n",
    "file.write(\"Here is my awesome file content!\\n\")\n",
    "file.write(\"It's probably the most important information I'll need for my thesis!\\n\")\n",
    "for gene in genes:\n",
    "    file.write(f'{gene}\\n')\n",
    "file.close()\n",
    "\n",
    "file = open('myOutput.txt','a') # Try changing the mode from 'a' to 'w'\n",
    "file.write(\"I forgot to add this as well\\n\")\n",
    "file.close()\n",
    "\n",
    "file = open('myOutput.txt','r')\n",
    "\n",
    "for line in file:\n",
    "    print(line)\n"
   ]
  },
  {
   "cell_type": "markdown",
   "metadata": {},
   "source": [
    "## Intro to Python Scripting\n"
   ]
  },
  {
   "cell_type": "markdown",
   "metadata": {},
   "source": [
    " Now we're going to tie all of this together into a python script that is a self-contained program. So far we've used python interactively with notebooks, executing code block by block. Scripts are just text files with a set of instructions that are run when the script is called. By convention, these files have the suffix `.py`. \n",
    "\n",
    "\n"
   ]
  },
  {
   "cell_type": "markdown",
   "metadata": {},
   "source": [
    "Let's make a real, functional script that can translate a DNA sequence into its corresponding protein."
   ]
  },
  {
   "cell_type": "code",
   "execution_count": 53,
   "metadata": {},
   "outputs": [
    {
     "data": {
      "text/plain": [
       "['TDAS_LI_L', 'CIFELSSILRT', 'HYLRIGADS_LC', 'VSDLAAALS']"
      ]
     },
     "execution_count": 53,
     "metadata": {},
     "output_type": "execute_result"
    }
   ],
   "source": [
    "#This dictionary represents the 'genetic code' of DNA codons and their corresponding amino acids\n",
    "gencode = {\n",
    "    'ATA':'I', 'ATC':'I', 'ATT':'I', 'ATG':'M',\n",
    "    'ACA':'T', 'ACC':'T', 'ACG':'T', 'ACT':'T',\n",
    "    'AAC':'N', 'AAT':'N', 'AAA':'K', 'AAG':'K',\n",
    "    'AGC':'S', 'AGT':'S', 'AGA':'R', 'AGG':'R',\n",
    "    'CTA':'L', 'CTC':'L', 'CTG':'L', 'CTT':'L',\n",
    "    'CCA':'P', 'CCC':'P', 'CCG':'P', 'CCT':'P',\n",
    "    'CAC':'H', 'CAT':'H', 'CAA':'Q', 'CAG':'Q',\n",
    "    'CGA':'R', 'CGC':'R', 'CGG':'R', 'CGT':'R',\n",
    "    'GTA':'V', 'GTC':'V', 'GTG':'V', 'GTT':'V',\n",
    "    'GCA':'A', 'GCC':'A', 'GCG':'A', 'GCT':'A',\n",
    "    'GAC':'D', 'GAT':'D', 'GAA':'E', 'GAG':'E',\n",
    "    'GGA':'G', 'GGC':'G', 'GGG':'G', 'GGT':'G',\n",
    "    'TCA':'S', 'TCC':'S', 'TCG':'S', 'TCT':'S',\n",
    "    'TTC':'F', 'TTT':'F', 'TTA':'L', 'TTG':'L',\n",
    "    'TAC':'Y', 'TAT':'Y', 'TAA':'_', 'TAG':'_',\n",
    "    'TGC':'C', 'TGT':'C', 'TGA':'_', 'TGG':'W'}\n",
    "\n",
    "# First let's write a function to return the amino acid associated with a given codon.\n",
    "def lookup_AA(codon):\n",
    "    aa = gencode.get(codon, 'X')\n",
    "    return(aa)\n",
    "\n",
    "# Let's dissect this function here to see what's going on and then we can make a reuseable script out of this\n",
    "def translate_dna(dna):\n",
    "    last_codon_start = len(dna) - 2\n",
    "    protein = \"\"\n",
    "    for start in range(0,last_codon_start,3):\n",
    "        codon = dna[start:start+3]\n",
    "        aa = lookup_AA(codon)\n",
    "        protein = protein + aa\n",
    "    return(protein)\n",
    "\n",
    "\n",
    "lookup_AA('ATG')\n",
    "\n",
    "[translate_dna(x) for x in myDNASet]"
   ]
  },
  {
   "cell_type": "markdown",
   "metadata": {},
   "source": [
    "### Passing arguments to scripts via the command line"
   ]
  },
  {
   "cell_type": "markdown",
   "metadata": {},
   "source": [
    "Similar to how we provided arguments to functions, we can also flexibly provide python scripts with arguments. The syntax for this is:\n",
    "\n",
    "**python my_script.py arg1 arg2 arg3 ...**"
   ]
  },
  {
   "cell_type": "markdown",
   "metadata": {},
   "source": [
    "Now we just need to know how to access these arguments from within the script. From the `sys` module we used above, arguments can be accessed `sys.argv`. The first element (`sys.argv[0]`) will be the name of the script that was called. The rest of the elements (`sys.argv[1], sys.argv[2], ..., sys.argv[n]`) are the command line arguments, represented as strings. With this knowledge (and everything you've learned so far!) we should be able to make our script interactive."
   ]
  },
  {
   "cell_type": "code",
   "execution_count": null,
   "metadata": {},
   "outputs": [],
   "source": []
  },
  {
   "cell_type": "markdown",
   "metadata": {},
   "source": [
    "## Classes and objects\n",
    "Python is an object-oriented programming language. This means that it provides features that support object-oriented programming (OOP). Object-oriented programming brings together data and its behaviour (methods) in a single location (called an “object”) making it easier to conceptualize and understand. This reduces complexity and makes it easier to reuse code in different parts of a program or in different programs.\n",
    "\n",
    "A class is a blueprint for the object. It describes how the object is made (what data it contains and what methods it has). An object is an instance of a class. It contains real values instead of variables. You can create as many objects as you want from a class. Each object is independent of the others. You can modify an object without affecting the others.\n",
    "\n",
    "### Creating a class\n",
    "Lets start by creating a class to hold a DNA sequence. We will need to define the attributes of the class, which are the variables that will be associated with each instance of the class. \n",
    "\n",
    "We will start with a simple class that only has a single attribute, the DNA sequence itself."
   ]
  },
  {
   "cell_type": "code",
   "execution_count": null,
   "metadata": {},
   "outputs": [],
   "source": [
    "class DNA:\n",
    "    def _init_(self,seq):\n",
    "        self.seq = seq\n",
    "        "
   ]
  },
  {
   "cell_type": "markdown",
   "metadata": {},
   "source": [
    "Now let's create an instance of our class. We do this by calling the class name as if it were a function, and passing the required arguments to the class `__init__` method. The `__init__` method is a special method that is called when an instance of the class is created. It is used to initialize the attributes of the class. The first argument of the `__init__` method is always the object itself (the instance of the class). By convention, this argument is called `self`. The other arguments are the ones that we passed to the class when we created the instance."
   ]
  },
  {
   "cell_type": "code",
   "execution_count": null,
   "metadata": {},
   "outputs": [],
   "source": [
    "myDNA = DNA('ATGCAGTACTGACGTATCGCATTCGTCATGC')"
   ]
  },
  {
   "cell_type": "markdown",
   "metadata": {},
   "source": [
    "Right now this instance doesn't do much. It has a single attribute, but no methods to do anything with it. Let's add a few methods to our class that will allow us to calculate features of the DNA sequence."
   ]
  },
  {
   "cell_type": "code",
   "execution_count": 7,
   "metadata": {},
   "outputs": [],
   "source": [
    "class DNA:\n",
    "    def __init__(self,seq):\n",
    "        self.seq = seq\n",
    "    def length(self):\n",
    "        return(len(self.seq))\n",
    "    def gc(self):\n",
    "        G = self.seq.count(\"G\")\n",
    "        C = self.seq.count(\"C\")\n",
    "        nGC = G+C\n",
    "        return(nGC/len(self.seq)*100)\n",
    "    def tm(self):\n",
    "        G = self.seq.count(\"G\")\n",
    "        C = self.seq.count(\"C\")\n",
    "        A = self.seq.count(\"A\")\n",
    "        T = self.seq.count(\"T\")\n",
    "        Tm = 64.9+41*(G+C-16.4)/(A+T+G+C)\n",
    "        return(Tm)\n",
    "    "
   ]
  },
  {
   "cell_type": "code",
   "execution_count": 11,
   "metadata": {},
   "outputs": [
    {
     "name": "stdout",
     "output_type": "stream",
     "text": [
      "31\n",
      "48.38709677419355\n",
      "63.0483870967742\n"
     ]
    }
   ],
   "source": [
    "myDNA = DNA('ATGCAGTACTGACGTATCGCATTCGTCATGC')\n",
    "\n",
    "print(myDNA.length())\n",
    "print(myDNA.gc())\n",
    "print(myDNA.tm())\n"
   ]
  },
  {
   "cell_type": "code",
   "execution_count": null,
   "metadata": {},
   "outputs": [],
   "source": []
  }
 ],
 "metadata": {
  "interpreter": {
   "hash": "f830f5482817da8c94e7b92359ddd59f62b3b721ee2e7f2ba7b076c4827b6548"
  },
  "kernelspec": {
   "display_name": "Python 3",
   "language": "python",
   "name": "python3"
  },
  "language_info": {
   "codemirror_mode": {
    "name": "ipython",
    "version": 3
   },
   "file_extension": ".py",
   "mimetype": "text/x-python",
   "name": "python",
   "nbconvert_exporter": "python",
   "pygments_lexer": "ipython3",
   "version": "3.8.8"
  }
 },
 "nbformat": 4,
 "nbformat_minor": 4
}
