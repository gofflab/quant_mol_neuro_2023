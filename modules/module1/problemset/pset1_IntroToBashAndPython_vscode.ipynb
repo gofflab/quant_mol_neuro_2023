{
 "cells": [
  {
   "cell_type": "markdown",
   "metadata": {},
   "source": [
    "# Problem Set 1: Intro to Bash and Python\n",
    "\n",
    "## Due Monday September 11th, 11:30AM\n",
    "\n",
    "Please submit this assignment by uploading the completed Jupyter notebook to Canvas.\n",
    "\n",
    "**Before submitting, please make sure to run all cells so that reviewers do not have to run your code to see your results.**\n",
    "\n",
    "Also, please make sure to save your work before uploading to Canvas.\n",
    "You can do this by clicking on `File -> Save` in the menu bar or by pressing `Ctrl-S` (`Cmd-S` on Mac).\n",
    "\n",
    "## Problem 1: Bash Basics\n",
    "\n",
    "First, make sure that you have downloaded and unzipped the contents of the [ion_channel_sequences folder](https://github.com/gofflab/Quant_mol_neuro_2022/tree/main/modules/module_1/pset/ion_channel_sequences) of genome sequence files.\n",
    "This dataset will be included in Canvas for this problemset as well.\n",
    "\n",
    "Then, answer each question using Bash scripting.\n",
    "\n",
    "**Please note that the bash operations should be executed inside a `bash` code chunk like so:**\n"
   ]
  },
  {
   "cell_type": "code",
   "execution_count": null,
   "metadata": {},
   "outputs": [],
   "source": [
    "%%bash"
   ]
  },
  {
   "cell_type": "markdown",
   "metadata": {},
   "source": [
    "You'll need to have your folder of sequence files (`ion_channel_sequence`) in your working directory.\n",
    "\n",
    "**Print your working directory and its contents. (Hint: use `pwd` and `ls`)**\n"
   ]
  },
  {
   "cell_type": "code",
   "execution_count": null,
   "metadata": {},
   "outputs": [],
   "source": [
    "%%bash\n",
    "echo \"Working directory:\"\n",
    "pwd\n",
    "echo \"Contents of working directory:\"\n",
    "ls -l"
   ]
  },
  {
   "cell_type": "markdown",
   "metadata": {},
   "source": [
    "We'll start with `Kcna1.fa`, a FASTA file that contains the genome sequence of a mouse voltage-gated potassium channel.\n",
    "\n",
    "The first line contains a carat `>`, followed by a unique sequence identifier.\n",
    "The actual sequence starts on the next line.\n",
    "\n",
    "**See for yourself by printing the first three lines of the file**. Note that FASTA files can contain multiple sequences, but this one has just one.\n"
   ]
  },
  {
   "cell_type": "code",
   "execution_count": 1,
   "metadata": {},
   "outputs": [
    {
     "name": "stdout",
     "output_type": "stream",
     "text": [
      ">ref|NM_010595.3|:1-8970 Mus musculus potassium voltage-gated channel, shaker-related subfamily, member 1 (Kcna1), mRNA\n",
      "GGGGGCTCCTCAGAGGCTCCGCAGCGGTGGAAGGACTGGAGCTGCTGGCTGCCTCCTCCGGTGCAGCCTG\n",
      "TATCCAGGTGCAGCGGCACTGGGGACGCGGTGCATATCCCTTGCTCAGACTGCCACTGTGACCCTTGCGC\n"
     ]
    }
   ],
   "source": [
    "%%bash\n",
    "head -3 ion_channel_sequences/Kcna1.fa"
   ]
  },
  {
   "cell_type": "markdown",
   "metadata": {},
   "source": [
    "**Print just the sequence into a new file called `Kcna1_sequence.txt`**"
   ]
  },
  {
   "cell_type": "code",
   "execution_count": 12,
   "metadata": {},
   "outputs": [],
   "source": [
    "%%bash\n",
    "\n",
    "tail -n +2 ion_channel_sequences/Kcna1.fa > Kcna1_sequence.txt"
   ]
  },
  {
   "cell_type": "markdown",
   "metadata": {},
   "source": [
    "**How many lines are in `Kcna1_sequence.txt`? How many characters are in the file?**\n",
    "\n",
    "If you subtract the number of lines from the number of characters, you should get the number of nucleotides in the Kcna1 gene.\n",
    "\n",
    "**Why? Answer in a comment.**\n"
   ]
  },
  {
   "cell_type": "code",
   "execution_count": 14,
   "metadata": {},
   "outputs": [
    {
     "name": "stdout",
     "output_type": "stream",
     "text": [
      "     129     129    9099 Kcna1_sequence.txt\n"
     ]
    }
   ],
   "source": [
    "%%bash\n",
    "\n",
    "wc Kcna1_sequence.txt"
   ]
  },
  {
   "cell_type": "markdown",
   "metadata": {},
   "source": [
    "129, 9099. We subtract out \"\\n\"."
   ]
  },
  {
   "cell_type": "markdown",
   "metadata": {},
   "source": [
    "**Count the number of times each nucleotide appears in the _Kcna1_ gene.**"
   ]
  },
  {
   "cell_type": "code",
   "execution_count": 15,
   "metadata": {},
   "outputs": [
    {
     "name": "stdout",
     "output_type": "stream",
     "text": [
      "2267 A\n",
      "2207 C\n",
      "2166 G\n",
      "2330 T\n"
     ]
    }
   ],
   "source": [
    "%%bash\n",
    "\n",
    "fold -w1 Kcna1_sequence.txt | sort | uniq -c  # really?\n"
   ]
  },
  {
   "cell_type": "markdown",
   "metadata": {},
   "source": [
    "Many voltage-gated potassium channels have a signature selectivity filter motif with the amino acid sequence `TVGYG`.\n",
    "The reverse translation of this AA sequence can be modeled using the following DNA codons:\n",
    "\n",
    "`AC[TCAG] GT[TCAG] GG[TCAG] TA[TC] GG[TCAG]`\n",
    "\n",
    "Note the bases in square brackets.\n",
    "This string uses [regular expressions](https://quickref.me/regex) to allow flexibility in the wobble base of each codon.\n",
    "For example the first codon in this motif evaluates to `AC[TCAG]` which, when used with a `grep` search, will find matches that begin with `AC` followed by _any_ base in the range `[TCAG]`.\n",
    "\n",
    "**Use this provided motif sequence as an argument to `grep` to search the _Kcna1_ gene for any instances that match.**\n",
    "\n",
    "Confirm that the _Kcna1_ gene has a sequence that would encode these amino acids.\n",
    "\n",
    "Hint: Your first step should be to remove newline characters from `Kcna1_sequence.txt`."
   ]
  },
  {
   "cell_type": "code",
   "execution_count": 17,
   "metadata": {},
   "outputs": [
    {
     "name": "stdout",
     "output_type": "stream",
     "text": [
      "ACTGTGGGATACGGT\n"
     ]
    }
   ],
   "source": [
    "%%bash\n",
    "tvgyg=\"AC[TCAG]GT[TCAG]GG[TCAG]TA[TC]GG[TCAG]\"\n",
    "\n",
    "cat Kcna1_sequence.txt | tr -d '\\n' | grep -o $tvgyg\n"
   ]
  },
  {
   "cell_type": "markdown",
   "metadata": {},
   "source": [
    "### Part 2: Python"
   ]
  },
  {
   "cell_type": "markdown",
   "metadata": {},
   "source": [
    "1. Here are 25 numbers drawn from a normal distribution. Calculate the mean, standard deviation, and variance of the set.\n",
    "\n",
    "    **Do the mean calculation manually, and then use the built-in functions provided in the **statistics** module for the others.**\n",
    "\n",
    "    **Hint**: The functions `sum`, `len`, `statistics.stdev`, and `statistics.variance` will be useful.\n",
    "    Use the `help` function to learn more about them, if needed."
   ]
  },
  {
   "cell_type": "code",
   "execution_count": 20,
   "metadata": {},
   "outputs": [
    {
     "name": "stdout",
     "output_type": "stream",
     "text": [
      "[10.245326341707864, 9.503155526588797, 11.254785931057462, 9.861940937257188, 9.024179666704676, 10.565050217344965, 8.83235498617007, 11.738025467335527, 9.675490796158401, 11.182326307936343, 11.504353761657875, 11.949497039569765, 12.311774710432584, 9.534829130637144, 11.481342356701061, 11.46816841749334, 10.367803012316621, 9.343104196870232, 9.060388465261997, 9.051983236409392, 10.366470756822187, 9.718266746644588, 10.649728727536722, 7.917214485592975, 9.069458652778662]\n",
      "10.227080794999457\n",
      "(10.227080794999457, 1.1534838840843793, 1.3305250708423857)\n"
     ]
    }
   ],
   "source": [
    "import random\n",
    "import statistics\n",
    "\n",
    "\n",
    "def sample_normal(mean: float, sd: float, *, n: int = 1, seed: int = 42) -> list[float]:\n",
    "    \"\"\"Draw n samples from a normal distribution with given mean and standard deviation\"\"\"\n",
    "    random.seed(seed)\n",
    "    return [random.normalvariate(mean, sd) for _ in range(n)]\n",
    "\n",
    "\n",
    "my_samples = sample_normal(10, 1, n=25)\n",
    "\n",
    "print(my_samples)\n",
    "\n",
    "## your manual mean calculation code here\n",
    "manual_mean = sum(my_samples) / len(my_samples)\n",
    "\n",
    "print(manual_mean)\n",
    "\n",
    "## Calculate mean, sd, and variance using statistics module\n",
    "mean = statistics.mean(my_samples)\n",
    "sd = statistics.stdev(my_samples)\n",
    "var = statistics.variance(my_samples)\n",
    "\n",
    "print((mean, sd, var))"
   ]
  },
  {
   "cell_type": "markdown",
   "metadata": {},
   "source": [
    "From `my_samples` above, print out the following:\n",
    "- The first five elements (remember that python begins with index 0)\n",
    "- The last five elements\n",
    "- The 13th and 14th elements"
   ]
  },
  {
   "cell_type": "markdown",
   "metadata": {},
   "source": [
    "2. You are given a sample of a DNA plasmid with a known concentration of 1.85 μg/μL and a length of 1,354 bases, and are asked to calculate the molarity of the sample. \n",
    "\n",
    "  * **Create a function to calculate the molarity of a double-stranded DNA molecule given this information**\n",
    "    (Google is your friend here to find the formula and the molecular weight for an 'average' oligonucleotide base pair)."
   ]
  },
  {
   "cell_type": "code",
   "execution_count": 22,
   "metadata": {},
   "outputs": [
    {
     "data": {
      "text/plain": [
       "2.0701848619130745e-06"
      ]
     },
     "execution_count": 22,
     "metadata": {},
     "output_type": "execute_result"
    }
   ],
   "source": [
    "def calc_molarity(plasmid_length: int, conc: float) -> float:\n",
    "    \"\"\"Calculate molarity of a DNA sample given its length and concentration\"\"\"\n",
    "    return conc / (plasmid_length * 660)\n",
    "\n",
    "\n",
    "# Test your function with the above values\n",
    "plasmid_length = 1354\n",
    "conc = 1.85\n",
    "calc_molarity(plasmid_length, conc)"
   ]
  },
  {
   "cell_type": "markdown",
   "metadata": {},
   "source": [
    "  * You receive another plasmid with a length of 2,500 bases. You make a series of 10 dilutions ranging from 0-10 μg/μl.\n",
    "  \n",
    "    **Construct a loop or list comprehension to calculate the molarity of each dilution. (hint: help(range))**"
   ]
  },
  {
   "cell_type": "code",
   "execution_count": 23,
   "metadata": {},
   "outputs": [
    {
     "data": {
      "text/plain": [
       "[0.0,\n",
       " 1.1190188442773376e-06,\n",
       " 2.238037688554675e-06,\n",
       " 3.357056532832013e-06,\n",
       " 4.47607537710935e-06,\n",
       " 5.5950942213866884e-06,\n",
       " 6.714113065664026e-06,\n",
       " 7.833131909941364e-06,\n",
       " 8.9521507542187e-06,\n",
       " 1.0071169598496038e-05,\n",
       " 1.1190188442773377e-05]"
      ]
     },
     "execution_count": 23,
     "metadata": {},
     "output_type": "execute_result"
    }
   ],
   "source": [
    "[calc_molarity(plasmid_length, conc) for conc in range(11)]"
   ]
  },
  {
   "cell_type": "markdown",
   "metadata": {},
   "source": [
    "3. Using either a for loop or a list comprehension approach, **translate the following formulae and solve for the indicated range of values**.\n",
    "    * $x^2$ for $x:\\{0 ... 9\\}$\n",
    "    * $2^x$ for all even numbers between 0 and 20\n",
    "    * $3x^4-2x^3+17x$ for $x:\\{1 ... 200\\}$"
   ]
  },
  {
   "cell_type": "code",
   "execution_count": 24,
   "metadata": {},
   "outputs": [
    {
     "data": {
      "text/plain": [
       "[0, 1, 4, 9, 16, 25, 36, 49, 64, 81]"
      ]
     },
     "execution_count": 24,
     "metadata": {},
     "output_type": "execute_result"
    }
   ],
   "source": [
    "[x**2 for x in range(10)]"
   ]
  },
  {
   "cell_type": "code",
   "execution_count": 25,
   "metadata": {},
   "outputs": [
    {
     "data": {
      "text/plain": [
       "[1, 4, 16, 64, 256, 1024, 4096, 16384, 65536, 262144, 1048576]"
      ]
     },
     "execution_count": 25,
     "metadata": {},
     "output_type": "execute_result"
    }
   ],
   "source": [
    "[2**x for x in range(0, 21, 2)]"
   ]
  },
  {
   "cell_type": "code",
   "execution_count": 27,
   "metadata": {},
   "outputs": [
    {
     "name": "stdout",
     "output_type": "stream",
     "text": [
      "[18, 66, 240, 708, 1710, 3558, 6636, 11400, 18378, 28170, 41448, 58956, 81510, 109998, 145380, 188688, 241026, 303570, 377568, 464340, 565278, 681846, 815580, 968088, 1141050, 1336218, 1555416, 1800540, 2073558, 2376510, 2711508, 3080736, 3486450, 3930978, 4416720, 4946148, 5521806, 6146310, 6822348, 7552680, 8340138, 9187626, 10098120, 11074668, 12120390, 13238478, 14432196, 15704880, 17059938, 18500850, 20031168, 21654516, 23374590, 25195158, 27120060, 29153208, 31298586, 33560250, 35942328, 38449020, 41084598, 43853406, 46759860, 49808448, 53003730, 56350338, 59852976, 63516420, 67345518, 71345190, 75520428, 79876296, 84417930, 89150538, 94079400, 99209868, 104547366, 110097390, 115865508, 121857360, 128078658, 134535186, 141232800, 148177428, 155375070, 162831798, 170553756, 178547160, 186818298, 195373530, 204219288, 213362076, 222808470, 232565118, 242638740, 253036128, 263764146, 274829730, 286239888, 298001700, 310122318, 322608966, 335468940, 348709608, 362338410, 376362858, 390790536, 405629100, 420886278, 436569870, 452687748, 469247856, 486258210, 503726898, 521662080, 540071988, 558964926, 578349270, 598233468, 618626040, 639535578, 660970746, 682940280, 705452988, 728517750, 752143518, 776339316, 801114240, 826477458, 852438210, 879005808, 906189636, 933999150, 962443878, 991533420, 1021277448, 1051685706, 1082768010, 1114534248, 1146994380, 1180158438, 1214036526, 1248638820, 1283975568, 1320057090, 1356893778, 1394496096, 1432874580, 1472039838, 1512002550, 1552773468, 1594363416, 1636783290, 1680044058, 1724156760, 1769132508, 1814982486, 1861717950, 1909350228, 1957890720, 2007350898, 2057742306, 2109076560, 2161365348, 2214620430, 2268853638, 2324076876, 2380302120, 2437541418, 2495806890, 2555110728, 2615465196, 2676882630, 2739375438, 2802956100, 2867637168, 2933431266, 3000351090, 3068409408, 3137619060, 3207992958, 3279544086, 3352285500, 3426230328, 3501391770, 3577783098, 3655417656, 3734308860, 3814470198, 3895915230, 3978657588, 4062710976, 4148089170, 4234806018, 4322875440, 4412311428, 4503128046, 4595339430, 4688959788, 4784003400]\n"
     ]
    }
   ],
   "source": [
    "print([3 * x**4 - 2 * x**3 + 17 * x for x in range(1, 201)])"
   ]
  },
  {
   "cell_type": "markdown",
   "metadata": {},
   "source": [
    "4. Solve the following equation for $x$:\n",
    "\n",
    "    $x = p^2 + 2pq + q^2$ where $0<p<1$ and $q=1-p$ over the range of P values provided below. "
   ]
  },
  {
   "cell_type": "code",
   "execution_count": 28,
   "metadata": {},
   "outputs": [],
   "source": [
    "# Here are the range of p's you will need (note 0<p<1 and the Set P variable is capitalized.)\n",
    "P = [0.0, 0.2, 0.33, 0.5, 0.66666667, 0.99]\n",
    "\n",
    "\n",
    "# First define a function `q` that takes p as an argument and returns q (ie. q=1-p)\n",
    "def q(p: float):\n",
    "    return 1 - p"
   ]
  },
  {
   "cell_type": "markdown",
   "metadata": {},
   "source": [
    "Using either a list comprehension or a for-loop along with your newly created `q` function, \n",
    "\n",
    "**translate the above formula and calculate the solution over the values in `P`**"
   ]
  },
  {
   "cell_type": "code",
   "execution_count": 29,
   "metadata": {},
   "outputs": [
    {
     "name": "stdout",
     "output_type": "stream",
     "text": [
      "-1.0\n",
      "-0.28\n",
      "0.10220000000000012\n",
      "0.5\n",
      "0.7777777822222222\n",
      "0.9998\n"
     ]
    }
   ],
   "source": [
    "# Below is a pseudocode template to help you get started\n",
    "\n",
    "for p in P:\n",
    "    # Find q for given p\n",
    "    q_ = q(p)  # not the best idea to name a function and a variable the same thing\n",
    "    x = p**2 + 2 * p * q_ - q_**2  # put your formula here using p and q\n",
    "    print(x)"
   ]
  },
  {
   "cell_type": "markdown",
   "metadata": {},
   "source": [
    "_Bonus points: What is the name of this formula and what does it describe?_"
   ]
  },
  {
   "cell_type": "markdown",
   "metadata": {},
   "source": [
    "Answer: Technically, this is a binomial expansion of $(p+q)^2$ such that $p+q=1$. Hardy-Weinberg is the name of the formula that describes the frequency of alleles in an ideal population."
   ]
  },
  {
   "cell_type": "markdown",
   "metadata": {},
   "source": [
    "#### Python functions\n",
    "\n",
    "5. Write a function that takes a DNA sequence as an argument and:\n",
    "    * a) Checks to make sure that the DNA sequence uses only appropriate nucleotides\n",
    "    * b) Returns a tuple containing the **GC content, length, and reverse complement sequence** of the input DNA molecule\n",
    "    \n",
    "**Hint:** _you can define functions for each of the requested properties and another function to create/organize the output_"
   ]
  },
  {
   "cell_type": "code",
   "execution_count": 1,
   "metadata": {},
   "outputs": [
    {
     "name": "stdout",
     "output_type": "stream",
     "text": [
      "(0.5238095238095238, 21, 'CGTACCGTCAAGATCGTACTG')\n"
     ]
    }
   ],
   "source": [
    "def is_DNA(seq: str) -> bool:\n",
    "    \"\"\"Test whether a given sequence is a valid DNA sequence (ie contains only ATGC bases).\n",
    "    Should return True or False depending on whether the sequence is valid.\"\"\"\n",
    "    return all(base in \"ATGC\" for base in seq)\n",
    "\n",
    "\n",
    "def calc_GC(seq: str) -> float:\n",
    "    \"\"\"Calculate the GC percent of the DNA sequence passed in as an argument.\"\"\"\n",
    "    return (seq.count(\"G\") + seq.count(\"C\")) / len(seq)\n",
    "\n",
    "\n",
    "def revcomp(seq: str) -> str:\n",
    "    \"\"\"Take a DNA sequence (seq) and return the reverse complement\n",
    "    Hint: you can create a dictionary of complemntary bases and use that to look up the complement of a given base\n",
    "    \"\"\"\n",
    "    complements = dict(zip(\"ATGCatgc\", \"TACGtacg\"))\n",
    "    try:\n",
    "        return \"\".join(complements[base] for base in reversed(seq))\n",
    "    except KeyError as e:\n",
    "        print(e, \"Invalid DNA sequence\")\n",
    "        return \"\"\n",
    "\n",
    "    # The best way is to precompute the complements and then join them together.\n",
    "    complements_ = str.maketrans(complements)\n",
    "    return seq.translate(complements_)[::-1]\n",
    "\n",
    "\n",
    "def main(seq: str) -> tuple[float, int, str]:\n",
    "    \"\"\"Take an input sequence and process through each of the functions described above and return a tuple of the results\"\"\"\n",
    "    return calc_GC(seq), len(seq), revcomp(seq)\n",
    "\n",
    "\n",
    "# Test your main() function with the following sequence:\n",
    "test_seq = \"CAGTACGATCTTGACGGTACG\"\n",
    "print(main(test_seq))"
   ]
  },
  {
   "cell_type": "markdown",
   "metadata": {},
   "source": [
    "c) Apply your main() function to calculate the above parameters of interest (b) for all of the following of sequences in the `dna_seqs` list."
   ]
  },
  {
   "cell_type": "code",
   "execution_count": 2,
   "metadata": {},
   "outputs": [
    {
     "name": "stdout",
     "output_type": "stream",
     "text": [
      "'I' Invalid DNA sequence\n"
     ]
    },
    {
     "data": {
      "text/plain": [
       "[(0.375, 32, 'GCATAGCACTATACCTAATAATCCGCTGATAA'),\n",
       " (0.4444444444444444, 18, 'CACAAATCGCTAATCTCG'),\n",
       " (0.5465116279069767, 86, ''),\n",
       " (0.0, 33, 'gctacgtacgatccgatcgctcagtagctcgta'),\n",
       " (0.0, 46, 'TTTTTTTTTTTTTTTTTTTTTTTTTTTTTTTTTTTTTTTTTTTTTT'),\n",
       " (0.4794520547945205,\n",
       "  146,\n",
       "  'AGTCGTCGCGCTAAAGAATAATCAGATGCTAGTAGCTCGATGATAGCTAGCTAGCTAGCTCGATAGCGCTCGATGCTCGCTGCGCAGATAGCATCGATAGTCGAATAGTCGCTCGCTAGAATAGACTACTAGCTCGATATTAAGCC')]"
      ]
     },
     "execution_count": 2,
     "metadata": {},
     "output_type": "execute_result"
    }
   ],
   "source": [
    "dna_seqs = [\n",
    "    \"TTATCAGCGGATTATTAGGTATAGTGCTATGC\",\n",
    "    \"CGAGATTAGCGATTTGTG\",\n",
    "    \"GGTATACTCTGCACGACGAGCGAGCGACGGACGACGGCICGATCTATCTA\"\n",
    "    \"ACGTACGTACGTACGTACGTACGTACGTACGTACGT\",\n",
    "    \"tacgagctactgagcgatcggatcgtacgtagc\",\n",
    "    \"AAAAAAAAAAAAAAAAAAAAAAAAAAAAAAAAAAAAAAAAAAAAAA\",\n",
    "    \"GGCTTAATATCGAGCTAGTAGTCTATTCTAGCGAGCGACTATTCGACTATCGATGCTATCTGCGCAGCGAGCATCGAGCGCTATCGAGCTAGCTAGCTAGCTATCATCGAGCTACTAGCATCTGATTATTCTTTAGCGCGACGACT\",\n",
    "]\n",
    "\n",
    "[main(seq) for seq in dna_seqs]"
   ]
  },
  {
   "cell_type": "markdown",
   "metadata": {},
   "source": [
    "### Undefined behavior for I"
   ]
  },
  {
   "cell_type": "markdown",
   "metadata": {},
   "source": []
  }
 ],
 "metadata": {
  "kernelspec": {
   "display_name": "bcmbbootcamp2022",
   "language": "python",
   "name": "python3"
  },
  "language_info": {
   "codemirror_mode": {
    "name": "ipython",
    "version": 3
   },
   "file_extension": ".py",
   "mimetype": "text/x-python",
   "name": "python",
   "nbconvert_exporter": "python",
   "pygments_lexer": "ipython3",
   "version": "3.11.4"
  },
  "orig_nbformat": 4
 },
 "nbformat": 4,
 "nbformat_minor": 2
}
