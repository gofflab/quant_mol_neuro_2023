{
 "cells": [
  {
   "cell_type": "markdown",
   "metadata": {},
   "source": [
    "# Problem Set 1: Intro to Bash and Python\n",
    "## Due Monday September 11th, 11:30AM\n",
    "Please submit this assignment by uploading the completed Jupyter notebook to Canvas.  Before submitting, please make sure to run all cells so that reviewers do not have to run your code to see your results.  Also, please make sure to save your work before uploading to Canvas.  You can do this by clicking on `File -> Save` in the menu bar or by pressing `Ctrl-S` (`Cmd-S` on Mac).\n",
    "\n",
    "### Problem 1: Bash Basics\n",
    "First, make sure that you have downloaded and unzipped the contents of the [ion_channel_sequences folder](https://github.com/gofflab/Quant_mol_neuro_2022/tree/main/modules/module_1/pset/ion_channel_sequences) of genome sequence files. This dataset will be included in Canvas for this problemset as well.\n",
    "\n",
    "Then, answer each question using Bash scripting. Please note that the bash operations should be executed inside a `bash` code chunk like so:\n"
   ]
  },
  {
   "cell_type": "code",
   "execution_count": null,
   "metadata": {},
   "outputs": [],
   "source": [
    "%%bash"
   ]
  },
  {
   "cell_type": "markdown",
   "metadata": {},
   "source": [
    "You'll need to have your folder of sequence files (`ion_channel_sequence`) in your working directory. Print your working directory and its contents. (Hint: use `pwd` and `ls`)\n",
    "\n",
    "```bash"
   ]
  },
  {
   "cell_type": "code",
   "execution_count": null,
   "metadata": {},
   "outputs": [],
   "source": [
    "%%bash\n",
    "echo \"Working directory:\"\n",
    "pwd\n",
    "echo \"Contents of working directory:\"\n",
    "ls -l"
   ]
  },
  {
   "cell_type": "markdown",
   "metadata": {},
   "source": [
    "We'll start with Kcna1.fa, a FASTA file that contains the genome sequence of a mouse voltage-gated potassium channel. The first line contains a carat (\"\\>\"), followed by a unique sequence identifier. The actual sequence starts on the next line. See for yourself by printing the first three lines of the file. Note that FASTA files can contain multiple sequences, but this one has just one.\n"
   ]
  },
  {
   "cell_type": "code",
   "execution_count": 2,
   "metadata": {},
   "outputs": [
    {
     "name": "stdout",
     "output_type": "stream",
     "text": [
      ">ref|NM_010595.3|:1-8970 Mus musculus potassium voltage-gated channel, shaker-related subfamily, member 1 (Kcna1), mRNA\n",
      "GGGGGCTCCTCAGAGGCTCCGCAGCGGTGGAAGGACTGGAGCTGCTGGCTGCCTCCTCCGGTGCAGCCTG\n",
      "TATCCAGGTGCAGCGGCACTGGGGACGCGGTGCATATCCCTTGCTCAGACTGCCACTGTGACCCTTGCGC\n"
     ]
    }
   ],
   "source": [
    "%%bash\n",
    "head -3 ion_channel_sequences/Kcna1.fa"
   ]
  },
  {
   "cell_type": "markdown",
   "metadata": {},
   "source": [
    "Print just the sequence into a new file called Kcna1_sequence.txt"
   ]
  },
  {
   "cell_type": "code",
   "execution_count": null,
   "metadata": {},
   "outputs": [],
   "source": [
    "%%bash\n"
   ]
  },
  {
   "cell_type": "markdown",
   "metadata": {},
   "source": [
    "How many lines are in Kcna1_sequence.txt? How many characters are in the file? If you subtract the number of lines from the number of characters, you should get the number of nucleotides in the Kcna1 gene. Why? Answer in a comment.\n"
   ]
  },
  {
   "cell_type": "code",
   "execution_count": null,
   "metadata": {},
   "outputs": [],
   "source": [
    "%%bash"
   ]
  },
  {
   "cell_type": "markdown",
   "metadata": {},
   "source": [
    "Count the number of times each nucleotide appears in the Kcna1 gene."
   ]
  },
  {
   "cell_type": "code",
   "execution_count": null,
   "metadata": {},
   "outputs": [],
   "source": []
  },
  {
   "cell_type": "markdown",
   "metadata": {},
   "source": [
    "Many voltage-gated potassium channels have a signature selectivity filter motif with the amino acid sequence `TVGYG`. The reverse translation of this AA sequence can be modeled using the following DNA codons:\n",
    "\n",
    "`AC[TCAG] GT[TCAG] GG[TCAG] TA[TC] GG[TCAG]`\n",
    "\n",
    "Note the bases in square brackets. This string uses [regular expressions](https://quickref.me/regex) to allow flexibility in the wobble base of each codon. For example the first codon in this motif evaluates to `AC[TCAG]` which, when used with a grep search, will find matches that begin with `AC` followed by _any_ base in the range `[TCAG]`. Use this provided motif sequence as an argument to `grep` to search the Kcna1 gene for any instances that match.\n",
    "\n",
    "Confirm that the Kcna1 gene has a sequence that would encode these amino acids. _Hint: Your first step should be to remove newline characters from Kcna1_sequence.txt._"
   ]
  },
  {
   "cell_type": "code",
   "execution_count": null,
   "metadata": {},
   "outputs": [],
   "source": [
    "%%bash\n",
    "tvgyg=\"AC[TCAG]GT[TCAG]GG[TCAG]TA[TC]GG[TCAG]\"\n"
   ]
  },
  {
   "cell_type": "markdown",
   "metadata": {},
   "source": [
    "## Part 2: Python"
   ]
  },
  {
   "cell_type": "markdown",
   "metadata": {},
   "source": [
    "1. Here are 25 numbers drawn from a normal distribution. Calculate the mean, standard deviation, and variance of the set. Do the mean calculation manually, and then use the built-in functions provided in the **statistics** module for the others.\n",
    "\n",
    "**Hint**: The functions *sum*, *len*, *statistics.stdev*, and *statistics.variance* will be useful. Use the *help()* command to learn more about them, if needed."
   ]
  },
  {
   "cell_type": "code",
   "execution_count": null,
   "metadata": {},
   "outputs": [],
   "source": [
    "my_samples = [8.343003931051403, 10.983139316643154, 10.028263738536845, 10.030605626392367, 10.479262011457655, 11.003444821427529,\n",
    "  11.15941163985765, 8.572931560317459, 10.734225011659504, 9.42236611877579, 9.428287552964232, 12.751301969731728, 9.175698518027408,\n",
    "   13.277810638831117, 10.36739357419826, 9.586251108314395, 10.427168797319448, 9.598709847965262, 8.687074988292876, 9.964044897601617,\n",
    "    10.452622225611169, 10.180824722303885, 9.671712590995602, 11.232140649632495, 12.024224902990818]\n",
    " \n",
    " ## your manual mean calculation code here\n",
    "mean = ???\n",
    "\n",
    "## Calculate mean, sd, and variance using statistics module\n",
    "\n",
    "mean = ???\n",
    "\n",
    "sd = ???\n",
    "\n",
    "var = ???\n",
    "\n",
    "\n",
    "print((mean, sd, var))\n"
   ]
  },
  {
   "cell_type": "markdown",
   "metadata": {},
   "source": [
    "From *my_samples* above, print out the following:\n",
    "- The first five elements (remember that python begins with index 0)\n",
    "- The last five elements\n",
    "- The 13th and 14th elements"
   ]
  },
  {
   "cell_type": "code",
   "execution_count": null,
   "metadata": {},
   "outputs": [],
   "source": [
    "\n",
    "???"
   ]
  },
  {
   "cell_type": "markdown",
   "metadata": {},
   "source": [
    "2. You are given a sample of a DNA plasmid with a known concentration of 1.85ug/uL and a length of 1,354 bases, and are asked to calculate the molarity of the sample. \n",
    "\n",
    "  * Create a function to calculate the molarity of a double-stranded DNA molecule given this information. (Google is your friend here to find the formula and the molecular weight for an 'average' oligonucleotide base pair)."
   ]
  },
  {
   "cell_type": "code",
   "execution_count": null,
   "metadata": {},
   "outputs": [],
   "source": [
    "def calcMolarity(plasmidLength,conc):\n",
    "    \n",
    "    return(mol)\n",
    "\n",
    "\n",
    "#Test your function with the above values\n",
    "plasmidLength = 1354\n",
    "conc = 1.85\n",
    "\n"
   ]
  },
  {
   "cell_type": "markdown",
   "metadata": {},
   "source": [
    "  * You receive another plasmid with a length of 2,500 bases. You make a series of 10 dilutions ranging from 0-10ug/ul. Construct a loop or list comprehension to calculate the molarity of each dilution. (hint: help(range))"
   ]
  },
  {
   "cell_type": "code",
   "execution_count": null,
   "metadata": {},
   "outputs": [],
   "source": [
    "???"
   ]
  },
  {
   "cell_type": "markdown",
   "metadata": {},
   "source": [
    "3. Using either a for loop or a list comprehension approach, translate the following formulae and solve for the indicated range of values\n",
    "\n",
    "* $x^2$ for $x:\\{0 ... 9\\}$"
   ]
  },
  {
   "cell_type": "code",
   "execution_count": null,
   "metadata": {},
   "outputs": [],
   "source": []
  },
  {
   "cell_type": "markdown",
   "metadata": {},
   "source": [
    "* $2^x$ for all even numbers between 0 and 20"
   ]
  },
  {
   "cell_type": "code",
   "execution_count": null,
   "metadata": {},
   "outputs": [],
   "source": []
  },
  {
   "cell_type": "markdown",
   "metadata": {},
   "source": [
    "* $3x^4-2x^3+17x$ for $x:\\{1 ... 200\\}$"
   ]
  },
  {
   "cell_type": "code",
   "execution_count": null,
   "metadata": {},
   "outputs": [],
   "source": []
  },
  {
   "cell_type": "markdown",
   "metadata": {},
   "source": [
    "4. Solve the following equation for $x$:\n",
    "\n",
    "$x = p^2 + 2pq + q^2$ where $0<p<1$ and $q=1-p$ over the range of P values provided below. "
   ]
  },
  {
   "cell_type": "code",
   "execution_count": null,
   "metadata": {},
   "outputs": [],
   "source": [
    "#Here are the range of p's you will need (note 0<p<1 and the Set P variable is capitalized.)\n",
    "P = [0.0,0.2,0.33,0.5,0.66666667,0.99]\n",
    "\n",
    "#First define a function q() that takes p as an argument and returns q (ie. q=1-p)\n",
    "def getq(p):\n",
    "    ???\n",
    "    return(q)\n",
    "\n",
    "\n",
    "#Using list comprehension or a for loop, and your newly created q() function translate the above formula and calculate the solution over the values in P\n",
    "#Below is a pseudocode template to help you get started\n",
    "\n",
    "# for p in P:\n",
    "#     Find q for given p\n",
    "#     x = ??? #put your formula here using p and q\n",
    "#     print(x)\n",
    "    \n"
   ]
  },
  {
   "cell_type": "markdown",
   "metadata": {},
   "source": [
    "_Bonus points: What is the name of this formula and what does it describe?_"
   ]
  },
  {
   "cell_type": "markdown",
   "metadata": {},
   "source": []
  },
  {
   "cell_type": "markdown",
   "metadata": {},
   "source": [
    "#### Python functions\n",
    "\n",
    "5. Write a function that takes a DNA sequence as an argument and:\n",
    "    * a) Checks to make sure that the DNA sequence uses only appropriate nucleotides\n",
    "    * b) Returns a tuple containing the GC content, length, and reverse complement sequence of the input DNA molecule\n",
    "    \n",
    "**Hint:** _you can define functions for each of the requested properties and another function to create/organize the output_"
   ]
  },
  {
   "cell_type": "code",
   "execution_count": null,
   "metadata": {},
   "outputs": [],
   "source": [
    "def is_DNA(seq):\n",
    "    # Test whether a given sequence is a valid DNA sequence (ie contains only ATGC bases).\n",
    "    # Should return True or False depending on whether the sequence is valid.\n",
    "    return()\n",
    "    \n",
    "\n",
    "def calc_GC(seq):\n",
    "    # Calculate the GC percent of the DNA sequence passed in as an argument.\n",
    "    \n",
    "    return(gc)\n",
    "    \n",
    "\n",
    "def revcomp(seq):\n",
    "    # Take a DNA sequence (seq) and return the reverse complement\n",
    "    # Hint: you can create a dictionary of complemntary bases and use that to look up the complement of a given base.\n",
    "    complements = {}\n",
    "    \n",
    "    return(revcomp)\n",
    "        \n",
    "    \n",
    "def main():\n",
    "    # Your 'main' function to take an input sequence and process through each of the functions described above and return a tuple of the results.\n",
    "\n",
    "\n",
    "# Test your main() function with the following sequence:\n",
    "test_seq = 'CAGTACGATCTTGACGGTACG'\n",
    "print(main(test_seq))"
   ]
  },
  {
   "cell_type": "markdown",
   "metadata": {},
   "source": [
    "c) Apply your function(s) to calculate the above parameters of interest (b) for all of the following of sequences."
   ]
  },
  {
   "cell_type": "code",
   "execution_count": null,
   "metadata": {},
   "outputs": [],
   "source": [
    "dna_seqs=[\n",
    "    'TTATCAGCGGATTATTAGGTATAGTGCTATGC',\n",
    "    'CGAGATTAGCGATTTGTG',\n",
    "    'GGTATACTCTGCACGACGAGCGAGCGACGGACGACGGCICGATCTATCTA'\n",
    "    'ACGTACGTACGTACGTACGTACGTACGTACGTACGT',\n",
    "    'tacgagctactgagcgatcggatcgtacgtagc',\n",
    "    'AAAAAAAAAAAAAAAAAAAAAAAAAAAAAAAAAAAAAAAAAAAAAA',\n",
    "    'GGCTTAATATCGAGCTAGTAGTCTATTCTAGCGAGCGACTATTCGACTATCGATGCTATCTGCGCAGCGAGCATCGAGCGCTATCGAGCTAGCTAGCTAGCTATCATCGAGCTACTAGCATCTGATTATTCTTTAGCGCGACGACT'\n",
    "]\n"
   ]
  }
 ],
 "metadata": {
  "kernelspec": {
   "display_name": "bcmbbootcamp2022",
   "language": "python",
   "name": "python3"
  },
  "language_info": {
   "codemirror_mode": {
    "name": "ipython",
    "version": 3
   },
   "file_extension": ".py",
   "mimetype": "text/x-python",
   "name": "python",
   "nbconvert_exporter": "python",
   "pygments_lexer": "ipython3",
   "version": "3.8.8"
  },
  "orig_nbformat": 4
 },
 "nbformat": 4,
 "nbformat_minor": 2
}
