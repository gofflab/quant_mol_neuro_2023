{
 "cells": [
  {
   "cell_type": "markdown",
   "metadata": {},
   "source": [
    " # Module 5 Problem Set\n",
    " Name: **<Your Name>**"
   ]
  },
  {
   "cell_type": "markdown",
   "metadata": {},
   "source": [
    " For this week's problemset, we will be looking at the following study:\n",
    "\n",
    " * Dumitriu, A., Golji, J., Labadorf, A.T. et al. Integrative analyses of proteomics and RNA transcriptomics implicate mitochondrial processes, protein folding pathways and GWAS loci in Parkinson disease. BMC Med Genomics 9, 5 (2015). [https://doi.org/10.1186/s12920-016-0164-y](https://doi.org/10.1186/s12920-016-0164-y)\n",
    "\n",
    " Summary:\n",
    "\n",
    " Parkinson disease (PD) is marked by the accumulation of specific proteins in neuron aggregates, with previous studies focusing mainly on DNA sequence variants and RNA levels.\n",
    " In this research, both state-of-the-art proteomics and RNA-sequencing technologies were employed to analyze prefrontal cortex samples from PD patients and healthy controls.\n",
    " The study identified significant differences in proteins and genes between PD and controls, revealing insights into mitochondrial-related pathways and protein folding pathways, and highlighted the benefit of combining multiple genome-wide platforms to gain a deeper understanding of PD pathology.\n",
    "\n",
    " You will be locating the data and metadata associated with this study, and performing some basic quality control analyses on a subset of the RNA-Seq data.\n",
    "\n"
   ]
  },
  {
   "cell_type": "markdown",
   "metadata": {},
   "source": [
    " **What is the GEO accession number for this study?**\n"
   ]
  },
  {
   "cell_type": "markdown",
   "metadata": {},
   "source": [
    " Answer:\n"
   ]
  },
  {
   "cell_type": "markdown",
   "metadata": {},
   "source": [
    " **Briefly describe the different types of data that the authors have made available under this study accession number?**\n"
   ]
  },
  {
   "cell_type": "markdown",
   "metadata": {},
   "source": [
    " Answer:\n"
   ]
  },
  {
   "cell_type": "markdown",
   "metadata": {},
   "source": [
    "### Sample Metadata\n",
    " Visit the GEO (Gene Expression Omnibus) database and locate the GEO series with the above accession number.\n",
    "\n",
    " **What is the url of the GEO series for this dataset?**\n"
   ]
  },
  {
   "cell_type": "markdown",
   "metadata": {},
   "source": [
    " Answer:\n"
   ]
  },
  {
   "cell_type": "markdown",
   "metadata": {},
   "source": [
    " **How many samples (in total, all samples) are present in this GEO series?**\n"
   ]
  },
  {
   "cell_type": "markdown",
   "metadata": {},
   "source": [
    " Answer:\n"
   ]
  },
  {
   "cell_type": "markdown",
   "metadata": {},
   "source": [
    " Open the 'SRA Run Selector' link for this series and download the metadata (sample information) for this study.\n",
    "\n",
    " **Load the metadata (the text file is actually a .csv) into a pandas dataframe**, show your work below and **print the first 5 rows of the dataframe**."
   ]
  },
  {
   "cell_type": "code",
   "execution_count": null,
   "metadata": {},
   "outputs": [],
   "source": [
    "import pandas as pd\n",
    "\n",
    "# Your code here:\n"
   ]
  },
  {
   "cell_type": "markdown",
   "metadata": {},
   "source": [
    " We are going to focus on one specific sample. The sample we are after has a `BioSample` id of `SAMN03651528`.\n",
    "\n",
    " `BioSample` is one of the columns in the metadata dataframe you just created.\n",
    "\n",
    " Fiter your dataframe to find the `Run` column value (SRR accession number) for the sample with the `BioSample` id of `SAMN03651528`.\n"
   ]
  },
  {
   "cell_type": "code",
   "execution_count": null,
   "metadata": {},
   "outputs": [],
   "source": [
    "# Your code here:\n",
    "\n"
   ]
  },
  {
   "cell_type": "markdown",
   "metadata": {},
   "source": [
    "### Fetching a Fastq File\n",
    " Next you will locate and download the .fastq.gz file associated with the `BioSample` named `SAMN03651528`.\n",
    "\n",
    " We have provided a function below that will download the file for you, given the SRA `RUN` accession number (SRR...) for a given sample.\n",
    "\n",
    " You will need to provide the SRA `RUN` accession number for the sample you selected above to the function below.\n",
    "\n",
    " **Note:** This file is ~2.2Gb so it may take some time to download and will take up space on your computer."
   ]
  },
  {
   "cell_type": "code",
   "execution_count": null,
   "metadata": {},
   "outputs": [],
   "source": [
    "from urllib.request import urlretrieve\n",
    "\n",
    "def download_fastq(SRRAccession):\n",
    "    baseURL = \"https://www.be-md.ncbi.nlm.nih.gov/Traces/sra-reads-be/fastq?acc=\"\n",
    "    fname = SRRAccession + \".fastq.gz\"\n",
    "    path, headers = urlretrieve(baseURL + SRRAccession, fname)\n",
    "    return path\n",
    "\n",
    "# Use the function above to download the fastq.gz file for the 'SAMN03651528' sample using it's SRR accession number.\n",
    "\n",
    "SRR_ID = ''\n",
    "download_fastq(SRR_ID)\n"
   ]
  },
  {
   "cell_type": "markdown",
   "metadata": {},
   "source": [
    "### FastQC Analysis\n",
    " After downloading the FASTQ file, perform a quality control check using FastQC.\n",
    "\n",
    " If you need to install fastqc on your computer, you can do so using mamba:\n",
    "\n",
    " `mamba install -c bioconda fastqc`"
   ]
  },
  {
   "cell_type": "code",
   "execution_count": null,
   "metadata": {},
   "outputs": [],
   "source": [
    "# Run fastqc on the fastq file you downloaded above.\n",
    "%%bash\n"
   ]
  },
  {
   "cell_type": "markdown",
   "metadata": {},
   "source": [
    " Use the information in the fastqc .html report to answer the following questions\n"
   ]
  },
  {
   "cell_type": "markdown",
   "metadata": {},
   "source": [
    " **How many Total Sequences are in the fastq file for this sample?**"
   ]
  },
  {
   "cell_type": "markdown",
   "metadata": {},
   "source": [
    " Answer:\n"
   ]
  },
  {
   "cell_type": "markdown",
   "metadata": {},
   "source": [
    " **What is the sequence length of the reads?**\n"
   ]
  },
  {
   "cell_type": "markdown",
   "metadata": {},
   "source": [
    " Answer:\n"
   ]
  },
  {
   "cell_type": "markdown",
   "metadata": {},
   "source": [
    " **Which two metrics are indicating warnings (yellow)? For each, describe what you think may be causing the deviation from the expected result.**\n"
   ]
  },
  {
   "cell_type": "markdown",
   "metadata": {},
   "source": [
    " Answer:\n"
   ]
  },
  {
   "cell_type": "markdown",
   "metadata": {},
   "source": [
    " **Which two metrics are indicating significant issues (red)?**\n"
   ]
  },
  {
   "cell_type": "markdown",
   "metadata": {},
   "source": [
    " Answer:\n"
   ]
  },
  {
   "cell_type": "markdown",
   "metadata": {},
   "source": [
    " Take a look at the \"Overrepresented sequences\" section.\n",
    "\n",
    " **List any overrepresented sequences.**\n"
   ]
  },
  {
   "cell_type": "markdown",
   "metadata": {},
   "source": [
    "\n"
   ]
  },
  {
   "cell_type": "markdown",
   "metadata": {},
   "source": [
    " **Describe how these overrepresented sequences may have arisen.**\n"
   ]
  },
  {
   "cell_type": "markdown",
   "metadata": {},
   "source": [
    " Answer:\n"
   ]
  },
  {
   "cell_type": "markdown",
   "metadata": {},
   "source": [
    " Both the 'Adapter Content' plot, and the 'Per base sequence content' plot indicate that there may be deviation from expected sequence content.\n",
    "\n",
    " In fact they are both indicating the same issue.\n",
    "\n",
    " **What is the issue and what do you think may be causing it?**\n"
   ]
  },
  {
   "cell_type": "markdown",
   "metadata": {},
   "source": [
    " Answer:\n"
   ]
  },
  {
   "cell_type": "markdown",
   "metadata": {},
   "source": [
    " **How might you go about fixing this issue for the affected reads?**\n"
   ]
  },
  {
   "cell_type": "markdown",
   "metadata": {},
   "source": [
    " Answer:\n"
   ]
  }
 ],
 "metadata": {
  "language_info": {
   "codemirror_mode": {
    "name": "ipython",
    "version": 3
   },
   "file_extension": ".py",
   "mimetype": "text/x-python",
   "name": "python",
   "nbconvert_exporter": "python",
   "pygments_lexer": "ipython3",
   "version": 3
  },
  "orig_nbformat": 4
 },
 "nbformat": 4,
 "nbformat_minor": 2
}
