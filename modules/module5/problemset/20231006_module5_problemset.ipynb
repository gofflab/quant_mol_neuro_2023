{
 "cells": [
  {
   "cell_type": "markdown",
   "id": "6c161c42",
   "metadata": {},
   "source": [
    " # Module 5 Problem Set\n",
    " Name: **<Your Name>**"
   ]
  },
  {
   "cell_type": "markdown",
   "id": "20775778",
   "metadata": {},
   "source": [
    " For this week's problemset, we will be looking at the following study:\n",
    "\n",
    " * Dumitriu, A., Golji, J., Labadorf, A.T. et al. Integrative analyses of proteomics and RNA transcriptomics implicate mitochondrial processes, protein folding pathways and GWAS loci in Parkinson disease. BMC Med Genomics 9, 5 (2015). [https://doi.org/10.1186/s12920-016-0164-y](https://doi.org/10.1186/s12920-016-0164-y)\n",
    "\n",
    " Summary:\n",
    "\n",
    " Parkinson disease (PD) is marked by the accumulation of specific proteins in neuron aggregates, with previous studies focusing mainly on DNA sequence variants and RNA levels.\n",
    " In this research, both state-of-the-art proteomics and RNA-sequencing technologies were employed to analyze prefrontal cortex samples from PD patients and healthy controls.\n",
    " The study identified significant differences in proteins and genes between PD and controls, revealing insights into mitochondrial-related pathways and protein folding pathways, and highlighted the benefit of combining multiple genome-wide platforms to gain a deeper understanding of PD pathology.\n",
    "\n",
    " You will be locating the data and metadata associated with this study, and performing some basic quality control analyses on a subset of the RNA-Seq data.\n",
    "\n"
   ]
  },
  {
   "cell_type": "markdown",
   "id": "2473c490",
   "metadata": {},
   "source": [
    " **What is the GEO accession number for this study?**\n"
   ]
  },
  {
   "cell_type": "markdown",
   "id": "31be84c9",
   "metadata": {},
   "source": [
    " Answer:\n"
   ]
  },
  {
   "cell_type": "markdown",
   "id": "fb0d4b02",
   "metadata": {},
   "source": [
    " **Briefly describe the different types of data that the authors have made available under this study accession number?**\n"
   ]
  },
  {
   "cell_type": "markdown",
   "id": "6a73997a",
   "metadata": {},
   "source": [
    " Answer:\n"
   ]
  },
  {
   "cell_type": "markdown",
   "id": "45585065",
   "metadata": {},
   "source": [
    "### Sample Metadata\n",
    " Visit the GEO (Gene Expression Omnibus) database and locate the GEO series with the above accession number.\n",
    "\n",
    " **What is the url of the GEO series for this dataset?**\n"
   ]
  },
  {
   "cell_type": "markdown",
   "id": "60614a96",
   "metadata": {},
   "source": [
    " Answer:\n"
   ]
  },
  {
   "cell_type": "markdown",
   "id": "b56033cb",
   "metadata": {},
   "source": [
    " **How many samples (in total, all samples) are present in this GEO series?**\n"
   ]
  },
  {
   "cell_type": "markdown",
   "id": "f9a8b489",
   "metadata": {},
   "source": [
    " Answer:\n"
   ]
  },
  {
   "cell_type": "markdown",
   "id": "cabfb2b6",
   "metadata": {},
   "source": [
    " Open the 'SRA Run Selector' link for this series and download the metadata (sample information) for this study.\n",
    "\n",
    " **Load the metadata (the text file is actually a .csv) into a pandas dataframe**, show your work below and **print the first 5 rows of the dataframe**."
   ]
  },
  {
   "cell_type": "code",
   "execution_count": null,
   "id": "841160c8",
   "metadata": {
    "lines_to_next_cell": 2
   },
   "outputs": [],
   "source": [
    "import pandas as pd\n",
    "\n",
    "# Your code here:"
   ]
  },
  {
   "cell_type": "markdown",
   "id": "5d1e2c69",
   "metadata": {},
   "source": [
    " We are going to focus on one specific sample. The sample we are after has a `BioSample` id of `SAMN03651528`.\n",
    "\n",
    " `BioSample` is one of the columns in the metadata dataframe you just created.\n",
    "\n",
    " Fiter your dataframe to find the `Run` column value (SRR accession number) for the sample with the `BioSample` id of `SAMN03651528`.\n"
   ]
  },
  {
   "cell_type": "code",
   "execution_count": null,
   "id": "1438228f",
   "metadata": {},
   "outputs": [],
   "source": [
    "# Your code here:"
   ]
  },
  {
   "cell_type": "markdown",
   "id": "3be5ef01",
   "metadata": {},
   "source": [
    "### Fetching a Fastq File\n",
    " Next you will locate and download the .fastq.gz file associated with the `BioSample` named `SAMN03651528`.\n",
    "\n",
    " We have provided a function below that will download the file for you, given the SRA `RUN` accession number (SRR...) for a given sample.\n",
    "\n",
    " You will need to provide the SRA `RUN` accession number for the sample you selected above to the function below.\n",
    "\n",
    " **Note:** This file is ~2.2Gb so it may take some time to download and will take up space on your computer."
   ]
  },
  {
   "cell_type": "code",
   "execution_count": null,
   "id": "f2725944",
   "metadata": {
    "lines_to_next_cell": 2
   },
   "outputs": [],
   "source": [
    "from urllib.request import urlretrieve\n",
    "\n",
    "\n",
    "def download_fastq(SRRAccession: str):\n",
    "    path, headers = urlretrieve(\n",
    "        f\"https://www.be-md.ncbi.nlm.nih.gov/Traces/sra-reads-be/fastq?acc={SRRAccession}\",\n",
    "        f\"{SRRAccession}.fastq.gz\",\n",
    "    )\n",
    "    return path\n",
    "\n",
    "\n",
    "# Use the function above to download the fastq.gz file for the 'SAMN03651528' sample using its SRR accession number.\n",
    "\n",
    "srr_id = \"\"\n",
    "download_fastq(srr_id)"
   ]
  },
  {
   "cell_type": "markdown",
   "id": "8f49c05e",
   "metadata": {},
   "source": [
    "### FastQC Analysis\n",
    " After downloading the FASTQ file, perform a quality control check using FastQC.\n",
    "\n",
    " If you need to install fastqc on your computer, you can do so using mamba:\n",
    "\n",
    " `mamba install -c bioconda fastqc`"
   ]
  },
  {
   "cell_type": "code",
   "execution_count": null,
   "id": "58eea75c",
   "metadata": {
    "lines_to_next_cell": 2
   },
   "outputs": [],
   "source": [
    "# Run fastqc on the fastq file you downloaded above.\n",
    "%%bash"
   ]
  },
  {
   "cell_type": "markdown",
   "id": "438de133",
   "metadata": {},
   "source": [
    " Use the information in the fastqc .html report to answer the following questions\n"
   ]
  },
  {
   "cell_type": "markdown",
   "id": "b0dcd903",
   "metadata": {},
   "source": [
    " **How many total sequences are in the fastq file for this sample?**"
   ]
  },
  {
   "cell_type": "markdown",
   "id": "0c8b653e",
   "metadata": {},
   "source": [
    " Answer:\n"
   ]
  },
  {
   "cell_type": "markdown",
   "id": "a388db5e",
   "metadata": {},
   "source": [
    " **What is the sequence length of the reads?**\n"
   ]
  },
  {
   "cell_type": "markdown",
   "id": "a0aadd35",
   "metadata": {},
   "source": [
    " Answer:\n"
   ]
  },
  {
   "cell_type": "markdown",
   "id": "97cc99df",
   "metadata": {},
   "source": [
    " **Which two metrics are indicating warnings (yellow)? For each, describe what you think may be causing the deviation from the expected result.**\n"
   ]
  },
  {
   "cell_type": "markdown",
   "id": "0a474da8",
   "metadata": {},
   "source": [
    " Answer:\n"
   ]
  },
  {
   "cell_type": "markdown",
   "id": "a93eb401",
   "metadata": {},
   "source": [
    " **Which two metrics are indicating significant issues (red)?**\n"
   ]
  },
  {
   "cell_type": "markdown",
   "id": "cd287ccd",
   "metadata": {},
   "source": [
    " Answer:\n"
   ]
  },
  {
   "cell_type": "markdown",
   "id": "e27aea03",
   "metadata": {},
   "source": [
    " Take a look at the \"Overrepresented sequences\" section.\n",
    "\n",
    " **List any overrepresented sequences.**\n"
   ]
  },
  {
   "cell_type": "markdown",
   "id": "58e76077",
   "metadata": {},
   "source": [
    "\n"
   ]
  },
  {
   "cell_type": "markdown",
   "id": "6dc1345d",
   "metadata": {},
   "source": [
    " **Describe how these overrepresented sequences may have arisen.**\n"
   ]
  },
  {
   "cell_type": "markdown",
   "id": "fd6685ce",
   "metadata": {},
   "source": [
    " Answer:\n"
   ]
  },
  {
   "cell_type": "markdown",
   "id": "9088b50e",
   "metadata": {},
   "source": [
    " Both the 'Adapter Content' plot, and the 'Per base sequence content' plot indicate that there may be deviation from expected sequence content.\n",
    "\n",
    " In fact they are both indicating the same issue.\n",
    "\n",
    " **Perform a quick Google search, what are sequencing adapters? In this case, what is the issue and what do you think may be causing it?**\n"
   ]
  },
  {
   "cell_type": "markdown",
   "id": "3f66055d",
   "metadata": {},
   "source": [
    " Answer:\n"
   ]
  },
  {
   "cell_type": "markdown",
   "id": "13b48d2b",
   "metadata": {},
   "source": [
    " **How might you go about fixing this issue for the affected reads?**\n"
   ]
  },
  {
   "cell_type": "markdown",
   "id": "47415827",
   "metadata": {
    "lines_to_next_cell": 3
   },
   "source": [
    " Answer:\n"
   ]
  }
 ],
 "metadata": {
  "jupytext": {
   "cell_metadata_filter": "-all",
   "main_language": "python",
   "notebook_metadata_filter": "-all"
  },
  "language_info": {
   "name": "python"
  }
 },
 "nbformat": 4,
 "nbformat_minor": 5
}
