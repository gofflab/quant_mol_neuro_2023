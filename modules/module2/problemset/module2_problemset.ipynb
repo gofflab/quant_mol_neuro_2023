{
 "cells": [
  {
   "cell_type": "markdown",
   "metadata": {},
   "source": [
    "# Module 2 Prolem Set: Numpy, Pandas, and plotnine\n",
    "# Name: YOUR NAME HERE\n",
    "\n",
    "# Import libraries"
   ]
  },
  {
   "cell_type": "code",
   "execution_count": null,
   "metadata": {},
   "outputs": [],
   "source": [
    "import numpy as np\n",
    "import pandas as pd\n",
    "import plotnine as pn\n"
   ]
  },
  {
   "cell_type": "markdown",
   "metadata": {},
   "source": [
    "## Problem 1\n",
    "\n",
    "1) Create a 2D numpy array with 5 rows and 10 columns of random numbers from a normal distribution with mean 10 and standard deviation 2. Print the array."
   ]
  },
  {
   "cell_type": "code",
   "execution_count": null,
   "metadata": {},
   "outputs": [],
   "source": []
  },
  {
   "cell_type": "markdown",
   "metadata": {},
   "source": [
    "2) Calculate the mean of each row and print the result."
   ]
  },
  {
   "cell_type": "code",
   "execution_count": null,
   "metadata": {},
   "outputs": [],
   "source": []
  },
  {
   "cell_type": "markdown",
   "metadata": {},
   "source": [
    "## Problem 2 - Pandas\n",
    "\n",
    "* Cembrowski MS, Wang L, Sugino K, Shields BC et al. Hipposeq: a comprehensive RNA-seq database of gene expression in hippocampal principal neurons. Elife 2016 Apr 26;5:e14997. PMID: 27113915\n",
    "\n",
    "Open the file `GSE74985_genes.read_group_tracking.txt` into a pandas dataframe. This file contains RNA-seq data from mouse hippocampal neurons. The columns are described below:\n",
    "\n",
    "* tracking_id: Ensembl gene ID\n",
    "* condition: treatment condition\n",
    "* replicate: replicate number\n",
    "* raw_frags: number of reads mapping to this gene\n",
    "* internal_scaled_frags: number of reads mapping to this gene, normalized for library size\n",
    "* external_scaled_frags: number of reads mapping to this gene, normalized for library size and gene length\n",
    "* FPKM: number of reads mapping to this gene, normalized for library size and gene length and reported as FPKM\n",
    "* effective_length: effective length of gene\n",
    "* status: OK or NOTEST\n",
    "\n"
   ]
  },
  {
   "cell_type": "code",
   "execution_count": null,
   "metadata": {},
   "outputs": [],
   "source": [
    "data = pd.read_csv(\"GSE74985_genes.read_group_tracking.txt\", sep=\"\\t\")\n"
   ]
  },
  {
   "cell_type": "code",
   "execution_count": null,
   "metadata": {},
   "outputs": [],
   "source": [
    "data['condition'].unique()"
   ]
  },
  {
   "cell_type": "markdown",
   "metadata": {},
   "source": [
    "How many unique conditions are there in the dataset?"
   ]
  },
  {
   "cell_type": "markdown",
   "metadata": {},
   "source": [
    "Recast the dataset into a _new_ `DataFrame` with the tracking_id (genes) as the rows and the samples )conditions + replicate values) as the columns. The values in the new `DataFrame` should be the FPKM gene expression values. The shape (dimensions) of the final `DataFramee` should be `(37699, 24)` (37,699 genes X 24 samples). Print the shape and `head` of your new `DataFrame`."
   ]
  },
  {
   "cell_type": "code",
   "execution_count": null,
   "metadata": {},
   "outputs": [],
   "source": [
    "data.pivot(index='tracking_id', columns=['condition','replicate'], values='FPKM').shape"
   ]
  },
  {
   "cell_type": "markdown",
   "metadata": {},
   "source": [
    "Calculate the average FPKM for each gene across all samples. Print the `head` of the resulting `Series`."
   ]
  },
  {
   "cell_type": "code",
   "execution_count": null,
   "metadata": {},
   "outputs": [],
   "source": []
  },
  {
   "cell_type": "markdown",
   "metadata": {},
   "source": [
    "What gene (tracking_id) has the highest average FPKM across all samples? What is the average FPKM for that gene?"
   ]
  },
  {
   "cell_type": "markdown",
   "metadata": {},
   "source": [
    "Using the `pivot_table` method, calculate the mean FPKM for each gene across **conditions** (ie. aggregate replicate samples to get the per-condition mean) and save this as a _new_ `DataFramee`. Print the `head` of the resulting `DataFrame`."
   ]
  },
  {
   "cell_type": "code",
   "execution_count": null,
   "metadata": {},
   "outputs": [],
   "source": [
    "data.head()\n",
    "#data['gene_short_name'] == 'Pax6'"
   ]
  },
  {
   "cell_type": "markdown",
   "metadata": {},
   "source": [
    "What is the vector of mean expression across all conditions for the `Pax6` gene (Ensembl ID = '`ENSMUSG00000027168`')?"
   ]
  },
  {
   "cell_type": "code",
   "execution_count": null,
   "metadata": {},
   "outputs": [],
   "source": []
  },
  {
   "cell_type": "markdown",
   "metadata": {},
   "source": [
    "## Problem 3 - Plotnine\n",
    "\n",
    "Using the `DataFrame` from Problem 2, create a scatter plot of the mean FPKM for each gene across all conditions (x-axis) vs. the standard deviation of the FPKM for each gene across all conditions (y-axis). Label the axes and give the plot a title."
   ]
  },
  {
   "cell_type": "code",
   "execution_count": null,
   "metadata": {},
   "outputs": [],
   "source": []
  },
  {
   "cell_type": "markdown",
   "metadata": {},
   "source": []
  }
 ],
 "metadata": {
  "kernelspec": {
   "display_name": "qmn2023",
   "language": "python",
   "name": "python3"
  },
  "language_info": {
   "codemirror_mode": {
    "name": "ipython",
    "version": 3
   },
   "file_extension": ".py",
   "mimetype": "text/x-python",
   "name": "python",
   "nbconvert_exporter": "python",
   "pygments_lexer": "ipython3",
   "version": "3.10.12"
  },
  "orig_nbformat": 4
 },
 "nbformat": 4,
 "nbformat_minor": 2
}
