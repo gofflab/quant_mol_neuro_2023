{
 "cells": [
  {
   "cell_type": "markdown",
   "metadata": {},
   "source": [
    "# Module 2 Problem Set: numpy, pandas, and plotnine\n",
    "*Name:* <Your name here>\n"
   ]
  },
  {
   "cell_type": "code",
   "execution_count": null,
   "metadata": {},
   "outputs": [],
   "source": [
    "# Import libraries\n",
    "import numpy as np\n",
    "import pandas as pd\n",
    "import plotnine as pn"
   ]
  },
  {
   "cell_type": "markdown",
   "metadata": {},
   "source": [
    "## Problem 1\n",
    "\n",
    "1.1) Create a 2D numpy array comprising 500 rows and 10 columns. Populate this array with random numbers derived from a uniform distribution from range `[0, 10]`. Use the seed `2023` for the `np.random.default_rng` function to ensure your output is reproducible. Print this array."
   ]
  },
  {
   "cell_type": "code",
   "execution_count": null,
   "metadata": {},
   "outputs": [],
   "source": []
  },
  {
   "cell_type": "markdown",
   "metadata": {},
   "source": [
    "1.2) Now let's dig deeper into the data. Calculate the mean and standard deviation for each row in your array and print the results."
   ]
  },
  {
   "cell_type": "code",
   "execution_count": null,
   "metadata": {},
   "outputs": [],
   "source": []
  },
  {
   "cell_type": "markdown",
   "metadata": {},
   "source": [
    "1.3) Compute and print the standard deviation of the means you just calculated. You'll probably notice that this value is significantly smaller than the standard deviation of the original array. Can you elucidate why there's such a striking difference?\n",
    "\n",
    "Lastly, think about where this characteristic - that is, the reduction in variability when considering means rather than individual data points - is exploited in scientific research. Provide an example of such an application. Consider fields like bioinformatics, environmental science, physics, or any other discipline that relies heavily on statistical analysis."
   ]
  },
  {
   "cell_type": "code",
   "execution_count": null,
   "metadata": {},
   "outputs": [],
   "source": []
  },
  {
   "cell_type": "markdown",
   "metadata": {},
   "source": [
    "1.4) Create a 1D array of numbers from 1 to 12. Reshape it to form a 3x4 matrix."
   ]
  },
  {
   "cell_type": "code",
   "execution_count": null,
   "metadata": {},
   "outputs": [],
   "source": []
  },
  {
   "cell_type": "markdown",
   "metadata": {},
   "source": [
    "1.4) Resize the above matrix to shape (5,5). What values are added during this process?"
   ]
  },
  {
   "cell_type": "code",
   "execution_count": null,
   "metadata": {},
   "outputs": [],
   "source": []
  },
  {
   "cell_type": "markdown",
   "metadata": {},
   "source": [
    "1.5) Replace all odd numbers in the array [2,3,4,5,6,7,8,9,10] with -1 without changing the original array."
   ]
  },
  {
   "cell_type": "code",
   "execution_count": null,
   "metadata": {},
   "outputs": [],
   "source": []
  },
  {
   "cell_type": "markdown",
   "metadata": {},
   "source": [
    "## Problem 2 - Pandas\n",
    "\n",
    "In this problem, we'll be using an already available dataset extracted from a study which investigated gene expression in distinct populations of hippocampal neurons. The data can be traced back to this research paper:\n",
    "\n",
    "* Cembrowski MS, Wang L, Sugino K, Shields BC et al. Hipposeq: a comprehensive RNA-seq database of gene expression in hippocampal principal neurons. Elife 2016 Apr 26;5:e14997. PMID: 27113915\n",
    "\n",
    "We'll be working with one of the summarized data files which is given as a part of this task. Load the file named `GSE74985_genes.read_group_tracking.txt` into a pandas dataframe. This specific file comprises RNA-seq-based gene expression estimates derived from a variety of neuron populations found in the hippocampus. Here is a brief rundown of the columns:\n",
    "\n",
    "* *tracking_id:* The Ensembl gene ID \n",
    "* *condition:* Refers to the treatment condition\n",
    "* *replicate:* Stands for the replicate number\n",
    "* *raw_frags:* Represents the number of reads mapping to this particular gene\n",
    "* *internal_scaled_frags:* Signifies the number of reads mapping to this gene after normalization for library size\n",
    "* *external_scaled_frags:* Indicates the number of reads mapping to this gene, normalized considering both library size and gene length\n",
    "* *FPKM:* Number of reads mapping to the gene, normalized for library size and gene length. This is expressed as Fragments Per Kilobase of transcript per Million mapped reads (FPKM).\n",
    "* *effective_length:* Depicts the effective length of gene\n",
    "* *status:* Whether OK or NOTEST\n"
   ]
  },
  {
   "cell_type": "code",
   "execution_count": null,
   "metadata": {},
   "outputs": [],
   "source": [
    "data = pd.read_csv(\"GSE74985_genes.read_group_tracking.txt\", sep=\"\\t\")"
   ]
  },
  {
   "cell_type": "markdown",
   "metadata": {},
   "source": [
    "2.1) How many unique conditions are there in the dataset?"
   ]
  },
  {
   "cell_type": "code",
   "execution_count": null,
   "metadata": {},
   "outputs": [],
   "source": [
    "len(data[\"condition\"].unique())"
   ]
  },
  {
   "cell_type": "markdown",
   "metadata": {},
   "source": [
    "2.2) The goal is to reorganize the present dataset to facilitate comparability across various sample conditions and replicates for each gene.\n",
    "\n",
    "Design a new pandas DataFrame in which each row corresponds to a unique tracking_id (representing individual genes).\n",
    "\n",
    "Columns should be formed based on unique combinations of the sample conditions and their corresponding replicate numbers. In effect, each column title should represent a specific pairing of a condition with its replicate (for instance: condition1_rep1, condition1_rep2, condition2_rep1, etc.).\n",
    "\n",
    "The cells in this restructured DataFrame should carry values of the FPKM gene expression levels corresponding to that gene for each specific condition-replicate pairing.\n",
    "\n",
    "For clarity, here's how the beginning of your transformed DataFrame should look:\n",
    "\n",
    "| tracking_id | condition1_rep1 | condition1_rep2 | condition2_rep1 | condition2_rep2 |\n",
    "|-------------|-----------------|-----------------|-----------------|-----------------|\n",
    "| gene1       | 1               | 2               | 3               | 4               |\n",
    "| gene2       | 5               | 6               | 7               | 8               |\n",
    "| gene3       | 9               | 10              | 11              | 12              |\n",
    "\n",
    "Upon completion of the transformation, validate the dimensions of your new DataFrame. It should have a shape of (37699, 24). Print out the shape and inspect the first few entries (using the head method) of your new DataFrame."
   ]
  },
  {
   "cell_type": "code",
   "execution_count": null,
   "metadata": {},
   "outputs": [],
   "source": []
  },
  {
   "cell_type": "markdown",
   "metadata": {},
   "source": [
    "2.3) Calculate the average FPKM for each gene across all samples. Print the `head` of the resulting `Series`."
   ]
  },
  {
   "cell_type": "code",
   "execution_count": null,
   "metadata": {},
   "outputs": [],
   "source": []
  },
  {
   "cell_type": "markdown",
   "metadata": {},
   "source": [
    "2.4) Calculate the standard deviation of the FPKM for each gene across all samples. Print the `head` of the resulting `Series`."
   ]
  },
  {
   "cell_type": "code",
   "execution_count": null,
   "metadata": {},
   "outputs": [],
   "source": []
  },
  {
   "cell_type": "markdown",
   "metadata": {},
   "source": [
    "2.5) Which gene (tracking_id) has the highest average FPKM across all samples? What is the average FPKM for that gene? What is this gene known to do? Is it what you would expect to be highly expressed in neurons?"
   ]
  },
  {
   "cell_type": "code",
   "execution_count": null,
   "metadata": {},
   "outputs": [],
   "source": []
  },
  {
   "cell_type": "markdown",
   "metadata": {},
   "source": [
    "2.6) With the help of the pivot_table method, compute the mean FPKM for each gene across the unique conditions, thereby aggregating the replicate samples to derive a per-condition mean. Store this in a new `DataFrame`. Display the top of the resulting DataFrame to observe the summarized information."
   ]
  },
  {
   "cell_type": "code",
   "execution_count": null,
   "metadata": {},
   "outputs": [],
   "source": []
  },
  {
   "cell_type": "markdown",
   "metadata": {},
   "source": [
    "2.7) Your PI wants to know the mean expression across all conditions of `Pax6` (`tracking_id` = '`ENSMUSG00000027168`')? Please create a `Series` that answer this question."
   ]
  },
  {
   "cell_type": "code",
   "execution_count": null,
   "metadata": {},
   "outputs": [],
   "source": []
  },
  {
   "cell_type": "markdown",
   "metadata": {},
   "source": [
    "## Problem 3 - Plotnine\n",
    "\n",
    "3.1) Using the `DataFrame` from Problem 2, create a scatter plot of the mean FPKM for each gene across all conditions (x-axis) vs. the standard deviation of the FPKM for each gene across all conditions (y-axis). Label the axes and give the plot a title."
   ]
  },
  {
   "cell_type": "code",
   "execution_count": null,
   "metadata": {},
   "outputs": [],
   "source": []
  },
  {
   "cell_type": "markdown",
   "metadata": {},
   "source": [
    "3.2) Add a smoothed line to the above plot to show the relationship between mean and standard deviation of FPKM across genes. "
   ]
  },
  {
   "cell_type": "code",
   "execution_count": null,
   "metadata": {},
   "outputs": [],
   "source": []
  },
  {
   "cell_type": "markdown",
   "metadata": {},
   "source": [
    "3.3) FPKM values are often log-transformed to make them more normally distributed. However, since FPKM values can be zero, we often add a small constant (1) called a 'pseudocount' to the FPKM values before log-transforming them to avoid taking the log of zero.\n",
    "\n",
    "For the FPKM values in your melted `DataFrame`, calculate the log10(`FPKM`+1) and add these values as a new column in your `DataFrame`. "
   ]
  },
  {
   "cell_type": "code",
   "execution_count": null,
   "metadata": {},
   "outputs": [],
   "source": []
  },
  {
   "cell_type": "markdown",
   "metadata": {},
   "source": [
    "3.4) Plot a box and whisker plot (boxplot) of the log10(`FPKM`+1) values for each condition. Label the axes and give the plot a title."
   ]
  },
  {
   "cell_type": "code",
   "execution_count": null,
   "metadata": {},
   "outputs": [],
   "source": []
  },
  {
   "cell_type": "markdown",
   "metadata": {},
   "source": [
    "3.5) Create a function that takes a `DataFrame` and a `tracking_id` as arguments and returns a plot of the log10(`FPKM`+1) values for that gene across all conditions. Use `geom_point` to plot the individual replicate values and color the points by `replicate` Make sure to give the plot a title. \n",
    "\n",
    "Use the `Pax6` gene (`tracking_id` = '`ENSMUSG00000027168`') as a test case for your function.  "
   ]
  },
  {
   "cell_type": "code",
   "execution_count": null,
   "metadata": {},
   "outputs": [],
   "source": [
    "\n"
   ]
  },
  {
   "cell_type": "markdown",
   "metadata": {},
   "source": [
    "3.6) Looking back at Problem 1, create two histograms:\n",
    "\n",
    "- one for the first row of the array you created in Problem 1.1.\n",
    "- another for the row means you calculated in Problem 1.2.\n",
    "\n",
    "Display these histograms. How do the distributions of individual values and means differ? What do you think is the distribution of the means?\n",
    "\n",
    "Bonus: if you are aware of have used the $t$-test before, explain how this nature of the distribution of means contributes to the robustness of the $t$-test, even when the original data is not normally distributed."
   ]
  },
  {
   "cell_type": "markdown",
   "metadata": {},
   "source": []
  }
 ],
 "metadata": {
  "kernelspec": {
   "display_name": "qmn2023",
   "language": "python",
   "name": "python3"
  },
  "language_info": {
   "codemirror_mode": {
    "name": "ipython",
    "version": 3
   },
   "file_extension": ".py",
   "mimetype": "text/x-python",
   "name": "python",
   "nbconvert_exporter": "python",
   "pygments_lexer": "ipython3",
   "version": "3.11.4"
  },
  "orig_nbformat": 4
 },
 "nbformat": 4,
 "nbformat_minor": 2
}
