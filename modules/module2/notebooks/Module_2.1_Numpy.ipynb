{
 "cells": [
  {
   "attachments": {},
   "cell_type": "markdown",
   "metadata": {},
   "source": [
    "# Module 2.1: Numerical Python (`numpy`)\n",
    "\n",
    "## Numpy\n",
    "Numpy <Num-*pie*> is a python package for 'numerical python'. It is a library that provides a multidimensional array object (`ndarray`), various derived objects (such as masked arrays and matrices), and an assortment of routines for fast operations on arrays, including mathematical, logical, shape manipulation, sorting, selecting, I/O, discrete Fourier transforms, basic linear algebra, basic statistical operations, random simulation and much more.\n",
    "\n",
    "Numpy itself is not a high-level analysis package, but it is the fundamental building block on which many other packages are built. It is arguably the foundation upon which the entire scientific python ecosystem is built. \n",
    "\n",
    "### Ndarray\n",
    "The `ndarray` is the core object that can be used to store **homogeneous** data. It is a table of elements (usually numbers), **all of the same type**, indexed by a tuple of positive integers. In Numpy dimensions are called `axes`. The number of axes is called the `rank` and the `shape` of an array is a tuple of integers giving the size of the array along each axis.\n",
    "\n",
    "We can initialize numpy arrays from nested Python lists, and access elements using square brackets:"
   ]
  },
  {
   "cell_type": "code",
   "execution_count": null,
   "metadata": {},
   "outputs": [],
   "source": [
    "import numpy as np  # import numpy library\n",
    "\n",
    "data = [5, 3.0, 1, 2.75, 4.11, 6, 7, 8.2, 9, 10]\n",
    "\n",
    "# Create a numpy array from the list `data`\n",
    "arr = np.array(data)\n",
    "arr"
   ]
  },
  {
   "attachments": {},
   "cell_type": "markdown",
   "metadata": {},
   "source": [
    "Nested lists can be converted to multidimensional arrays using the same `array` function. For example, the following code produces a two-dimensional array:\n"
   ]
  },
  {
   "cell_type": "code",
   "execution_count": null,
   "metadata": {},
   "outputs": [],
   "source": [
    "# Nested (list of lists) to 2D array\n",
    "data = [[1, 2, 3, 4], [5, 6, 7, 8]]\n",
    "arr = np.array(data)\n",
    "arr"
   ]
  },
  {
   "attachments": {},
   "cell_type": "markdown",
   "metadata": {},
   "source": [
    "The `shape` attribute returns the number of rows and columns of the array."
   ]
  },
  {
   "cell_type": "code",
   "execution_count": null,
   "metadata": {},
   "outputs": [],
   "source": [
    "arr.shape"
   ]
  },
  {
   "attachments": {},
   "cell_type": "markdown",
   "metadata": {},
   "source": [
    "In this 2D example `arr.shape` returns a tuple with two elements, the first is the number of rows and the second is the number of columns."
   ]
  },
  {
   "attachments": {},
   "cell_type": "markdown",
   "metadata": {},
   "source": [
    "We can use the ndim attribute to get the number of axes (dimensions) of the array."
   ]
  },
  {
   "cell_type": "code",
   "execution_count": null,
   "metadata": {},
   "outputs": [],
   "source": [
    "arr.ndim"
   ]
  },
  {
   "attachments": {},
   "cell_type": "markdown",
   "metadata": {},
   "source": [
    "When creating an `ndarray`, we can specify the type of the elements using the `dtype` parameter. If we don't specify the type, Numpy will try to guess the type of the data when the array is created.\n",
    "\n",
    "The `dtype` attribute returns the type of the elements in the array."
   ]
  },
  {
   "cell_type": "code",
   "execution_count": null,
   "metadata": {},
   "outputs": [],
   "source": [
    "arr.dtype"
   ]
  },
  {
   "attachments": {},
   "cell_type": "markdown",
   "metadata": {},
   "source": [
    "You can specify the `dtype` of the array when creating it."
   ]
  },
  {
   "cell_type": "code",
   "execution_count": null,
   "metadata": {},
   "outputs": [],
   "source": [
    "arr = np.array([1, 2, 3], dtype=float)\n",
    "print(arr)\n",
    "print(arr.dtype)"
   ]
  },
  {
   "attachments": {},
   "cell_type": "markdown",
   "metadata": {},
   "source": [
    "You can change the `dtype` of an existing array (cast to another `dtype`) using the `astype` method. The `astype` method creates a new array (a copy of the data), and does not change the original array itself."
   ]
  },
  {
   "cell_type": "code",
   "execution_count": null,
   "metadata": {},
   "outputs": [],
   "source": [
    "int_arr = arr.astype(int)\n",
    "\n",
    "print(arr.dtype)\n",
    "\n",
    "print(int_arr.dtype)"
   ]
  },
  {
   "attachments": {},
   "cell_type": "markdown",
   "metadata": {},
   "source": [
    "Similar to the base `range` function, numpy has a `arange` function that returns an array that returns an array containing evenly spaced values within a given interval. \n",
    "\n",
    "Like `range`, the values are generated within the half-open interval [`start`, `stop`). The `start` value is inclusive, while the `stop` value is exclusive."
   ]
  },
  {
   "cell_type": "code",
   "execution_count": null,
   "metadata": {},
   "outputs": [],
   "source": [
    "arr = np.arange(0, 10)\n",
    "print(arr)\n",
    "\n",
    "arr = np.arange(1, 101)\n",
    "print(arr)"
   ]
  },
  {
   "attachments": {},
   "cell_type": "markdown",
   "metadata": {},
   "source": [
    "We can also change the shape of an array using the `reshape` method."
   ]
  },
  {
   "cell_type": "code",
   "execution_count": null,
   "metadata": {},
   "outputs": [],
   "source": [
    "# Create a 10x10 array of integers from 1 to 100\n",
    "arr = np.arange(1, 101).reshape(10, 10)\n",
    "print(arr)"
   ]
  },
  {
   "attachments": {},
   "cell_type": "markdown",
   "metadata": {},
   "source": [
    "### Creating 'placeholder' arrays\n",
    "It is sometimes useful to create arrays with pre-defined values, for example an array of zeros, an array of ones, or an array with a range of values. Numpy provides a number of functions to create such arrays:"
   ]
  },
  {
   "cell_type": "code",
   "execution_count": null,
   "metadata": {},
   "outputs": [],
   "source": [
    "# Create a 1D array of zeros\n",
    "arr = np.zeros(10)\n",
    "print(arr)\n",
    "\n",
    "# Create a 2D array, 4x10 of ones\n",
    "arr = np.ones((4, 10))\n",
    "print(arr)\n",
    "\n",
    "# Create a 3D array, 4x4x4 filled with a specific value (999)\n",
    "arr = np.full((4, 4, 4), 999)\n",
    "print(arr)\n",
    "\n",
    "# Createe a 2D array, 3x3, of random integers between 0-9\n",
    "# Set seed to 0. This is very important to maintain reproducibility.\n",
    "rand = np.random.default_rng(0)  # Create a random number generator\n",
    "arr = rand.randint(0, 10, (3, 3))\n",
    "print(arr)"
   ]
  },
  {
   "attachments": {},
   "cell_type": "markdown",
   "metadata": {},
   "source": [
    "### Array indexing and slicing\n",
    "Numpy arrays can be indexed and sliced in a manner similar to Python lists. \n",
    "\n",
    "1D arrays are indexed and sliced in _exactly_ the same way as lists."
   ]
  },
  {
   "cell_type": "code",
   "execution_count": null,
   "metadata": {},
   "outputs": [],
   "source": [
    "arr = np.linspace(1, 10, 10)\n",
    "print(arr)\n",
    "\n",
    "# Get the 3rd element\n",
    "print(arr[2])\n",
    "\n",
    "# Get elements in the range [0, 3) (the first three elements)\n",
    "print(arr[:3])  # same as arr[0:3]"
   ]
  },
  {
   "attachments": {},
   "cell_type": "markdown",
   "metadata": {},
   "source": [
    "Multi-dimensional arrays are indexed using a *comma-separated tuple of indices*.\n",
    "\n",
    "To get the first row of the array we can use the following code:\n"
   ]
  },
  {
   "cell_type": "code",
   "execution_count": null,
   "metadata": {},
   "outputs": [],
   "source": [
    "# Create a 2D array, 4x5 of evenly spaced values between 1-20\n",
    "arr = np.linspace(1, 20, 20).reshape(4, 5)\n",
    "print(arr)\n",
    "\n",
    "# Get the first row of the array\n",
    "arr[0, :]  # same as arr[0]. Note the different behaviors of 1D and 2D arrays"
   ]
  },
  {
   "attachments": {},
   "cell_type": "markdown",
   "metadata": {},
   "source": [
    "To get the first column of the array `arr` we use a colon `:` to indicate that we want all rows, and the index `0` to indicate that we want the first column:"
   ]
  },
  {
   "cell_type": "code",
   "execution_count": null,
   "metadata": {},
   "outputs": [],
   "source": [
    "# Get the first column of the array\n",
    "arr[:, 0]"
   ]
  },
  {
   "attachments": {},
   "cell_type": "markdown",
   "metadata": {},
   "source": []
  },
  {
   "attachments": {},
   "cell_type": "markdown",
   "metadata": {},
   "source": [
    "\n",
    "#### Boolean indexing\n",
    "We can use boolean indexing to select elements from an array based on a condition. For example, to get all elements in the array `arr` that are greater than a given value.\n"
   ]
  },
  {
   "cell_type": "code",
   "execution_count": null,
   "metadata": {},
   "outputs": [],
   "source": [
    "arr = np.arange(1, 26).reshape(5, 5)\n",
    "\n",
    "# Identify all elements in the array that are greater than 10\n",
    "arr > 10"
   ]
  },
  {
   "cell_type": "code",
   "execution_count": null,
   "metadata": {},
   "outputs": [],
   "source": [
    "thresh_idx = arr > 10\n",
    "\n",
    "arr[thresh_idx]"
   ]
  },
  {
   "cell_type": "code",
   "execution_count": null,
   "metadata": {},
   "outputs": [],
   "source": [
    "# Modifies in-place. Be careful with in-place operations.\n",
    "arr[thres_idx] += 100\n",
    "\n",
    "arr"
   ]
  },
  {
   "attachments": {},
   "cell_type": "markdown",
   "metadata": {},
   "source": [
    "### Array operations\n",
    "Numpy arrays support arithmetic operations such as addition, subtraction, multiplication, division and exponentiation. The operations are applied element-wise.\n"
   ]
  },
  {
   "cell_type": "code",
   "execution_count": null,
   "metadata": {},
   "outputs": [],
   "source": [
    "a = np.array([1, 2, 3])\n",
    "b = np.array([4, 5, 6])\n",
    "\n",
    "# Element-wise addition\n",
    "print(a + b)\n",
    "\n",
    "# Element-wise exponentiation\n",
    "print(a ** b)\n",
    "\n",
    "# Element-wise multiplication\n",
    "print(a * b)"
   ]
  },
  {
   "cell_type": "markdown",
   "metadata": {},
   "source": [
    "### Broadcasting\n",
    "Broadcasting is a powerful mechanism that allows numpy to work with arrays of different shapes when performing arithmetic operations. Frequently we have a smaller array and a larger array, and we want to use the smaller array multiple times to perform some operation on the larger array.\n",
    "\n",
    "Example: https://jakevdp.github.io/PythonDataScienceHandbook/02.05-computation-on-arrays-broadcasting.html\n",
    "\n",
    "For example, suppose that we want to add a different constant vector to each row of a matrix. We could do it like this:"
   ]
  },
  {
   "cell_type": "code",
   "execution_count": null,
   "metadata": {},
   "outputs": [],
   "source": [
    "a = np.arange(1, 10).reshape(3, 3)\n",
    "print(a)\n",
    "\n",
    "# The reshape here is necessary to allow for broadcasting along the rows.\n",
    "# If we didn't do this, we would have an array of shape(1, 3) which would broadcast along the columns instead.\n",
    "b = np.array([10, 50, 1000]).reshape(3, 1)\n",
    "print(b)\n",
    "\n",
    "print(a + b)"
   ]
  },
  {
   "cell_type": "markdown",
   "metadata": {},
   "source": [
    "### Summary statistics\n",
    "Numpy has a number of built-in functions that can be used to compute summary statistics of arrays."
   ]
  },
  {
   "cell_type": "code",
   "execution_count": null,
   "metadata": {},
   "outputs": [],
   "source": [
    "# The `sum` function returns the sum of all elements in the array.\n",
    "\n",
    "arr = np.arange(1, 11).reshape(2, 5)\n",
    "print(arr)\n",
    "\n",
    "print(arr.sum())"
   ]
  },
  {
   "cell_type": "code",
   "execution_count": null,
   "metadata": {},
   "outputs": [],
   "source": [
    "# The `mean` function returns the mean of all elements in the array.\n",
    "print(arr.mean())"
   ]
  },
  {
   "cell_type": "markdown",
   "metadata": {},
   "source": [
    "We can use the `axis` parameter to specify whether an operation should be performed on the rows or columns of an array. For example, to compute the mean of each row, we can specify `axis=1`:"
   ]
  },
  {
   "cell_type": "code",
   "execution_count": null,
   "metadata": {},
   "outputs": [],
   "source": [
    "# row means\n",
    "print(arr.mean(axis=1))\n",
    "\n",
    "# column means\n",
    "print(arr.mean(axis=0))"
   ]
  },
  {
   "cell_type": "markdown",
   "metadata": {},
   "source": [
    "### Pseudorandom number generation\n",
    "NumPy has a number of functions for generating random numbers from various probability distributions.\n",
    "\n",
    "For example, we can use the `normal` function to generate an array of 100 samples from the standard normal distribution (mean 0 and variance 1):"
   ]
  },
  {
   "cell_type": "code",
   "execution_count": null,
   "metadata": {},
   "outputs": [],
   "source": [
    "samples = np.random.normal(size=(1, 100))\n",
    "\n",
    "print(samples)\n",
    "\n",
    "print(samples.mean())\n",
    "\n",
    "print(samples.std())"
   ]
  },
  {
   "cell_type": "markdown",
   "metadata": {},
   "source": [
    "Noticee the mean and standard deviation of the samples are ~0 and ~1, respectively, by default.\n",
    "\n",
    "We can also generate random numbers from other distributions, try some of the following:\n",
    "\n",
    "`rand = np.random.default_rng(0)`\n",
    "\n",
    "- `rand.binomial`\n",
    "- `rand.poisson`\n",
    "- `rand.exponential`\n",
    "- `rand.uniform`\n",
    "- `rand.gamma`\n",
    "- `rand.beta`\n",
    "- `rand.chisquare`"
   ]
  },
  {
   "cell_type": "code",
   "execution_count": null,
   "metadata": {},
   "outputs": [],
   "source": [
    "# Try generating samples from the above distribution with a larger sample size (e.g. 1000)."
   ]
  },
  {
   "attachments": {},
   "cell_type": "markdown",
   "metadata": {},
   "source": []
  }
 ],
 "metadata": {
  "kernelspec": {
   "display_name": "qmn2023",
   "language": "python",
   "name": "python3"
  },
  "language_info": {
   "codemirror_mode": {
    "name": "ipython",
    "version": 3
   },
   "file_extension": ".py",
   "mimetype": "text/x-python",
   "name": "python",
   "nbconvert_exporter": "python",
   "pygments_lexer": "ipython3",
   "version": "3.11.0"
  },
  "orig_nbformat": 4
 },
 "nbformat": 4,
 "nbformat_minor": 2
}
