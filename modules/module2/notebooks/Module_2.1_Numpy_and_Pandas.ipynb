{
 "cells": [
  {
   "attachments": {},
   "cell_type": "markdown",
   "metadata": {},
   "source": [
    "# Module 2.1: Numpy and Pandas\n",
    "\n",
    "## Numpy\n",
    "Numpy <Num-*pie*> is a python package for 'numerical python'. It is a library that provides a multidimensional array object (`ndarray`), various derived objects (such as masked arrays and matrices), and an assortment of routines for fast operations on arrays, including mathematical, logical, shape manipulation, sorting, selecting, I/O, discrete Fourier transforms, basic linear algebra, basic statistical operations, random simulation and much more.\n",
    "\n",
    "Numpy itself is not a high-level analysis package, but it is the fundamental building block on which many other packages are built. It is arguably the foundation upon which the entire scientific python ecosystem is built. \n",
    "\n",
    "### Ndarray\n",
    "The `ndarray` is the core object that can be used to store **homogeneous** data. It is a table of elements (usually numbers), **all of the same type**, indexed by a tuple of positive integers. In Numpy dimensions are called `axes`. The number of axes is called the `rank` and the `shape` of an array is a tuple of integers giving the size of the array along each axis.\n",
    "\n",
    "We can initialize numpy arrays from nested Python lists, and access elements using square brackets:"
   ]
  },
  {
   "cell_type": "code",
   "execution_count": 3,
   "metadata": {},
   "outputs": [
    {
     "name": "stdout",
     "output_type": "stream",
     "text": [
      "[5, 3.0, 1, 2.75, 4.11, 6, 7, 8.2, 9, 10]\n"
     ]
    },
    {
     "data": {
      "text/plain": [
       "array([ 5.  ,  3.  ,  1.  ,  2.75,  4.11,  6.  ,  7.  ,  8.2 ,  9.  ,\n",
       "       10.  ])"
      ]
     },
     "execution_count": 3,
     "metadata": {},
     "output_type": "execute_result"
    }
   ],
   "source": [
    "import numpy as np # import numpy library\n",
    "\n",
    "data = [5, 3.0, 1, 2.75, 4.11, 6, 7, 8.2, 9, 10]\n",
    "\n",
    "# Create a numpy array from the list `data`\n",
    "arr = np.array(data)\n",
    "arr"
   ]
  },
  {
   "attachments": {},
   "cell_type": "markdown",
   "metadata": {},
   "source": [
    "Nested lists can be converted to multidimensional arrays using the same `array` function. For example, the following code produces a two-dimensional array:\n"
   ]
  },
  {
   "cell_type": "code",
   "execution_count": 4,
   "metadata": {},
   "outputs": [
    {
     "data": {
      "text/plain": [
       "array([[1, 2, 3, 4],\n",
       "       [5, 6, 7, 8]])"
      ]
     },
     "execution_count": 4,
     "metadata": {},
     "output_type": "execute_result"
    }
   ],
   "source": [
    "# Nested (list of lists) to 2D array\n",
    "data = [[1, 2, 3, 4], [5, 6, 7, 8]]\n",
    "arr = np.array(data)\n",
    "arr"
   ]
  },
  {
   "attachments": {},
   "cell_type": "markdown",
   "metadata": {},
   "source": [
    "The `shape` attribute returns the number of rows and columns of the array."
   ]
  },
  {
   "cell_type": "code",
   "execution_count": 6,
   "metadata": {},
   "outputs": [
    {
     "data": {
      "text/plain": [
       "(2, 4)"
      ]
     },
     "execution_count": 6,
     "metadata": {},
     "output_type": "execute_result"
    }
   ],
   "source": [
    "arr.shape"
   ]
  },
  {
   "attachments": {},
   "cell_type": "markdown",
   "metadata": {},
   "source": [
    "In this 2D example `arr.shape` returns a tuple with two elements, the first is the number of rows and the second is the number of columns."
   ]
  },
  {
   "attachments": {},
   "cell_type": "markdown",
   "metadata": {},
   "source": [
    "We can use the ndim attribute to get the number of axes (dimensions) of the array."
   ]
  },
  {
   "cell_type": "code",
   "execution_count": 7,
   "metadata": {},
   "outputs": [
    {
     "data": {
      "text/plain": [
       "2"
      ]
     },
     "execution_count": 7,
     "metadata": {},
     "output_type": "execute_result"
    }
   ],
   "source": [
    "arr.ndim"
   ]
  },
  {
   "attachments": {},
   "cell_type": "markdown",
   "metadata": {},
   "source": [
    "When creating an `ndarray`, we can specify the type of the elements using the `dtype` parameter. If we don't specify the type, Numpy will try to guess the type of the data when the array is created.\n",
    "\n",
    "The `dtype` attribute returns the type of the elements in the array."
   ]
  },
  {
   "cell_type": "code",
   "execution_count": 8,
   "metadata": {},
   "outputs": [
    {
     "data": {
      "text/plain": [
       "dtype('int64')"
      ]
     },
     "execution_count": 8,
     "metadata": {},
     "output_type": "execute_result"
    }
   ],
   "source": [
    "arr.dtype"
   ]
  },
  {
   "attachments": {},
   "cell_type": "markdown",
   "metadata": {},
   "source": [
    "You can specify the `dtype` of the array when creating it."
   ]
  },
  {
   "cell_type": "code",
   "execution_count": 19,
   "metadata": {},
   "outputs": [
    {
     "data": {
      "text/plain": [
       "dtype('float64')"
      ]
     },
     "execution_count": 19,
     "metadata": {},
     "output_type": "execute_result"
    }
   ],
   "source": [
    "arr = np.array([1, 2, 3], dtype=np.float64)\n",
    "print(arr)\n",
    "print(arr.dtype)"
   ]
  },
  {
   "attachments": {},
   "cell_type": "markdown",
   "metadata": {},
   "source": [
    "You can change the `dtype` of an existing array (cast to another `dtype`) using the `astype` method. The `astype` method creates a new array (a copy of the data), and does not change the original array itself."
   ]
  },
  {
   "cell_type": "code",
   "execution_count": 21,
   "metadata": {},
   "outputs": [
    {
     "name": "stdout",
     "output_type": "stream",
     "text": [
      "float64\n",
      "int64\n"
     ]
    }
   ],
   "source": [
    "int_arr = arr.astype(np.int64)\n",
    "\n",
    "print(arr.dtype)\n",
    "\n",
    "print(int_arr.dtype)"
   ]
  },
  {
   "attachments": {},
   "cell_type": "markdown",
   "metadata": {},
   "source": [
    "Similar to the base `range` function, numpy has a `arange` function that returns an array that returns an array containing evenly spaced values within a given interval. \n",
    "\n",
    "Like `range`, the values are generated within the half-open interval [`start`, `stop`). The `start` value is inclusive, while the `stop` value is exclusive."
   ]
  },
  {
   "cell_type": "code",
   "execution_count": 24,
   "metadata": {},
   "outputs": [
    {
     "name": "stdout",
     "output_type": "stream",
     "text": [
      "[0 1 2 3 4 5 6 7 8 9]\n",
      "[  1   2   3   4   5   6   7   8   9  10  11  12  13  14  15  16  17  18\n",
      "  19  20  21  22  23  24  25  26  27  28  29  30  31  32  33  34  35  36\n",
      "  37  38  39  40  41  42  43  44  45  46  47  48  49  50  51  52  53  54\n",
      "  55  56  57  58  59  60  61  62  63  64  65  66  67  68  69  70  71  72\n",
      "  73  74  75  76  77  78  79  80  81  82  83  84  85  86  87  88  89  90\n",
      "  91  92  93  94  95  96  97  98  99 100]\n"
     ]
    }
   ],
   "source": [
    "arr = np.arange(0,10)\n",
    "print(arr)\n",
    "\n",
    "arr = np.arange(1, 101)\n",
    "print(arr)"
   ]
  },
  {
   "attachments": {},
   "cell_type": "markdown",
   "metadata": {},
   "source": [
    "We can also change the shape of an array using the `reshape` method."
   ]
  },
  {
   "cell_type": "code",
   "execution_count": 25,
   "metadata": {},
   "outputs": [
    {
     "name": "stdout",
     "output_type": "stream",
     "text": [
      "[[  1   2   3   4   5   6   7   8   9  10]\n",
      " [ 11  12  13  14  15  16  17  18  19  20]\n",
      " [ 21  22  23  24  25  26  27  28  29  30]\n",
      " [ 31  32  33  34  35  36  37  38  39  40]\n",
      " [ 41  42  43  44  45  46  47  48  49  50]\n",
      " [ 51  52  53  54  55  56  57  58  59  60]\n",
      " [ 61  62  63  64  65  66  67  68  69  70]\n",
      " [ 71  72  73  74  75  76  77  78  79  80]\n",
      " [ 81  82  83  84  85  86  87  88  89  90]\n",
      " [ 91  92  93  94  95  96  97  98  99 100]]\n"
     ]
    }
   ],
   "source": [
    "# Create a 10x10 array of integers from 1 to 100\n",
    "arr = np.arange(1, 101).reshape(10, 10)\n",
    "print(arr)"
   ]
  },
  {
   "attachments": {},
   "cell_type": "markdown",
   "metadata": {},
   "source": [
    "### Creating 'placeholder' arrays\n",
    "It is sometimes useful to create arrays with pre-defined values, for example an array of zeros, an array of ones, or an array with a range of values. Numpy provides a number of functions to create such arrays:"
   ]
  },
  {
   "cell_type": "code",
   "execution_count": 15,
   "metadata": {},
   "outputs": [
    {
     "name": "stdout",
     "output_type": "stream",
     "text": [
      "[0. 0. 0. 0. 0. 0. 0. 0. 0. 0.]\n",
      "[[1. 1. 1. 1. 1. 1. 1. 1. 1. 1.]\n",
      " [1. 1. 1. 1. 1. 1. 1. 1. 1. 1.]\n",
      " [1. 1. 1. 1. 1. 1. 1. 1. 1. 1.]\n",
      " [1. 1. 1. 1. 1. 1. 1. 1. 1. 1.]]\n",
      "[[[999 999 999 999]\n",
      "  [999 999 999 999]\n",
      "  [999 999 999 999]\n",
      "  [999 999 999 999]]\n",
      "\n",
      " [[999 999 999 999]\n",
      "  [999 999 999 999]\n",
      "  [999 999 999 999]\n",
      "  [999 999 999 999]]\n",
      "\n",
      " [[999 999 999 999]\n",
      "  [999 999 999 999]\n",
      "  [999 999 999 999]\n",
      "  [999 999 999 999]]\n",
      "\n",
      " [[999 999 999 999]\n",
      "  [999 999 999 999]\n",
      "  [999 999 999 999]\n",
      "  [999 999 999 999]]]\n",
      "[[8 0 3]\n",
      " [7 4 8]\n",
      " [3 8 2]]\n"
     ]
    }
   ],
   "source": [
    "# Create a 1D array of zeros\n",
    "arr = np.zeros(10)\n",
    "print(arr)\n",
    "\n",
    "# Create a 2D array, 4x10 of ones\n",
    "arr = np.ones((4, 10))\n",
    "print(arr)\n",
    "\n",
    "# Create a 3D array, 4x4x4 filled with a specific value (999)\n",
    "arr = np.full((4, 4, 4), 999)\n",
    "print(arr)\n",
    "\n",
    "# Createe a 2D array, 3x3, of random integers between 0-9\n",
    "arr = np.random.randint(0, 10, (3, 3))\n",
    "print(arr)"
   ]
  },
  {
   "attachments": {},
   "cell_type": "markdown",
   "metadata": {},
   "source": [
    "### Array indexing and slicing\n",
    "Numpy arrays can be indexed and sliced in a manner similar to Python lists. \n",
    "\n",
    "1D arrays are indexed and sliced in _exactly_ the same way as lists."
   ]
  },
  {
   "cell_type": "code",
   "execution_count": 38,
   "metadata": {},
   "outputs": [
    {
     "name": "stdout",
     "output_type": "stream",
     "text": [
      "[ 1.  2.  3.  4.  5.  6.  7.  8.  9. 10.]\n",
      "3.0\n",
      "[1. 2. 3.]\n"
     ]
    }
   ],
   "source": [
    "arr = np.linspace(1, 10, 10)\n",
    "print(arr)\n",
    "\n",
    "# Get the 3rd element\n",
    "print(arr[2])\n",
    "\n",
    "# Get elements in the range [0, 3) (the first three elements)\n",
    "print(arr[0:3])"
   ]
  },
  {
   "attachments": {},
   "cell_type": "markdown",
   "metadata": {},
   "source": [
    "Multi-dimensional arrays are indexed using a *comma-separated tuple of indices*.\n",
    "\n",
    "To get the first row of the array we can use the following code:\n"
   ]
  },
  {
   "cell_type": "code",
   "execution_count": 40,
   "metadata": {},
   "outputs": [
    {
     "name": "stdout",
     "output_type": "stream",
     "text": [
      "[[ 1.  2.  3.  4.  5.]\n",
      " [ 6.  7.  8.  9. 10.]\n",
      " [11. 12. 13. 14. 15.]\n",
      " [16. 17. 18. 19. 20.]]\n"
     ]
    },
    {
     "data": {
      "text/plain": [
       "array([1., 2., 3., 4., 5.])"
      ]
     },
     "execution_count": 40,
     "metadata": {},
     "output_type": "execute_result"
    }
   ],
   "source": [
    "# Create a 2D array, 4x5 of evenly spaced values between 1-20\n",
    "arr = np.linspace(1, 20, 20).reshape(4, 5)\n",
    "print(arr)\n",
    "\n",
    "# Get the first row of the array\n",
    "arr[0,:]"
   ]
  },
  {
   "attachments": {},
   "cell_type": "markdown",
   "metadata": {},
   "source": [
    "To get the first column of the array `arr` we use a colon `:` to indicate that we want all rows, and the index `0` to indicate that we want the first column:"
   ]
  },
  {
   "cell_type": "code",
   "execution_count": 30,
   "metadata": {},
   "outputs": [
    {
     "data": {
      "text/plain": [
       "array([ 1.,  6., 11., 16.])"
      ]
     },
     "execution_count": 30,
     "metadata": {},
     "output_type": "execute_result"
    }
   ],
   "source": [
    "# Get the first column of the array\n",
    "arr[:, 0]"
   ]
  },
  {
   "attachments": {},
   "cell_type": "markdown",
   "metadata": {},
   "source": []
  },
  {
   "attachments": {},
   "cell_type": "markdown",
   "metadata": {},
   "source": [
    "\n",
    "#### Boolean indexing\n",
    "We can use boolean indexing to select elements from an array based on a condition. For example, to get all elements in the array `arr` that are greater than a given value.\n"
   ]
  },
  {
   "cell_type": "code",
   "execution_count": 42,
   "metadata": {},
   "outputs": [
    {
     "data": {
      "text/plain": [
       "array([[False, False, False, False, False],\n",
       "       [False, False, False, False, False],\n",
       "       [ True,  True,  True,  True,  True],\n",
       "       [ True,  True,  True,  True,  True],\n",
       "       [ True,  True,  True,  True,  True]])"
      ]
     },
     "execution_count": 42,
     "metadata": {},
     "output_type": "execute_result"
    }
   ],
   "source": [
    "arr = np.arange(1, 26).reshape(5, 5)\n",
    "\n",
    "# Identify all elements in the array that are greater than 10\n",
    "arr > 10"
   ]
  },
  {
   "cell_type": "code",
   "execution_count": 44,
   "metadata": {},
   "outputs": [
    {
     "data": {
      "text/plain": [
       "array([11, 12, 13, 14, 15, 16, 17, 18, 19, 20, 21, 22, 23, 24, 25])"
      ]
     },
     "execution_count": 44,
     "metadata": {},
     "output_type": "execute_result"
    }
   ],
   "source": [
    "thresh_idx = arr > 10\n",
    "\n",
    "arr[thresh_idx]"
   ]
  },
  {
   "cell_type": "code",
   "execution_count": 46,
   "metadata": {},
   "outputs": [
    {
     "data": {
      "text/plain": [
       "array([[  1,   2,   3,   4,   5],\n",
       "       [  6,   7,   8,   9,  10],\n",
       "       [211, 212, 213, 214, 215],\n",
       "       [216, 217, 218, 219, 220],\n",
       "       [221, 222, 223, 224, 225]])"
      ]
     },
     "execution_count": 46,
     "metadata": {},
     "output_type": "execute_result"
    }
   ],
   "source": [
    "arr[thres_idx] += 100\n",
    "\n",
    "arr"
   ]
  },
  {
   "attachments": {},
   "cell_type": "markdown",
   "metadata": {},
   "source": [
    "\n",
    "\n",
    "### Array operations\n",
    "\n",
    "\n",
    "### Math and summary statistics\n",
    "\n",
    "### Linear algebra\n",
    "\n"
   ]
  },
  {
   "attachments": {},
   "cell_type": "markdown",
   "metadata": {},
   "source": [
    "\n",
    "## Pandas\n",
    "Pandas is a python package for 'panel data'. It is a library providing high-performance, easy-to-use data structures and data analysis tools for the Python programming language. It is built *on top* of the Numpy package and its key data structure is called the `DataFrame`. `DataFrames` allow you to store and manipulate tabular data in rows of observations and columns of variables.\n",
    "\n",
    "### Pandas Data Structures\n",
    "\n",
    "#### Series\n",
    "In Pandas, a `Series` is a one-dimensional array-like object containing a sequence of values (of similar types to NumPy types) and an associated array of data labels, called its `index`. The simplest `Series` is formed from only an array of data\n",
    "\n",
    "#### DataFrame\n",
    "A Pandas DataFrame is a tabular data structure comprised of rows and columns, akin to spreadsheet data. You can also think of a DataFrame as a group of Series objects that share an index (the column names). Unlike NumPy arrays, which must contain only a single data type, Pandas DataFrames can contain multiple data types.\n",
    "\n",
    "### Creating DataFrames\n",
    "\n",
    "### Reading and writing data\n",
    "\n",
    "### Indexing and selecting data\n",
    "\n",
    "### Filtering data\n",
    "\n",
    "### Sorting data\n",
    "\n",
    "### Summarizing data\n",
    "\n",
    "### Grouping data\n",
    "\n",
    "### Merging data\n",
    "\n",
    "## Tidy data\n",
    "An important concept in data science is the idea of 'tidy data'. Tidy data is a standard way of mapping the meaning of a dataset to its structure. A dataset is messy or 'tidy' depending on how rows, columns and tables are matched up with observations, variables and types. In tidy data, each measured variable is a column, each observation is a row, and each type of observational unit is a table.\n",
    "\n",
    "### Tidy data in Python\n",
    "The `pandas` package provides a number of functions to help with the process of tidying data. \n",
    "\n",
    "The `melt` function is particularly useful. It takes a DataFrame as its first argument, and the names of the columns to be used as identifiers as its second argument. The remaining columns are then treated as 'measured variables' and 'melted' into a single column. \n",
    "\n",
    "The `melt` function returns a DataFrame with a new column called `variable` that contains the names of the columns that were melted, and a new column called `value` that contains the values of the melted columns."
   ]
  },
  {
   "cell_type": "code",
   "execution_count": 65,
   "metadata": {},
   "outputs": [
    {
     "data": {
      "text/html": [
       "<div>\n",
       "<style scoped>\n",
       "    .dataframe tbody tr th:only-of-type {\n",
       "        vertical-align: middle;\n",
       "    }\n",
       "\n",
       "    .dataframe tbody tr th {\n",
       "        vertical-align: top;\n",
       "    }\n",
       "\n",
       "    .dataframe thead th {\n",
       "        text-align: right;\n",
       "    }\n",
       "</style>\n",
       "<table border=\"1\" class=\"dataframe\">\n",
       "  <thead>\n",
       "    <tr style=\"text-align: right;\">\n",
       "      <th></th>\n",
       "      <th>gene_id</th>\n",
       "      <th>E15_cpn</th>\n",
       "      <th>E15_corticothal</th>\n",
       "      <th>E15_subcereb</th>\n",
       "      <th>E16_cpn</th>\n",
       "      <th>E16_corticothal</th>\n",
       "      <th>E16_subcereb</th>\n",
       "      <th>E18_cpn</th>\n",
       "      <th>E18_corticothal</th>\n",
       "      <th>E18_subcereb</th>\n",
       "      <th>P1_cpn</th>\n",
       "      <th>P1_corticothal</th>\n",
       "      <th>P1_subcereb</th>\n",
       "    </tr>\n",
       "  </thead>\n",
       "  <tbody>\n",
       "    <tr>\n",
       "      <th>0</th>\n",
       "      <td>0610007C21Rik</td>\n",
       "      <td>3.628850e+01</td>\n",
       "      <td>29.698300</td>\n",
       "      <td>3.340490e+01</td>\n",
       "      <td>39.377400</td>\n",
       "      <td>3.443750e+01</td>\n",
       "      <td>30.097900</td>\n",
       "      <td>42.217700</td>\n",
       "      <td>3.985680e+01</td>\n",
       "      <td>32.034800</td>\n",
       "      <td>59.940700</td>\n",
       "      <td>58.409400</td>\n",
       "      <td>54.186200</td>\n",
       "    </tr>\n",
       "    <tr>\n",
       "      <th>1</th>\n",
       "      <td>0610007L01Rik</td>\n",
       "      <td>1.206950e+01</td>\n",
       "      <td>10.966100</td>\n",
       "      <td>1.092010e+01</td>\n",
       "      <td>10.353700</td>\n",
       "      <td>1.100810e+01</td>\n",
       "      <td>12.301300</td>\n",
       "      <td>10.785700</td>\n",
       "      <td>1.141970e+01</td>\n",
       "      <td>11.606800</td>\n",
       "      <td>16.325000</td>\n",
       "      <td>17.054100</td>\n",
       "      <td>14.946100</td>\n",
       "    </tr>\n",
       "    <tr>\n",
       "      <th>2</th>\n",
       "      <td>0610007P08Rik</td>\n",
       "      <td>6.412380e+00</td>\n",
       "      <td>7.046340</td>\n",
       "      <td>7.641080e+00</td>\n",
       "      <td>6.971550</td>\n",
       "      <td>7.232610e+00</td>\n",
       "      <td>6.708510</td>\n",
       "      <td>6.204450</td>\n",
       "      <td>6.601510e+00</td>\n",
       "      <td>4.911680</td>\n",
       "      <td>3.993170</td>\n",
       "      <td>3.806410</td>\n",
       "      <td>3.238020</td>\n",
       "    </tr>\n",
       "    <tr>\n",
       "      <th>3</th>\n",
       "      <td>0610007P14Rik</td>\n",
       "      <td>2.089430e+01</td>\n",
       "      <td>13.672500</td>\n",
       "      <td>1.484450e+01</td>\n",
       "      <td>23.519400</td>\n",
       "      <td>1.624610e+01</td>\n",
       "      <td>28.872900</td>\n",
       "      <td>29.619700</td>\n",
       "      <td>2.117910e+01</td>\n",
       "      <td>36.838800</td>\n",
       "      <td>29.359400</td>\n",
       "      <td>22.103000</td>\n",
       "      <td>32.700000</td>\n",
       "    </tr>\n",
       "    <tr>\n",
       "      <th>4</th>\n",
       "      <td>0610007P22Rik</td>\n",
       "      <td>2.080070e+01</td>\n",
       "      <td>19.686500</td>\n",
       "      <td>2.199760e+01</td>\n",
       "      <td>18.090600</td>\n",
       "      <td>1.825500e+01</td>\n",
       "      <td>19.137600</td>\n",
       "      <td>18.087300</td>\n",
       "      <td>1.806960e+01</td>\n",
       "      <td>17.483200</td>\n",
       "      <td>22.254400</td>\n",
       "      <td>23.984300</td>\n",
       "      <td>24.621500</td>\n",
       "    </tr>\n",
       "    <tr>\n",
       "      <th>...</th>\n",
       "      <td>...</td>\n",
       "      <td>...</td>\n",
       "      <td>...</td>\n",
       "      <td>...</td>\n",
       "      <td>...</td>\n",
       "      <td>...</td>\n",
       "      <td>...</td>\n",
       "      <td>...</td>\n",
       "      <td>...</td>\n",
       "      <td>...</td>\n",
       "      <td>...</td>\n",
       "      <td>...</td>\n",
       "      <td>...</td>\n",
       "    </tr>\n",
       "    <tr>\n",
       "      <th>25774</th>\n",
       "      <td>vesl-2</td>\n",
       "      <td>2.127080e-16</td>\n",
       "      <td>0.027159</td>\n",
       "      <td>1.526700e-25</td>\n",
       "      <td>0.025714</td>\n",
       "      <td>1.418250e-13</td>\n",
       "      <td>0.013786</td>\n",
       "      <td>0.024311</td>\n",
       "      <td>1.682800e-18</td>\n",
       "      <td>0.033038</td>\n",
       "      <td>0.020868</td>\n",
       "      <td>0.140264</td>\n",
       "      <td>0.060259</td>\n",
       "    </tr>\n",
       "    <tr>\n",
       "      <th>25775</th>\n",
       "      <td>wdp103</td>\n",
       "      <td>4.076470e-01</td>\n",
       "      <td>0.275522</td>\n",
       "      <td>3.704000e-01</td>\n",
       "      <td>0.640581</td>\n",
       "      <td>5.337540e-01</td>\n",
       "      <td>0.486473</td>\n",
       "      <td>0.441163</td>\n",
       "      <td>4.654600e-01</td>\n",
       "      <td>0.572070</td>\n",
       "      <td>0.564045</td>\n",
       "      <td>0.434918</td>\n",
       "      <td>0.402615</td>\n",
       "    </tr>\n",
       "    <tr>\n",
       "      <th>25776</th>\n",
       "      <td>wdr4</td>\n",
       "      <td>5.548660e+00</td>\n",
       "      <td>5.873140</td>\n",
       "      <td>6.091040e+00</td>\n",
       "      <td>5.836460</td>\n",
       "      <td>5.501650e+00</td>\n",
       "      <td>7.061410</td>\n",
       "      <td>6.971030</td>\n",
       "      <td>6.340210e+00</td>\n",
       "      <td>8.746420</td>\n",
       "      <td>11.419700</td>\n",
       "      <td>7.108320</td>\n",
       "      <td>10.236700</td>\n",
       "    </tr>\n",
       "    <tr>\n",
       "      <th>25777</th>\n",
       "      <td>wiz</td>\n",
       "      <td>6.625390e+00</td>\n",
       "      <td>6.581460</td>\n",
       "      <td>8.413580e+00</td>\n",
       "      <td>6.937630</td>\n",
       "      <td>6.275750e+00</td>\n",
       "      <td>7.135460</td>\n",
       "      <td>5.894330</td>\n",
       "      <td>4.287110e+00</td>\n",
       "      <td>6.076040</td>\n",
       "      <td>4.390600</td>\n",
       "      <td>3.832160</td>\n",
       "      <td>4.180550</td>\n",
       "    </tr>\n",
       "    <tr>\n",
       "      <th>25778</th>\n",
       "      <td>zap</td>\n",
       "      <td>8.146380e+00</td>\n",
       "      <td>8.486990</td>\n",
       "      <td>8.537960e+00</td>\n",
       "      <td>9.313800</td>\n",
       "      <td>8.982460e+00</td>\n",
       "      <td>7.199040</td>\n",
       "      <td>7.911030</td>\n",
       "      <td>8.014710e+00</td>\n",
       "      <td>7.252540</td>\n",
       "      <td>6.510650</td>\n",
       "      <td>6.391850</td>\n",
       "      <td>6.044750</td>\n",
       "    </tr>\n",
       "  </tbody>\n",
       "</table>\n",
       "<p>25779 rows × 13 columns</p>\n",
       "</div>"
      ],
      "text/plain": [
       "             gene_id       E15_cpn  E15_corticothal  E15_subcereb    E16_cpn  \\\n",
       "0      0610007C21Rik  3.628850e+01        29.698300  3.340490e+01  39.377400   \n",
       "1      0610007L01Rik  1.206950e+01        10.966100  1.092010e+01  10.353700   \n",
       "2      0610007P08Rik  6.412380e+00         7.046340  7.641080e+00   6.971550   \n",
       "3      0610007P14Rik  2.089430e+01        13.672500  1.484450e+01  23.519400   \n",
       "4      0610007P22Rik  2.080070e+01        19.686500  2.199760e+01  18.090600   \n",
       "...              ...           ...              ...           ...        ...   \n",
       "25774         vesl-2  2.127080e-16         0.027159  1.526700e-25   0.025714   \n",
       "25775         wdp103  4.076470e-01         0.275522  3.704000e-01   0.640581   \n",
       "25776           wdr4  5.548660e+00         5.873140  6.091040e+00   5.836460   \n",
       "25777            wiz  6.625390e+00         6.581460  8.413580e+00   6.937630   \n",
       "25778            zap  8.146380e+00         8.486990  8.537960e+00   9.313800   \n",
       "\n",
       "       E16_corticothal  E16_subcereb    E18_cpn  E18_corticothal  \\\n",
       "0         3.443750e+01     30.097900  42.217700     3.985680e+01   \n",
       "1         1.100810e+01     12.301300  10.785700     1.141970e+01   \n",
       "2         7.232610e+00      6.708510   6.204450     6.601510e+00   \n",
       "3         1.624610e+01     28.872900  29.619700     2.117910e+01   \n",
       "4         1.825500e+01     19.137600  18.087300     1.806960e+01   \n",
       "...                ...           ...        ...              ...   \n",
       "25774     1.418250e-13      0.013786   0.024311     1.682800e-18   \n",
       "25775     5.337540e-01      0.486473   0.441163     4.654600e-01   \n",
       "25776     5.501650e+00      7.061410   6.971030     6.340210e+00   \n",
       "25777     6.275750e+00      7.135460   5.894330     4.287110e+00   \n",
       "25778     8.982460e+00      7.199040   7.911030     8.014710e+00   \n",
       "\n",
       "       E18_subcereb     P1_cpn  P1_corticothal  P1_subcereb  \n",
       "0         32.034800  59.940700       58.409400    54.186200  \n",
       "1         11.606800  16.325000       17.054100    14.946100  \n",
       "2          4.911680   3.993170        3.806410     3.238020  \n",
       "3         36.838800  29.359400       22.103000    32.700000  \n",
       "4         17.483200  22.254400       23.984300    24.621500  \n",
       "...             ...        ...             ...          ...  \n",
       "25774      0.033038   0.020868        0.140264     0.060259  \n",
       "25775      0.572070   0.564045        0.434918     0.402615  \n",
       "25776      8.746420  11.419700        7.108320    10.236700  \n",
       "25777      6.076040   4.390600        3.832160     4.180550  \n",
       "25778      7.252540   6.510650        6.391850     6.044750  \n",
       "\n",
       "[25779 rows x 13 columns]"
      ]
     },
     "execution_count": 65,
     "metadata": {},
     "output_type": "execute_result"
    }
   ],
   "source": [
    "import numpy as np\n",
    "import pandas as pd\n",
    "\n",
    "data = pd.read_csv('data/GSE63482_Expression_matrix.tsv', sep='\\t')\n",
    "\n",
    "data"
   ]
  },
  {
   "cell_type": "code",
   "execution_count": 66,
   "metadata": {},
   "outputs": [
    {
     "data": {
      "text/html": [
       "<div>\n",
       "<style scoped>\n",
       "    .dataframe tbody tr th:only-of-type {\n",
       "        vertical-align: middle;\n",
       "    }\n",
       "\n",
       "    .dataframe tbody tr th {\n",
       "        vertical-align: top;\n",
       "    }\n",
       "\n",
       "    .dataframe thead th {\n",
       "        text-align: right;\n",
       "    }\n",
       "</style>\n",
       "<table border=\"1\" class=\"dataframe\">\n",
       "  <thead>\n",
       "    <tr style=\"text-align: right;\">\n",
       "      <th></th>\n",
       "      <th>E15_cpn</th>\n",
       "      <th>E15_corticothal</th>\n",
       "      <th>E15_subcereb</th>\n",
       "      <th>E16_cpn</th>\n",
       "      <th>E16_corticothal</th>\n",
       "      <th>E16_subcereb</th>\n",
       "      <th>E18_cpn</th>\n",
       "      <th>E18_corticothal</th>\n",
       "      <th>E18_subcereb</th>\n",
       "      <th>P1_cpn</th>\n",
       "      <th>P1_corticothal</th>\n",
       "      <th>P1_subcereb</th>\n",
       "    </tr>\n",
       "  </thead>\n",
       "  <tbody>\n",
       "    <tr>\n",
       "      <th>count</th>\n",
       "      <td>25779.000000</td>\n",
       "      <td>25779.000000</td>\n",
       "      <td>25779.000000</td>\n",
       "      <td>25779.000000</td>\n",
       "      <td>25779.000000</td>\n",
       "      <td>25779.000000</td>\n",
       "      <td>25779.000000</td>\n",
       "      <td>25779.000000</td>\n",
       "      <td>25779.000000</td>\n",
       "      <td>25779.000000</td>\n",
       "      <td>25779.000000</td>\n",
       "      <td>25779.000000</td>\n",
       "    </tr>\n",
       "    <tr>\n",
       "      <th>mean</th>\n",
       "      <td>14.237358</td>\n",
       "      <td>13.660884</td>\n",
       "      <td>14.016890</td>\n",
       "      <td>13.954744</td>\n",
       "      <td>13.029715</td>\n",
       "      <td>14.124343</td>\n",
       "      <td>13.792249</td>\n",
       "      <td>13.316392</td>\n",
       "      <td>14.529660</td>\n",
       "      <td>15.147968</td>\n",
       "      <td>15.036684</td>\n",
       "      <td>17.138852</td>\n",
       "    </tr>\n",
       "    <tr>\n",
       "      <th>std</th>\n",
       "      <td>62.050938</td>\n",
       "      <td>52.792316</td>\n",
       "      <td>56.553113</td>\n",
       "      <td>63.584769</td>\n",
       "      <td>49.179222</td>\n",
       "      <td>67.603854</td>\n",
       "      <td>62.733385</td>\n",
       "      <td>51.208908</td>\n",
       "      <td>75.162498</td>\n",
       "      <td>72.975062</td>\n",
       "      <td>63.279192</td>\n",
       "      <td>99.209949</td>\n",
       "    </tr>\n",
       "    <tr>\n",
       "      <th>min</th>\n",
       "      <td>0.000000</td>\n",
       "      <td>0.000000</td>\n",
       "      <td>0.000000</td>\n",
       "      <td>0.000000</td>\n",
       "      <td>0.000000</td>\n",
       "      <td>0.000000</td>\n",
       "      <td>0.000000</td>\n",
       "      <td>0.000000</td>\n",
       "      <td>0.000000</td>\n",
       "      <td>0.000000</td>\n",
       "      <td>0.000000</td>\n",
       "      <td>0.000000</td>\n",
       "    </tr>\n",
       "    <tr>\n",
       "      <th>25%</th>\n",
       "      <td>0.000000</td>\n",
       "      <td>0.000000</td>\n",
       "      <td>0.000000</td>\n",
       "      <td>0.000000</td>\n",
       "      <td>0.000000</td>\n",
       "      <td>0.000000</td>\n",
       "      <td>0.000000</td>\n",
       "      <td>0.000000</td>\n",
       "      <td>0.000000</td>\n",
       "      <td>0.000000</td>\n",
       "      <td>0.000000</td>\n",
       "      <td>0.000000</td>\n",
       "    </tr>\n",
       "    <tr>\n",
       "      <th>50%</th>\n",
       "      <td>0.374059</td>\n",
       "      <td>0.466004</td>\n",
       "      <td>0.387307</td>\n",
       "      <td>0.459725</td>\n",
       "      <td>0.504652</td>\n",
       "      <td>0.412668</td>\n",
       "      <td>0.509617</td>\n",
       "      <td>0.524263</td>\n",
       "      <td>0.502233</td>\n",
       "      <td>0.527402</td>\n",
       "      <td>0.535642</td>\n",
       "      <td>0.483513</td>\n",
       "    </tr>\n",
       "    <tr>\n",
       "      <th>75%</th>\n",
       "      <td>11.316600</td>\n",
       "      <td>11.247600</td>\n",
       "      <td>11.484900</td>\n",
       "      <td>11.153950</td>\n",
       "      <td>11.197250</td>\n",
       "      <td>11.319300</td>\n",
       "      <td>11.291600</td>\n",
       "      <td>11.362300</td>\n",
       "      <td>11.338900</td>\n",
       "      <td>10.931600</td>\n",
       "      <td>11.071250</td>\n",
       "      <td>10.968050</td>\n",
       "    </tr>\n",
       "    <tr>\n",
       "      <th>max</th>\n",
       "      <td>4596.470000</td>\n",
       "      <td>3149.320000</td>\n",
       "      <td>3755.350000</td>\n",
       "      <td>5389.120000</td>\n",
       "      <td>3355.660000</td>\n",
       "      <td>6461.550000</td>\n",
       "      <td>5450.830000</td>\n",
       "      <td>3714.890000</td>\n",
       "      <td>7337.000000</td>\n",
       "      <td>6701.260000</td>\n",
       "      <td>4788.770000</td>\n",
       "      <td>9825.180000</td>\n",
       "    </tr>\n",
       "  </tbody>\n",
       "</table>\n",
       "</div>"
      ],
      "text/plain": [
       "            E15_cpn  E15_corticothal  E15_subcereb       E16_cpn  \\\n",
       "count  25779.000000     25779.000000  25779.000000  25779.000000   \n",
       "mean      14.237358        13.660884     14.016890     13.954744   \n",
       "std       62.050938        52.792316     56.553113     63.584769   \n",
       "min        0.000000         0.000000      0.000000      0.000000   \n",
       "25%        0.000000         0.000000      0.000000      0.000000   \n",
       "50%        0.374059         0.466004      0.387307      0.459725   \n",
       "75%       11.316600        11.247600     11.484900     11.153950   \n",
       "max     4596.470000      3149.320000   3755.350000   5389.120000   \n",
       "\n",
       "       E16_corticothal  E16_subcereb       E18_cpn  E18_corticothal  \\\n",
       "count     25779.000000  25779.000000  25779.000000     25779.000000   \n",
       "mean         13.029715     14.124343     13.792249        13.316392   \n",
       "std          49.179222     67.603854     62.733385        51.208908   \n",
       "min           0.000000      0.000000      0.000000         0.000000   \n",
       "25%           0.000000      0.000000      0.000000         0.000000   \n",
       "50%           0.504652      0.412668      0.509617         0.524263   \n",
       "75%          11.197250     11.319300     11.291600        11.362300   \n",
       "max        3355.660000   6461.550000   5450.830000      3714.890000   \n",
       "\n",
       "       E18_subcereb        P1_cpn  P1_corticothal   P1_subcereb  \n",
       "count  25779.000000  25779.000000    25779.000000  25779.000000  \n",
       "mean      14.529660     15.147968       15.036684     17.138852  \n",
       "std       75.162498     72.975062       63.279192     99.209949  \n",
       "min        0.000000      0.000000        0.000000      0.000000  \n",
       "25%        0.000000      0.000000        0.000000      0.000000  \n",
       "50%        0.502233      0.527402        0.535642      0.483513  \n",
       "75%       11.338900     10.931600       11.071250     10.968050  \n",
       "max     7337.000000   6701.260000     4788.770000   9825.180000  "
      ]
     },
     "execution_count": 66,
     "metadata": {},
     "output_type": "execute_result"
    }
   ],
   "source": [
    "# Describe the summary statistics for columns of this dataset\n",
    "data.describe()"
   ]
  },
  {
   "cell_type": "code",
   "execution_count": 69,
   "metadata": {},
   "outputs": [
    {
     "data": {
      "text/html": [
       "<div>\n",
       "<style scoped>\n",
       "    .dataframe tbody tr th:only-of-type {\n",
       "        vertical-align: middle;\n",
       "    }\n",
       "\n",
       "    .dataframe tbody tr th {\n",
       "        vertical-align: top;\n",
       "    }\n",
       "\n",
       "    .dataframe thead th {\n",
       "        text-align: right;\n",
       "    }\n",
       "</style>\n",
       "<table border=\"1\" class=\"dataframe\">\n",
       "  <thead>\n",
       "    <tr style=\"text-align: right;\">\n",
       "      <th></th>\n",
       "      <th>E15_cpn</th>\n",
       "      <th>E15_corticothal</th>\n",
       "      <th>E15_subcereb</th>\n",
       "      <th>E16_cpn</th>\n",
       "      <th>E16_corticothal</th>\n",
       "      <th>E16_subcereb</th>\n",
       "      <th>E18_cpn</th>\n",
       "      <th>E18_corticothal</th>\n",
       "      <th>E18_subcereb</th>\n",
       "      <th>P1_cpn</th>\n",
       "      <th>P1_corticothal</th>\n",
       "      <th>P1_subcereb</th>\n",
       "    </tr>\n",
       "  </thead>\n",
       "  <tbody>\n",
       "    <tr>\n",
       "      <th>count</th>\n",
       "      <td>10.000000</td>\n",
       "      <td>10.000000</td>\n",
       "      <td>10.000000</td>\n",
       "      <td>10.000000</td>\n",
       "      <td>10.000000</td>\n",
       "      <td>10.000000</td>\n",
       "      <td>10.000000</td>\n",
       "      <td>10.000000</td>\n",
       "      <td>10.000000</td>\n",
       "      <td>10.000000</td>\n",
       "      <td>10.000000</td>\n",
       "      <td>10.000000</td>\n",
       "    </tr>\n",
       "    <tr>\n",
       "      <th>mean</th>\n",
       "      <td>16.135965</td>\n",
       "      <td>13.373856</td>\n",
       "      <td>14.345738</td>\n",
       "      <td>15.997099</td>\n",
       "      <td>14.422570</td>\n",
       "      <td>15.343884</td>\n",
       "      <td>16.572042</td>\n",
       "      <td>16.060723</td>\n",
       "      <td>15.743985</td>\n",
       "      <td>19.289689</td>\n",
       "      <td>19.679083</td>\n",
       "      <td>18.698364</td>\n",
       "    </tr>\n",
       "    <tr>\n",
       "      <th>std</th>\n",
       "      <td>11.876138</td>\n",
       "      <td>9.384810</td>\n",
       "      <td>10.348110</td>\n",
       "      <td>12.421713</td>\n",
       "      <td>10.801148</td>\n",
       "      <td>11.019936</td>\n",
       "      <td>13.515714</td>\n",
       "      <td>12.905686</td>\n",
       "      <td>12.528457</td>\n",
       "      <td>18.349713</td>\n",
       "      <td>18.329739</td>\n",
       "      <td>17.446516</td>\n",
       "    </tr>\n",
       "    <tr>\n",
       "      <th>min</th>\n",
       "      <td>0.000000</td>\n",
       "      <td>0.000000</td>\n",
       "      <td>0.000000</td>\n",
       "      <td>0.000000</td>\n",
       "      <td>0.000000</td>\n",
       "      <td>0.000000</td>\n",
       "      <td>0.000000</td>\n",
       "      <td>0.000000</td>\n",
       "      <td>0.000000</td>\n",
       "      <td>0.000000</td>\n",
       "      <td>0.000000</td>\n",
       "      <td>0.000000</td>\n",
       "    </tr>\n",
       "    <tr>\n",
       "      <th>25%</th>\n",
       "      <td>7.826660</td>\n",
       "      <td>8.026280</td>\n",
       "      <td>8.460835</td>\n",
       "      <td>7.817087</td>\n",
       "      <td>7.987858</td>\n",
       "      <td>7.875108</td>\n",
       "      <td>7.346488</td>\n",
       "      <td>7.411968</td>\n",
       "      <td>6.570260</td>\n",
       "      <td>4.675873</td>\n",
       "      <td>4.575328</td>\n",
       "      <td>4.907575</td>\n",
       "    </tr>\n",
       "    <tr>\n",
       "      <th>50%</th>\n",
       "      <td>17.402500</td>\n",
       "      <td>12.707100</td>\n",
       "      <td>14.238700</td>\n",
       "      <td>14.911650</td>\n",
       "      <td>13.627100</td>\n",
       "      <td>15.385600</td>\n",
       "      <td>14.436500</td>\n",
       "      <td>14.744650</td>\n",
       "      <td>14.545000</td>\n",
       "      <td>19.289700</td>\n",
       "      <td>19.578550</td>\n",
       "      <td>14.575300</td>\n",
       "    </tr>\n",
       "    <tr>\n",
       "      <th>75%</th>\n",
       "      <td>21.285500</td>\n",
       "      <td>19.666925</td>\n",
       "      <td>20.775225</td>\n",
       "      <td>23.832825</td>\n",
       "      <td>21.280575</td>\n",
       "      <td>24.261525</td>\n",
       "      <td>24.589875</td>\n",
       "      <td>21.808950</td>\n",
       "      <td>22.273450</td>\n",
       "      <td>28.146700</td>\n",
       "      <td>29.384975</td>\n",
       "      <td>30.680375</td>\n",
       "    </tr>\n",
       "    <tr>\n",
       "      <th>max</th>\n",
       "      <td>36.288500</td>\n",
       "      <td>29.698300</td>\n",
       "      <td>33.404900</td>\n",
       "      <td>39.377400</td>\n",
       "      <td>34.437500</td>\n",
       "      <td>30.097900</td>\n",
       "      <td>42.217700</td>\n",
       "      <td>39.856800</td>\n",
       "      <td>36.838800</td>\n",
       "      <td>59.940700</td>\n",
       "      <td>58.409400</td>\n",
       "      <td>54.186200</td>\n",
       "    </tr>\n",
       "  </tbody>\n",
       "</table>\n",
       "</div>"
      ],
      "text/plain": [
       "         E15_cpn  E15_corticothal  E15_subcereb    E16_cpn  E16_corticothal  \\\n",
       "count  10.000000        10.000000     10.000000  10.000000        10.000000   \n",
       "mean   16.135965        13.373856     14.345738  15.997099        14.422570   \n",
       "std    11.876138         9.384810     10.348110  12.421713        10.801148   \n",
       "min     0.000000         0.000000      0.000000   0.000000         0.000000   \n",
       "25%     7.826660         8.026280      8.460835   7.817087         7.987858   \n",
       "50%    17.402500        12.707100     14.238700  14.911650        13.627100   \n",
       "75%    21.285500        19.666925     20.775225  23.832825        21.280575   \n",
       "max    36.288500        29.698300     33.404900  39.377400        34.437500   \n",
       "\n",
       "       E16_subcereb    E18_cpn  E18_corticothal  E18_subcereb     P1_cpn  \\\n",
       "count     10.000000  10.000000        10.000000     10.000000  10.000000   \n",
       "mean      15.343884  16.572042        16.060723     15.743985  19.289689   \n",
       "std       11.019936  13.515714        12.905686     12.528457  18.349713   \n",
       "min        0.000000   0.000000         0.000000      0.000000   0.000000   \n",
       "25%        7.875108   7.346488         7.411968      6.570260   4.675873   \n",
       "50%       15.385600  14.436500        14.744650     14.545000  19.289700   \n",
       "75%       24.261525  24.589875        21.808950     22.273450  28.146700   \n",
       "max       30.097900  42.217700        39.856800     36.838800  59.940700   \n",
       "\n",
       "       P1_corticothal  P1_subcereb  \n",
       "count       10.000000    10.000000  \n",
       "mean        19.679083    18.698364  \n",
       "std         18.329739    17.446516  \n",
       "min          0.000000     0.000000  \n",
       "25%          4.575328     4.907575  \n",
       "50%         19.578550    14.575300  \n",
       "75%         29.384975    30.680375  \n",
       "max         58.409400    54.186200  "
      ]
     },
     "execution_count": 69,
     "metadata": {},
     "output_type": "execute_result"
    }
   ],
   "source": [
    "\n",
    "# Describe the summary statistics for (first 10) rows of this dataset\n",
    "data.head(10)\n",
    "\n",
    "data.head(10).describe()"
   ]
  },
  {
   "cell_type": "code",
   "execution_count": 72,
   "metadata": {},
   "outputs": [
    {
     "data": {
      "text/html": [
       "<div>\n",
       "<style scoped>\n",
       "    .dataframe tbody tr th:only-of-type {\n",
       "        vertical-align: middle;\n",
       "    }\n",
       "\n",
       "    .dataframe tbody tr th {\n",
       "        vertical-align: top;\n",
       "    }\n",
       "\n",
       "    .dataframe thead th {\n",
       "        text-align: right;\n",
       "    }\n",
       "</style>\n",
       "<table border=\"1\" class=\"dataframe\">\n",
       "  <thead>\n",
       "    <tr style=\"text-align: right;\">\n",
       "      <th></th>\n",
       "      <th>gene_id</th>\n",
       "      <th>variable</th>\n",
       "      <th>value</th>\n",
       "    </tr>\n",
       "  </thead>\n",
       "  <tbody>\n",
       "    <tr>\n",
       "      <th>0</th>\n",
       "      <td>0610007C21Rik</td>\n",
       "      <td>E15_cpn</td>\n",
       "      <td>36.288500</td>\n",
       "    </tr>\n",
       "    <tr>\n",
       "      <th>1</th>\n",
       "      <td>0610007L01Rik</td>\n",
       "      <td>E15_cpn</td>\n",
       "      <td>12.069500</td>\n",
       "    </tr>\n",
       "    <tr>\n",
       "      <th>2</th>\n",
       "      <td>0610007P08Rik</td>\n",
       "      <td>E15_cpn</td>\n",
       "      <td>6.412380</td>\n",
       "    </tr>\n",
       "    <tr>\n",
       "      <th>3</th>\n",
       "      <td>0610007P14Rik</td>\n",
       "      <td>E15_cpn</td>\n",
       "      <td>20.894300</td>\n",
       "    </tr>\n",
       "    <tr>\n",
       "      <th>4</th>\n",
       "      <td>0610007P22Rik</td>\n",
       "      <td>E15_cpn</td>\n",
       "      <td>20.800700</td>\n",
       "    </tr>\n",
       "    <tr>\n",
       "      <th>...</th>\n",
       "      <td>...</td>\n",
       "      <td>...</td>\n",
       "      <td>...</td>\n",
       "    </tr>\n",
       "    <tr>\n",
       "      <th>309343</th>\n",
       "      <td>vesl-2</td>\n",
       "      <td>P1_subcereb</td>\n",
       "      <td>0.060259</td>\n",
       "    </tr>\n",
       "    <tr>\n",
       "      <th>309344</th>\n",
       "      <td>wdp103</td>\n",
       "      <td>P1_subcereb</td>\n",
       "      <td>0.402615</td>\n",
       "    </tr>\n",
       "    <tr>\n",
       "      <th>309345</th>\n",
       "      <td>wdr4</td>\n",
       "      <td>P1_subcereb</td>\n",
       "      <td>10.236700</td>\n",
       "    </tr>\n",
       "    <tr>\n",
       "      <th>309346</th>\n",
       "      <td>wiz</td>\n",
       "      <td>P1_subcereb</td>\n",
       "      <td>4.180550</td>\n",
       "    </tr>\n",
       "    <tr>\n",
       "      <th>309347</th>\n",
       "      <td>zap</td>\n",
       "      <td>P1_subcereb</td>\n",
       "      <td>6.044750</td>\n",
       "    </tr>\n",
       "  </tbody>\n",
       "</table>\n",
       "<p>309348 rows × 3 columns</p>\n",
       "</div>"
      ],
      "text/plain": [
       "              gene_id     variable      value\n",
       "0       0610007C21Rik      E15_cpn  36.288500\n",
       "1       0610007L01Rik      E15_cpn  12.069500\n",
       "2       0610007P08Rik      E15_cpn   6.412380\n",
       "3       0610007P14Rik      E15_cpn  20.894300\n",
       "4       0610007P22Rik      E15_cpn  20.800700\n",
       "...               ...          ...        ...\n",
       "309343         vesl-2  P1_subcereb   0.060259\n",
       "309344         wdp103  P1_subcereb   0.402615\n",
       "309345           wdr4  P1_subcereb  10.236700\n",
       "309346            wiz  P1_subcereb   4.180550\n",
       "309347            zap  P1_subcereb   6.044750\n",
       "\n",
       "[309348 rows x 3 columns]"
      ]
     },
     "execution_count": 72,
     "metadata": {},
     "output_type": "execute_result"
    }
   ],
   "source": [
    "# Melt the data into a long format using the index as the id variable\n",
    "# it is important here to explicitly let `melt` know what the id variables are\n",
    "data_melted = data.melt(id_vars=['gene_id'])\n",
    "\n",
    "data_melted"
   ]
  },
  {
   "cell_type": "code",
   "execution_count": 73,
   "metadata": {},
   "outputs": [
    {
     "data": {
      "text/html": [
       "<div>\n",
       "<style scoped>\n",
       "    .dataframe tbody tr th:only-of-type {\n",
       "        vertical-align: middle;\n",
       "    }\n",
       "\n",
       "    .dataframe tbody tr th {\n",
       "        vertical-align: top;\n",
       "    }\n",
       "\n",
       "    .dataframe thead th {\n",
       "        text-align: right;\n",
       "    }\n",
       "</style>\n",
       "<table border=\"1\" class=\"dataframe\">\n",
       "  <thead>\n",
       "    <tr style=\"text-align: right;\">\n",
       "      <th></th>\n",
       "      <th>gene_id</th>\n",
       "      <th>variable</th>\n",
       "      <th>value</th>\n",
       "      <th>age</th>\n",
       "      <th>celltype</th>\n",
       "    </tr>\n",
       "  </thead>\n",
       "  <tbody>\n",
       "    <tr>\n",
       "      <th>0</th>\n",
       "      <td>0610007C21Rik</td>\n",
       "      <td>E15_cpn</td>\n",
       "      <td>36.288500</td>\n",
       "      <td>E15</td>\n",
       "      <td>cpn</td>\n",
       "    </tr>\n",
       "    <tr>\n",
       "      <th>1</th>\n",
       "      <td>0610007L01Rik</td>\n",
       "      <td>E15_cpn</td>\n",
       "      <td>12.069500</td>\n",
       "      <td>E15</td>\n",
       "      <td>cpn</td>\n",
       "    </tr>\n",
       "    <tr>\n",
       "      <th>2</th>\n",
       "      <td>0610007P08Rik</td>\n",
       "      <td>E15_cpn</td>\n",
       "      <td>6.412380</td>\n",
       "      <td>E15</td>\n",
       "      <td>cpn</td>\n",
       "    </tr>\n",
       "    <tr>\n",
       "      <th>3</th>\n",
       "      <td>0610007P14Rik</td>\n",
       "      <td>E15_cpn</td>\n",
       "      <td>20.894300</td>\n",
       "      <td>E15</td>\n",
       "      <td>cpn</td>\n",
       "    </tr>\n",
       "    <tr>\n",
       "      <th>4</th>\n",
       "      <td>0610007P22Rik</td>\n",
       "      <td>E15_cpn</td>\n",
       "      <td>20.800700</td>\n",
       "      <td>E15</td>\n",
       "      <td>cpn</td>\n",
       "    </tr>\n",
       "    <tr>\n",
       "      <th>...</th>\n",
       "      <td>...</td>\n",
       "      <td>...</td>\n",
       "      <td>...</td>\n",
       "      <td>...</td>\n",
       "      <td>...</td>\n",
       "    </tr>\n",
       "    <tr>\n",
       "      <th>309343</th>\n",
       "      <td>vesl-2</td>\n",
       "      <td>P1_subcereb</td>\n",
       "      <td>0.060259</td>\n",
       "      <td>P1</td>\n",
       "      <td>subcereb</td>\n",
       "    </tr>\n",
       "    <tr>\n",
       "      <th>309344</th>\n",
       "      <td>wdp103</td>\n",
       "      <td>P1_subcereb</td>\n",
       "      <td>0.402615</td>\n",
       "      <td>P1</td>\n",
       "      <td>subcereb</td>\n",
       "    </tr>\n",
       "    <tr>\n",
       "      <th>309345</th>\n",
       "      <td>wdr4</td>\n",
       "      <td>P1_subcereb</td>\n",
       "      <td>10.236700</td>\n",
       "      <td>P1</td>\n",
       "      <td>subcereb</td>\n",
       "    </tr>\n",
       "    <tr>\n",
       "      <th>309346</th>\n",
       "      <td>wiz</td>\n",
       "      <td>P1_subcereb</td>\n",
       "      <td>4.180550</td>\n",
       "      <td>P1</td>\n",
       "      <td>subcereb</td>\n",
       "    </tr>\n",
       "    <tr>\n",
       "      <th>309347</th>\n",
       "      <td>zap</td>\n",
       "      <td>P1_subcereb</td>\n",
       "      <td>6.044750</td>\n",
       "      <td>P1</td>\n",
       "      <td>subcereb</td>\n",
       "    </tr>\n",
       "  </tbody>\n",
       "</table>\n",
       "<p>309348 rows × 5 columns</p>\n",
       "</div>"
      ],
      "text/plain": [
       "              gene_id     variable      value  age  celltype\n",
       "0       0610007C21Rik      E15_cpn  36.288500  E15       cpn\n",
       "1       0610007L01Rik      E15_cpn  12.069500  E15       cpn\n",
       "2       0610007P08Rik      E15_cpn   6.412380  E15       cpn\n",
       "3       0610007P14Rik      E15_cpn  20.894300  E15       cpn\n",
       "4       0610007P22Rik      E15_cpn  20.800700  E15       cpn\n",
       "...               ...          ...        ...  ...       ...\n",
       "309343         vesl-2  P1_subcereb   0.060259   P1  subcereb\n",
       "309344         wdp103  P1_subcereb   0.402615   P1  subcereb\n",
       "309345           wdr4  P1_subcereb  10.236700   P1  subcereb\n",
       "309346            wiz  P1_subcereb   4.180550   P1  subcereb\n",
       "309347            zap  P1_subcereb   6.044750   P1  subcereb\n",
       "\n",
       "[309348 rows x 5 columns]"
      ]
     },
     "execution_count": 73,
     "metadata": {},
     "output_type": "execute_result"
    }
   ],
   "source": [
    "# Split the 'variable' column into two columns for 'age' and 'celltype'\n",
    "data_melted[['age', 'celltype']] = data_melted['variable'].str.split('_', expand=True)\n",
    "\n",
    "data_melted"
   ]
  },
  {
   "attachments": {},
   "cell_type": "markdown",
   "metadata": {},
   "source": []
  }
 ],
 "metadata": {
  "kernelspec": {
   "display_name": "qmn2023",
   "language": "python",
   "name": "python3"
  },
  "language_info": {
   "codemirror_mode": {
    "name": "ipython",
    "version": 3
   },
   "file_extension": ".py",
   "mimetype": "text/x-python",
   "name": "python",
   "nbconvert_exporter": "python",
   "pygments_lexer": "ipython3",
   "version": "3.10.12"
  },
  "orig_nbformat": 4
 },
 "nbformat": 4,
 "nbformat_minor": 2
}
