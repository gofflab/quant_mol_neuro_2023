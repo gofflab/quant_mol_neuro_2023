{
 "cells": [
  {
   "cell_type": "markdown",
   "metadata": {},
   "source": [
    "# Module 2 - Python classes, modules, and packages"
   ]
  },
  {
   "cell_type": "markdown",
   "metadata": {},
   "source": []
  },
  {
   "cell_type": "markdown",
   "metadata": {},
   "source": [
    "## Classes and objects\n",
    "Python is an object-oriented programming language. This means that it provides features that support object-oriented programming (OOP). Object-oriented programming brings together data and its behaviour (methods) in a single location (called an “object”) making it easier to conceptualize and understand. This reduces complexity and makes it easier to reuse code in different parts of a program or in different programs.\n",
    "\n",
    "A class is a blueprint for the object. It describes how the object is made (what data it contains and what methods it has). An object is an instance of a class. It contains real values instead of variables. You can create as many objects as you want from a class. Each object is independent of the others. You can modify an object without affecting the others.\n",
    "\n",
    "### Creating a class\n",
    "Lets start by creating a class to hold a DNA sequence. We will need to define the attributes of the class, which are the variables that will be associated with each instance of the class.\n",
    "\n",
    "We will start with a simple class that only has a single attribute, the DNA sequence itself."
   ]
  },
  {
   "cell_type": "code",
   "execution_count": null,
   "metadata": {},
   "outputs": [
    {
     "ename": "",
     "evalue": "",
     "output_type": "error",
     "traceback": [
      "\u001b[1;31mThe kernel failed to start as the Python Environment 'quant' is no longer available. Consider selecting another kernel or refreshing the list of Python Environments."
     ]
    }
   ],
   "source": [
    "class DNA:\n",
    "    def _init_(self,seq):\n",
    "        self.seq = seq\n"
   ]
  },
  {
   "cell_type": "markdown",
   "metadata": {},
   "source": [
    "Now let's create an instance of our class. We do this by calling the class name as if it were a function, and passing the required arguments to the class `__init__` method. The `__init__` method is a special method that is called when an instance of the class is created. It is used to initialize the attributes of the class. The first argument of the `__init__` method is always the object itself (the instance of the class). By convention, this argument is called `self`. The other arguments are the ones that we passed to the class when we created the instance."
   ]
  },
  {
   "cell_type": "code",
   "execution_count": null,
   "metadata": {},
   "outputs": [],
   "source": [
    "myDNA = DNA('ATGCAGTACTGACGTATCGCATTCGTCATGC')"
   ]
  },
  {
   "cell_type": "markdown",
   "metadata": {},
   "source": [
    "Right now this instance doesn't do much. It has a single attribute, but no methods to do anything with it. Let's add a few methods to our class that will allow us to calculate features of the DNA sequence."
   ]
  },
  {
   "cell_type": "code",
   "execution_count": null,
   "metadata": {},
   "outputs": [],
   "source": [
    "class DNA:\n",
    "    def __init__(self,seq):\n",
    "        self.seq = seq\n",
    "    def length(self):\n",
    "        return(len(self.seq))\n",
    "    def gc(self):\n",
    "        G = self.seq.count(\"G\")\n",
    "        C = self.seq.count(\"C\")\n",
    "        nGC = G+C\n",
    "        return(nGC/len(self.seq)*100)\n",
    "    def tm(self):\n",
    "        G = self.seq.count(\"G\")\n",
    "        C = self.seq.count(\"C\")\n",
    "        A = self.seq.count(\"A\")\n",
    "        T = self.seq.count(\"T\")\n",
    "        Tm = 64.9+41*(G+C-16.4)/(A+T+G+C)\n",
    "        return(Tm)\n"
   ]
  },
  {
   "cell_type": "code",
   "execution_count": null,
   "metadata": {},
   "outputs": [
    {
     "name": "stdout",
     "output_type": "stream",
     "text": [
      "31\n",
      "48.38709677419355\n",
      "63.0483870967742\n"
     ]
    }
   ],
   "source": [
    "myDNA = DNA('ATGCAGTACTGACGTATCGCATTCGTCATGC')\n",
    "\n",
    "print(myDNA.length())\n",
    "print(myDNA.gc())\n",
    "print(myDNA.tm())\n"
   ]
  },
  {
   "cell_type": "markdown",
   "metadata": {},
   "source": [
    "# Reading and parsing Genomics data files\n",
    "## Reading FASTA files\n",
    "FASTA is a file format for representing nucleotide or peptide sequences. A FASTA file consists of a header line followed by lines of sequence data. The header line is distinguished from the sequence data by a greater-than (\">\") symbol in the first column. The word following the \">\" symbol is the identifier (name) of the sequence, and the rest of the line is an optional description of the entry. There should be no space between the \">\" and the first letter of the identifier. The sequence ends if another line starting with a \">\" appears; this indicates the start of another sequence.\n",
    "\n",
    "FASTA is a common format in bioinformatics for storing sequence strings. It is a simple format that is easy to parse. Let's write a function that reads a FASTA file and returns a list of DNA sequences."
   ]
  },
  {
   "cell_type": "code",
   "execution_count": null,
   "metadata": {},
   "outputs": [],
   "source": [
    "# Create a python function to take a fasta filename as an argument an return a list of sequences\n",
    "def parseFasta(filename):\n",
    "    # Open the file\n",
    "    fastaFile = open(filename, 'r')\n",
    "    # Create an empty list to store the sequences\n",
    "    sequences = []\n",
    "    # Create an empty string to store the current sequence\n",
    "    currentSequence = ''\n",
    "    # Loop through the lines in the file\n",
    "    for line in fastaFile:\n",
    "        # If the line starts with a >, we have a new sequence\n",
    "        if line.startswith('>'):\n",
    "            # If we have a current sequence, add it to the list\n",
    "            if currentSequence != '':\n",
    "                sequences.append(currentSequence)\n",
    "            # Reset the current sequence\n",
    "            currentSequence = ''\n",
    "        # Otherwise, we have a sequence line\n",
    "        else:\n",
    "            # Add the line to the current sequence\n",
    "            currentSequence += line.strip()\n",
    "    # Add the last sequence to the list\n",
    "    sequences.append(currentSequence)\n",
    "    # Close the file\n",
    "    fastaFile.close()\n",
    "    # Return the list of sequences\n",
    "    return sequences"
   ]
  }
 ],
 "metadata": {
  "kernelspec": {
   "display_name": "quant",
   "language": "python",
   "name": "python3"
  },
  "language_info": {
   "name": "python",
   "version": "3.11.4"
  },
  "orig_nbformat": 4
 },
 "nbformat": 4,
 "nbformat_minor": 2
}
