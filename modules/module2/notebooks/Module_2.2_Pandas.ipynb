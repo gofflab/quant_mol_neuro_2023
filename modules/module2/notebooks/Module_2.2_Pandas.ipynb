{
 "cells": [
  {
   "attachments": {},
   "cell_type": "markdown",
   "metadata": {},
   "source": [
    "# Module 2.1: Pandas"
   ]
  },
  {
   "cell_type": "code",
   "execution_count": 2,
   "metadata": {},
   "outputs": [],
   "source": [
    "import pandas as pd\n",
    "import numpy as np"
   ]
  },
  {
   "attachments": {},
   "cell_type": "markdown",
   "metadata": {},
   "source": [
    "Pandas is a python package for 'panel data'. It is a library providing high-performance, easy-to-use data structures and data analysis tools for the Python programming language. It is built *on top* of the Numpy package and its key data structure is called the `DataFrame`. `DataFrames` allow you to store and manipulate tabular data in rows of observations and columns of variables.\n",
    "\n",
    "### Pandas Data Structures"
   ]
  },
  {
   "cell_type": "markdown",
   "metadata": {},
   "source": [
    "#### Series\n",
    "In Pandas, a `Series` is a one-dimensional array-like object containing a sequence of values (of similar types to NumPy types) and an associated array of data labels, called its `index`. The simplest `Series` is formed from an array of data:\n"
   ]
  },
  {
   "cell_type": "code",
   "execution_count": 7,
   "metadata": {},
   "outputs": [
    {
     "name": "stdout",
     "output_type": "stream",
     "text": [
      "0    0.595659\n",
      "1    0.689792\n",
      "2    0.456661\n",
      "3    0.621448\n",
      "4    0.172698\n",
      "5    0.115973\n",
      "6    0.060628\n",
      "7    0.104663\n",
      "8    0.900528\n",
      "9    0.615383\n",
      "dtype: float64\n"
     ]
    }
   ],
   "source": [
    "ser = pd.Series(np.random.rand(10))\n",
    "\n",
    "print(ser)"
   ]
  },
  {
   "cell_type": "markdown",
   "metadata": {},
   "source": [
    "\n",
    "#### DataFrame\n",
    "A Pandas DataFrame is a tabular data structure comprised of rows and columns, akin to spreadsheet data. You can also think of a DataFrame as a group of Series objects that share an index (the column names). Unlike NumPy arrays, which must contain only a single data type, Pandas DataFrames can contain multiple data types.\n",
    "\n",
    "### Creating DataFrames\n",
    "\n",
    "### Reading and writing data\n",
    "\n",
    "### Indexing and selecting data\n",
    "\n",
    "### Filtering data\n",
    "\n",
    "### Sorting data\n",
    "\n",
    "### Summarizing data\n",
    "\n",
    "### Grouping data\n",
    "\n",
    "### Merging data\n",
    "\n",
    "## Tidy data\n",
    "An important concept in data science is the idea of 'tidy data'. Tidy data is a standard way of mapping the meaning of a dataset to its structure. A dataset is messy or 'tidy' depending on how rows, columns and tables are matched up with observations, variables and types. In tidy data, each measured variable is a column, each observation is a row, and each type of observational unit is a table.\n",
    "\n",
    "### Tidy data in Python\n",
    "The `pandas` package provides a number of functions to help with the process of tidying data. \n",
    "\n",
    "The `melt` function is particularly useful. It takes a DataFrame as its first argument, and the names of the columns to be used as identifiers as its second argument. The remaining columns are then treated as 'measured variables' and 'melted' into a single column. \n",
    "\n",
    "The `melt` function returns a DataFrame with a new column called `variable` that contains the names of the columns that were melted, and a new column called `value` that contains the values of the melted columns."
   ]
  },
  {
   "cell_type": "code",
   "execution_count": null,
   "metadata": {},
   "outputs": [],
   "source": [
    "import numpy as np\n",
    "import pandas as pd\n",
    "\n",
    "data = pd.read_csv('data/GSE63482_Expression_matrix.tsv', sep='\\t')\n",
    "\n",
    "data"
   ]
  },
  {
   "cell_type": "code",
   "execution_count": null,
   "metadata": {},
   "outputs": [],
   "source": [
    "# Describe the summary statistics for columns of this dataset\n",
    "data.describe()"
   ]
  },
  {
   "cell_type": "code",
   "execution_count": null,
   "metadata": {},
   "outputs": [],
   "source": [
    "\n",
    "# Describe the summary statistics for (first 10) rows of this dataset\n",
    "data.head(10)\n",
    "\n",
    "data.head(10).describe()"
   ]
  },
  {
   "cell_type": "code",
   "execution_count": null,
   "metadata": {},
   "outputs": [],
   "source": [
    "# Melt the data into a long format using the index as the id variable\n",
    "# it is important here to explicitly let `melt` know what the id variables are\n",
    "data_melted = data.melt(id_vars=['gene_id'])\n",
    "\n",
    "data_melted"
   ]
  },
  {
   "cell_type": "code",
   "execution_count": null,
   "metadata": {},
   "outputs": [],
   "source": [
    "# Split the 'variable' column into two columns for 'age' and 'celltype'\n",
    "data_melted[['age', 'celltype']] = data_melted['variable'].str.split('_', expand=True)\n",
    "\n",
    "data_melted"
   ]
  },
  {
   "attachments": {},
   "cell_type": "markdown",
   "metadata": {},
   "source": []
  }
 ],
 "metadata": {
  "kernelspec": {
   "display_name": "qmn2023",
   "language": "python",
   "name": "python3"
  },
  "language_info": {
   "codemirror_mode": {
    "name": "ipython",
    "version": 3
   },
   "file_extension": ".py",
   "mimetype": "text/x-python",
   "name": "python",
   "nbconvert_exporter": "python",
   "pygments_lexer": "ipython3",
   "version": "3.10.12"
  },
  "orig_nbformat": 4
 },
 "nbformat": 4,
 "nbformat_minor": 2
}
