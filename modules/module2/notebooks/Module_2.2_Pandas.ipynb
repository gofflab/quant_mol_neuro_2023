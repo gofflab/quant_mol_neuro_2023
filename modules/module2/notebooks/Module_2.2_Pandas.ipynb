{
 "cells": [
  {
   "attachments": {},
   "cell_type": "markdown",
   "metadata": {},
   "source": [
    "# Module 2.1: Pandas"
   ]
  },
  {
   "cell_type": "code",
   "execution_count": null,
   "metadata": {},
   "outputs": [],
   "source": [
    "import pandas as pd\n",
    "import numpy as np"
   ]
  },
  {
   "attachments": {},
   "cell_type": "markdown",
   "metadata": {},
   "source": [
    "Pandas is a python package for 'panel data'. It is a library providing high-performance, easy-to-use data structures and data analysis tools for the Python programming language. It is built *on top* of the Numpy package and its key data structure is called the `DataFrame`. `DataFrames` allow you to store and manipulate tabular data in rows of observations and columns of variables.\n",
    "\n",
    "## Pandas Data Structures"
   ]
  },
  {
   "cell_type": "markdown",
   "metadata": {},
   "source": [
    "### Series\n",
    "In Pandas, a `Series` is a one-dimensional array-like object containing a sequence of values (of similar types to NumPy types) and an associated array of data labels, called its `index`. The simplest `Series` is formed from an array of data:\n"
   ]
  },
  {
   "cell_type": "code",
   "execution_count": null,
   "metadata": {},
   "outputs": [],
   "source": [
    "seed = 42 # Set seed for reproducibility\n",
    "np.random.seed(seed)\n",
    "\n",
    "ser = pd.Series(np.random.standard_normal(size=10))\n",
    "\n",
    "print(ser)"
   ]
  },
  {
   "cell_type": "markdown",
   "metadata": {},
   "source": [
    "`Series` objects act in many ways like one-dimensional NumPy arrays, and in many ways like dictionaries. A `Series` has a `values` attribute, which is an array of the values it contains, and an `index` attribute, which is an array of the labels of the values it contains. The `index` attribute is a `pandas` `Index` object, which is an array-like structure of type `pd.Index`."
   ]
  },
  {
   "cell_type": "markdown",
   "metadata": {},
   "source": [
    "\n",
    "### DataFrame\n",
    "A Pandas DataFrame is a tabular data structure comprised of rows and columns, akin to spreadsheet data. You can also think of a DataFrame as a group of Series objects that share an index (the column names). Unlike NumPy arrays, which must contain only a single data type, Pandas DataFrames can contain multiple data types.\n",
    "\n",
    "The columns of a `DataFrame` are a collection of `Series`.  \n",
    "\n",
    "#### Creating DataFrames\n",
    "You can create a DataFrame in Pandas using the following constructor:\n",
    "`pd.DataFrame(data, index, columns)`\n",
    "\n",
    "The parameters of the constructor are as follows:\n",
    "* **data**: data takes various forms like `ndarray, series, map, lists, dict, constants` and also another DataFrame.\n",
    "* **index**: For the row labels, the Index to be used for the resulting frame is Optional Default np.arrange(n) if no index is passed.\n",
    "* **columns**: For column labels, the optional default syntax is - `np.arrange(n)`. This is only true if no index is passed.\n",
    "\n",
    "To create a DataFrame, you can pass a dictionary of lists to the DataFrame constructor. The dictionary keys will be used as the column names, and the values should be lists of column data.\n",
    "\n",
    "**Example: Create a DataFrame from a python dictionary**"
   ]
  },
  {
   "cell_type": "code",
   "execution_count": null,
   "metadata": {},
   "outputs": [],
   "source": [
    "df = pd.DataFrame(\n",
    "    {\n",
    "        \"A\": 1.0, # a constant value is repeated across all rows\n",
    "        \"B\": np.arange(10), # a sequence of integers\n",
    "        \"C\": np.random.choice([\"donorA\", \"donorB\"], 10), # a sequence of strings\n",
    "        \"D\": np.random.standard_normal(size=10),\n",
    "        \"E\": pd.Categorical([\"test\", \"train\"] * 5),\n",
    "    }\n",
    ")\n",
    "\n",
    "print(df)"
   ]
  },
  {
   "cell_type": "markdown",
   "metadata": {},
   "source": [
    "\n",
    "#### Reading and writing data\n",
    "Often a more convenient way to create a `DataFrame` is to read a structured dataset directly. Pandas can read a variety of file types using its `pd.read_` methods. Let's read in a dataset of gene expression information from a published study:\n",
    "\n",
    "    Molyneaux, B. J., Goff, L. A., Brettler, A. C., Chen, H.-H., Brown, J. R., Hrvatin, S., Rinn, J. L. & Arlotta, P. DeCoN: genome-wide analysis of in vivo transcriptional dynamics during pyramidal neuron fate selection in neocortex. Neuron 85, 275–288 (2015).\n",
    "\n",
    "In this study, the authors sorted for enriched populations of distinct cortical neuron subtypes ('cpn','corticothalamic', and 'subcerebral') using immunolabels specific for each population.  They performed this at 4 different developmental timepoints ('E15','E16','E18', and 'P1'). Using these 12 conditions, they performed RNA-seq to determine the gene expression profile of each population at each timepoint.  The **processed** data is stored in a tab-delimited text file (`GSE63482_Expression_matrix.tsv``), with the first column containing the gene name, and the remaining columns containing the expression level for each condition.\n",
    "\n",
    "Let's load these data into a `DataFrame` using the `pd.read_csv()` method.  We'll use the `sep` argument to specify that the file is tab-delimited (`\\t`)."
   ]
  },
  {
   "cell_type": "code",
   "execution_count": null,
   "metadata": {},
   "outputs": [],
   "source": [
    "data = pd.read_csv('data/GSE63482_Expression_matrix.tsv', sep='\\t')"
   ]
  },
  {
   "cell_type": "markdown",
   "metadata": {},
   "source": [
    "The data have been loaded into a new variable called `data`.  Let's take a look at the first 5 rows of the data using the `.head()` method:\n"
   ]
  },
  {
   "cell_type": "code",
   "execution_count": null,
   "metadata": {},
   "outputs": [],
   "source": [
    "data.head()"
   ]
  },
  {
   "cell_type": "markdown",
   "metadata": {},
   "source": [
    "Notice that the first row of the `DataFrame` contains the column names ('index'), and the first column contains the row index ('Unnamed: 0'). "
   ]
  },
  {
   "cell_type": "markdown",
   "metadata": {},
   "source": [
    "\n",
    "\n",
    "Pandas can also write `DataFrame` objects to file. For example, we can save the `DataFrame` we just created to a comma-delimited file using the `.to_csv()` method and using the default separator ` ,`:"
   ]
  },
  {
   "cell_type": "code",
   "execution_count": null,
   "metadata": {},
   "outputs": [],
   "source": [
    "data.to_csv('data/dataset_copy.csv', index=False)"
   ]
  },
  {
   "cell_type": "markdown",
   "metadata": {},
   "source": [
    "### Viewing DataFrames\n",
    "\n",
    "In python notebooks, when you print a `DataFrame`, the notebook will render it as a nice-looking table. However, when working in a python interpreter, or when working with large datasets, you may want to view only the first or last few rows of the `DataFrame`. You can do this using the `.head()` and `.tail()` methods. \n",
    "\n",
    "By default, `.head()` and `.tail()` will return the first and last 5 rows of the `DataFrame`, respectively. You can also specify the number of rows you want to return by passing an integer to the methods. For example, to return the first 10 rows of the `DataFrame`, you would use `df.head(10)`."
   ]
  },
  {
   "cell_type": "code",
   "execution_count": null,
   "metadata": {},
   "outputs": [],
   "source": [
    "data.head(10)"
   ]
  },
  {
   "cell_type": "code",
   "execution_count": null,
   "metadata": {},
   "outputs": [],
   "source": [
    "data.tail(5)"
   ]
  },
  {
   "attachments": {
    "image.png": {
     "image/png": "[encoded data removed]"
    }
   },
   "cell_type": "markdown",
   "metadata": {},
   "source": [
    "## Indexing and selecting data\n",
    "Each row and column has a unique index associated with it. By default, the row indices are integers, starting from 0. The column indices are the column names.\n",
    "\n",
    "![image.png](attachment:image.png)\n",
    "\n",
    "You can choose a custom index for the rows using the `index` argument when creating the `DataFrame`. You can also choose a custom index for the columns using the `columns` argument.\n",
    "\n",
    "To set a new index for an existing `DataFrame`, use the `.set_index()` method. This method will take a single column name or a list of column names, and will return a new `DataFrame` with the column(s) specified as the new index.\n",
    "\n",
    "**Example: Set the `gene_id` column as the index for the `data` DataFrame**"
   ]
  },
  {
   "cell_type": "code",
   "execution_count": null,
   "metadata": {},
   "outputs": [],
   "source": [
    "data.set_index('gene_id')"
   ]
  },
  {
   "cell_type": "markdown",
   "metadata": {},
   "source": [
    "By default, this **only** returns a new `DataFrame` and does not modify the original `DataFrame`. To modify the original `DataFrame`, you can either use the `inplace=True` argument or reassign the new `DataFrame` to the original variable name."
   ]
  },
  {
   "cell_type": "code",
   "execution_count": null,
   "metadata": {},
   "outputs": [],
   "source": [
    "data = data.set_index('gene_id')\n",
    "\n",
    "data.head()"
   ]
  },
  {
   "cell_type": "markdown",
   "metadata": {},
   "source": [
    "You can always 'reset' the index of a `DataFrame` using the `.reset_index()` method. This will return a new `DataFrame` with the index reset to the default integer index. By default, the old index will be added to the `DataFrame` as a new column."
   ]
  },
  {
   "cell_type": "code",
   "execution_count": null,
   "metadata": {},
   "outputs": [],
   "source": [
    "data = data.reset_index()"
   ]
  },
  {
   "cell_type": "markdown",
   "metadata": {},
   "source": [
    "### Column Indexing/Selection\n",
    "You can select a column from a `DataFrame` using the column name in two separate ways. The first is using the `[]` operator and specifying the column name as a string. The second is using the `.` operator and specifying the column name as an attribute of the `DataFrame`."
   ]
  },
  {
   "cell_type": "code",
   "execution_count": null,
   "metadata": {},
   "outputs": [],
   "source": [
    "data['gene_id']"
   ]
  },
  {
   "cell_type": "code",
   "execution_count": null,
   "metadata": {},
   "outputs": [],
   "source": [
    "data.E18_cpn"
   ]
  },
  {
   "cell_type": "markdown",
   "metadata": {},
   "source": [
    "You can select multiple columns from a `DataFrame` by passing a list of column names to the `[]` operator."
   ]
  },
  {
   "cell_type": "code",
   "execution_count": null,
   "metadata": {},
   "outputs": [],
   "source": [
    "data[['gene_id', 'E15_cpn','E16_cpn','E18_cpn','P1_cpn']]"
   ]
  },
  {
   "cell_type": "markdown",
   "metadata": {},
   "source": [
    "### Row Indexing/Selection\n",
    "You can select a row from a `DataFrame` using the `.loc[]` operator and specifying the row label as a string. You can also select multiple rows by passing a list of row labels to the `.loc[]` operator.\n",
    "\n",
    "To demonstrate this, let's first set the `gene_id` column as the index for the `data` `DataFrame`:"
   ]
  },
  {
   "cell_type": "code",
   "execution_count": null,
   "metadata": {},
   "outputs": [],
   "source": [
    "data = data.set_index('gene_id')\n"
   ]
  },
  {
   "cell_type": "code",
   "execution_count": null,
   "metadata": {},
   "outputs": [],
   "source": [
    "data.loc['Pax6']"
   ]
  },
  {
   "cell_type": "code",
   "execution_count": null,
   "metadata": {},
   "outputs": [],
   "source": [
    "data.loc[['Pax6', 'Sox2','Mef2c']]"
   ]
  },
  {
   "cell_type": "markdown",
   "metadata": {},
   "source": [
    "You can also select a row from a `DataFrame` using the `.iloc[]` operator and specifying the row index as an integer. You can also select multiple rows by passing a list of row indices to the `.iloc[]` operator."
   ]
  },
  {
   "cell_type": "code",
   "execution_count": null,
   "metadata": {},
   "outputs": [],
   "source": [
    "data.iloc[500]"
   ]
  },
  {
   "cell_type": "code",
   "execution_count": null,
   "metadata": {},
   "outputs": [],
   "source": [
    "data.iloc[[500, 1450, 15420]]"
   ]
  },
  {
   "cell_type": "markdown",
   "metadata": {},
   "source": [
    "Finally, we can also select rows using Boolean indexing. This is similar to how we selected rows from a NumPy array. For example, to select all rows where the `E15_cpn` column is greater than 100, we would use the following"
   ]
  },
  {
   "cell_type": "code",
   "execution_count": null,
   "metadata": {},
   "outputs": [],
   "source": [
    "# This conditional statement will return a boolean series of True/False values\n",
    "data['E15_cpn'] > 100"
   ]
  },
  {
   "cell_type": "code",
   "execution_count": null,
   "metadata": {},
   "outputs": [],
   "source": [
    "# Now pass the boolean series to the dataframe to filter the rows\n",
    "data[data['E15_cpn'] > 100]"
   ]
  },
  {
   "cell_type": "markdown",
   "metadata": {},
   "source": [
    "In this manner, we can test columns for certain criteria and select rows based on the results of the test. This is a very powerful way to select rows from a `DataFrame` based on the values in the columns and an operation that you will use frequently."
   ]
  },
  {
   "cell_type": "markdown",
   "metadata": {},
   "source": [
    "## Summarizing data\n",
    "There are a number of built-in pandas methods for getting summary statistics from a `DataFrame`.\n",
    "\n",
    "The `.max()` and `.min()` methods will return the maximum and minimum values from each column, respectively."
   ]
  },
  {
   "cell_type": "code",
   "execution_count": null,
   "metadata": {},
   "outputs": [],
   "source": [
    "data['E15_corticothal'].max()"
   ]
  },
  {
   "cell_type": "code",
   "execution_count": null,
   "metadata": {},
   "outputs": [],
   "source": [
    "data['P1_subcereb'].min()"
   ]
  },
  {
   "cell_type": "markdown",
   "metadata": {},
   "source": [
    "Other relevant methods include `.mean()`, `.median()`, `.std()`, `.var()`, `.sum()`, `.count()`, `.quantile()`, `.argmax()`, and `.argmin()`. Try a few out on the `data` `DataFrame` to see what they do. You can test them on select columns (as above) or on the complete dataset (e.g. `data.mean()`)."
   ]
  },
  {
   "cell_type": "code",
   "execution_count": null,
   "metadata": {},
   "outputs": [],
   "source": []
  },
  {
   "cell_type": "markdown",
   "metadata": {},
   "source": [
    "Often, we want to perform these summary operations across rows or columns in a `DataFrame`.  You can use the `axis` argument to specify whether you want to perform the operation across rows (`axis=0`) or across columns (`axis=1`).  For example, to get the mean expression level for each gene across all conditions, we would use the following:"
   ]
  },
  {
   "cell_type": "code",
   "execution_count": null,
   "metadata": {},
   "outputs": [],
   "source": [
    "# Get mean expression level for each row (operate _across_ columns)\n",
    "data.mean(axis=1)"
   ]
  },
  {
   "cell_type": "code",
   "execution_count": null,
   "metadata": {},
   "outputs": [],
   "source": [
    "# Get mean expression level for each condition/column (operate _across_ rows)\n",
    "data.mean(axis=0)"
   ]
  },
  {
   "cell_type": "markdown",
   "metadata": {},
   "source": [
    "## Reshaping `DataFrames`\n",
    "Often, we need to reshape DataFrames to make them easier to work with, or to enable downstream analyses. There are several ways in which data may need to be re-organized.\n"
   ]
  },
  {
   "cell_type": "markdown",
   "metadata": {},
   "source": [
    "### Tidy data\n",
    "An important concept in data science is the idea of 'tidy data'. Tidy data is a standard way of mapping the meaning of a dataset to its structure. A dataset is messy or 'tidy' depending on how rows, columns and tables are matched up with observations, variables and types. In tidy data, each measured variable is a column and each observation is a row. This is called a 'long' format for data.\n",
    "\n",
    "<img src=\"images/tidy_rdatasci.png\" width=800>\n",
    "<br clear=left>\n",
    "\n",
    "The data in `data` are currently in a 'wide' format. \n",
    "\n",
    "<img src=\"images/wide.png\" width=800>\n",
    "<br clear=left>\n",
    "\n",
    "This is a generally more condensed representation and is a common layout for genomics data. It is easy to visualize relationships across conditions and genes, however it is not in a format that is easy to work with for many downstream analyses including visualization and statistical testing. \n",
    "\n",
    "We need to reshape the data into a 'long' format to make it easier to work with.\n",
    "\n",
    "<img src=\"images/long.png\" width=800>\n",
    "\n",
    "This 'tidy' format is required for certain plotting functions, but it is generally a good idea to familiarize yourself with these two formats as you will encounter them frequently in data science."
   ]
  },
  {
   "cell_type": "markdown",
   "metadata": {},
   "source": [
    "The `pandas` package provides functions to help with the process of tidying data. \n",
    "\n",
    "The `.melt()` function reshapes **wide -> long format**. It takes the following arguments:\n",
    "* `id_vars`: the column(s) to keep the same\n",
    "* `value_vars`: the column(s) to melt\n",
    "* `ignore_index`: if False, the resulting DataFrame will include the original index as an `id_var` (default True)\n",
    "\n",
    "The only **required** argument is `id_vars` which specifies 'identifying' columns for individual observations.\n",
    "\n",
    "The `melt` function returns a DataFrame with a new column called `variable` that contains the names of the columns that were melted, and a new column called `value` that contains the values of the melted columns.\n",
    "\n",
    "Here we are specifically using `ignore_index=False` to keep the original index (`gene_id`) as a variable of interest in the melted `DataFrame`."
   ]
  },
  {
   "cell_type": "code",
   "execution_count": null,
   "metadata": {},
   "outputs": [],
   "source": [
    "data_melted = data.melt(ignore_index=False)\n",
    "\n",
    "data_melted"
   ]
  },
  {
   "cell_type": "markdown",
   "metadata": {},
   "source": [
    "Conversely, the `.pivot()` function reshapes **long -> wide format**. It takes the following arguments:\n",
    "* `index`: the column(s) to keep the same\n",
    "* `columns`: the column to pivot\n",
    "* `values`: the column to fill the new columns with"
   ]
  },
  {
   "cell_type": "code",
   "execution_count": null,
   "metadata": {},
   "outputs": [],
   "source": [
    "data_melted.pivot(columns='variable', values='value')"
   ]
  },
  {
   "cell_type": "markdown",
   "metadata": {},
   "source": [
    "`.pivot()` works here because there are no duplicate values in the combination of `gene_id` and `variable`. If there were, we would need to use the `.pivot_table()` function instead.  \n",
    "\n",
    "`.pivot_table()` is a more general version of `.pivot()` that can aggregate duplicate values.  This is helpful if you want to summarize your data during the process of reshaping it. `.pivot_table()` adds an argument `aggfunc` that specifies how to aggregate duplicate values.  The default is `aggfunc='mean'`, but you can also use `aggfunc='sum'`, `aggfunc='count'`, `aggfunc='median'`, or write your own aggregation function and use that."
   ]
  },
  {
   "cell_type": "markdown",
   "metadata": {},
   "source": [
    "### Grouping data\n",
    "Pandas also has powerful methods for grouping data based on the values in one or more columns. For example, we can group the melted `data` `DataFrame` by the `variable` column containing the experimental condition using the `.groupby()` method:\n"
   ]
  },
  {
   "cell_type": "code",
   "execution_count": null,
   "metadata": {},
   "outputs": [],
   "source": [
    "data_melted.groupby('variable')"
   ]
  },
  {
   "cell_type": "markdown",
   "metadata": {},
   "source": [
    "This returns a `DataFrameGroupBy` object. This object is similar to a `DataFrame`, but it has some special properties. For example, you can use the `.mean()` method on the `DataFrameGroupBy` object to get the mean expression level for each level of the grouping variable.  In this case the condtion mean expression across all genes.\n"
   ]
  },
  {
   "cell_type": "code",
   "execution_count": null,
   "metadata": {},
   "outputs": [],
   "source": [
    "data_melted.groupby('variable').mean()"
   ]
  },
  {
   "attachments": {},
   "cell_type": "markdown",
   "metadata": {},
   "source": [
    "## Resources\n",
    "\n",
    "There is so much more to `pandas` than what is covered in this notebook.  Here are some resources for learning more about `pandas`.  Please take some time to explore this library and familiarize yourself with its capabilities.  It will be a very useful tool for you in your data science journey.\n",
    "\n",
    "- [Pandas cheat sheet](https://pandas.pydata.org/Pandas_Cheat_Sheet.pdf)\n",
    "- [10 minutes to pandas](https://pandas.pydata.org/docs/user_guide/10min.html)\n",
    "- [Pandas Input/Output](https://pandas.pydata.org/pandas-docs/stable/reference/io.html)\n",
    "- [Pandas: DataFrames](https://pandas.pydata.org/pandas-docs/stable/reference/frame.html)\n",
    "- [Pandas Illustrated](https://archive.ph/TqMeG)"
   ]
  }
 ],
 "metadata": {
  "kernelspec": {
   "display_name": "qmn2023",
   "language": "python",
   "name": "python3"
  },
  "language_info": {
   "codemirror_mode": {
    "name": "ipython",
    "version": 3
   },
   "file_extension": ".py",
   "mimetype": "text/x-python",
   "name": "python",
   "nbconvert_exporter": "python",
   "pygments_lexer": "ipython3",
   "version": "3.9.7"
  },
  "orig_nbformat": 4
 },
 "nbformat": 4,
 "nbformat_minor": 2
}
