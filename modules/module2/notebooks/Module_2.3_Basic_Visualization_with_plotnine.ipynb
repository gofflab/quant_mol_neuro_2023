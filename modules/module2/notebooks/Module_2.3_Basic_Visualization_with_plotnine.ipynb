{
 "cells": [
  {
   "attachments": {},
   "cell_type": "markdown",
   "metadata": {},
   "source": [
    "# Module 2.2 Basic Visualization of Data with `plotnine`\n",
    "\n",
    "In this module, we will learn how to use the `plotnine` package to create basic visualizations of data.\n",
    "\n",
    "`plotnine` is a Python implementation of the 'Grammar of Graphics' that was originally developed in the R package `ggplot2`, which is a powerful and flexible visualization package. The grammar of graphics, is a theory of visualization that describes how to **build** a visualization from components. The grammar of graphics is described in detail in the book [The Grammar of Graphics](https://www.springer.com/gp/book/9780387245447) by Leland Wilkinson.\n",
    "\n",
    "## The Grammar of Graphics\n",
    "\n",
    "The grammar of graphics describes a visualization as a mapping between data and aesthetic attributes (e.g. color, shape, size, etc.) of geometric objects (e.g. points, lines, bars, etc.). The grammar of graphics is composed of the following components:\n",
    "\n",
    "- **Data**: The data to be visualized (usually a `pandas` `DataFrame`)\n",
    "- **Aesthetics**: The aesthetic attributes of the geometric objects. (e.g. color, shape, size, etc.)\n",
    "- **Geometric Objects**: The geometric objects that represent the data (e.g. points, lines, bars, etc.).\n",
    "- **Scales**: The scales that map values in the data space to values in the aesthetic space.\n",
    "- **Coordinate System**: The coordinate system that defines the space in which the geometric objects are drawn.\n",
    "- **Statistical Transformations**: The statistical transformations that are applied to the data before plotting.\n",
    "- **Facets**: The facets that are used to split the data into subsets and plot each subset on a separate panel.\n",
    "\n",
    "Using these components, figures are built up in layers. For example, a scatter plot is composed of a layer of points, a layer of scales, and a layer of coordinate system. The grammar of graphics provides a *framework* for building up figures in layers."
   ]
  },
  {
   "cell_type": "code",
   "execution_count": null,
   "metadata": {},
   "outputs": [],
   "source": [
    "import warnings\n",
    "import numpy as np\n",
    "import pandas as pd\n",
    "import plotnine as pn\n",
    "\n",
    "from plotnine.options import set_option\n",
    "\n",
    "set_option(\"base_family\", \"Helvetica\")\n",
    "warnings.filterwarnings(\"ignore\")"
   ]
  },
  {
   "cell_type": "code",
   "execution_count": null,
   "metadata": {},
   "outputs": [],
   "source": []
  },
  {
   "cell_type": "code",
   "execution_count": null,
   "metadata": {},
   "outputs": [],
   "source": [
    "# Import the data as a pandas dataframe\n",
    "data = pd.read_csv(\"data/GSE63482_Expression_matrix.tsv\", sep=\"\\t\")\n",
    "\n",
    "data"
   ]
  },
  {
   "cell_type": "code",
   "execution_count": null,
   "metadata": {},
   "outputs": [],
   "source": [
    "scatter = pn.ggplot(data, pn.aes(x=\"E15_cpn\", y=\"E18_cpn\"))\n",
    "\n",
    "scatter.draw()"
   ]
  },
  {
   "cell_type": "code",
   "execution_count": null,
   "metadata": {},
   "outputs": [],
   "source": [
    "pn.ggplot(data, pn.aes(x=\"E15_cpn\", y=\"E18_cpn\")) + pn.geom_point()"
   ]
  },
  {
   "cell_type": "code",
   "execution_count": null,
   "metadata": {},
   "outputs": [],
   "source": [
    "scatter = scatter + pn.geom_smooth(method=\"lm\")\n",
    "\n",
    "scatter.draw()"
   ]
  },
  {
   "cell_type": "code",
   "execution_count": null,
   "metadata": {},
   "outputs": [],
   "source": [
    "# Melt the 'wide' dataframe into a 'long' dataframe\n",
    "data_melted = data.melt(id_vars=[\"gene_id\"])\n",
    "\n",
    "data_melted"
   ]
  },
  {
   "cell_type": "code",
   "execution_count": null,
   "metadata": {},
   "outputs": [],
   "source": [
    "# Split the 'variable' column into two columns ['age','celltype']\n",
    "data_melted[[\"age\", \"celltype\"]] = data_melted[\"variable\"].str.split(\"_\", expand=True)\n",
    "\n",
    "data_melted"
   ]
  },
  {
   "cell_type": "code",
   "execution_count": null,
   "metadata": {},
   "outputs": [],
   "source": [
    "box_plot = (\n",
    "    pn.ggplot(data_melted, pn.aes(x=\"age\", y=\"value\", fill=\"celltype\"))\n",
    "    + pn.geom_boxplot()\n",
    ")\n",
    "box_plot.draw()"
   ]
  },
  {
   "cell_type": "code",
   "execution_count": null,
   "metadata": {},
   "outputs": [],
   "source": [
    "# Log transform the gene expression values\n",
    "data_melted[\"log_value\"] = np.log(data_melted[\"value\"] + 1)\n",
    "\n",
    "box_plot = (\n",
    "    pn.ggplot(data_melted, pn.aes(x=\"age\", y=\"log_value\", fill=\"celltype\"))\n",
    "    + pn.geom_boxplot()\n",
    ")\n",
    "box_plot.draw()"
   ]
  },
  {
   "cell_type": "code",
   "execution_count": null,
   "metadata": {},
   "outputs": [],
   "source": [
    "violin_plot = (\n",
    "    pn.ggplot(data_melted, pn.aes(x=\"age\", y=\"log_value\", fill=\"celltype\"))\n",
    "    + pn.geom_violin()\n",
    ")\n",
    "violin_plot.draw()"
   ]
  },
  {
   "attachments": {},
   "cell_type": "markdown",
   "metadata": {},
   "source": [
    "## Exploring a little deeper"
   ]
  },
  {
   "attachments": {},
   "cell_type": "markdown",
   "metadata": {},
   "source": [
    "## Faceting"
   ]
  },
  {
   "cell_type": "code",
   "execution_count": null,
   "metadata": {},
   "outputs": [],
   "source": [
    "box_plot = (\n",
    "    pn.ggplot(data_melted, pn.aes(x=\"variable\", y=\"log_value\", fill=\"celltype\"))\n",
    "    + pn.geom_boxplot()\n",
    "    + pn.theme(axis_text_x=pn.element_text(rotation=45, hjust=1))\n",
    ")\n",
    "box_plot.draw()"
   ]
  },
  {
   "cell_type": "code",
   "execution_count": null,
   "metadata": {},
   "outputs": [],
   "source": [
    "box_plot + pn.facet_wrap(\"age\", scales=\"free_x\")"
   ]
  },
  {
   "cell_type": "code",
   "execution_count": null,
   "metadata": {},
   "outputs": [],
   "source": [
    "(\n",
    "    box_plot\n",
    "    + pn.facet_wrap(\"celltype\", scales=\"free_x\")\n",
    "    + pn.theme(axis_text_x=pn.element_text(rotation=45, hjust=1))\n",
    ")"
   ]
  },
  {
   "cell_type": "code",
   "execution_count": null,
   "metadata": {},
   "outputs": [],
   "source": [
    "(\n",
    "    box_plot\n",
    "    + pn.facet_grid(\"age ~ celltype\", scales=\"free_x\")\n",
    "    + pn.theme(axis_text_x=pn.element_text(rotation=45, hjust=1))\n",
    ")"
   ]
  },
  {
   "cell_type": "code",
   "execution_count": null,
   "metadata": {},
   "outputs": [],
   "source": [
    "pax6_plot = pn.ggplot(\n",
    "    data_melted[data_melted[\"gene_id\"] == \"Pax6\"],\n",
    "    pn.aes(x=\"age\", y=\"value\", color=\"celltype\"),\n",
    ")\n",
    "\n",
    "pax6_plot.draw()"
   ]
  },
  {
   "cell_type": "code",
   "execution_count": null,
   "metadata": {},
   "outputs": [],
   "source": [
    "pax6_plot = pax6_plot + pn.geom_point()\n",
    "\n",
    "pax6_plot.draw()"
   ]
  },
  {
   "cell_type": "code",
   "execution_count": null,
   "metadata": {},
   "outputs": [],
   "source": [
    "pax6_plot = pax6_plot + pn.geom_line(pn.aes(group=\"celltype\"))\n",
    "\n",
    "pax6_plot.draw()"
   ]
  },
  {
   "cell_type": "code",
   "execution_count": null,
   "metadata": {},
   "outputs": [],
   "source": [
    "# Create a reusable function to make a plot for a given gene\n",
    "def plot_gene(gene_id: str):\n",
    "    return (\n",
    "        pn.ggplot(\n",
    "            data_melted[data_melted[\"gene_id\"] == gene_id],\n",
    "            pn.aes(x=\"age\", y=\"value\", color=\"celltype\"),\n",
    "        )\n",
    "        + pn.geom_point()\n",
    "        + pn.geom_line(pn.aes(group=\"celltype\"))\n",
    "        + pn.labs(title=gene_id)\n",
    "    )\n",
    "\n",
    "\n",
    "plot_gene(\"Dlx1\")"
   ]
  },
  {
   "cell_type": "code",
   "execution_count": null,
   "metadata": {},
   "outputs": [],
   "source": [
    "gene_list = [\"Cux1\", \"Tle4\", \"Bcl11b\"]\n",
    "\n",
    "[plot_gene(gene).save(f\"{gene}.pdf\") for gene in gene_list]"
   ]
  },
  {
   "attachments": {},
   "cell_type": "markdown",
   "metadata": {},
   "source": [
    "### Heatmap Example\n"
   ]
  },
  {
   "cell_type": "code",
   "execution_count": null,
   "metadata": {},
   "outputs": [],
   "source": [
    "gene_list = data[\"gene_id\"].sample(20).tolist()\n",
    "\n",
    "plot_df = data_melted[data_melted[\"gene_id\"].isin(gene_list)].copy()\n",
    "\n",
    "# Row normalize the data\n",
    "groups = plot_df[[\"gene_id\", \"value\"]].groupby(\"gene_id\")\n",
    "mean, std = groups.transform(\"mean\"), groups.transform(\"std\")\n",
    "plot_df[\"value\"] = (plot_df[mean.columns] - mean) / std\n",
    "\n",
    "\n",
    "heatmap_plot = (\n",
    "    pn.ggplot(plot_df, pn.aes(x=\"variable\", y=\"gene_id\", fill=\"value\"))\n",
    "    + pn.geom_tile()\n",
    "    + pn.scale_fill_gradient2(low=\"blue\", mid=\"white\", high=\"red\")\n",
    "    + pn.theme(axis_text_x=pn.element_text(rotation=45, hjust=1))\n",
    ")\n",
    "\n",
    "heatmap_plot.draw()"
   ]
  },
  {
   "cell_type": "code",
   "execution_count": null,
   "metadata": {},
   "outputs": [],
   "source": []
  }
 ],
 "metadata": {
  "kernelspec": {
   "display_name": "qmn2023",
   "language": "python",
   "name": "python3"
  },
  "language_info": {
   "codemirror_mode": {
    "name": "ipython",
    "version": 3
   },
   "file_extension": ".py",
   "mimetype": "text/x-python",
   "name": "python",
   "nbconvert_exporter": "python",
   "pygments_lexer": "ipython3",
   "version": "3.11.4"
  },
  "orig_nbformat": 4
 },
 "nbformat": 4,
 "nbformat_minor": 2
}
