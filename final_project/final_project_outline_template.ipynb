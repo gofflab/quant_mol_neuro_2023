{
 "cells": [
  {
   "cell_type": "markdown",
   "metadata": {},
   "source": [
    "# Study Overview\n",
    "\n",
    "## Citation\n",
    "\n",
    "-   Add citation information for chosen study here\n",
    "-   [Manuscript Link](https://%3Clink%20to%20manuscript%3E)\n",
    "-   Add other relevant links such as supplemental materials, key references, etc.\n",
    "\n",
    "## Brief Summary of Published Study\n",
    "\n",
    "*High-level summary (2-3 paragraphs) of the existing study. Be sure to add relevant contextual background details and information about how the study was performed*\n"
   ]
  },
  {
   "cell_type": "markdown",
   "metadata": {},
   "source": [
    "\n",
    "## Biological Questions\n",
    "\n",
    "-   What *specific* biological questions were asked by the authors of this study using the dataset(s) that you will re-analyze?\n"
   ]
  },
  {
   "cell_type": "markdown",
   "metadata": {},
   "source": [
    "\n",
    "# Data Availability\n",
    "\n",
    "## Data Source\n",
    "\n",
    "*Where are the raw and processed data available for download?*\n"
   ]
  },
  {
   "cell_type": "markdown",
   "metadata": {},
   "source": [
    "\n",
    "## Accession Numbers / Links\n",
    "\n",
    "*Please list all accession numbers or other identifying IDs for the data you will be using for your project.*\n"
   ]
  },
  {
   "cell_type": "markdown",
   "metadata": {},
   "source": [
    "\n",
    "# Sample Information\n",
    "*Create a table of all samples. Be sure to list sample generation information and as much relevant metadata including conditions of interest and*\n"
   ]
  },
  {
   "cell_type": "markdown",
   "metadata": {},
   "source": [
    "\n",
    "## Sample Types\n",
    "*What type of samples/data are available (RNA-Seq, ATAC-Seq, ChIP-Seq, etc). Be sure to describe how the libraries where made, and from what types of input. The more information you have here about sample generation, the better you will be able to select/identify tools for your workflow.*\n"
   ]
  },
  {
   "cell_type": "markdown",
   "metadata": {},
   "source": [
    "\n",
    "# Study Design\n",
    "\n",
    "## Biological Questions to ask\n",
    "_What **specific** biological questions will you ask of these data for your project? The first may be similar to those asked by the authors of the original study, but at least one must be unique/novel_\n"
   ]
  },
  {
   "cell_type": "markdown",
   "metadata": {},
   "source": [
    "\n",
    "## Explicit comparisons/contrasts\n",
    "*What comparisons/contrasts will be made?  Will you be comparing one (or more) conditions to another? Which samples will be used as a control and why? You may have multiple sections here describing different experimental designs for each biological question you are interested in asking.*\n"
   ]
  },
  {
   "cell_type": "markdown",
   "metadata": {},
   "source": [
    "\n",
    "# Proposed Workflow\n",
    "\n",
    "_For each subsection, try and identify additional resources that might need to be created or acquired to enact your workflow (e.g. reference genome/transcriptome for read alignment, gene annotations, etc)_\n",
    "\n",
    "## Data Acquisition\n",
    "_Where and how will you acquire the 1) raw sequencing data, and/or 2) processed data provided by the authors?_\n"
   ]
  },
  {
   "cell_type": "markdown",
   "metadata": {},
   "source": [
    "\n",
    "## Data Organization\n",
    "_How will the data be organized and made available within your project? Plan ahead for an organized project structure._\n",
    "\n",
    "## Read Alignment/Mapping\n",
    "_What approaches/tools will you be using to map the reads to a reference (e.g. ungapped alignment, splice-aware alignment, pseudoalignment?) Can you use a publicly available reference index to map? If so, where is this located and how can you retrieve it?  If not, what steps/tools/data will you need to construct a reference index required for mapping of the raw sequencing data? How will you assess the quality of your read mapping?_\n"
   ]
  },
  {
   "cell_type": "markdown",
   "metadata": {},
   "source": [
    "\n",
    "## Feature Quantification/Tabulation\n",
    "_Once you have mapped reads to a reference, how will you quantify features of interest? For DNA tasks, how will you define peaks/regions of interest?  For RNA tasks, which features are you interested in (e.g. transcripts, aggregated genes, splice variants, etc)? What tools will you use to translate your aligned reads to quantified features? What other data sources will you need to fully annotate features of interest (i.e. Gene IDs alone may not be helpful, where can you find additional information to better annotate features with things like Gene Names, associated pathways or ontologies, etc). Describe how you will QC these quantifications to assess such things as expected distributions, feature selection (e.g. how will you remove poor or erroneous features, or select a subset of features for downstream processing?)_\n"
   ]
  },
  {
   "cell_type": "markdown",
   "metadata": {},
   "source": [
    "\n",
    "## Data Analysis\n",
    "*Add additional subheaders here as needed for additional tasks or analysis steps that are specific to your project workflow.*\n",
    "\n",
    "_e.g. Data Preprocessing & cleaning, Feature QC, Feature annotation, Dimensionality reduction, Differential analysis, Gene set enrichment analysis, Pathway analysis, etc_\n"
   ]
  },
  {
   "cell_type": "markdown",
   "metadata": {},
   "source": [
    "\n",
    "# Required Software/Tools/Packages\n",
    "\n",
    "*Please try and be as comprehensive as possible here. This will be a useful resource for you to not only think about how the data will 'flow' through your project (ie. how tools will be chained together), and help you think about which tools can be used to answer your biological questions, but also provide quick references for their use and troubleshooting.*\n",
    "\n",
    "*Use the provided examples below to help get you started.*\n",
    "\n",
    "+-----------------------+------------------------+-------------------------------------------------+--------------------------------------------------------------------+-----------------------------------------------------------------------------------------+---------+\n",
    "| Software/Tool/Package | Task                   | Software Location                               | Link to Documentation                                              | Link to Vignettes/Tutorials                                                             | Notes   |\n",
    "+:======================+:=======================+=================================================+:===================================================================+:========================================================================================+:========+\n",
    "| ffq                   | Data Query/Retrieval   | [ffq github](https://github.com/pachterlab/ffq) | [ffq Documentation](https://openbase.com/python/ffq/documentation) |                                                                                         |         |\n",
    "+-----------------------+------------------------+-------------------------------------------------+--------------------------------------------------------------------+-----------------------------------------------------------------------------------------+---------+\n",
    "| Hisat2                | Spliced Read Alignment |                                                 | [Hisat2 Manual](http://daehwankimlab.github.io/hisat2/)            | -   [Mapping with Hisat](https://wikis.utexas.edu/display/bioiteam/Mapping+with+HISAT2) |         |\n",
    "|                       |                        |                                                 |                                                                    |                                                                                         |         |\n",
    "|                       |                        |                                                 |                                                                    | -   [Hisat2 tutorial](https://rpubs.com/selveyad/hisat2_tutorial)                       |         |\n",
    "+-----------------------+------------------------+-------------------------------------------------+--------------------------------------------------------------------+-----------------------------------------------------------------------------------------+---------+\n",
    "|                       |                        |                                                 |                                                                    |                                                                                         |         |\n",
    "+-----------------------+------------------------+-------------------------------------------------+--------------------------------------------------------------------+-----------------------------------------------------------------------------------------+---------+\n",
    "|                       |                        |                                                 |                                                                    |                                                                                         |         |\n",
    "+-----------------------+------------------------+-------------------------------------------------+--------------------------------------------------------------------+-----------------------------------------------------------------------------------------+---------+"
   ]
  },
  {
   "cell_type": "markdown",
   "metadata": {},
   "source": [
    "\n",
    "# Anticipated Results (Deliverables)\n",
    "_Describe what specific results/figures/etc you would like to generate to address your biological questions. How might these results be presented? Do you have any a priori hypotheses that you expect to test?  Will this require specific statistics to test/reject?_\n"
   ]
  },
  {
   "cell_type": "markdown",
   "metadata": {},
   "source": [
    "\n",
    "# Additional Metadata resources\n",
    "\n",
    "_Here you should curate **and link** to an additional resources that you might need external to your target datasets. Examples might include:_\n",
    "\n",
    "-   Reference Genome/Transcriptome (what version)?\n",
    "\n",
    "-   Key gene sequences/annotation?\n",
    "\n",
    "-   Curated relevant gene sets for enrichment analysis?\n"
   ]
  },
  {
   "cell_type": "markdown",
   "metadata": {},
   "source": []
  }
 ],
 "metadata": {
  "language_info": {
   "name": "python"
  },
  "orig_nbformat": 4
 },
 "nbformat": 4,
 "nbformat_minor": 2
}
